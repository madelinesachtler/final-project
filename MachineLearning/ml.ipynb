{
 "cells": [
  {
   "cell_type": "markdown",
   "metadata": {},
   "source": [
    "# Setting up the Notebook"
   ]
  },
  {
   "cell_type": "markdown",
   "metadata": {},
   "source": [
    "## Dependencies\n",
    "Loading in dependencies for the project.\n",
    "- **pandas**: Used for DataFrame wrangling\n",
    "- **os**: Used to define the filepath to load in data\n",
    "- **datetime**: Used for date/time conversions\n",
    "- **numpy**: Used for randomization and other\n",
    "- **sklearn tree**: Decision Tree Classifier function\n",
    "- **sklearn.ensemble RandomForestClassifier**: Random Forest Classifier function\n",
    "- **sklearn.preprocessing StandardScaler**: Used to standardize non-binary features\n",
    "- **sklearn.model_selection GridSearchCV**: Used to fine tune our best predictive models"
   ]
  },
  {
   "cell_type": "code",
   "execution_count": 1,
   "metadata": {},
   "outputs": [],
   "source": [
    "import pandas as pd\n",
    "import os\n",
    "import numpy as np\n",
    "from sklearn import tree\n",
    "from sklearn.ensemble import RandomForestClassifier\n",
    "from sklearn.preprocessing import StandardScaler\n",
    "from sklearn.model_selection import GridSearchCV"
   ]
  },
  {
   "cell_type": "markdown",
   "metadata": {},
   "source": [
    "### Global Seed\n",
    "We will define the global seed that we will later use to randomly select training and testing groups.  \n",
    "We used *61518* but you can use whatever number you would like to vary your results."
   ]
  },
  {
   "cell_type": "code",
   "execution_count": 2,
   "metadata": {},
   "outputs": [],
   "source": [
    "global_seed = 61518"
   ]
  },
  {
   "cell_type": "code",
   "execution_count": 3,
   "metadata": {},
   "outputs": [],
   "source": [
    "np.random.seed(global_seed)"
   ]
  },
  {
   "cell_type": "markdown",
   "metadata": {},
   "source": [
    "## Load in our Machine Learning DataFrame\n",
    "We have a DataFrame that was built specifically for machine learning and other analytics. \n",
    "We load that in here."
   ]
  },
  {
   "cell_type": "code",
   "execution_count": 4,
   "metadata": {},
   "outputs": [],
   "source": [
    "file_to_load1 = os.path.join(\"Output Data\", \"ml_df.csv\")\n",
    "ml_df = pd.read_csv(file_to_load1)"
   ]
  },
  {
   "cell_type": "markdown",
   "metadata": {},
   "source": [
    "# Machine Learning\n",
    "Now that we have all necessary fields in a passable format, we will look to classify **Outcome** using a Decision Tree classifier."
   ]
  },
  {
   "cell_type": "markdown",
   "metadata": {},
   "source": [
    "## Create our training and testing groups\n",
    "To avoid having any one **User**'s game results used to predict their other game results, we will be randomly selecting 5 **User**s as the testing group.  \n",
    "This will cause there to be an imbalance between training and testing data, straying from a 4:1 ratio and between **Crewmate** and **Imposter** analysis. Given the explicit problem caused otherwise, we will use this method until a more appropriate method is determined."
   ]
  },
  {
   "cell_type": "markdown",
   "metadata": {},
   "source": [
    "### Create a list of users\n",
    "We will use this list to split our data into a training and test groups"
   ]
  },
  {
   "cell_type": "code",
   "execution_count": 5,
   "metadata": {},
   "outputs": [
    {
     "data": {
      "text/plain": [
       "[1,\n",
       " 2,\n",
       " 3,\n",
       " 4,\n",
       " 5,\n",
       " 6,\n",
       " 7,\n",
       " 8,\n",
       " 9,\n",
       " 10,\n",
       " 11,\n",
       " 12,\n",
       " 13,\n",
       " 14,\n",
       " 15,\n",
       " 16,\n",
       " 17,\n",
       " 18,\n",
       " 19,\n",
       " 20,\n",
       " 21,\n",
       " 22,\n",
       " 23,\n",
       " 24,\n",
       " 25,\n",
       " 26,\n",
       " 27,\n",
       " 28,\n",
       " 29]"
      ]
     },
     "execution_count": 5,
     "metadata": {},
     "output_type": "execute_result"
    }
   ],
   "source": [
    "user_list = np.arange(1, ml_df[\"User\"].astype(int).max() + 1, 1).tolist()\n",
    "user_list"
   ]
  },
  {
   "cell_type": "markdown",
   "metadata": {},
   "source": [
    "### Define groups\n",
    "We will define our test group first, specifying without replacement to avoid repetition.  \n",
    "We then define our training group by what is not in our test group."
   ]
  },
  {
   "cell_type": "code",
   "execution_count": 6,
   "metadata": {},
   "outputs": [
    {
     "data": {
      "text/plain": [
       "array([24, 10, 27, 19, 26])"
      ]
     },
     "execution_count": 6,
     "metadata": {},
     "output_type": "execute_result"
    }
   ],
   "source": [
    "test_list = np.random.choice(user_list, 5, replace = False)\n",
    "test_list"
   ]
  },
  {
   "cell_type": "code",
   "execution_count": 7,
   "metadata": {},
   "outputs": [
    {
     "data": {
      "text/plain": [
       "array([ 1,  2,  3,  4,  5,  6,  7,  8,  9, 11, 12, 13, 14, 15, 16, 17, 18,\n",
       "       20, 21, 22, 23, 25, 28, 29])"
      ]
     },
     "execution_count": 7,
     "metadata": {},
     "output_type": "execute_result"
    }
   ],
   "source": [
    "train_list = []\n",
    "for x in user_list:\n",
    "    if x not in test_list:\n",
    "        train_list.append(x)\n",
    "train_list = np.array(train_list)\n",
    "train_list"
   ]
  },
  {
   "cell_type": "markdown",
   "metadata": {},
   "source": [
    "Using our test and training lists, we split our data."
   ]
  },
  {
   "cell_type": "code",
   "execution_count": 8,
   "metadata": {},
   "outputs": [],
   "source": [
    "test_group = ml_df.loc[ml_df[\"User\"].astype(int).isin(test_list)]\n",
    "train_group = ml_df.loc[ml_df[\"User\"].astype(int).isin(train_list)]"
   ]
  },
  {
   "cell_type": "markdown",
   "metadata": {},
   "source": [
    "Split our groups between crewmates and imposters and drop unnecessary columns."
   ]
  },
  {
   "cell_type": "code",
   "execution_count": 9,
   "metadata": {},
   "outputs": [],
   "source": [
    "crewmate_test_df = test_group.loc[test_group[\"Team\"] == 1].reset_index(drop=True)\n",
    "crewmate_test_df.drop(columns = [\"Imposter Kills\"], inplace = True)\n",
    "crewmate_train_df = train_group.loc[train_group[\"Team\"] == 1].reset_index(drop=True)\n",
    "crewmate_train_df.drop(columns = [\"Imposter Kills\"], inplace = True)\n",
    "\n",
    "imposter_test_df = test_group.loc[test_group[\"Team\"] == 0].reset_index(drop=True)\n",
    "imposter_test_df.drop(columns = [\"Task Completed\", \"All Tasks Completed\", \"Sabotages Fixed\", \"Time to complete all tasks\", \"Murdered\"], inplace = True)\n",
    "imposter_train_df = train_group.loc[train_group[\"Team\"] == 0].reset_index(drop=True)\n",
    "imposter_train_df.drop(columns = [\"Task Completed\", \"All Tasks Completed\", \"Sabotages Fixed\", \"Time to complete all tasks\", \"Murdered\"], inplace = True)"
   ]
  },
  {
   "cell_type": "code",
   "execution_count": 10,
   "metadata": {},
   "outputs": [
    {
     "data": {
      "text/plain": [
       "Index(['User', 'Team', 'Outcome', 'Game Length', 'Task Completed',\n",
       "       'All Tasks Completed', 'Time to complete all tasks', 'Sabotages Fixed',\n",
       "       'Murdered', 'Ejected', 'Night', 'Morning', 'Afternoon', 'Evening'],\n",
       "      dtype='object')"
      ]
     },
     "execution_count": 10,
     "metadata": {},
     "output_type": "execute_result"
    }
   ],
   "source": [
    "crewmate_train_df.columns"
   ]
  },
  {
   "cell_type": "code",
   "execution_count": 11,
   "metadata": {},
   "outputs": [
    {
     "data": {
      "text/plain": [
       "Index(['User', 'Team', 'Outcome', 'Game Length', 'Imposter Kills', 'Ejected',\n",
       "       'Night', 'Morning', 'Afternoon', 'Evening'],\n",
       "      dtype='object')"
      ]
     },
     "execution_count": 11,
     "metadata": {},
     "output_type": "execute_result"
    }
   ],
   "source": [
    "imposter_train_df.columns"
   ]
  },
  {
   "cell_type": "markdown",
   "metadata": {},
   "source": [
    "# Scaling"
   ]
  },
  {
   "cell_type": "markdown",
   "metadata": {},
   "source": [
    "## Imposter Scaling"
   ]
  },
  {
   "cell_type": "code",
   "execution_count": 12,
   "metadata": {},
   "outputs": [],
   "source": [
    "target_imposter_train_df = imposter_train_df[\"Outcome\"]\n",
    "data_imposter_train_df = imposter_train_df[[\"Game Length\", \"Imposter Kills\", \"Ejected\", \"Night\", \"Morning\", \"Afternoon\", \"Evening\"]]\n",
    "\n",
    "target_imposter_test_df = imposter_test_df[\"Outcome\"]\n",
    "data_imposter_test_df = imposter_test_df[[\"Game Length\", \"Imposter Kills\", \"Ejected\", \"Night\", \"Morning\", \"Afternoon\", \"Evening\"]]"
   ]
  },
  {
   "cell_type": "code",
   "execution_count": 13,
   "metadata": {},
   "outputs": [],
   "source": [
    "data_imposter_train_val = StandardScaler().fit_transform(data_imposter_train_df.values)\n",
    "data_imposter_test_val = StandardScaler().fit_transform(data_imposter_test_df.values)"
   ]
  },
  {
   "cell_type": "code",
   "execution_count": 14,
   "metadata": {},
   "outputs": [],
   "source": [
    "data_i_scaler = StandardScaler().fit(data_imposter_train_val)"
   ]
  },
  {
   "cell_type": "code",
   "execution_count": 15,
   "metadata": {},
   "outputs": [],
   "source": [
    "scaled_data_imposter_train = data_i_scaler.transform(data_imposter_train_val)\n",
    "scaled_data_imposter_test = data_i_scaler.transform(data_imposter_test_val)"
   ]
  },
  {
   "cell_type": "code",
   "execution_count": 16,
   "metadata": {},
   "outputs": [],
   "source": [
    "scaled_data_imposter_train_df = pd.DataFrame(scaled_data_imposter_train, index=data_imposter_train_df.index, columns=data_imposter_train_df.columns)\n",
    "scaled_data_imposter_test_df = pd.DataFrame(scaled_data_imposter_test, index=data_imposter_test_df.index, columns=data_imposter_test_df.columns)"
   ]
  },
  {
   "cell_type": "code",
   "execution_count": 17,
   "metadata": {},
   "outputs": [],
   "source": [
    "imposter_train_df = pd.DataFrame({\n",
    "    'Outcome' : target_imposter_train_df,\n",
    "    'Game Length' : scaled_data_imposter_train_df[\"Game Length\"],\n",
    "    'Imposter Kills' : scaled_data_imposter_train_df[\"Imposter Kills\"],\n",
    "    'Ejected' : imposter_train_df[\"Ejected\"],\n",
    "    'Night' : imposter_train_df[\"Night\"],\n",
    "    'Morning' : imposter_train_df[\"Morning\"],\n",
    "    'Afternoon' : imposter_train_df[\"Afternoon\"],\n",
    "    'Evening' : imposter_train_df[\"Evening\"]\n",
    "})\n",
    "\n",
    "imposter_test_df = pd.DataFrame({\n",
    "    'Outcome' : target_imposter_test_df,\n",
    "    'Game Length' : scaled_data_imposter_test_df[\"Game Length\"],\n",
    "    'Imposter Kills' : scaled_data_imposter_test_df[\"Imposter Kills\"],\n",
    "    'Ejected' : imposter_test_df[\"Ejected\"],\n",
    "    'Night' : imposter_test_df[\"Night\"],\n",
    "    'Morning' : imposter_test_df[\"Morning\"],\n",
    "    'Afternoon' : imposter_test_df[\"Afternoon\"],\n",
    "    'Evening' : imposter_test_df[\"Evening\"]\n",
    "})"
   ]
  },
  {
   "cell_type": "markdown",
   "metadata": {},
   "source": [
    "## Crewmate Scaling"
   ]
  },
  {
   "cell_type": "code",
   "execution_count": 18,
   "metadata": {},
   "outputs": [],
   "source": [
    "target_crewmate_train_df = crewmate_train_df[\"Outcome\"]\n",
    "data_crewmate_train_df = crewmate_train_df[[\"Game Length\", \"Task Completed\", \"All Tasks Completed\", \"Sabotages Fixed\", \"Murdered\", \"Ejected\", \"Night\", \"Morning\", \"Afternoon\", \"Evening\"]]\n",
    "\n",
    "target_crewmate_test_df = crewmate_test_df[\"Outcome\"]\n",
    "data_crewmate_test_df = crewmate_test_df[[\"Game Length\", \"Task Completed\", \"All Tasks Completed\", \"Sabotages Fixed\", \"Murdered\", \"Ejected\", \"Night\", \"Morning\", \"Afternoon\", \"Evening\"]]"
   ]
  },
  {
   "cell_type": "code",
   "execution_count": 19,
   "metadata": {},
   "outputs": [],
   "source": [
    "data_crewmate_train_val = StandardScaler().fit_transform(data_crewmate_train_df.values)\n",
    "data_crewmate_test_val = StandardScaler().fit_transform(data_crewmate_test_df.values)"
   ]
  },
  {
   "cell_type": "code",
   "execution_count": 20,
   "metadata": {},
   "outputs": [],
   "source": [
    "data_c_scaler = StandardScaler().fit(data_crewmate_train_val)"
   ]
  },
  {
   "cell_type": "code",
   "execution_count": 21,
   "metadata": {},
   "outputs": [],
   "source": [
    "scaled_data_crewmate_train = data_c_scaler.transform(data_crewmate_train_val)\n",
    "scaled_data_crewmate_test = data_c_scaler.transform(data_crewmate_test_val)"
   ]
  },
  {
   "cell_type": "code",
   "execution_count": 22,
   "metadata": {},
   "outputs": [],
   "source": [
    "scaled_data_crewmate_train_df = pd.DataFrame(scaled_data_crewmate_train, index=data_crewmate_train_df.index, columns=data_crewmate_train_df.columns)\n",
    "scaled_data_crewmate_test_df = pd.DataFrame(scaled_data_crewmate_test, index=data_crewmate_test_df.index, columns=data_crewmate_test_df.columns)"
   ]
  },
  {
   "cell_type": "code",
   "execution_count": 23,
   "metadata": {},
   "outputs": [],
   "source": [
    "crewmate_train_df = pd.DataFrame({\n",
    "    'Outcome' : target_crewmate_train_df,\n",
    "    'Game Length' : scaled_data_crewmate_train_df[\"Game Length\"],\n",
    "    'Task Completed' : scaled_data_crewmate_train_df[\"Task Completed\"],\n",
    "    'All Tasks Completed' : scaled_data_crewmate_train_df[\"All Tasks Completed\"],\n",
    "    'Sabotages Fixed' : scaled_data_crewmate_train_df[\"Sabotages Fixed\"],\n",
    "    'Murdered' : crewmate_train_df[\"Murdered\"],\n",
    "    'Ejected' : crewmate_train_df[\"Ejected\"],\n",
    "    'Night' : crewmate_train_df[\"Night\"],\n",
    "    'Morning' : crewmate_train_df[\"Morning\"],\n",
    "    'Afternoon' : crewmate_train_df[\"Afternoon\"],\n",
    "    'Evening' : crewmate_train_df[\"Evening\"]\n",
    "})\n",
    "\n",
    "crewmate_test_df = pd.DataFrame({\n",
    "    'Outcome' : target_crewmate_test_df,\n",
    "    'Game Length' : scaled_data_crewmate_test_df[\"Game Length\"],\n",
    "    'Task Completed' : scaled_data_crewmate_test_df[\"Task Completed\"],\n",
    "    'All Tasks Completed' : scaled_data_crewmate_test_df[\"All Tasks Completed\"],\n",
    "    'Sabotages Fixed' : scaled_data_crewmate_test_df[\"Sabotages Fixed\"],\n",
    "    'Murdered' : crewmate_test_df[\"Murdered\"],\n",
    "    'Ejected' : crewmate_test_df[\"Ejected\"],\n",
    "    'Night' : crewmate_test_df[\"Night\"],\n",
    "    'Morning' : crewmate_test_df[\"Morning\"],\n",
    "    'Afternoon' : crewmate_test_df[\"Afternoon\"],\n",
    "    'Evening' : crewmate_test_df[\"Evening\"]\n",
    "})"
   ]
  },
  {
   "cell_type": "markdown",
   "metadata": {},
   "source": [
    "## Machine Learning - Imposter\n",
    "We start by defining an appropriate model to predict wins or losses for **Imposter**s."
   ]
  },
  {
   "cell_type": "markdown",
   "metadata": {},
   "source": [
    "### Define Model #1\n",
    "We will have to specify what it is that we are trying to predict and with what data.  \n",
    "To start we will include all applicable features and adjust to improve accuracy.\n",
    "- **Target**: Outcome\n",
    "- **Data**: Game Length, Imposter Kills, Ejected, Night, Morning, Afternoon, Evening"
   ]
  },
  {
   "cell_type": "code",
   "execution_count": 24,
   "metadata": {},
   "outputs": [],
   "source": [
    "target_imposter1_train = imposter_train_df[\"Outcome\"]\n",
    "data_imposter1_train = imposter_train_df[[\"Game Length\", \"Imposter Kills\", \"Ejected\", \"Night\", \"Morning\", \"Afternoon\", \"Evening\"]]\n",
    "\n",
    "target_imposter1_test = imposter_test_df[\"Outcome\"]\n",
    "data_imposter1_test = imposter_test_df[[\"Game Length\", \"Imposter Kills\", \"Ejected\", \"Night\", \"Morning\", \"Afternoon\", \"Evening\"]]\n",
    "\n",
    "features_imposter1 = data_imposter1_train.columns"
   ]
  },
  {
   "cell_type": "markdown",
   "metadata": {},
   "source": [
    "### Decision Tree Classification - Model #1\n",
    "We perform a decision tree classification in order to assess the validity of our features."
   ]
  },
  {
   "cell_type": "code",
   "execution_count": 25,
   "metadata": {},
   "outputs": [
    {
     "data": {
      "text/plain": [
       "0.6428571428571429"
      ]
     },
     "execution_count": 25,
     "metadata": {},
     "output_type": "execute_result"
    }
   ],
   "source": [
    "dtc_imposter1 = tree.DecisionTreeClassifier()\n",
    "dtc_imposter1 = dtc_imposter1.fit(data_imposter1_train, target_imposter1_train)\n",
    "dtc_imposter1.score(data_imposter1_test, target_imposter1_test)"
   ]
  },
  {
   "cell_type": "code",
   "execution_count": 26,
   "metadata": {},
   "outputs": [
    {
     "data": {
      "text/plain": [
       "[(0.6077808620934279, 'Game Length'),\n",
       " (0.18313495173502667, 'Ejected'),\n",
       " (0.11753200699568495, 'Imposter Kills'),\n",
       " (0.0327158563880437, 'Afternoon'),\n",
       " (0.023444401000083485, 'Evening'),\n",
       " (0.02232557970206204, 'Morning'),\n",
       " (0.01306634208567141, 'Night')]"
      ]
     },
     "execution_count": 26,
     "metadata": {},
     "output_type": "execute_result"
    }
   ],
   "source": [
    "sorted(zip(dtc_imposter1.feature_importances_, features_imposter1), reverse=True)"
   ]
  },
  {
   "cell_type": "code",
   "execution_count": 27,
   "metadata": {},
   "outputs": [
    {
     "data": {
      "text/html": [
       "<div>\n",
       "<style scoped>\n",
       "    .dataframe tbody tr th:only-of-type {\n",
       "        vertical-align: middle;\n",
       "    }\n",
       "\n",
       "    .dataframe tbody tr th {\n",
       "        vertical-align: top;\n",
       "    }\n",
       "\n",
       "    .dataframe thead th {\n",
       "        text-align: right;\n",
       "    }\n",
       "</style>\n",
       "<table border=\"1\" class=\"dataframe\">\n",
       "  <thead>\n",
       "    <tr style=\"text-align: right;\">\n",
       "      <th></th>\n",
       "      <th>Prediction_i1_dtc</th>\n",
       "      <th>Actual_i1_dtc</th>\n",
       "      <th>Equals_i1_dtc</th>\n",
       "    </tr>\n",
       "  </thead>\n",
       "  <tbody>\n",
       "    <tr>\n",
       "      <th>0</th>\n",
       "      <td>1</td>\n",
       "      <td>0</td>\n",
       "      <td>False</td>\n",
       "    </tr>\n",
       "    <tr>\n",
       "      <th>1</th>\n",
       "      <td>0</td>\n",
       "      <td>0</td>\n",
       "      <td>True</td>\n",
       "    </tr>\n",
       "    <tr>\n",
       "      <th>2</th>\n",
       "      <td>0</td>\n",
       "      <td>0</td>\n",
       "      <td>True</td>\n",
       "    </tr>\n",
       "    <tr>\n",
       "      <th>3</th>\n",
       "      <td>0</td>\n",
       "      <td>0</td>\n",
       "      <td>True</td>\n",
       "    </tr>\n",
       "    <tr>\n",
       "      <th>4</th>\n",
       "      <td>0</td>\n",
       "      <td>1</td>\n",
       "      <td>False</td>\n",
       "    </tr>\n",
       "    <tr>\n",
       "      <th>...</th>\n",
       "      <td>...</td>\n",
       "      <td>...</td>\n",
       "      <td>...</td>\n",
       "    </tr>\n",
       "    <tr>\n",
       "      <th>65</th>\n",
       "      <td>0</td>\n",
       "      <td>0</td>\n",
       "      <td>True</td>\n",
       "    </tr>\n",
       "    <tr>\n",
       "      <th>66</th>\n",
       "      <td>0</td>\n",
       "      <td>0</td>\n",
       "      <td>True</td>\n",
       "    </tr>\n",
       "    <tr>\n",
       "      <th>67</th>\n",
       "      <td>0</td>\n",
       "      <td>1</td>\n",
       "      <td>False</td>\n",
       "    </tr>\n",
       "    <tr>\n",
       "      <th>68</th>\n",
       "      <td>0</td>\n",
       "      <td>1</td>\n",
       "      <td>False</td>\n",
       "    </tr>\n",
       "    <tr>\n",
       "      <th>69</th>\n",
       "      <td>1</td>\n",
       "      <td>1</td>\n",
       "      <td>True</td>\n",
       "    </tr>\n",
       "  </tbody>\n",
       "</table>\n",
       "<p>70 rows × 3 columns</p>\n",
       "</div>"
      ],
      "text/plain": [
       "    Prediction_i1_dtc  Actual_i1_dtc  Equals_i1_dtc\n",
       "0                   1              0          False\n",
       "1                   0              0           True\n",
       "2                   0              0           True\n",
       "3                   0              0           True\n",
       "4                   0              1          False\n",
       "..                ...            ...            ...\n",
       "65                  0              0           True\n",
       "66                  0              0           True\n",
       "67                  0              1          False\n",
       "68                  0              1          False\n",
       "69                  1              1           True\n",
       "\n",
       "[70 rows x 3 columns]"
      ]
     },
     "execution_count": 27,
     "metadata": {},
     "output_type": "execute_result"
    }
   ],
   "source": [
    "dtc_predict_imposter1_df = pd.DataFrame({\n",
    "    \"Prediction_i1_dtc\" : dtc_imposter1.predict(data_imposter1_test),\n",
    "    \"Actual_i1_dtc\" : target_imposter1_test\n",
    "})\n",
    "dtc_predict_imposter1_df[\"Equals_i1_dtc\"] = dtc_predict_imposter1_df[\"Prediction_i1_dtc\"].eq(dtc_predict_imposter1_df[\"Actual_i1_dtc\"])\n",
    "dtc_predict_imposter1_df"
   ]
  },
  {
   "cell_type": "code",
   "execution_count": 28,
   "metadata": {},
   "outputs": [
    {
     "data": {
      "text/plain": [
       "True     45\n",
       "False    25\n",
       "Name: Equals_i1_dtc, dtype: int64"
      ]
     },
     "execution_count": 28,
     "metadata": {},
     "output_type": "execute_result"
    }
   ],
   "source": [
    "dtc_predict_imposter1_df[\"Equals_i1_dtc\"].value_counts()"
   ]
  },
  {
   "cell_type": "markdown",
   "metadata": {},
   "source": [
    "### Random Forest Classification - Model #1\n",
    "We perform a random forest classification in order to assess the validity of our features."
   ]
  },
  {
   "cell_type": "code",
   "execution_count": 29,
   "metadata": {},
   "outputs": [
    {
     "data": {
      "text/plain": [
       "0.6714285714285714"
      ]
     },
     "execution_count": 29,
     "metadata": {},
     "output_type": "execute_result"
    }
   ],
   "source": [
    "rfc_imposter1 = RandomForestClassifier()\n",
    "rfc_imposter1 = rfc_imposter1.fit(data_imposter1_train, target_imposter1_train)\n",
    "rfc_imposter1.score(data_imposter1_test, target_imposter1_test)"
   ]
  },
  {
   "cell_type": "code",
   "execution_count": 30,
   "metadata": {},
   "outputs": [
    {
     "data": {
      "text/plain": [
       "[(0.646790528064293, 'Game Length'),\n",
       " (0.18130321214056458, 'Ejected'),\n",
       " (0.11693955321110565, 'Imposter Kills'),\n",
       " (0.01558925325201164, 'Night'),\n",
       " (0.01460442146592011, 'Evening'),\n",
       " (0.013620398689973489, 'Morning'),\n",
       " (0.011152633176131563, 'Afternoon')]"
      ]
     },
     "execution_count": 30,
     "metadata": {},
     "output_type": "execute_result"
    }
   ],
   "source": [
    "sorted(zip(rfc_imposter1.feature_importances_, features_imposter1), reverse=True)"
   ]
  },
  {
   "cell_type": "code",
   "execution_count": 31,
   "metadata": {},
   "outputs": [
    {
     "data": {
      "text/html": [
       "<div>\n",
       "<style scoped>\n",
       "    .dataframe tbody tr th:only-of-type {\n",
       "        vertical-align: middle;\n",
       "    }\n",
       "\n",
       "    .dataframe tbody tr th {\n",
       "        vertical-align: top;\n",
       "    }\n",
       "\n",
       "    .dataframe thead th {\n",
       "        text-align: right;\n",
       "    }\n",
       "</style>\n",
       "<table border=\"1\" class=\"dataframe\">\n",
       "  <thead>\n",
       "    <tr style=\"text-align: right;\">\n",
       "      <th></th>\n",
       "      <th>Prediction_i1_rfc</th>\n",
       "      <th>Actual_i1_rfc</th>\n",
       "      <th>Equals_i1_rfc</th>\n",
       "    </tr>\n",
       "  </thead>\n",
       "  <tbody>\n",
       "    <tr>\n",
       "      <th>0</th>\n",
       "      <td>1</td>\n",
       "      <td>0</td>\n",
       "      <td>False</td>\n",
       "    </tr>\n",
       "    <tr>\n",
       "      <th>1</th>\n",
       "      <td>0</td>\n",
       "      <td>0</td>\n",
       "      <td>True</td>\n",
       "    </tr>\n",
       "    <tr>\n",
       "      <th>2</th>\n",
       "      <td>0</td>\n",
       "      <td>0</td>\n",
       "      <td>True</td>\n",
       "    </tr>\n",
       "    <tr>\n",
       "      <th>3</th>\n",
       "      <td>0</td>\n",
       "      <td>0</td>\n",
       "      <td>True</td>\n",
       "    </tr>\n",
       "    <tr>\n",
       "      <th>4</th>\n",
       "      <td>0</td>\n",
       "      <td>1</td>\n",
       "      <td>False</td>\n",
       "    </tr>\n",
       "    <tr>\n",
       "      <th>...</th>\n",
       "      <td>...</td>\n",
       "      <td>...</td>\n",
       "      <td>...</td>\n",
       "    </tr>\n",
       "    <tr>\n",
       "      <th>65</th>\n",
       "      <td>0</td>\n",
       "      <td>0</td>\n",
       "      <td>True</td>\n",
       "    </tr>\n",
       "    <tr>\n",
       "      <th>66</th>\n",
       "      <td>0</td>\n",
       "      <td>0</td>\n",
       "      <td>True</td>\n",
       "    </tr>\n",
       "    <tr>\n",
       "      <th>67</th>\n",
       "      <td>0</td>\n",
       "      <td>1</td>\n",
       "      <td>False</td>\n",
       "    </tr>\n",
       "    <tr>\n",
       "      <th>68</th>\n",
       "      <td>0</td>\n",
       "      <td>1</td>\n",
       "      <td>False</td>\n",
       "    </tr>\n",
       "    <tr>\n",
       "      <th>69</th>\n",
       "      <td>1</td>\n",
       "      <td>1</td>\n",
       "      <td>True</td>\n",
       "    </tr>\n",
       "  </tbody>\n",
       "</table>\n",
       "<p>70 rows × 3 columns</p>\n",
       "</div>"
      ],
      "text/plain": [
       "    Prediction_i1_rfc  Actual_i1_rfc  Equals_i1_rfc\n",
       "0                   1              0          False\n",
       "1                   0              0           True\n",
       "2                   0              0           True\n",
       "3                   0              0           True\n",
       "4                   0              1          False\n",
       "..                ...            ...            ...\n",
       "65                  0              0           True\n",
       "66                  0              0           True\n",
       "67                  0              1          False\n",
       "68                  0              1          False\n",
       "69                  1              1           True\n",
       "\n",
       "[70 rows x 3 columns]"
      ]
     },
     "execution_count": 31,
     "metadata": {},
     "output_type": "execute_result"
    }
   ],
   "source": [
    "rfc_predict_imposter1_df = pd.DataFrame({\n",
    "    \"Prediction_i1_rfc\" : rfc_imposter1.predict(data_imposter1_test),\n",
    "    \"Actual_i1_rfc\" : target_imposter1_test\n",
    "})\n",
    "rfc_predict_imposter1_df[\"Equals_i1_rfc\"] = rfc_predict_imposter1_df[\"Prediction_i1_rfc\"].eq(rfc_predict_imposter1_df[\"Actual_i1_rfc\"])\n",
    "rfc_predict_imposter1_df"
   ]
  },
  {
   "cell_type": "code",
   "execution_count": 32,
   "metadata": {},
   "outputs": [
    {
     "data": {
      "text/plain": [
       "True     47\n",
       "False    23\n",
       "Name: Equals_i1_rfc, dtype: int64"
      ]
     },
     "execution_count": 32,
     "metadata": {},
     "output_type": "execute_result"
    }
   ],
   "source": [
    "rfc_predict_imposter1_df[\"Equals_i1_rfc\"].value_counts()"
   ]
  },
  {
   "cell_type": "markdown",
   "metadata": {},
   "source": [
    "### Define Model #2\n",
    "We will try dropping all **Time of Day** features as they appeared to contribute very little in our more accurate model (Random Forest Classification).\n",
    "- **Target**: Outcome\n",
    "- **Data**: Game Length, Imposter Kills, Ejected"
   ]
  },
  {
   "cell_type": "code",
   "execution_count": 33,
   "metadata": {},
   "outputs": [],
   "source": [
    "target_imposter2_train = imposter_train_df[\"Outcome\"]\n",
    "data_imposter2_train = imposter_train_df[[\"Game Length\", \"Imposter Kills\", \"Ejected\"]]\n",
    "\n",
    "target_imposter2_test = imposter_test_df[\"Outcome\"]\n",
    "data_imposter2_test = imposter_test_df[[\"Game Length\", \"Imposter Kills\", \"Ejected\"]]\n",
    "\n",
    "features_imposter2 = data_imposter2_train.columns"
   ]
  },
  {
   "cell_type": "markdown",
   "metadata": {},
   "source": [
    "### Decision Tree Classification - Model #2\n",
    "We perform a decision tree classification in order to assess the validity of our features."
   ]
  },
  {
   "cell_type": "code",
   "execution_count": 34,
   "metadata": {},
   "outputs": [
    {
     "data": {
      "text/plain": [
       "0.5571428571428572"
      ]
     },
     "execution_count": 34,
     "metadata": {},
     "output_type": "execute_result"
    }
   ],
   "source": [
    "dtc_imposter2 = tree.DecisionTreeClassifier()\n",
    "dtc_imposter2 = dtc_imposter2.fit(data_imposter2_train, target_imposter2_train)\n",
    "dtc_imposter2.score(data_imposter2_test, target_imposter2_test)"
   ]
  },
  {
   "cell_type": "code",
   "execution_count": 35,
   "metadata": {},
   "outputs": [
    {
     "data": {
      "text/plain": [
       "[(0.7123858043026532, 'Game Length'),\n",
       " (0.18697918395803603, 'Ejected'),\n",
       " (0.10063501173931079, 'Imposter Kills')]"
      ]
     },
     "execution_count": 35,
     "metadata": {},
     "output_type": "execute_result"
    }
   ],
   "source": [
    "sorted(zip(dtc_imposter2.feature_importances_, features_imposter2), reverse=True)"
   ]
  },
  {
   "cell_type": "code",
   "execution_count": 36,
   "metadata": {},
   "outputs": [
    {
     "data": {
      "text/html": [
       "<div>\n",
       "<style scoped>\n",
       "    .dataframe tbody tr th:only-of-type {\n",
       "        vertical-align: middle;\n",
       "    }\n",
       "\n",
       "    .dataframe tbody tr th {\n",
       "        vertical-align: top;\n",
       "    }\n",
       "\n",
       "    .dataframe thead th {\n",
       "        text-align: right;\n",
       "    }\n",
       "</style>\n",
       "<table border=\"1\" class=\"dataframe\">\n",
       "  <thead>\n",
       "    <tr style=\"text-align: right;\">\n",
       "      <th></th>\n",
       "      <th>Prediction_i2_dtc</th>\n",
       "      <th>Actual_i2_dtc</th>\n",
       "      <th>Equals_i2_dtc</th>\n",
       "    </tr>\n",
       "  </thead>\n",
       "  <tbody>\n",
       "    <tr>\n",
       "      <th>0</th>\n",
       "      <td>1</td>\n",
       "      <td>0</td>\n",
       "      <td>False</td>\n",
       "    </tr>\n",
       "    <tr>\n",
       "      <th>1</th>\n",
       "      <td>0</td>\n",
       "      <td>0</td>\n",
       "      <td>True</td>\n",
       "    </tr>\n",
       "    <tr>\n",
       "      <th>2</th>\n",
       "      <td>0</td>\n",
       "      <td>0</td>\n",
       "      <td>True</td>\n",
       "    </tr>\n",
       "    <tr>\n",
       "      <th>3</th>\n",
       "      <td>0</td>\n",
       "      <td>0</td>\n",
       "      <td>True</td>\n",
       "    </tr>\n",
       "    <tr>\n",
       "      <th>4</th>\n",
       "      <td>0</td>\n",
       "      <td>1</td>\n",
       "      <td>False</td>\n",
       "    </tr>\n",
       "    <tr>\n",
       "      <th>...</th>\n",
       "      <td>...</td>\n",
       "      <td>...</td>\n",
       "      <td>...</td>\n",
       "    </tr>\n",
       "    <tr>\n",
       "      <th>65</th>\n",
       "      <td>0</td>\n",
       "      <td>0</td>\n",
       "      <td>True</td>\n",
       "    </tr>\n",
       "    <tr>\n",
       "      <th>66</th>\n",
       "      <td>0</td>\n",
       "      <td>0</td>\n",
       "      <td>True</td>\n",
       "    </tr>\n",
       "    <tr>\n",
       "      <th>67</th>\n",
       "      <td>0</td>\n",
       "      <td>1</td>\n",
       "      <td>False</td>\n",
       "    </tr>\n",
       "    <tr>\n",
       "      <th>68</th>\n",
       "      <td>0</td>\n",
       "      <td>1</td>\n",
       "      <td>False</td>\n",
       "    </tr>\n",
       "    <tr>\n",
       "      <th>69</th>\n",
       "      <td>1</td>\n",
       "      <td>1</td>\n",
       "      <td>True</td>\n",
       "    </tr>\n",
       "  </tbody>\n",
       "</table>\n",
       "<p>70 rows × 3 columns</p>\n",
       "</div>"
      ],
      "text/plain": [
       "    Prediction_i2_dtc  Actual_i2_dtc  Equals_i2_dtc\n",
       "0                   1              0          False\n",
       "1                   0              0           True\n",
       "2                   0              0           True\n",
       "3                   0              0           True\n",
       "4                   0              1          False\n",
       "..                ...            ...            ...\n",
       "65                  0              0           True\n",
       "66                  0              0           True\n",
       "67                  0              1          False\n",
       "68                  0              1          False\n",
       "69                  1              1           True\n",
       "\n",
       "[70 rows x 3 columns]"
      ]
     },
     "execution_count": 36,
     "metadata": {},
     "output_type": "execute_result"
    }
   ],
   "source": [
    "dtc_predict_imposter2_df = pd.DataFrame({\n",
    "    \"Prediction_i2_dtc\" : dtc_imposter2.predict(data_imposter2_test),\n",
    "    \"Actual_i2_dtc\" : target_imposter2_test\n",
    "})\n",
    "dtc_predict_imposter2_df[\"Equals_i2_dtc\"] = dtc_predict_imposter2_df[\"Prediction_i2_dtc\"].eq(dtc_predict_imposter2_df[\"Actual_i2_dtc\"])\n",
    "dtc_predict_imposter2_df"
   ]
  },
  {
   "cell_type": "code",
   "execution_count": 37,
   "metadata": {},
   "outputs": [
    {
     "data": {
      "text/plain": [
       "True     39\n",
       "False    31\n",
       "Name: Equals_i2_dtc, dtype: int64"
      ]
     },
     "execution_count": 37,
     "metadata": {},
     "output_type": "execute_result"
    }
   ],
   "source": [
    "dtc_predict_imposter2_df[\"Equals_i2_dtc\"].value_counts()"
   ]
  },
  {
   "cell_type": "markdown",
   "metadata": {},
   "source": [
    "### Random Forest Classification - Model #2\n",
    "We perform a random forest classification in order to assess the validity of our features."
   ]
  },
  {
   "cell_type": "code",
   "execution_count": 38,
   "metadata": {},
   "outputs": [
    {
     "data": {
      "text/plain": [
       "0.5714285714285714"
      ]
     },
     "execution_count": 38,
     "metadata": {},
     "output_type": "execute_result"
    }
   ],
   "source": [
    "rfc_imposter2 = RandomForestClassifier()\n",
    "rfc_imposter2 = rfc_imposter2.fit(data_imposter2_train, target_imposter2_train)\n",
    "rfc_imposter2.score(data_imposter2_test, target_imposter2_test)"
   ]
  },
  {
   "cell_type": "code",
   "execution_count": 39,
   "metadata": {},
   "outputs": [
    {
     "data": {
      "text/plain": [
       "[(0.7257980196773609, 'Game Length'),\n",
       " (0.1848321851650571, 'Ejected'),\n",
       " (0.08936979515758196, 'Imposter Kills')]"
      ]
     },
     "execution_count": 39,
     "metadata": {},
     "output_type": "execute_result"
    }
   ],
   "source": [
    "sorted(zip(rfc_imposter2.feature_importances_, features_imposter2), reverse=True)"
   ]
  },
  {
   "cell_type": "code",
   "execution_count": 40,
   "metadata": {},
   "outputs": [
    {
     "data": {
      "text/html": [
       "<div>\n",
       "<style scoped>\n",
       "    .dataframe tbody tr th:only-of-type {\n",
       "        vertical-align: middle;\n",
       "    }\n",
       "\n",
       "    .dataframe tbody tr th {\n",
       "        vertical-align: top;\n",
       "    }\n",
       "\n",
       "    .dataframe thead th {\n",
       "        text-align: right;\n",
       "    }\n",
       "</style>\n",
       "<table border=\"1\" class=\"dataframe\">\n",
       "  <thead>\n",
       "    <tr style=\"text-align: right;\">\n",
       "      <th></th>\n",
       "      <th>Prediction_i2_rfc</th>\n",
       "      <th>Actual_i2_rfc</th>\n",
       "      <th>Equals_i2_rfc</th>\n",
       "    </tr>\n",
       "  </thead>\n",
       "  <tbody>\n",
       "    <tr>\n",
       "      <th>0</th>\n",
       "      <td>1</td>\n",
       "      <td>0</td>\n",
       "      <td>False</td>\n",
       "    </tr>\n",
       "    <tr>\n",
       "      <th>1</th>\n",
       "      <td>0</td>\n",
       "      <td>0</td>\n",
       "      <td>True</td>\n",
       "    </tr>\n",
       "    <tr>\n",
       "      <th>2</th>\n",
       "      <td>0</td>\n",
       "      <td>0</td>\n",
       "      <td>True</td>\n",
       "    </tr>\n",
       "    <tr>\n",
       "      <th>3</th>\n",
       "      <td>0</td>\n",
       "      <td>0</td>\n",
       "      <td>True</td>\n",
       "    </tr>\n",
       "    <tr>\n",
       "      <th>4</th>\n",
       "      <td>0</td>\n",
       "      <td>1</td>\n",
       "      <td>False</td>\n",
       "    </tr>\n",
       "    <tr>\n",
       "      <th>...</th>\n",
       "      <td>...</td>\n",
       "      <td>...</td>\n",
       "      <td>...</td>\n",
       "    </tr>\n",
       "    <tr>\n",
       "      <th>65</th>\n",
       "      <td>0</td>\n",
       "      <td>0</td>\n",
       "      <td>True</td>\n",
       "    </tr>\n",
       "    <tr>\n",
       "      <th>66</th>\n",
       "      <td>0</td>\n",
       "      <td>0</td>\n",
       "      <td>True</td>\n",
       "    </tr>\n",
       "    <tr>\n",
       "      <th>67</th>\n",
       "      <td>0</td>\n",
       "      <td>1</td>\n",
       "      <td>False</td>\n",
       "    </tr>\n",
       "    <tr>\n",
       "      <th>68</th>\n",
       "      <td>0</td>\n",
       "      <td>1</td>\n",
       "      <td>False</td>\n",
       "    </tr>\n",
       "    <tr>\n",
       "      <th>69</th>\n",
       "      <td>1</td>\n",
       "      <td>1</td>\n",
       "      <td>True</td>\n",
       "    </tr>\n",
       "  </tbody>\n",
       "</table>\n",
       "<p>70 rows × 3 columns</p>\n",
       "</div>"
      ],
      "text/plain": [
       "    Prediction_i2_rfc  Actual_i2_rfc  Equals_i2_rfc\n",
       "0                   1              0          False\n",
       "1                   0              0           True\n",
       "2                   0              0           True\n",
       "3                   0              0           True\n",
       "4                   0              1          False\n",
       "..                ...            ...            ...\n",
       "65                  0              0           True\n",
       "66                  0              0           True\n",
       "67                  0              1          False\n",
       "68                  0              1          False\n",
       "69                  1              1           True\n",
       "\n",
       "[70 rows x 3 columns]"
      ]
     },
     "execution_count": 40,
     "metadata": {},
     "output_type": "execute_result"
    }
   ],
   "source": [
    "rfc_predict_imposter2_df = pd.DataFrame({\n",
    "    \"Prediction_i2_rfc\" : rfc_imposter2.predict(data_imposter2_test),\n",
    "    \"Actual_i2_rfc\" : target_imposter2_test\n",
    "})\n",
    "rfc_predict_imposter2_df[\"Equals_i2_rfc\"] = rfc_predict_imposter2_df[\"Prediction_i2_rfc\"].eq(rfc_predict_imposter2_df[\"Actual_i2_rfc\"])\n",
    "rfc_predict_imposter2_df"
   ]
  },
  {
   "cell_type": "code",
   "execution_count": 41,
   "metadata": {},
   "outputs": [
    {
     "data": {
      "text/plain": [
       "True     40\n",
       "False    30\n",
       "Name: Equals_i2_rfc, dtype: int64"
      ]
     },
     "execution_count": 41,
     "metadata": {},
     "output_type": "execute_result"
    }
   ],
   "source": [
    "rfc_predict_imposter2_df[\"Equals_i2_rfc\"].value_counts()"
   ]
  },
  {
   "cell_type": "markdown",
   "metadata": {},
   "source": [
    "### Define Model #3\n",
    "Dropping all **Time of Day** features lowered our accuracy so they provide some benefits.  \n",
    "First we try adding in **Night** and **Evening** the two highest **Time of Day** in our initial Random Forest Classification model as it had the highest weight.\n",
    "- **Target**: Outcome\n",
    "- **Data**: Game Length, Imposter Kills, Ejected, Night, Evening"
   ]
  },
  {
   "cell_type": "code",
   "execution_count": 42,
   "metadata": {},
   "outputs": [],
   "source": [
    "target_imposter3_train = imposter_train_df[\"Outcome\"]\n",
    "data_imposter3_train = imposter_train_df[[\"Game Length\", \"Imposter Kills\", \"Ejected\", \"Night\", \"Evening\"]]\n",
    "\n",
    "target_imposter3_test = imposter_test_df[\"Outcome\"]\n",
    "data_imposter3_test = imposter_test_df[[\"Game Length\", \"Imposter Kills\", \"Ejected\", \"Night\", \"Evening\"]]\n",
    "\n",
    "features_imposter3 = data_imposter3_train.columns"
   ]
  },
  {
   "cell_type": "markdown",
   "metadata": {},
   "source": [
    "### Decision Tree Classification - Model #3\n",
    "We perform a decision tree classification in order to assess the validity of our features."
   ]
  },
  {
   "cell_type": "code",
   "execution_count": 43,
   "metadata": {},
   "outputs": [
    {
     "data": {
      "text/plain": [
       "0.6"
      ]
     },
     "execution_count": 43,
     "metadata": {},
     "output_type": "execute_result"
    }
   ],
   "source": [
    "dtc_imposter3 = tree.DecisionTreeClassifier()\n",
    "dtc_imposter3 = dtc_imposter3.fit(data_imposter3_train, target_imposter3_train)\n",
    "dtc_imposter3.score(data_imposter3_test, target_imposter3_test)"
   ]
  },
  {
   "cell_type": "code",
   "execution_count": 44,
   "metadata": {},
   "outputs": [
    {
     "data": {
      "text/plain": [
       "[(0.6321958811676404, 'Game Length'),\n",
       " (0.18313495173502667, 'Ejected'),\n",
       " (0.09693212318504882, 'Imposter Kills'),\n",
       " (0.05925094168954822, 'Evening'),\n",
       " (0.028486102222735947, 'Night')]"
      ]
     },
     "execution_count": 44,
     "metadata": {},
     "output_type": "execute_result"
    }
   ],
   "source": [
    "sorted(zip(dtc_imposter3.feature_importances_, features_imposter3), reverse=True)"
   ]
  },
  {
   "cell_type": "code",
   "execution_count": 45,
   "metadata": {},
   "outputs": [
    {
     "data": {
      "text/html": [
       "<div>\n",
       "<style scoped>\n",
       "    .dataframe tbody tr th:only-of-type {\n",
       "        vertical-align: middle;\n",
       "    }\n",
       "\n",
       "    .dataframe tbody tr th {\n",
       "        vertical-align: top;\n",
       "    }\n",
       "\n",
       "    .dataframe thead th {\n",
       "        text-align: right;\n",
       "    }\n",
       "</style>\n",
       "<table border=\"1\" class=\"dataframe\">\n",
       "  <thead>\n",
       "    <tr style=\"text-align: right;\">\n",
       "      <th></th>\n",
       "      <th>Prediction_i3_dtc</th>\n",
       "      <th>Actual_i3_dtc</th>\n",
       "      <th>Equals_i3_dtc</th>\n",
       "    </tr>\n",
       "  </thead>\n",
       "  <tbody>\n",
       "    <tr>\n",
       "      <th>0</th>\n",
       "      <td>1</td>\n",
       "      <td>0</td>\n",
       "      <td>False</td>\n",
       "    </tr>\n",
       "    <tr>\n",
       "      <th>1</th>\n",
       "      <td>0</td>\n",
       "      <td>0</td>\n",
       "      <td>True</td>\n",
       "    </tr>\n",
       "    <tr>\n",
       "      <th>2</th>\n",
       "      <td>0</td>\n",
       "      <td>0</td>\n",
       "      <td>True</td>\n",
       "    </tr>\n",
       "    <tr>\n",
       "      <th>3</th>\n",
       "      <td>0</td>\n",
       "      <td>0</td>\n",
       "      <td>True</td>\n",
       "    </tr>\n",
       "    <tr>\n",
       "      <th>4</th>\n",
       "      <td>0</td>\n",
       "      <td>1</td>\n",
       "      <td>False</td>\n",
       "    </tr>\n",
       "    <tr>\n",
       "      <th>...</th>\n",
       "      <td>...</td>\n",
       "      <td>...</td>\n",
       "      <td>...</td>\n",
       "    </tr>\n",
       "    <tr>\n",
       "      <th>65</th>\n",
       "      <td>0</td>\n",
       "      <td>0</td>\n",
       "      <td>True</td>\n",
       "    </tr>\n",
       "    <tr>\n",
       "      <th>66</th>\n",
       "      <td>0</td>\n",
       "      <td>0</td>\n",
       "      <td>True</td>\n",
       "    </tr>\n",
       "    <tr>\n",
       "      <th>67</th>\n",
       "      <td>0</td>\n",
       "      <td>1</td>\n",
       "      <td>False</td>\n",
       "    </tr>\n",
       "    <tr>\n",
       "      <th>68</th>\n",
       "      <td>0</td>\n",
       "      <td>1</td>\n",
       "      <td>False</td>\n",
       "    </tr>\n",
       "    <tr>\n",
       "      <th>69</th>\n",
       "      <td>1</td>\n",
       "      <td>1</td>\n",
       "      <td>True</td>\n",
       "    </tr>\n",
       "  </tbody>\n",
       "</table>\n",
       "<p>70 rows × 3 columns</p>\n",
       "</div>"
      ],
      "text/plain": [
       "    Prediction_i3_dtc  Actual_i3_dtc  Equals_i3_dtc\n",
       "0                   1              0          False\n",
       "1                   0              0           True\n",
       "2                   0              0           True\n",
       "3                   0              0           True\n",
       "4                   0              1          False\n",
       "..                ...            ...            ...\n",
       "65                  0              0           True\n",
       "66                  0              0           True\n",
       "67                  0              1          False\n",
       "68                  0              1          False\n",
       "69                  1              1           True\n",
       "\n",
       "[70 rows x 3 columns]"
      ]
     },
     "execution_count": 45,
     "metadata": {},
     "output_type": "execute_result"
    }
   ],
   "source": [
    "dtc_predict_imposter3_df = pd.DataFrame({\n",
    "    \"Prediction_i3_dtc\" : dtc_imposter3.predict(data_imposter3_test),\n",
    "    \"Actual_i3_dtc\" : target_imposter3_test\n",
    "})\n",
    "dtc_predict_imposter3_df[\"Equals_i3_dtc\"] = dtc_predict_imposter3_df[\"Prediction_i3_dtc\"].eq(dtc_predict_imposter3_df[\"Actual_i3_dtc\"])\n",
    "dtc_predict_imposter3_df"
   ]
  },
  {
   "cell_type": "code",
   "execution_count": 46,
   "metadata": {},
   "outputs": [
    {
     "data": {
      "text/plain": [
       "True     42\n",
       "False    28\n",
       "Name: Equals_i3_dtc, dtype: int64"
      ]
     },
     "execution_count": 46,
     "metadata": {},
     "output_type": "execute_result"
    }
   ],
   "source": [
    "dtc_predict_imposter3_df[\"Equals_i3_dtc\"].value_counts()"
   ]
  },
  {
   "cell_type": "markdown",
   "metadata": {},
   "source": [
    "### Random Forest Classification - Model #3\n",
    "We perform a random forest classification in order to assess the validity of our features."
   ]
  },
  {
   "cell_type": "code",
   "execution_count": 47,
   "metadata": {},
   "outputs": [
    {
     "data": {
      "text/plain": [
       "0.6714285714285714"
      ]
     },
     "execution_count": 47,
     "metadata": {},
     "output_type": "execute_result"
    }
   ],
   "source": [
    "rfc_imposter3 = RandomForestClassifier()\n",
    "rfc_imposter3 = rfc_imposter3.fit(data_imposter3_train, target_imposter3_train)\n",
    "rfc_imposter3.score(data_imposter3_test, target_imposter3_test)"
   ]
  },
  {
   "cell_type": "code",
   "execution_count": 48,
   "metadata": {},
   "outputs": [
    {
     "data": {
      "text/plain": [
       "[(0.6559329342776339, 'Game Length'),\n",
       " (0.1793411972824306, 'Ejected'),\n",
       " (0.11735652182921855, 'Imposter Kills'),\n",
       " (0.02600410109924869, 'Evening'),\n",
       " (0.021365245511468216, 'Night')]"
      ]
     },
     "execution_count": 48,
     "metadata": {},
     "output_type": "execute_result"
    }
   ],
   "source": [
    "sorted(zip(rfc_imposter3.feature_importances_, features_imposter3), reverse=True)"
   ]
  },
  {
   "cell_type": "code",
   "execution_count": 49,
   "metadata": {},
   "outputs": [
    {
     "data": {
      "text/html": [
       "<div>\n",
       "<style scoped>\n",
       "    .dataframe tbody tr th:only-of-type {\n",
       "        vertical-align: middle;\n",
       "    }\n",
       "\n",
       "    .dataframe tbody tr th {\n",
       "        vertical-align: top;\n",
       "    }\n",
       "\n",
       "    .dataframe thead th {\n",
       "        text-align: right;\n",
       "    }\n",
       "</style>\n",
       "<table border=\"1\" class=\"dataframe\">\n",
       "  <thead>\n",
       "    <tr style=\"text-align: right;\">\n",
       "      <th></th>\n",
       "      <th>Prediction_i3_rfc</th>\n",
       "      <th>Actual_i3_rfc</th>\n",
       "      <th>Equals_i3_rfc</th>\n",
       "    </tr>\n",
       "  </thead>\n",
       "  <tbody>\n",
       "    <tr>\n",
       "      <th>0</th>\n",
       "      <td>1</td>\n",
       "      <td>0</td>\n",
       "      <td>False</td>\n",
       "    </tr>\n",
       "    <tr>\n",
       "      <th>1</th>\n",
       "      <td>0</td>\n",
       "      <td>0</td>\n",
       "      <td>True</td>\n",
       "    </tr>\n",
       "    <tr>\n",
       "      <th>2</th>\n",
       "      <td>0</td>\n",
       "      <td>0</td>\n",
       "      <td>True</td>\n",
       "    </tr>\n",
       "    <tr>\n",
       "      <th>3</th>\n",
       "      <td>0</td>\n",
       "      <td>0</td>\n",
       "      <td>True</td>\n",
       "    </tr>\n",
       "    <tr>\n",
       "      <th>4</th>\n",
       "      <td>0</td>\n",
       "      <td>1</td>\n",
       "      <td>False</td>\n",
       "    </tr>\n",
       "    <tr>\n",
       "      <th>...</th>\n",
       "      <td>...</td>\n",
       "      <td>...</td>\n",
       "      <td>...</td>\n",
       "    </tr>\n",
       "    <tr>\n",
       "      <th>65</th>\n",
       "      <td>0</td>\n",
       "      <td>0</td>\n",
       "      <td>True</td>\n",
       "    </tr>\n",
       "    <tr>\n",
       "      <th>66</th>\n",
       "      <td>0</td>\n",
       "      <td>0</td>\n",
       "      <td>True</td>\n",
       "    </tr>\n",
       "    <tr>\n",
       "      <th>67</th>\n",
       "      <td>0</td>\n",
       "      <td>1</td>\n",
       "      <td>False</td>\n",
       "    </tr>\n",
       "    <tr>\n",
       "      <th>68</th>\n",
       "      <td>0</td>\n",
       "      <td>1</td>\n",
       "      <td>False</td>\n",
       "    </tr>\n",
       "    <tr>\n",
       "      <th>69</th>\n",
       "      <td>1</td>\n",
       "      <td>1</td>\n",
       "      <td>True</td>\n",
       "    </tr>\n",
       "  </tbody>\n",
       "</table>\n",
       "<p>70 rows × 3 columns</p>\n",
       "</div>"
      ],
      "text/plain": [
       "    Prediction_i3_rfc  Actual_i3_rfc  Equals_i3_rfc\n",
       "0                   1              0          False\n",
       "1                   0              0           True\n",
       "2                   0              0           True\n",
       "3                   0              0           True\n",
       "4                   0              1          False\n",
       "..                ...            ...            ...\n",
       "65                  0              0           True\n",
       "66                  0              0           True\n",
       "67                  0              1          False\n",
       "68                  0              1          False\n",
       "69                  1              1           True\n",
       "\n",
       "[70 rows x 3 columns]"
      ]
     },
     "execution_count": 49,
     "metadata": {},
     "output_type": "execute_result"
    }
   ],
   "source": [
    "rfc_predict_imposter3_df = pd.DataFrame({\n",
    "    \"Prediction_i3_rfc\" : rfc_imposter3.predict(data_imposter3_test),\n",
    "    \"Actual_i3_rfc\" : target_imposter3_test\n",
    "})\n",
    "rfc_predict_imposter3_df[\"Equals_i3_rfc\"] = rfc_predict_imposter3_df[\"Prediction_i3_rfc\"].eq(rfc_predict_imposter3_df[\"Actual_i3_rfc\"])\n",
    "rfc_predict_imposter3_df"
   ]
  },
  {
   "cell_type": "code",
   "execution_count": 50,
   "metadata": {},
   "outputs": [
    {
     "data": {
      "text/plain": [
       "True     47\n",
       "False    23\n",
       "Name: Equals_i3_rfc, dtype: int64"
      ]
     },
     "execution_count": 50,
     "metadata": {},
     "output_type": "execute_result"
    }
   ],
   "source": [
    "rfc_predict_imposter3_df[\"Equals_i3_rfc\"].value_counts()"
   ]
  },
  {
   "cell_type": "markdown",
   "metadata": {},
   "source": [
    "### Define Model #4\n",
    "Our last model gave a significant increase in predictive accuracy, but we'll try an alternative model.  \n",
    "We will try swapping out **Night** for **Afternoon** as **Afternoon** had the highest weight in our first decision tree classification model.\n",
    "- **Target**: Outcome\n",
    "- **Data**: Game Length, Imposter Kills, Ejected, Afternoon, Evening"
   ]
  },
  {
   "cell_type": "code",
   "execution_count": 51,
   "metadata": {},
   "outputs": [],
   "source": [
    "target_imposter4_train = imposter_train_df[\"Outcome\"]\n",
    "data_imposter4_train = imposter_train_df[[\"Game Length\", \"Imposter Kills\", \"Ejected\", \"Afternoon\", \"Evening\"]]\n",
    "\n",
    "target_imposter4_test = imposter_test_df[\"Outcome\"]\n",
    "data_imposter4_test = imposter_test_df[[\"Game Length\", \"Imposter Kills\", \"Ejected\", \"Afternoon\", \"Evening\"]]\n",
    "\n",
    "features_imposter4 = data_imposter4_train.columns"
   ]
  },
  {
   "cell_type": "markdown",
   "metadata": {},
   "source": [
    "### Decision Tree Classification - Model #4\n",
    "We perform a decision tree classification in order to assess the validity of our features."
   ]
  },
  {
   "cell_type": "code",
   "execution_count": 52,
   "metadata": {},
   "outputs": [
    {
     "data": {
      "text/plain": [
       "0.6428571428571429"
      ]
     },
     "execution_count": 52,
     "metadata": {},
     "output_type": "execute_result"
    }
   ],
   "source": [
    "dtc_imposter4 = tree.DecisionTreeClassifier()\n",
    "dtc_imposter4 = dtc_imposter4.fit(data_imposter4_train, target_imposter4_train)\n",
    "dtc_imposter4.score(data_imposter4_test, target_imposter4_test)"
   ]
  },
  {
   "cell_type": "code",
   "execution_count": 53,
   "metadata": {},
   "outputs": [
    {
     "data": {
      "text/plain": [
       "[(0.6234192245761346, 'Game Length'),\n",
       " (0.1840811139426129, 'Ejected'),\n",
       " (0.11327490065910534, 'Imposter Kills'),\n",
       " (0.042864424494734495, 'Evening'),\n",
       " (0.03636033632741271, 'Afternoon')]"
      ]
     },
     "execution_count": 53,
     "metadata": {},
     "output_type": "execute_result"
    }
   ],
   "source": [
    "sorted(zip(dtc_imposter4.feature_importances_, features_imposter4), reverse=True)"
   ]
  },
  {
   "cell_type": "code",
   "execution_count": 54,
   "metadata": {},
   "outputs": [
    {
     "data": {
      "text/html": [
       "<div>\n",
       "<style scoped>\n",
       "    .dataframe tbody tr th:only-of-type {\n",
       "        vertical-align: middle;\n",
       "    }\n",
       "\n",
       "    .dataframe tbody tr th {\n",
       "        vertical-align: top;\n",
       "    }\n",
       "\n",
       "    .dataframe thead th {\n",
       "        text-align: right;\n",
       "    }\n",
       "</style>\n",
       "<table border=\"1\" class=\"dataframe\">\n",
       "  <thead>\n",
       "    <tr style=\"text-align: right;\">\n",
       "      <th></th>\n",
       "      <th>Prediction_i4_dtc</th>\n",
       "      <th>Actual_i4_dtc</th>\n",
       "      <th>Equals_i4_dtc</th>\n",
       "    </tr>\n",
       "  </thead>\n",
       "  <tbody>\n",
       "    <tr>\n",
       "      <th>0</th>\n",
       "      <td>1</td>\n",
       "      <td>0</td>\n",
       "      <td>False</td>\n",
       "    </tr>\n",
       "    <tr>\n",
       "      <th>1</th>\n",
       "      <td>0</td>\n",
       "      <td>0</td>\n",
       "      <td>True</td>\n",
       "    </tr>\n",
       "    <tr>\n",
       "      <th>2</th>\n",
       "      <td>0</td>\n",
       "      <td>0</td>\n",
       "      <td>True</td>\n",
       "    </tr>\n",
       "    <tr>\n",
       "      <th>3</th>\n",
       "      <td>0</td>\n",
       "      <td>0</td>\n",
       "      <td>True</td>\n",
       "    </tr>\n",
       "    <tr>\n",
       "      <th>4</th>\n",
       "      <td>0</td>\n",
       "      <td>1</td>\n",
       "      <td>False</td>\n",
       "    </tr>\n",
       "    <tr>\n",
       "      <th>...</th>\n",
       "      <td>...</td>\n",
       "      <td>...</td>\n",
       "      <td>...</td>\n",
       "    </tr>\n",
       "    <tr>\n",
       "      <th>65</th>\n",
       "      <td>0</td>\n",
       "      <td>0</td>\n",
       "      <td>True</td>\n",
       "    </tr>\n",
       "    <tr>\n",
       "      <th>66</th>\n",
       "      <td>0</td>\n",
       "      <td>0</td>\n",
       "      <td>True</td>\n",
       "    </tr>\n",
       "    <tr>\n",
       "      <th>67</th>\n",
       "      <td>0</td>\n",
       "      <td>1</td>\n",
       "      <td>False</td>\n",
       "    </tr>\n",
       "    <tr>\n",
       "      <th>68</th>\n",
       "      <td>0</td>\n",
       "      <td>1</td>\n",
       "      <td>False</td>\n",
       "    </tr>\n",
       "    <tr>\n",
       "      <th>69</th>\n",
       "      <td>1</td>\n",
       "      <td>1</td>\n",
       "      <td>True</td>\n",
       "    </tr>\n",
       "  </tbody>\n",
       "</table>\n",
       "<p>70 rows × 3 columns</p>\n",
       "</div>"
      ],
      "text/plain": [
       "    Prediction_i4_dtc  Actual_i4_dtc  Equals_i4_dtc\n",
       "0                   1              0          False\n",
       "1                   0              0           True\n",
       "2                   0              0           True\n",
       "3                   0              0           True\n",
       "4                   0              1          False\n",
       "..                ...            ...            ...\n",
       "65                  0              0           True\n",
       "66                  0              0           True\n",
       "67                  0              1          False\n",
       "68                  0              1          False\n",
       "69                  1              1           True\n",
       "\n",
       "[70 rows x 3 columns]"
      ]
     },
     "execution_count": 54,
     "metadata": {},
     "output_type": "execute_result"
    }
   ],
   "source": [
    "dtc_predict_imposter4_df = pd.DataFrame({\n",
    "    \"Prediction_i4_dtc\" : dtc_imposter4.predict(data_imposter4_test),\n",
    "    \"Actual_i4_dtc\" : target_imposter4_test\n",
    "})\n",
    "dtc_predict_imposter4_df[\"Equals_i4_dtc\"] = dtc_predict_imposter4_df[\"Prediction_i4_dtc\"].eq(dtc_predict_imposter4_df[\"Actual_i4_dtc\"])\n",
    "dtc_predict_imposter4_df"
   ]
  },
  {
   "cell_type": "code",
   "execution_count": 55,
   "metadata": {},
   "outputs": [
    {
     "data": {
      "text/plain": [
       "True     45\n",
       "False    25\n",
       "Name: Equals_i4_dtc, dtype: int64"
      ]
     },
     "execution_count": 55,
     "metadata": {},
     "output_type": "execute_result"
    }
   ],
   "source": [
    "dtc_predict_imposter4_df[\"Equals_i4_dtc\"].value_counts()"
   ]
  },
  {
   "cell_type": "markdown",
   "metadata": {},
   "source": [
    "### Random Forest Classification - Model #4\n",
    "We perform a random forest classification in order to assess the validity of our features."
   ]
  },
  {
   "cell_type": "code",
   "execution_count": 56,
   "metadata": {},
   "outputs": [
    {
     "data": {
      "text/plain": [
       "0.7"
      ]
     },
     "execution_count": 56,
     "metadata": {},
     "output_type": "execute_result"
    }
   ],
   "source": [
    "rfc_imposter4 = RandomForestClassifier(n_estimators = 20, criterion = 'entropy')\n",
    "rfc_imposter4 = rfc_imposter4.fit(data_imposter4_train, target_imposter4_train)\n",
    "rfc_imposter4.score(data_imposter4_test, target_imposter4_test)"
   ]
  },
  {
   "cell_type": "code",
   "execution_count": 57,
   "metadata": {},
   "outputs": [
    {
     "data": {
      "text/plain": [
       "[(0.6796233699639577, 'Game Length'),\n",
       " (0.15952139066979176, 'Ejected'),\n",
       " (0.11394373072584152, 'Imposter Kills'),\n",
       " (0.024481463572779617, 'Evening'),\n",
       " (0.022430045067629436, 'Afternoon')]"
      ]
     },
     "execution_count": 57,
     "metadata": {},
     "output_type": "execute_result"
    }
   ],
   "source": [
    "sorted(zip(rfc_imposter4.feature_importances_, features_imposter4), reverse=True)"
   ]
  },
  {
   "cell_type": "code",
   "execution_count": 58,
   "metadata": {},
   "outputs": [
    {
     "data": {
      "text/html": [
       "<div>\n",
       "<style scoped>\n",
       "    .dataframe tbody tr th:only-of-type {\n",
       "        vertical-align: middle;\n",
       "    }\n",
       "\n",
       "    .dataframe tbody tr th {\n",
       "        vertical-align: top;\n",
       "    }\n",
       "\n",
       "    .dataframe thead th {\n",
       "        text-align: right;\n",
       "    }\n",
       "</style>\n",
       "<table border=\"1\" class=\"dataframe\">\n",
       "  <thead>\n",
       "    <tr style=\"text-align: right;\">\n",
       "      <th></th>\n",
       "      <th>Game Length</th>\n",
       "      <th>Ejected</th>\n",
       "      <th>Imposter Kills</th>\n",
       "      <th>Evening</th>\n",
       "      <th>Afternoon</th>\n",
       "      <th>Outcome</th>\n",
       "      <th>Prediction</th>\n",
       "      <th>Correct Prediction</th>\n",
       "    </tr>\n",
       "  </thead>\n",
       "  <tbody>\n",
       "    <tr>\n",
       "      <th>0</th>\n",
       "      <td>336</td>\n",
       "      <td>0</td>\n",
       "      <td>2</td>\n",
       "      <td>0</td>\n",
       "      <td>1</td>\n",
       "      <td>0</td>\n",
       "      <td>1</td>\n",
       "      <td>False</td>\n",
       "    </tr>\n",
       "    <tr>\n",
       "      <th>1</th>\n",
       "      <td>904</td>\n",
       "      <td>0</td>\n",
       "      <td>3</td>\n",
       "      <td>0</td>\n",
       "      <td>1</td>\n",
       "      <td>0</td>\n",
       "      <td>0</td>\n",
       "      <td>True</td>\n",
       "    </tr>\n",
       "    <tr>\n",
       "      <th>2</th>\n",
       "      <td>660</td>\n",
       "      <td>1</td>\n",
       "      <td>1</td>\n",
       "      <td>0</td>\n",
       "      <td>1</td>\n",
       "      <td>0</td>\n",
       "      <td>0</td>\n",
       "      <td>True</td>\n",
       "    </tr>\n",
       "    <tr>\n",
       "      <th>3</th>\n",
       "      <td>1081</td>\n",
       "      <td>1</td>\n",
       "      <td>1</td>\n",
       "      <td>0</td>\n",
       "      <td>1</td>\n",
       "      <td>0</td>\n",
       "      <td>0</td>\n",
       "      <td>True</td>\n",
       "    </tr>\n",
       "    <tr>\n",
       "      <th>4</th>\n",
       "      <td>865</td>\n",
       "      <td>0</td>\n",
       "      <td>2</td>\n",
       "      <td>0</td>\n",
       "      <td>1</td>\n",
       "      <td>1</td>\n",
       "      <td>0</td>\n",
       "      <td>False</td>\n",
       "    </tr>\n",
       "    <tr>\n",
       "      <th>...</th>\n",
       "      <td>...</td>\n",
       "      <td>...</td>\n",
       "      <td>...</td>\n",
       "      <td>...</td>\n",
       "      <td>...</td>\n",
       "      <td>...</td>\n",
       "      <td>...</td>\n",
       "      <td>...</td>\n",
       "    </tr>\n",
       "    <tr>\n",
       "      <th>65</th>\n",
       "      <td>503</td>\n",
       "      <td>1</td>\n",
       "      <td>2</td>\n",
       "      <td>0</td>\n",
       "      <td>1</td>\n",
       "      <td>0</td>\n",
       "      <td>0</td>\n",
       "      <td>True</td>\n",
       "    </tr>\n",
       "    <tr>\n",
       "      <th>66</th>\n",
       "      <td>107</td>\n",
       "      <td>1</td>\n",
       "      <td>1</td>\n",
       "      <td>0</td>\n",
       "      <td>1</td>\n",
       "      <td>0</td>\n",
       "      <td>0</td>\n",
       "      <td>True</td>\n",
       "    </tr>\n",
       "    <tr>\n",
       "      <th>67</th>\n",
       "      <td>202</td>\n",
       "      <td>0</td>\n",
       "      <td>2</td>\n",
       "      <td>0</td>\n",
       "      <td>1</td>\n",
       "      <td>1</td>\n",
       "      <td>0</td>\n",
       "      <td>False</td>\n",
       "    </tr>\n",
       "    <tr>\n",
       "      <th>68</th>\n",
       "      <td>196</td>\n",
       "      <td>0</td>\n",
       "      <td>2</td>\n",
       "      <td>0</td>\n",
       "      <td>1</td>\n",
       "      <td>1</td>\n",
       "      <td>0</td>\n",
       "      <td>False</td>\n",
       "    </tr>\n",
       "    <tr>\n",
       "      <th>69</th>\n",
       "      <td>127</td>\n",
       "      <td>0</td>\n",
       "      <td>2</td>\n",
       "      <td>0</td>\n",
       "      <td>0</td>\n",
       "      <td>1</td>\n",
       "      <td>1</td>\n",
       "      <td>True</td>\n",
       "    </tr>\n",
       "  </tbody>\n",
       "</table>\n",
       "<p>70 rows × 8 columns</p>\n",
       "</div>"
      ],
      "text/plain": [
       "    Game Length  Ejected Imposter Kills  Evening  Afternoon  Outcome  \\\n",
       "0           336        0              2        0          1        0   \n",
       "1           904        0              3        0          1        0   \n",
       "2           660        1              1        0          1        0   \n",
       "3          1081        1              1        0          1        0   \n",
       "4           865        0              2        0          1        1   \n",
       "..          ...      ...            ...      ...        ...      ...   \n",
       "65          503        1              2        0          1        0   \n",
       "66          107        1              1        0          1        0   \n",
       "67          202        0              2        0          1        1   \n",
       "68          196        0              2        0          1        1   \n",
       "69          127        0              2        0          0        1   \n",
       "\n",
       "    Prediction  Correct Prediction  \n",
       "0            1               False  \n",
       "1            0                True  \n",
       "2            0                True  \n",
       "3            0                True  \n",
       "4            0               False  \n",
       "..         ...                 ...  \n",
       "65           0                True  \n",
       "66           0                True  \n",
       "67           0               False  \n",
       "68           0               False  \n",
       "69           1                True  \n",
       "\n",
       "[70 rows x 8 columns]"
      ]
     },
     "execution_count": 58,
     "metadata": {},
     "output_type": "execute_result"
    }
   ],
   "source": [
    "rfc_predict_imposter4_df = pd.DataFrame({\n",
    "    \"Game Length\" : data_imposter_test_df[\"Game Length\"],\n",
    "    \"Ejected\" : data_imposter_test_df[\"Ejected\"],\n",
    "    \"Imposter Kills\" : data_imposter_test_df[\"Imposter Kills\"],\n",
    "    \"Evening\" : data_imposter_test_df[\"Evening\"],\n",
    "    \"Afternoon\" : data_imposter_test_df[\"Afternoon\"],\n",
    "    \"Outcome\" : target_imposter4_test,\n",
    "    \"Prediction\" : rfc_imposter4.predict(data_imposter4_test)\n",
    "})\n",
    "rfc_predict_imposter4_df[\"Correct Prediction\"] = rfc_predict_imposter4_df[\"Prediction\"].eq(rfc_predict_imposter4_df[\"Outcome\"])\n",
    "rfc_predict_imposter4_df"
   ]
  },
  {
   "cell_type": "code",
   "execution_count": 59,
   "metadata": {},
   "outputs": [
    {
     "data": {
      "text/plain": [
       "True     49\n",
       "False    21\n",
       "Name: Correct Prediction, dtype: int64"
      ]
     },
     "execution_count": 59,
     "metadata": {},
     "output_type": "execute_result"
    }
   ],
   "source": [
    "rfc_predict_imposter4_df[\"Correct Prediction\"].value_counts()"
   ]
  },
  {
   "cell_type": "markdown",
   "metadata": {},
   "source": [
    "### Model Conclusions\n",
    "Through trial and error, we've been able to narrow down on a model that provides the most accurate predictions.  \n",
    "Our best model is **Model 4**, which includes Game Length, Imposter Kills, Ejected, Afternoon, and Evening features. This model offers an 0.6428571428571429 for DTC and 0.7142857142857143 for RFC in predictive accuracy. With the adjustment for the"
   ]
  },
  {
   "cell_type": "markdown",
   "metadata": {},
   "source": [
    "## Machine Learning - Crewmate\n",
    "We start by defining appropriate models to predict wins or losses for **Crewmate**s."
   ]
  },
  {
   "cell_type": "markdown",
   "metadata": {},
   "source": [
    "### Define Model #1\n",
    "We will have to specify what it is that we are trying to predict and with what data.  \n",
    "To start we will include all applicable features and adjust to improve accuracy.\n",
    "- **Target**: Outcome\n",
    "- **Data**: Game Length, Task Completed, All Tasks Completed, Sabotages Fixed, Murdered, Ejected, Night, Morning, Afternoon, Evening"
   ]
  },
  {
   "cell_type": "code",
   "execution_count": 60,
   "metadata": {},
   "outputs": [],
   "source": [
    "target_crewmate1_train = crewmate_train_df[\"Outcome\"]\n",
    "data_crewmate1_train = crewmate_train_df[[\"Game Length\", \"Task Completed\", \"All Tasks Completed\", \"Sabotages Fixed\", \"Murdered\", \"Ejected\", \"Night\", \"Morning\", \"Afternoon\", \"Evening\"]]\n",
    "\n",
    "target_crewmate1_test = crewmate_test_df[\"Outcome\"]\n",
    "data_crewmate1_test = crewmate_test_df[[\"Game Length\", \"Task Completed\", \"All Tasks Completed\", \"Sabotages Fixed\", \"Murdered\", \"Ejected\", \"Night\", \"Morning\", \"Afternoon\", \"Evening\"]]\n",
    "\n",
    "features_crewmate1 = data_crewmate1_train.columns"
   ]
  },
  {
   "cell_type": "markdown",
   "metadata": {},
   "source": [
    "### Decision Tree Classification - Model #1\n",
    "We perform a decision tree classification in order to assess the validity of our features."
   ]
  },
  {
   "cell_type": "code",
   "execution_count": 61,
   "metadata": {},
   "outputs": [
    {
     "data": {
      "text/plain": [
       "0.5690376569037657"
      ]
     },
     "execution_count": 61,
     "metadata": {},
     "output_type": "execute_result"
    }
   ],
   "source": [
    "dtc_crewmate1 = tree.DecisionTreeClassifier()\n",
    "dtc_crewmate1 = dtc_crewmate1.fit(data_crewmate1_train, target_crewmate1_train)\n",
    "dtc_crewmate1.score(data_crewmate1_test, target_crewmate1_test)"
   ]
  },
  {
   "cell_type": "code",
   "execution_count": 62,
   "metadata": {},
   "outputs": [
    {
     "data": {
      "text/plain": [
       "[(0.5825727969776329, 'Game Length'),\n",
       " (0.11713520469809854, 'Task Completed'),\n",
       " (0.08409276854020513, 'Sabotages Fixed'),\n",
       " (0.043594194688478506, 'Murdered'),\n",
       " (0.036941172514074985, 'Afternoon'),\n",
       " (0.034375050854562286, 'Morning'),\n",
       " (0.0329122785121211, 'Evening'),\n",
       " (0.030465386113982557, 'All Tasks Completed'),\n",
       " (0.02191318973854975, 'Night'),\n",
       " (0.015997957362294295, 'Ejected')]"
      ]
     },
     "execution_count": 62,
     "metadata": {},
     "output_type": "execute_result"
    }
   ],
   "source": [
    "sorted(zip(dtc_crewmate1.feature_importances_, features_crewmate1), reverse=True)"
   ]
  },
  {
   "cell_type": "code",
   "execution_count": 63,
   "metadata": {},
   "outputs": [
    {
     "data": {
      "text/html": [
       "<div>\n",
       "<style scoped>\n",
       "    .dataframe tbody tr th:only-of-type {\n",
       "        vertical-align: middle;\n",
       "    }\n",
       "\n",
       "    .dataframe tbody tr th {\n",
       "        vertical-align: top;\n",
       "    }\n",
       "\n",
       "    .dataframe thead th {\n",
       "        text-align: right;\n",
       "    }\n",
       "</style>\n",
       "<table border=\"1\" class=\"dataframe\">\n",
       "  <thead>\n",
       "    <tr style=\"text-align: right;\">\n",
       "      <th></th>\n",
       "      <th>Prediction_c1_dtc</th>\n",
       "      <th>Actual_c1_dtc</th>\n",
       "      <th>Equals_c1_dtc</th>\n",
       "    </tr>\n",
       "  </thead>\n",
       "  <tbody>\n",
       "    <tr>\n",
       "      <th>0</th>\n",
       "      <td>1</td>\n",
       "      <td>1</td>\n",
       "      <td>True</td>\n",
       "    </tr>\n",
       "    <tr>\n",
       "      <th>1</th>\n",
       "      <td>1</td>\n",
       "      <td>1</td>\n",
       "      <td>True</td>\n",
       "    </tr>\n",
       "    <tr>\n",
       "      <th>2</th>\n",
       "      <td>0</td>\n",
       "      <td>0</td>\n",
       "      <td>True</td>\n",
       "    </tr>\n",
       "    <tr>\n",
       "      <th>3</th>\n",
       "      <td>1</td>\n",
       "      <td>0</td>\n",
       "      <td>False</td>\n",
       "    </tr>\n",
       "    <tr>\n",
       "      <th>4</th>\n",
       "      <td>1</td>\n",
       "      <td>0</td>\n",
       "      <td>False</td>\n",
       "    </tr>\n",
       "    <tr>\n",
       "      <th>...</th>\n",
       "      <td>...</td>\n",
       "      <td>...</td>\n",
       "      <td>...</td>\n",
       "    </tr>\n",
       "    <tr>\n",
       "      <th>234</th>\n",
       "      <td>1</td>\n",
       "      <td>0</td>\n",
       "      <td>False</td>\n",
       "    </tr>\n",
       "    <tr>\n",
       "      <th>235</th>\n",
       "      <td>0</td>\n",
       "      <td>0</td>\n",
       "      <td>True</td>\n",
       "    </tr>\n",
       "    <tr>\n",
       "      <th>236</th>\n",
       "      <td>1</td>\n",
       "      <td>1</td>\n",
       "      <td>True</td>\n",
       "    </tr>\n",
       "    <tr>\n",
       "      <th>237</th>\n",
       "      <td>0</td>\n",
       "      <td>1</td>\n",
       "      <td>False</td>\n",
       "    </tr>\n",
       "    <tr>\n",
       "      <th>238</th>\n",
       "      <td>1</td>\n",
       "      <td>1</td>\n",
       "      <td>True</td>\n",
       "    </tr>\n",
       "  </tbody>\n",
       "</table>\n",
       "<p>239 rows × 3 columns</p>\n",
       "</div>"
      ],
      "text/plain": [
       "     Prediction_c1_dtc  Actual_c1_dtc  Equals_c1_dtc\n",
       "0                    1              1           True\n",
       "1                    1              1           True\n",
       "2                    0              0           True\n",
       "3                    1              0          False\n",
       "4                    1              0          False\n",
       "..                 ...            ...            ...\n",
       "234                  1              0          False\n",
       "235                  0              0           True\n",
       "236                  1              1           True\n",
       "237                  0              1          False\n",
       "238                  1              1           True\n",
       "\n",
       "[239 rows x 3 columns]"
      ]
     },
     "execution_count": 63,
     "metadata": {},
     "output_type": "execute_result"
    }
   ],
   "source": [
    "dtc_predict_crewmate1_df = pd.DataFrame({\n",
    "    \"Prediction_c1_dtc\" : dtc_crewmate1.predict(data_crewmate1_test),\n",
    "    \"Actual_c1_dtc\" : target_crewmate1_test\n",
    "})\n",
    "dtc_predict_crewmate1_df[\"Equals_c1_dtc\"] = dtc_predict_crewmate1_df[\"Prediction_c1_dtc\"].eq(dtc_predict_crewmate1_df[\"Actual_c1_dtc\"])\n",
    "dtc_predict_crewmate1_df"
   ]
  },
  {
   "cell_type": "code",
   "execution_count": 64,
   "metadata": {},
   "outputs": [
    {
     "data": {
      "text/plain": [
       "True     136\n",
       "False    103\n",
       "Name: Equals_c1_dtc, dtype: int64"
      ]
     },
     "execution_count": 64,
     "metadata": {},
     "output_type": "execute_result"
    }
   ],
   "source": [
    "dtc_predict_crewmate1_df[\"Equals_c1_dtc\"].value_counts()"
   ]
  },
  {
   "cell_type": "markdown",
   "metadata": {},
   "source": [
    "### Random Forest Classification - Model #1\n",
    "We perform a random forest classification in order to assess the validity of our features."
   ]
  },
  {
   "cell_type": "code",
   "execution_count": 65,
   "metadata": {},
   "outputs": [
    {
     "data": {
      "text/plain": [
       "0.6150627615062761"
      ]
     },
     "execution_count": 65,
     "metadata": {},
     "output_type": "execute_result"
    }
   ],
   "source": [
    "rfc_crewmate1 = RandomForestClassifier()\n",
    "rfc_crewmate1 = rfc_crewmate1.fit(data_crewmate1_train, target_crewmate1_train)\n",
    "rfc_crewmate1.score(data_crewmate1_test, target_crewmate1_test)"
   ]
  },
  {
   "cell_type": "code",
   "execution_count": 66,
   "metadata": {},
   "outputs": [
    {
     "data": {
      "text/plain": [
       "[(0.6445397581683949, 'Game Length'),\n",
       " (0.14356417238613303, 'Task Completed'),\n",
       " (0.06576053015844335, 'Sabotages Fixed'),\n",
       " (0.054699844790526156, 'Murdered'),\n",
       " (0.017843036041224773, 'All Tasks Completed'),\n",
       " (0.016914637865102784, 'Evening'),\n",
       " (0.016548463795283033, 'Ejected'),\n",
       " (0.014369827485476891, 'Afternoon'),\n",
       " (0.01382214761103475, 'Night'),\n",
       " (0.011937581698380354, 'Morning')]"
      ]
     },
     "execution_count": 66,
     "metadata": {},
     "output_type": "execute_result"
    }
   ],
   "source": [
    "sorted(zip(rfc_crewmate1.feature_importances_, features_crewmate1), reverse=True)"
   ]
  },
  {
   "cell_type": "code",
   "execution_count": 67,
   "metadata": {},
   "outputs": [
    {
     "data": {
      "text/html": [
       "<div>\n",
       "<style scoped>\n",
       "    .dataframe tbody tr th:only-of-type {\n",
       "        vertical-align: middle;\n",
       "    }\n",
       "\n",
       "    .dataframe tbody tr th {\n",
       "        vertical-align: top;\n",
       "    }\n",
       "\n",
       "    .dataframe thead th {\n",
       "        text-align: right;\n",
       "    }\n",
       "</style>\n",
       "<table border=\"1\" class=\"dataframe\">\n",
       "  <thead>\n",
       "    <tr style=\"text-align: right;\">\n",
       "      <th></th>\n",
       "      <th>Prediction_c1_rfc</th>\n",
       "      <th>Actual_c1_rfc</th>\n",
       "      <th>Equals_c1_rfc</th>\n",
       "    </tr>\n",
       "  </thead>\n",
       "  <tbody>\n",
       "    <tr>\n",
       "      <th>0</th>\n",
       "      <td>1</td>\n",
       "      <td>1</td>\n",
       "      <td>True</td>\n",
       "    </tr>\n",
       "    <tr>\n",
       "      <th>1</th>\n",
       "      <td>1</td>\n",
       "      <td>1</td>\n",
       "      <td>True</td>\n",
       "    </tr>\n",
       "    <tr>\n",
       "      <th>2</th>\n",
       "      <td>0</td>\n",
       "      <td>0</td>\n",
       "      <td>True</td>\n",
       "    </tr>\n",
       "    <tr>\n",
       "      <th>3</th>\n",
       "      <td>1</td>\n",
       "      <td>0</td>\n",
       "      <td>False</td>\n",
       "    </tr>\n",
       "    <tr>\n",
       "      <th>4</th>\n",
       "      <td>1</td>\n",
       "      <td>0</td>\n",
       "      <td>False</td>\n",
       "    </tr>\n",
       "    <tr>\n",
       "      <th>...</th>\n",
       "      <td>...</td>\n",
       "      <td>...</td>\n",
       "      <td>...</td>\n",
       "    </tr>\n",
       "    <tr>\n",
       "      <th>234</th>\n",
       "      <td>1</td>\n",
       "      <td>0</td>\n",
       "      <td>False</td>\n",
       "    </tr>\n",
       "    <tr>\n",
       "      <th>235</th>\n",
       "      <td>1</td>\n",
       "      <td>0</td>\n",
       "      <td>False</td>\n",
       "    </tr>\n",
       "    <tr>\n",
       "      <th>236</th>\n",
       "      <td>1</td>\n",
       "      <td>1</td>\n",
       "      <td>True</td>\n",
       "    </tr>\n",
       "    <tr>\n",
       "      <th>237</th>\n",
       "      <td>1</td>\n",
       "      <td>1</td>\n",
       "      <td>True</td>\n",
       "    </tr>\n",
       "    <tr>\n",
       "      <th>238</th>\n",
       "      <td>0</td>\n",
       "      <td>1</td>\n",
       "      <td>False</td>\n",
       "    </tr>\n",
       "  </tbody>\n",
       "</table>\n",
       "<p>239 rows × 3 columns</p>\n",
       "</div>"
      ],
      "text/plain": [
       "     Prediction_c1_rfc  Actual_c1_rfc  Equals_c1_rfc\n",
       "0                    1              1           True\n",
       "1                    1              1           True\n",
       "2                    0              0           True\n",
       "3                    1              0          False\n",
       "4                    1              0          False\n",
       "..                 ...            ...            ...\n",
       "234                  1              0          False\n",
       "235                  1              0          False\n",
       "236                  1              1           True\n",
       "237                  1              1           True\n",
       "238                  0              1          False\n",
       "\n",
       "[239 rows x 3 columns]"
      ]
     },
     "execution_count": 67,
     "metadata": {},
     "output_type": "execute_result"
    }
   ],
   "source": [
    "rfc_predict_crewmate1_df = pd.DataFrame({\n",
    "    \"Prediction_c1_rfc\" : rfc_crewmate1.predict(data_crewmate1_test),\n",
    "    \"Actual_c1_rfc\" : target_crewmate1_test\n",
    "})\n",
    "rfc_predict_crewmate1_df[\"Equals_c1_rfc\"] = rfc_predict_crewmate1_df[\"Prediction_c1_rfc\"].eq(rfc_predict_crewmate1_df[\"Actual_c1_rfc\"])\n",
    "rfc_predict_crewmate1_df"
   ]
  },
  {
   "cell_type": "code",
   "execution_count": 68,
   "metadata": {},
   "outputs": [
    {
     "data": {
      "text/plain": [
       "True     147\n",
       "False     92\n",
       "Name: Equals_c1_rfc, dtype: int64"
      ]
     },
     "execution_count": 68,
     "metadata": {},
     "output_type": "execute_result"
    }
   ],
   "source": [
    "rfc_predict_crewmate1_df[\"Equals_c1_rfc\"].value_counts()"
   ]
  },
  {
   "cell_type": "markdown",
   "metadata": {},
   "source": [
    "### Define Model #2\n",
    "We take our previous model and attempt to make it more accurate by removing **Night**.  \n",
    "This was one of the features with the lowest weight in our more accurate model (random forest classification).\n",
    "- **Target**: Outcome\n",
    "- **Data**: Game Length, Task Completed, All Tasks Completed, Sabotages Fixed, Murdered, Ejected, Morning, Afternoon, Evening"
   ]
  },
  {
   "cell_type": "code",
   "execution_count": 69,
   "metadata": {},
   "outputs": [],
   "source": [
    "target_crewmate2_train = crewmate_train_df[\"Outcome\"]\n",
    "data_crewmate2_train = crewmate_train_df[[\"Game Length\", \"Task Completed\", \"All Tasks Completed\", \"Sabotages Fixed\", \"Murdered\", \"Ejected\", \"Morning\", \"Afternoon\", \"Evening\"]]\n",
    "\n",
    "target_crewmate2_test = crewmate_test_df[\"Outcome\"]\n",
    "data_crewmate2_test = crewmate_test_df[[\"Game Length\", \"Task Completed\", \"All Tasks Completed\", \"Sabotages Fixed\", \"Murdered\", \"Ejected\", \"Morning\", \"Afternoon\", \"Evening\"]]\n",
    "\n",
    "features_crewmate2 = data_crewmate2_train.columns"
   ]
  },
  {
   "cell_type": "markdown",
   "metadata": {},
   "source": [
    "### Decision Tree Classification - Model #2\n",
    "We perform a decision tree classification in order to assess the validity of our features."
   ]
  },
  {
   "cell_type": "code",
   "execution_count": 70,
   "metadata": {},
   "outputs": [
    {
     "data": {
      "text/plain": [
       "0.5774058577405857"
      ]
     },
     "execution_count": 70,
     "metadata": {},
     "output_type": "execute_result"
    }
   ],
   "source": [
    "dtc_crewmate2 = tree.DecisionTreeClassifier()\n",
    "dtc_crewmate2 = dtc_crewmate2.fit(data_crewmate2_train, target_crewmate2_train)\n",
    "dtc_crewmate2.score(data_crewmate2_test, target_crewmate2_test)"
   ]
  },
  {
   "cell_type": "code",
   "execution_count": 71,
   "metadata": {},
   "outputs": [
    {
     "data": {
      "text/plain": [
       "[(0.5846131684876373, 'Game Length'),\n",
       " (0.1195015298762009, 'Task Completed'),\n",
       " (0.08025546751934998, 'Sabotages Fixed'),\n",
       " (0.04917092064269182, 'Evening'),\n",
       " (0.0435941946884785, 'Murdered'),\n",
       " (0.040678510116754156, 'Afternoon'),\n",
       " (0.036250016443095855, 'Morning'),\n",
       " (0.029938234863497164, 'All Tasks Completed'),\n",
       " (0.015997957362294292, 'Ejected')]"
      ]
     },
     "execution_count": 71,
     "metadata": {},
     "output_type": "execute_result"
    }
   ],
   "source": [
    "sorted(zip(dtc_crewmate2.feature_importances_, features_crewmate2), reverse=True)"
   ]
  },
  {
   "cell_type": "code",
   "execution_count": 72,
   "metadata": {},
   "outputs": [
    {
     "data": {
      "text/html": [
       "<div>\n",
       "<style scoped>\n",
       "    .dataframe tbody tr th:only-of-type {\n",
       "        vertical-align: middle;\n",
       "    }\n",
       "\n",
       "    .dataframe tbody tr th {\n",
       "        vertical-align: top;\n",
       "    }\n",
       "\n",
       "    .dataframe thead th {\n",
       "        text-align: right;\n",
       "    }\n",
       "</style>\n",
       "<table border=\"1\" class=\"dataframe\">\n",
       "  <thead>\n",
       "    <tr style=\"text-align: right;\">\n",
       "      <th></th>\n",
       "      <th>Prediction_c2_dtc</th>\n",
       "      <th>Actual_c2_dtc</th>\n",
       "      <th>Equals_c2_dtc</th>\n",
       "    </tr>\n",
       "  </thead>\n",
       "  <tbody>\n",
       "    <tr>\n",
       "      <th>0</th>\n",
       "      <td>1</td>\n",
       "      <td>1</td>\n",
       "      <td>True</td>\n",
       "    </tr>\n",
       "    <tr>\n",
       "      <th>1</th>\n",
       "      <td>1</td>\n",
       "      <td>1</td>\n",
       "      <td>True</td>\n",
       "    </tr>\n",
       "    <tr>\n",
       "      <th>2</th>\n",
       "      <td>0</td>\n",
       "      <td>0</td>\n",
       "      <td>True</td>\n",
       "    </tr>\n",
       "    <tr>\n",
       "      <th>3</th>\n",
       "      <td>1</td>\n",
       "      <td>0</td>\n",
       "      <td>False</td>\n",
       "    </tr>\n",
       "    <tr>\n",
       "      <th>4</th>\n",
       "      <td>1</td>\n",
       "      <td>0</td>\n",
       "      <td>False</td>\n",
       "    </tr>\n",
       "    <tr>\n",
       "      <th>...</th>\n",
       "      <td>...</td>\n",
       "      <td>...</td>\n",
       "      <td>...</td>\n",
       "    </tr>\n",
       "    <tr>\n",
       "      <th>234</th>\n",
       "      <td>1</td>\n",
       "      <td>0</td>\n",
       "      <td>False</td>\n",
       "    </tr>\n",
       "    <tr>\n",
       "      <th>235</th>\n",
       "      <td>0</td>\n",
       "      <td>0</td>\n",
       "      <td>True</td>\n",
       "    </tr>\n",
       "    <tr>\n",
       "      <th>236</th>\n",
       "      <td>1</td>\n",
       "      <td>1</td>\n",
       "      <td>True</td>\n",
       "    </tr>\n",
       "    <tr>\n",
       "      <th>237</th>\n",
       "      <td>0</td>\n",
       "      <td>1</td>\n",
       "      <td>False</td>\n",
       "    </tr>\n",
       "    <tr>\n",
       "      <th>238</th>\n",
       "      <td>0</td>\n",
       "      <td>1</td>\n",
       "      <td>False</td>\n",
       "    </tr>\n",
       "  </tbody>\n",
       "</table>\n",
       "<p>239 rows × 3 columns</p>\n",
       "</div>"
      ],
      "text/plain": [
       "     Prediction_c2_dtc  Actual_c2_dtc  Equals_c2_dtc\n",
       "0                    1              1           True\n",
       "1                    1              1           True\n",
       "2                    0              0           True\n",
       "3                    1              0          False\n",
       "4                    1              0          False\n",
       "..                 ...            ...            ...\n",
       "234                  1              0          False\n",
       "235                  0              0           True\n",
       "236                  1              1           True\n",
       "237                  0              1          False\n",
       "238                  0              1          False\n",
       "\n",
       "[239 rows x 3 columns]"
      ]
     },
     "execution_count": 72,
     "metadata": {},
     "output_type": "execute_result"
    }
   ],
   "source": [
    "dtc_predict_crewmate2_df = pd.DataFrame({\n",
    "    \"Prediction_c2_dtc\" : dtc_crewmate2.predict(data_crewmate2_test),\n",
    "    \"Actual_c2_dtc\" : target_crewmate2_test\n",
    "})\n",
    "dtc_predict_crewmate2_df[\"Equals_c2_dtc\"] = dtc_predict_crewmate2_df[\"Prediction_c2_dtc\"].eq(dtc_predict_crewmate2_df[\"Actual_c2_dtc\"])\n",
    "dtc_predict_crewmate2_df"
   ]
  },
  {
   "cell_type": "code",
   "execution_count": 73,
   "metadata": {},
   "outputs": [
    {
     "data": {
      "text/plain": [
       "True     138\n",
       "False    101\n",
       "Name: Equals_c2_dtc, dtype: int64"
      ]
     },
     "execution_count": 73,
     "metadata": {},
     "output_type": "execute_result"
    }
   ],
   "source": [
    "dtc_predict_crewmate2_df[\"Equals_c2_dtc\"].value_counts()"
   ]
  },
  {
   "cell_type": "markdown",
   "metadata": {},
   "source": [
    "### Random Forest Classification - Model #2\n",
    "We perform a random forest classification in order to assess the validity of our features."
   ]
  },
  {
   "cell_type": "code",
   "execution_count": 74,
   "metadata": {},
   "outputs": [
    {
     "data": {
      "text/plain": [
       "0.6276150627615062"
      ]
     },
     "execution_count": 74,
     "metadata": {},
     "output_type": "execute_result"
    }
   ],
   "source": [
    "rfc_crewmate2 = RandomForestClassifier()\n",
    "rfc_crewmate2 = rfc_crewmate2.fit(data_crewmate2_train, target_crewmate2_train)\n",
    "rfc_crewmate2.score(data_crewmate2_test, target_crewmate2_test)"
   ]
  },
  {
   "cell_type": "code",
   "execution_count": 75,
   "metadata": {},
   "outputs": [
    {
     "data": {
      "text/plain": [
       "[(0.6407048344322205, 'Game Length'),\n",
       " (0.1430348589732038, 'Task Completed'),\n",
       " (0.06549073543690553, 'Sabotages Fixed'),\n",
       " (0.05035684521982558, 'Murdered'),\n",
       " (0.025549034086443927, 'Evening'),\n",
       " (0.02292309722094385, 'Afternoon'),\n",
       " (0.018143558544316696, 'Ejected'),\n",
       " (0.01786035799797627, 'All Tasks Completed'),\n",
       " (0.01593667808816386, 'Morning')]"
      ]
     },
     "execution_count": 75,
     "metadata": {},
     "output_type": "execute_result"
    }
   ],
   "source": [
    "sorted(zip(rfc_crewmate2.feature_importances_, features_crewmate2), reverse=True)"
   ]
  },
  {
   "cell_type": "code",
   "execution_count": 76,
   "metadata": {},
   "outputs": [
    {
     "data": {
      "text/html": [
       "<div>\n",
       "<style scoped>\n",
       "    .dataframe tbody tr th:only-of-type {\n",
       "        vertical-align: middle;\n",
       "    }\n",
       "\n",
       "    .dataframe tbody tr th {\n",
       "        vertical-align: top;\n",
       "    }\n",
       "\n",
       "    .dataframe thead th {\n",
       "        text-align: right;\n",
       "    }\n",
       "</style>\n",
       "<table border=\"1\" class=\"dataframe\">\n",
       "  <thead>\n",
       "    <tr style=\"text-align: right;\">\n",
       "      <th></th>\n",
       "      <th>Prediction_c2_rfc</th>\n",
       "      <th>Actual_c2_rfc</th>\n",
       "      <th>Equals_c2_rfc</th>\n",
       "    </tr>\n",
       "  </thead>\n",
       "  <tbody>\n",
       "    <tr>\n",
       "      <th>0</th>\n",
       "      <td>1</td>\n",
       "      <td>1</td>\n",
       "      <td>True</td>\n",
       "    </tr>\n",
       "    <tr>\n",
       "      <th>1</th>\n",
       "      <td>1</td>\n",
       "      <td>1</td>\n",
       "      <td>True</td>\n",
       "    </tr>\n",
       "    <tr>\n",
       "      <th>2</th>\n",
       "      <td>0</td>\n",
       "      <td>0</td>\n",
       "      <td>True</td>\n",
       "    </tr>\n",
       "    <tr>\n",
       "      <th>3</th>\n",
       "      <td>1</td>\n",
       "      <td>0</td>\n",
       "      <td>False</td>\n",
       "    </tr>\n",
       "    <tr>\n",
       "      <th>4</th>\n",
       "      <td>1</td>\n",
       "      <td>0</td>\n",
       "      <td>False</td>\n",
       "    </tr>\n",
       "    <tr>\n",
       "      <th>...</th>\n",
       "      <td>...</td>\n",
       "      <td>...</td>\n",
       "      <td>...</td>\n",
       "    </tr>\n",
       "    <tr>\n",
       "      <th>234</th>\n",
       "      <td>0</td>\n",
       "      <td>0</td>\n",
       "      <td>True</td>\n",
       "    </tr>\n",
       "    <tr>\n",
       "      <th>235</th>\n",
       "      <td>0</td>\n",
       "      <td>0</td>\n",
       "      <td>True</td>\n",
       "    </tr>\n",
       "    <tr>\n",
       "      <th>236</th>\n",
       "      <td>1</td>\n",
       "      <td>1</td>\n",
       "      <td>True</td>\n",
       "    </tr>\n",
       "    <tr>\n",
       "      <th>237</th>\n",
       "      <td>1</td>\n",
       "      <td>1</td>\n",
       "      <td>True</td>\n",
       "    </tr>\n",
       "    <tr>\n",
       "      <th>238</th>\n",
       "      <td>0</td>\n",
       "      <td>1</td>\n",
       "      <td>False</td>\n",
       "    </tr>\n",
       "  </tbody>\n",
       "</table>\n",
       "<p>239 rows × 3 columns</p>\n",
       "</div>"
      ],
      "text/plain": [
       "     Prediction_c2_rfc  Actual_c2_rfc  Equals_c2_rfc\n",
       "0                    1              1           True\n",
       "1                    1              1           True\n",
       "2                    0              0           True\n",
       "3                    1              0          False\n",
       "4                    1              0          False\n",
       "..                 ...            ...            ...\n",
       "234                  0              0           True\n",
       "235                  0              0           True\n",
       "236                  1              1           True\n",
       "237                  1              1           True\n",
       "238                  0              1          False\n",
       "\n",
       "[239 rows x 3 columns]"
      ]
     },
     "execution_count": 76,
     "metadata": {},
     "output_type": "execute_result"
    }
   ],
   "source": [
    "rfc_predict_crewmate2_df = pd.DataFrame({\n",
    "    \"Prediction_c2_rfc\" : rfc_crewmate2.predict(data_crewmate2_test),\n",
    "    \"Actual_c2_rfc\" : target_crewmate2_test\n",
    "})\n",
    "rfc_predict_crewmate2_df[\"Equals_c2_rfc\"] = rfc_predict_crewmate2_df[\"Prediction_c2_rfc\"].eq(rfc_predict_crewmate2_df[\"Actual_c2_rfc\"])\n",
    "rfc_predict_crewmate2_df"
   ]
  },
  {
   "cell_type": "code",
   "execution_count": 77,
   "metadata": {},
   "outputs": [
    {
     "data": {
      "text/plain": [
       "True     150\n",
       "False     89\n",
       "Name: Equals_c2_rfc, dtype: int64"
      ]
     },
     "execution_count": 77,
     "metadata": {},
     "output_type": "execute_result"
    }
   ],
   "source": [
    "rfc_predict_crewmate2_df[\"Equals_c2_rfc\"].value_counts()"
   ]
  },
  {
   "cell_type": "markdown",
   "metadata": {},
   "source": [
    "### Define Model #3\n",
    "It appears that keeping **Morning** lead to a comparably accurate model but we arrive at 2 options that we will test separately.  \n",
    "We'll first keep **Ejected** and drop **All Tasks Completed**. In the next model, we will do the opposite.\n",
    "- **Target**: Outcome\n",
    "- **Data**: Game Length, Task Completed, Sabotages Fixed, Murdered, Ejected, Morning, Afternoon, Evening"
   ]
  },
  {
   "cell_type": "code",
   "execution_count": 78,
   "metadata": {},
   "outputs": [],
   "source": [
    "target_crewmate3_train = crewmate_train_df[\"Outcome\"]\n",
    "data_crewmate3_train = crewmate_train_df[[\"Game Length\", \"Task Completed\", \"Sabotages Fixed\", \"Murdered\", \"Ejected\", \"Morning\", \"Afternoon\", \"Evening\"]]\n",
    "\n",
    "target_crewmate3_test = crewmate_test_df[\"Outcome\"]\n",
    "data_crewmate3_test = crewmate_test_df[[\"Game Length\", \"Task Completed\", \"Sabotages Fixed\", \"Murdered\", \"Ejected\", \"Morning\", \"Afternoon\", \"Evening\"]]\n",
    "\n",
    "features_crewmate3 = data_crewmate3_train.columns"
   ]
  },
  {
   "cell_type": "markdown",
   "metadata": {},
   "source": [
    "### Decision Tree Classification - Model #3\n",
    "We perform a decision tree classification in order to assess the validity of our features."
   ]
  },
  {
   "cell_type": "code",
   "execution_count": 79,
   "metadata": {},
   "outputs": [
    {
     "data": {
      "text/plain": [
       "0.602510460251046"
      ]
     },
     "execution_count": 79,
     "metadata": {},
     "output_type": "execute_result"
    }
   ],
   "source": [
    "dtc_crewmate3 = tree.DecisionTreeClassifier()\n",
    "dtc_crewmate3 = dtc_crewmate3.fit(data_crewmate3_train, target_crewmate3_train)\n",
    "dtc_crewmate3.score(data_crewmate3_test, target_crewmate3_test)"
   ]
  },
  {
   "cell_type": "code",
   "execution_count": 80,
   "metadata": {},
   "outputs": [
    {
     "data": {
      "text/plain": [
       "[(0.6145579376866471, 'Game Length'),\n",
       " (0.1263992215986235, 'Task Completed'),\n",
       " (0.08876481658981691, 'Sabotages Fixed'),\n",
       " (0.043594194688478506, 'Murdered'),\n",
       " (0.04187269704732493, 'Evening'),\n",
       " (0.0392475682264252, 'Afternoon'),\n",
       " (0.029565606800389624, 'Morning'),\n",
       " (0.015997957362294295, 'Ejected')]"
      ]
     },
     "execution_count": 80,
     "metadata": {},
     "output_type": "execute_result"
    }
   ],
   "source": [
    "sorted(zip(dtc_crewmate3.feature_importances_, features_crewmate3), reverse=True)"
   ]
  },
  {
   "cell_type": "code",
   "execution_count": 81,
   "metadata": {},
   "outputs": [
    {
     "data": {
      "text/html": [
       "<div>\n",
       "<style scoped>\n",
       "    .dataframe tbody tr th:only-of-type {\n",
       "        vertical-align: middle;\n",
       "    }\n",
       "\n",
       "    .dataframe tbody tr th {\n",
       "        vertical-align: top;\n",
       "    }\n",
       "\n",
       "    .dataframe thead th {\n",
       "        text-align: right;\n",
       "    }\n",
       "</style>\n",
       "<table border=\"1\" class=\"dataframe\">\n",
       "  <thead>\n",
       "    <tr style=\"text-align: right;\">\n",
       "      <th></th>\n",
       "      <th>Prediction_c3_dtc</th>\n",
       "      <th>Actual_c3_dtc</th>\n",
       "      <th>Equals_c3_dtc</th>\n",
       "    </tr>\n",
       "  </thead>\n",
       "  <tbody>\n",
       "    <tr>\n",
       "      <th>0</th>\n",
       "      <td>1</td>\n",
       "      <td>1</td>\n",
       "      <td>True</td>\n",
       "    </tr>\n",
       "    <tr>\n",
       "      <th>1</th>\n",
       "      <td>1</td>\n",
       "      <td>1</td>\n",
       "      <td>True</td>\n",
       "    </tr>\n",
       "    <tr>\n",
       "      <th>2</th>\n",
       "      <td>1</td>\n",
       "      <td>0</td>\n",
       "      <td>False</td>\n",
       "    </tr>\n",
       "    <tr>\n",
       "      <th>3</th>\n",
       "      <td>1</td>\n",
       "      <td>0</td>\n",
       "      <td>False</td>\n",
       "    </tr>\n",
       "    <tr>\n",
       "      <th>4</th>\n",
       "      <td>1</td>\n",
       "      <td>0</td>\n",
       "      <td>False</td>\n",
       "    </tr>\n",
       "    <tr>\n",
       "      <th>...</th>\n",
       "      <td>...</td>\n",
       "      <td>...</td>\n",
       "      <td>...</td>\n",
       "    </tr>\n",
       "    <tr>\n",
       "      <th>234</th>\n",
       "      <td>1</td>\n",
       "      <td>0</td>\n",
       "      <td>False</td>\n",
       "    </tr>\n",
       "    <tr>\n",
       "      <th>235</th>\n",
       "      <td>0</td>\n",
       "      <td>0</td>\n",
       "      <td>True</td>\n",
       "    </tr>\n",
       "    <tr>\n",
       "      <th>236</th>\n",
       "      <td>1</td>\n",
       "      <td>1</td>\n",
       "      <td>True</td>\n",
       "    </tr>\n",
       "    <tr>\n",
       "      <th>237</th>\n",
       "      <td>1</td>\n",
       "      <td>1</td>\n",
       "      <td>True</td>\n",
       "    </tr>\n",
       "    <tr>\n",
       "      <th>238</th>\n",
       "      <td>1</td>\n",
       "      <td>1</td>\n",
       "      <td>True</td>\n",
       "    </tr>\n",
       "  </tbody>\n",
       "</table>\n",
       "<p>239 rows × 3 columns</p>\n",
       "</div>"
      ],
      "text/plain": [
       "     Prediction_c3_dtc  Actual_c3_dtc  Equals_c3_dtc\n",
       "0                    1              1           True\n",
       "1                    1              1           True\n",
       "2                    1              0          False\n",
       "3                    1              0          False\n",
       "4                    1              0          False\n",
       "..                 ...            ...            ...\n",
       "234                  1              0          False\n",
       "235                  0              0           True\n",
       "236                  1              1           True\n",
       "237                  1              1           True\n",
       "238                  1              1           True\n",
       "\n",
       "[239 rows x 3 columns]"
      ]
     },
     "execution_count": 81,
     "metadata": {},
     "output_type": "execute_result"
    }
   ],
   "source": [
    "dtc_predict_crewmate3_df = pd.DataFrame({\n",
    "    \"Prediction_c3_dtc\" : dtc_crewmate3.predict(data_crewmate3_test),\n",
    "    \"Actual_c3_dtc\" : target_crewmate3_test\n",
    "})\n",
    "dtc_predict_crewmate3_df[\"Equals_c3_dtc\"] = dtc_predict_crewmate3_df[\"Prediction_c3_dtc\"].eq(dtc_predict_crewmate3_df[\"Actual_c3_dtc\"])\n",
    "dtc_predict_crewmate3_df"
   ]
  },
  {
   "cell_type": "code",
   "execution_count": 82,
   "metadata": {},
   "outputs": [
    {
     "data": {
      "text/plain": [
       "True     144\n",
       "False     95\n",
       "Name: Equals_c3_dtc, dtype: int64"
      ]
     },
     "execution_count": 82,
     "metadata": {},
     "output_type": "execute_result"
    }
   ],
   "source": [
    "dtc_predict_crewmate3_df[\"Equals_c3_dtc\"].value_counts()"
   ]
  },
  {
   "cell_type": "markdown",
   "metadata": {},
   "source": [
    "### Random Forest Classification - Model #3\n",
    "We perform a random forest classification in order to assess the validity of our features."
   ]
  },
  {
   "cell_type": "code",
   "execution_count": 83,
   "metadata": {},
   "outputs": [
    {
     "data": {
      "text/plain": [
       "0.5815899581589958"
      ]
     },
     "execution_count": 83,
     "metadata": {},
     "output_type": "execute_result"
    }
   ],
   "source": [
    "rfc_crewmate3 = RandomForestClassifier()\n",
    "rfc_crewmate3 = rfc_crewmate3.fit(data_crewmate3_train, target_crewmate3_train)\n",
    "rfc_crewmate3.score(data_crewmate3_test, target_crewmate3_test)"
   ]
  },
  {
   "cell_type": "code",
   "execution_count": 84,
   "metadata": {},
   "outputs": [
    {
     "data": {
      "text/plain": [
       "[(0.672948813957116, 'Game Length'),\n",
       " (0.14915040933519644, 'Task Completed'),\n",
       " (0.0636539418922138, 'Sabotages Fixed'),\n",
       " (0.054068020768294846, 'Murdered'),\n",
       " (0.01689915884424858, 'Ejected'),\n",
       " (0.0165840804127642, 'Evening'),\n",
       " (0.015645376546108824, 'Afternoon'),\n",
       " (0.0110501982440573, 'Morning')]"
      ]
     },
     "execution_count": 84,
     "metadata": {},
     "output_type": "execute_result"
    }
   ],
   "source": [
    "sorted(zip(rfc_crewmate3.feature_importances_, features_crewmate3), reverse=True)"
   ]
  },
  {
   "cell_type": "code",
   "execution_count": 85,
   "metadata": {},
   "outputs": [
    {
     "data": {
      "text/html": [
       "<div>\n",
       "<style scoped>\n",
       "    .dataframe tbody tr th:only-of-type {\n",
       "        vertical-align: middle;\n",
       "    }\n",
       "\n",
       "    .dataframe tbody tr th {\n",
       "        vertical-align: top;\n",
       "    }\n",
       "\n",
       "    .dataframe thead th {\n",
       "        text-align: right;\n",
       "    }\n",
       "</style>\n",
       "<table border=\"1\" class=\"dataframe\">\n",
       "  <thead>\n",
       "    <tr style=\"text-align: right;\">\n",
       "      <th></th>\n",
       "      <th>Prediction_c3_rfc</th>\n",
       "      <th>Actual_c3_rfc</th>\n",
       "      <th>Equals_c3_rfc</th>\n",
       "    </tr>\n",
       "  </thead>\n",
       "  <tbody>\n",
       "    <tr>\n",
       "      <th>0</th>\n",
       "      <td>1</td>\n",
       "      <td>1</td>\n",
       "      <td>True</td>\n",
       "    </tr>\n",
       "    <tr>\n",
       "      <th>1</th>\n",
       "      <td>1</td>\n",
       "      <td>1</td>\n",
       "      <td>True</td>\n",
       "    </tr>\n",
       "    <tr>\n",
       "      <th>2</th>\n",
       "      <td>1</td>\n",
       "      <td>0</td>\n",
       "      <td>False</td>\n",
       "    </tr>\n",
       "    <tr>\n",
       "      <th>3</th>\n",
       "      <td>1</td>\n",
       "      <td>0</td>\n",
       "      <td>False</td>\n",
       "    </tr>\n",
       "    <tr>\n",
       "      <th>4</th>\n",
       "      <td>1</td>\n",
       "      <td>0</td>\n",
       "      <td>False</td>\n",
       "    </tr>\n",
       "    <tr>\n",
       "      <th>...</th>\n",
       "      <td>...</td>\n",
       "      <td>...</td>\n",
       "      <td>...</td>\n",
       "    </tr>\n",
       "    <tr>\n",
       "      <th>234</th>\n",
       "      <td>1</td>\n",
       "      <td>0</td>\n",
       "      <td>False</td>\n",
       "    </tr>\n",
       "    <tr>\n",
       "      <th>235</th>\n",
       "      <td>0</td>\n",
       "      <td>0</td>\n",
       "      <td>True</td>\n",
       "    </tr>\n",
       "    <tr>\n",
       "      <th>236</th>\n",
       "      <td>1</td>\n",
       "      <td>1</td>\n",
       "      <td>True</td>\n",
       "    </tr>\n",
       "    <tr>\n",
       "      <th>237</th>\n",
       "      <td>0</td>\n",
       "      <td>1</td>\n",
       "      <td>False</td>\n",
       "    </tr>\n",
       "    <tr>\n",
       "      <th>238</th>\n",
       "      <td>0</td>\n",
       "      <td>1</td>\n",
       "      <td>False</td>\n",
       "    </tr>\n",
       "  </tbody>\n",
       "</table>\n",
       "<p>239 rows × 3 columns</p>\n",
       "</div>"
      ],
      "text/plain": [
       "     Prediction_c3_rfc  Actual_c3_rfc  Equals_c3_rfc\n",
       "0                    1              1           True\n",
       "1                    1              1           True\n",
       "2                    1              0          False\n",
       "3                    1              0          False\n",
       "4                    1              0          False\n",
       "..                 ...            ...            ...\n",
       "234                  1              0          False\n",
       "235                  0              0           True\n",
       "236                  1              1           True\n",
       "237                  0              1          False\n",
       "238                  0              1          False\n",
       "\n",
       "[239 rows x 3 columns]"
      ]
     },
     "execution_count": 85,
     "metadata": {},
     "output_type": "execute_result"
    }
   ],
   "source": [
    "rfc_predict_crewmate3_df = pd.DataFrame({\n",
    "    \"Prediction_c3_rfc\" : rfc_crewmate3.predict(data_crewmate3_test),\n",
    "    \"Actual_c3_rfc\" : target_crewmate3_test\n",
    "})\n",
    "rfc_predict_crewmate3_df[\"Equals_c3_rfc\"] = rfc_predict_crewmate3_df[\"Prediction_c3_rfc\"].eq(rfc_predict_crewmate3_df[\"Actual_c3_rfc\"])\n",
    "rfc_predict_crewmate3_df"
   ]
  },
  {
   "cell_type": "code",
   "execution_count": 86,
   "metadata": {},
   "outputs": [
    {
     "data": {
      "text/plain": [
       "True     139\n",
       "False    100\n",
       "Name: Equals_c3_rfc, dtype: int64"
      ]
     },
     "execution_count": 86,
     "metadata": {},
     "output_type": "execute_result"
    }
   ],
   "source": [
    "rfc_predict_crewmate3_df[\"Equals_c3_rfc\"].value_counts()"
   ]
  },
  {
   "cell_type": "markdown",
   "metadata": {},
   "source": [
    "### Define Model #4\n",
    "Now we'll do the inverse of **Model 3** as that model proved to be less accurate than **Model 2**.\n",
    "- **Target**: Outcome\n",
    "- **Data**: Game Length, Task Completed, All Tasks Completed, Sabotages Fixed, Murdered, Morning, Afternoon, Evening"
   ]
  },
  {
   "cell_type": "code",
   "execution_count": 87,
   "metadata": {},
   "outputs": [],
   "source": [
    "target_crewmate4_train = crewmate_train_df[\"Outcome\"]\n",
    "data_crewmate4_train = crewmate_train_df[[\"Game Length\", \"Task Completed\", \"All Tasks Completed\", \"Sabotages Fixed\", \"Murdered\", \"Morning\", \"Afternoon\", \"Evening\"]]\n",
    "\n",
    "target_crewmate4_test = crewmate_test_df[\"Outcome\"]\n",
    "data_crewmate4_test = crewmate_test_df[[\"Game Length\", \"Task Completed\", \"All Tasks Completed\", \"Sabotages Fixed\", \"Murdered\", \"Morning\", \"Afternoon\", \"Evening\"]]\n",
    "\n",
    "features_crewmate4 = data_crewmate4_train.columns"
   ]
  },
  {
   "cell_type": "markdown",
   "metadata": {},
   "source": [
    "### Decision Tree Classification - Model #4\n",
    "We perform a decision tree classification in order to assess the validity of our features."
   ]
  },
  {
   "cell_type": "code",
   "execution_count": 88,
   "metadata": {},
   "outputs": [
    {
     "data": {
      "text/plain": [
       "0.5355648535564853"
      ]
     },
     "execution_count": 88,
     "metadata": {},
     "output_type": "execute_result"
    }
   ],
   "source": [
    "dtc_crewmate4 = tree.DecisionTreeClassifier()\n",
    "dtc_crewmate4 = dtc_crewmate4.fit(data_crewmate4_train, target_crewmate4_train)\n",
    "dtc_crewmate4.score(data_crewmate4_test, target_crewmate4_test)"
   ]
  },
  {
   "cell_type": "code",
   "execution_count": 89,
   "metadata": {},
   "outputs": [
    {
     "data": {
      "text/plain": [
       "[(0.6014750378444914, 'Game Length'),\n",
       " (0.12360354458074953, 'Task Completed'),\n",
       " (0.08100071111643435, 'Sabotages Fixed'),\n",
       " (0.044880414545508805, 'Evening'),\n",
       " (0.04359419468847852, 'Murdered'),\n",
       " (0.04172718971304592, 'Afternoon'),\n",
       " (0.03611613032044552, 'Morning'),\n",
       " (0.02760277719084596, 'All Tasks Completed')]"
      ]
     },
     "execution_count": 89,
     "metadata": {},
     "output_type": "execute_result"
    }
   ],
   "source": [
    "sorted(zip(dtc_crewmate4.feature_importances_, features_crewmate4), reverse=True)"
   ]
  },
  {
   "cell_type": "code",
   "execution_count": 90,
   "metadata": {},
   "outputs": [
    {
     "data": {
      "text/html": [
       "<div>\n",
       "<style scoped>\n",
       "    .dataframe tbody tr th:only-of-type {\n",
       "        vertical-align: middle;\n",
       "    }\n",
       "\n",
       "    .dataframe tbody tr th {\n",
       "        vertical-align: top;\n",
       "    }\n",
       "\n",
       "    .dataframe thead th {\n",
       "        text-align: right;\n",
       "    }\n",
       "</style>\n",
       "<table border=\"1\" class=\"dataframe\">\n",
       "  <thead>\n",
       "    <tr style=\"text-align: right;\">\n",
       "      <th></th>\n",
       "      <th>Prediction_c4_dtc</th>\n",
       "      <th>Actual_c4_dtc</th>\n",
       "      <th>Equals_c4_dtc</th>\n",
       "    </tr>\n",
       "  </thead>\n",
       "  <tbody>\n",
       "    <tr>\n",
       "      <th>0</th>\n",
       "      <td>0</td>\n",
       "      <td>1</td>\n",
       "      <td>False</td>\n",
       "    </tr>\n",
       "    <tr>\n",
       "      <th>1</th>\n",
       "      <td>1</td>\n",
       "      <td>1</td>\n",
       "      <td>True</td>\n",
       "    </tr>\n",
       "    <tr>\n",
       "      <th>2</th>\n",
       "      <td>0</td>\n",
       "      <td>0</td>\n",
       "      <td>True</td>\n",
       "    </tr>\n",
       "    <tr>\n",
       "      <th>3</th>\n",
       "      <td>1</td>\n",
       "      <td>0</td>\n",
       "      <td>False</td>\n",
       "    </tr>\n",
       "    <tr>\n",
       "      <th>4</th>\n",
       "      <td>1</td>\n",
       "      <td>0</td>\n",
       "      <td>False</td>\n",
       "    </tr>\n",
       "    <tr>\n",
       "      <th>...</th>\n",
       "      <td>...</td>\n",
       "      <td>...</td>\n",
       "      <td>...</td>\n",
       "    </tr>\n",
       "    <tr>\n",
       "      <th>234</th>\n",
       "      <td>1</td>\n",
       "      <td>0</td>\n",
       "      <td>False</td>\n",
       "    </tr>\n",
       "    <tr>\n",
       "      <th>235</th>\n",
       "      <td>1</td>\n",
       "      <td>0</td>\n",
       "      <td>False</td>\n",
       "    </tr>\n",
       "    <tr>\n",
       "      <th>236</th>\n",
       "      <td>1</td>\n",
       "      <td>1</td>\n",
       "      <td>True</td>\n",
       "    </tr>\n",
       "    <tr>\n",
       "      <th>237</th>\n",
       "      <td>0</td>\n",
       "      <td>1</td>\n",
       "      <td>False</td>\n",
       "    </tr>\n",
       "    <tr>\n",
       "      <th>238</th>\n",
       "      <td>1</td>\n",
       "      <td>1</td>\n",
       "      <td>True</td>\n",
       "    </tr>\n",
       "  </tbody>\n",
       "</table>\n",
       "<p>239 rows × 3 columns</p>\n",
       "</div>"
      ],
      "text/plain": [
       "     Prediction_c4_dtc  Actual_c4_dtc  Equals_c4_dtc\n",
       "0                    0              1          False\n",
       "1                    1              1           True\n",
       "2                    0              0           True\n",
       "3                    1              0          False\n",
       "4                    1              0          False\n",
       "..                 ...            ...            ...\n",
       "234                  1              0          False\n",
       "235                  1              0          False\n",
       "236                  1              1           True\n",
       "237                  0              1          False\n",
       "238                  1              1           True\n",
       "\n",
       "[239 rows x 3 columns]"
      ]
     },
     "execution_count": 90,
     "metadata": {},
     "output_type": "execute_result"
    }
   ],
   "source": [
    "dtc_predict_crewmate4_df = pd.DataFrame({\n",
    "    \"Prediction_c4_dtc\" : dtc_crewmate4.predict(data_crewmate4_test),\n",
    "    \"Actual_c4_dtc\" : target_crewmate4_test\n",
    "})\n",
    "dtc_predict_crewmate4_df[\"Equals_c4_dtc\"] = dtc_predict_crewmate4_df[\"Prediction_c4_dtc\"].eq(dtc_predict_crewmate4_df[\"Actual_c4_dtc\"])\n",
    "dtc_predict_crewmate4_df"
   ]
  },
  {
   "cell_type": "code",
   "execution_count": 91,
   "metadata": {},
   "outputs": [
    {
     "data": {
      "text/plain": [
       "True     128\n",
       "False    111\n",
       "Name: Equals_c4_dtc, dtype: int64"
      ]
     },
     "execution_count": 91,
     "metadata": {},
     "output_type": "execute_result"
    }
   ],
   "source": [
    "dtc_predict_crewmate4_df[\"Equals_c4_dtc\"].value_counts()"
   ]
  },
  {
   "cell_type": "markdown",
   "metadata": {},
   "source": [
    "### Random Forest Classification - Model #4\n",
    "We perform a random forest classification in order to assess the validity of our features."
   ]
  },
  {
   "cell_type": "code",
   "execution_count": 92,
   "metadata": {},
   "outputs": [
    {
     "data": {
      "text/plain": [
       "0.5941422594142259"
      ]
     },
     "execution_count": 92,
     "metadata": {},
     "output_type": "execute_result"
    }
   ],
   "source": [
    "rfc_crewmate4 = RandomForestClassifier()\n",
    "rfc_crewmate4 = rfc_crewmate4.fit(data_crewmate4_train, target_crewmate4_train)\n",
    "rfc_crewmate4.score(data_crewmate4_test, target_crewmate4_test)"
   ]
  },
  {
   "cell_type": "code",
   "execution_count": 93,
   "metadata": {},
   "outputs": [
    {
     "data": {
      "text/plain": [
       "[(0.6722059253253261, 'Game Length'),\n",
       " (0.1411638726266161, 'Task Completed'),\n",
       " (0.06751888008754144, 'Sabotages Fixed'),\n",
       " (0.053912778074309976, 'Murdered'),\n",
       " (0.01857189786410841, 'Evening'),\n",
       " (0.017718216440317763, 'Afternoon'),\n",
       " (0.015514575905034614, 'All Tasks Completed'),\n",
       " (0.013393853676745475, 'Morning')]"
      ]
     },
     "execution_count": 93,
     "metadata": {},
     "output_type": "execute_result"
    }
   ],
   "source": [
    "sorted(zip(rfc_crewmate4.feature_importances_, features_crewmate4), reverse=True)"
   ]
  },
  {
   "cell_type": "code",
   "execution_count": 94,
   "metadata": {},
   "outputs": [
    {
     "data": {
      "text/html": [
       "<div>\n",
       "<style scoped>\n",
       "    .dataframe tbody tr th:only-of-type {\n",
       "        vertical-align: middle;\n",
       "    }\n",
       "\n",
       "    .dataframe tbody tr th {\n",
       "        vertical-align: top;\n",
       "    }\n",
       "\n",
       "    .dataframe thead th {\n",
       "        text-align: right;\n",
       "    }\n",
       "</style>\n",
       "<table border=\"1\" class=\"dataframe\">\n",
       "  <thead>\n",
       "    <tr style=\"text-align: right;\">\n",
       "      <th></th>\n",
       "      <th>Prediction_c4_rfc</th>\n",
       "      <th>Actual_c4_rfc</th>\n",
       "      <th>Equals_c4_rfc</th>\n",
       "    </tr>\n",
       "  </thead>\n",
       "  <tbody>\n",
       "    <tr>\n",
       "      <th>0</th>\n",
       "      <td>0</td>\n",
       "      <td>1</td>\n",
       "      <td>False</td>\n",
       "    </tr>\n",
       "    <tr>\n",
       "      <th>1</th>\n",
       "      <td>1</td>\n",
       "      <td>1</td>\n",
       "      <td>True</td>\n",
       "    </tr>\n",
       "    <tr>\n",
       "      <th>2</th>\n",
       "      <td>0</td>\n",
       "      <td>0</td>\n",
       "      <td>True</td>\n",
       "    </tr>\n",
       "    <tr>\n",
       "      <th>3</th>\n",
       "      <td>1</td>\n",
       "      <td>0</td>\n",
       "      <td>False</td>\n",
       "    </tr>\n",
       "    <tr>\n",
       "      <th>4</th>\n",
       "      <td>1</td>\n",
       "      <td>0</td>\n",
       "      <td>False</td>\n",
       "    </tr>\n",
       "    <tr>\n",
       "      <th>...</th>\n",
       "      <td>...</td>\n",
       "      <td>...</td>\n",
       "      <td>...</td>\n",
       "    </tr>\n",
       "    <tr>\n",
       "      <th>234</th>\n",
       "      <td>0</td>\n",
       "      <td>0</td>\n",
       "      <td>True</td>\n",
       "    </tr>\n",
       "    <tr>\n",
       "      <th>235</th>\n",
       "      <td>1</td>\n",
       "      <td>0</td>\n",
       "      <td>False</td>\n",
       "    </tr>\n",
       "    <tr>\n",
       "      <th>236</th>\n",
       "      <td>1</td>\n",
       "      <td>1</td>\n",
       "      <td>True</td>\n",
       "    </tr>\n",
       "    <tr>\n",
       "      <th>237</th>\n",
       "      <td>0</td>\n",
       "      <td>1</td>\n",
       "      <td>False</td>\n",
       "    </tr>\n",
       "    <tr>\n",
       "      <th>238</th>\n",
       "      <td>0</td>\n",
       "      <td>1</td>\n",
       "      <td>False</td>\n",
       "    </tr>\n",
       "  </tbody>\n",
       "</table>\n",
       "<p>239 rows × 3 columns</p>\n",
       "</div>"
      ],
      "text/plain": [
       "     Prediction_c4_rfc  Actual_c4_rfc  Equals_c4_rfc\n",
       "0                    0              1          False\n",
       "1                    1              1           True\n",
       "2                    0              0           True\n",
       "3                    1              0          False\n",
       "4                    1              0          False\n",
       "..                 ...            ...            ...\n",
       "234                  0              0           True\n",
       "235                  1              0          False\n",
       "236                  1              1           True\n",
       "237                  0              1          False\n",
       "238                  0              1          False\n",
       "\n",
       "[239 rows x 3 columns]"
      ]
     },
     "execution_count": 94,
     "metadata": {},
     "output_type": "execute_result"
    }
   ],
   "source": [
    "rfc_predict_crewmate4_df = pd.DataFrame({\n",
    "    \"Prediction_c4_rfc\" : rfc_crewmate4.predict(data_crewmate4_test),\n",
    "    \"Actual_c4_rfc\" : target_crewmate4_test\n",
    "})\n",
    "rfc_predict_crewmate4_df[\"Equals_c4_rfc\"] = rfc_predict_crewmate4_df[\"Prediction_c4_rfc\"].eq(rfc_predict_crewmate4_df[\"Actual_c4_rfc\"])\n",
    "rfc_predict_crewmate4_df"
   ]
  },
  {
   "cell_type": "code",
   "execution_count": 95,
   "metadata": {},
   "outputs": [
    {
     "data": {
      "text/plain": [
       "True     142\n",
       "False     97\n",
       "Name: Equals_c4_rfc, dtype: int64"
      ]
     },
     "execution_count": 95,
     "metadata": {},
     "output_type": "execute_result"
    }
   ],
   "source": [
    "rfc_predict_crewmate4_df[\"Equals_c4_rfc\"].value_counts()"
   ]
  },
  {
   "cell_type": "markdown",
   "metadata": {},
   "source": [
    "### Define Model #5\n",
    "As it appears that **Model 3** is most accurate so we will keep the **Ejected** feature.  \n",
    "To attempt to identify a more salient direction, we can try building off of **Model 1** again. One consistenly low feature is **All Tasks Completed** so we'll try removing just that.\n",
    "- **Target**: Outcome\n",
    "- **Data**: Game Length, Task Completed, Sabotages Fixed, Murdered, Ejected, Night, Morning, Afternoon, Evening"
   ]
  },
  {
   "cell_type": "code",
   "execution_count": 96,
   "metadata": {},
   "outputs": [],
   "source": [
    "target_crewmate5_train = crewmate_train_df[\"Outcome\"]\n",
    "data_crewmate5_train = crewmate_train_df[[\"Game Length\", \"Task Completed\", \"Sabotages Fixed\", \"Murdered\", \"Ejected\", \"Night\", \"Morning\", \"Afternoon\", \"Evening\"]]\n",
    "\n",
    "target_crewmate5_test = crewmate_test_df[\"Outcome\"]\n",
    "data_crewmate5_test = crewmate_test_df[[\"Game Length\", \"Task Completed\", \"Sabotages Fixed\", \"Murdered\", \"Ejected\", \"Night\", \"Morning\", \"Afternoon\", \"Evening\"]]\n",
    "\n",
    "features_crewmate5 = data_crewmate5_train.columns "
   ]
  },
  {
   "cell_type": "markdown",
   "metadata": {},
   "source": [
    "### Decision Tree Classification - Model #5\n",
    "We perform a decision tree classification in order to assess the validity of our features."
   ]
  },
  {
   "cell_type": "code",
   "execution_count": 97,
   "metadata": {},
   "outputs": [
    {
     "data": {
      "text/plain": [
       "0.5690376569037657"
      ]
     },
     "execution_count": 97,
     "metadata": {},
     "output_type": "execute_result"
    }
   ],
   "source": [
    "dtc_crewmate5 = tree.DecisionTreeClassifier()\n",
    "dtc_crewmate5 = dtc_crewmate5.fit(data_crewmate5_train, target_crewmate5_train)\n",
    "dtc_crewmate5.score(data_crewmate5_test, target_crewmate5_test)"
   ]
  },
  {
   "cell_type": "code",
   "execution_count": 98,
   "metadata": {},
   "outputs": [
    {
     "data": {
      "text/plain": [
       "[(0.6016295985109898, 'Game Length'),\n",
       " (0.12810317543570562, 'Task Completed'),\n",
       " (0.08898739251059316, 'Sabotages Fixed'),\n",
       " (0.043594194688478506, 'Murdered'),\n",
       " (0.03452870747154555, 'Afternoon'),\n",
       " (0.03394267217240842, 'Evening'),\n",
       " (0.03131617465937671, 'Morning'),\n",
       " (0.021900127188607888, 'Night'),\n",
       " (0.015997957362294295, 'Ejected')]"
      ]
     },
     "execution_count": 98,
     "metadata": {},
     "output_type": "execute_result"
    }
   ],
   "source": [
    "sorted(zip(dtc_crewmate5.feature_importances_, features_crewmate5), reverse=True)"
   ]
  },
  {
   "cell_type": "code",
   "execution_count": 99,
   "metadata": {},
   "outputs": [
    {
     "data": {
      "text/html": [
       "<div>\n",
       "<style scoped>\n",
       "    .dataframe tbody tr th:only-of-type {\n",
       "        vertical-align: middle;\n",
       "    }\n",
       "\n",
       "    .dataframe tbody tr th {\n",
       "        vertical-align: top;\n",
       "    }\n",
       "\n",
       "    .dataframe thead th {\n",
       "        text-align: right;\n",
       "    }\n",
       "</style>\n",
       "<table border=\"1\" class=\"dataframe\">\n",
       "  <thead>\n",
       "    <tr style=\"text-align: right;\">\n",
       "      <th></th>\n",
       "      <th>Prediction_c5_dtc</th>\n",
       "      <th>Actual_c5_dtc</th>\n",
       "      <th>Equals_c5_dtc</th>\n",
       "    </tr>\n",
       "  </thead>\n",
       "  <tbody>\n",
       "    <tr>\n",
       "      <th>0</th>\n",
       "      <td>1</td>\n",
       "      <td>1</td>\n",
       "      <td>True</td>\n",
       "    </tr>\n",
       "    <tr>\n",
       "      <th>1</th>\n",
       "      <td>1</td>\n",
       "      <td>1</td>\n",
       "      <td>True</td>\n",
       "    </tr>\n",
       "    <tr>\n",
       "      <th>2</th>\n",
       "      <td>1</td>\n",
       "      <td>0</td>\n",
       "      <td>False</td>\n",
       "    </tr>\n",
       "    <tr>\n",
       "      <th>3</th>\n",
       "      <td>1</td>\n",
       "      <td>0</td>\n",
       "      <td>False</td>\n",
       "    </tr>\n",
       "    <tr>\n",
       "      <th>4</th>\n",
       "      <td>1</td>\n",
       "      <td>0</td>\n",
       "      <td>False</td>\n",
       "    </tr>\n",
       "    <tr>\n",
       "      <th>...</th>\n",
       "      <td>...</td>\n",
       "      <td>...</td>\n",
       "      <td>...</td>\n",
       "    </tr>\n",
       "    <tr>\n",
       "      <th>234</th>\n",
       "      <td>1</td>\n",
       "      <td>0</td>\n",
       "      <td>False</td>\n",
       "    </tr>\n",
       "    <tr>\n",
       "      <th>235</th>\n",
       "      <td>0</td>\n",
       "      <td>0</td>\n",
       "      <td>True</td>\n",
       "    </tr>\n",
       "    <tr>\n",
       "      <th>236</th>\n",
       "      <td>1</td>\n",
       "      <td>1</td>\n",
       "      <td>True</td>\n",
       "    </tr>\n",
       "    <tr>\n",
       "      <th>237</th>\n",
       "      <td>0</td>\n",
       "      <td>1</td>\n",
       "      <td>False</td>\n",
       "    </tr>\n",
       "    <tr>\n",
       "      <th>238</th>\n",
       "      <td>1</td>\n",
       "      <td>1</td>\n",
       "      <td>True</td>\n",
       "    </tr>\n",
       "  </tbody>\n",
       "</table>\n",
       "<p>239 rows × 3 columns</p>\n",
       "</div>"
      ],
      "text/plain": [
       "     Prediction_c5_dtc  Actual_c5_dtc  Equals_c5_dtc\n",
       "0                    1              1           True\n",
       "1                    1              1           True\n",
       "2                    1              0          False\n",
       "3                    1              0          False\n",
       "4                    1              0          False\n",
       "..                 ...            ...            ...\n",
       "234                  1              0          False\n",
       "235                  0              0           True\n",
       "236                  1              1           True\n",
       "237                  0              1          False\n",
       "238                  1              1           True\n",
       "\n",
       "[239 rows x 3 columns]"
      ]
     },
     "execution_count": 99,
     "metadata": {},
     "output_type": "execute_result"
    }
   ],
   "source": [
    "dtc_predict_crewmate5_df = pd.DataFrame({\n",
    "    \"Prediction_c5_dtc\" : dtc_crewmate5.predict(data_crewmate5_test),\n",
    "    \"Actual_c5_dtc\" : target_crewmate5_test\n",
    "})\n",
    "dtc_predict_crewmate5_df[\"Equals_c5_dtc\"] = dtc_predict_crewmate5_df[\"Prediction_c5_dtc\"].eq(dtc_predict_crewmate5_df[\"Actual_c5_dtc\"])\n",
    "dtc_predict_crewmate5_df"
   ]
  },
  {
   "cell_type": "code",
   "execution_count": 100,
   "metadata": {},
   "outputs": [
    {
     "data": {
      "text/plain": [
       "True     136\n",
       "False    103\n",
       "Name: Equals_c5_dtc, dtype: int64"
      ]
     },
     "execution_count": 100,
     "metadata": {},
     "output_type": "execute_result"
    }
   ],
   "source": [
    "dtc_predict_crewmate5_df[\"Equals_c5_dtc\"].value_counts()"
   ]
  },
  {
   "cell_type": "markdown",
   "metadata": {},
   "source": [
    "### Random Forest Classification - Model #5\n",
    "We perform a random forest classification in order to assess the validity of our features."
   ]
  },
  {
   "cell_type": "code",
   "execution_count": 101,
   "metadata": {},
   "outputs": [
    {
     "data": {
      "text/plain": [
       "0.6150627615062761"
      ]
     },
     "execution_count": 101,
     "metadata": {},
     "output_type": "execute_result"
    }
   ],
   "source": [
    "rfc_crewmate5 = RandomForestClassifier(n_estimators = 50, criterion = 'entropy')\n",
    "rfc_crewmate5 = rfc_crewmate5.fit(data_crewmate5_train, target_crewmate5_train)\n",
    "rfc_crewmate5.score(data_crewmate5_test, target_crewmate5_test)"
   ]
  },
  {
   "cell_type": "code",
   "execution_count": 102,
   "metadata": {},
   "outputs": [
    {
     "data": {
      "text/plain": [
       "[(0.6773354238044523, 'Game Length'),\n",
       " (0.1519351318683869, 'Task Completed'),\n",
       " (0.06719794266501562, 'Sabotages Fixed'),\n",
       " (0.03916753564030174, 'Murdered'),\n",
       " (0.014589463095238437, 'Ejected'),\n",
       " (0.014348632342050275, 'Evening'),\n",
       " (0.013659713317453429, 'Afternoon'),\n",
       " (0.011476573046252393, 'Night'),\n",
       " (0.010289584220848894, 'Morning')]"
      ]
     },
     "execution_count": 102,
     "metadata": {},
     "output_type": "execute_result"
    }
   ],
   "source": [
    "sorted(zip(rfc_crewmate5.feature_importances_, features_crewmate5), reverse=True)"
   ]
  },
  {
   "cell_type": "code",
   "execution_count": 103,
   "metadata": {},
   "outputs": [
    {
     "data": {
      "text/html": [
       "<div>\n",
       "<style scoped>\n",
       "    .dataframe tbody tr th:only-of-type {\n",
       "        vertical-align: middle;\n",
       "    }\n",
       "\n",
       "    .dataframe tbody tr th {\n",
       "        vertical-align: top;\n",
       "    }\n",
       "\n",
       "    .dataframe thead th {\n",
       "        text-align: right;\n",
       "    }\n",
       "</style>\n",
       "<table border=\"1\" class=\"dataframe\">\n",
       "  <thead>\n",
       "    <tr style=\"text-align: right;\">\n",
       "      <th></th>\n",
       "      <th>Game Length</th>\n",
       "      <th>Task Completed</th>\n",
       "      <th>Sabotages Fixed</th>\n",
       "      <th>Murdered</th>\n",
       "      <th>Ejected</th>\n",
       "      <th>Evening</th>\n",
       "      <th>Afternoon</th>\n",
       "      <th>Night</th>\n",
       "      <th>Morning</th>\n",
       "      <th>Outcome</th>\n",
       "      <th>Prediction</th>\n",
       "      <th>Correct Prediction</th>\n",
       "    </tr>\n",
       "  </thead>\n",
       "  <tbody>\n",
       "    <tr>\n",
       "      <th>0</th>\n",
       "      <td>310</td>\n",
       "      <td>3</td>\n",
       "      <td>0.0</td>\n",
       "      <td>0</td>\n",
       "      <td>0</td>\n",
       "      <td>1</td>\n",
       "      <td>0</td>\n",
       "      <td>0</td>\n",
       "      <td>0</td>\n",
       "      <td>1</td>\n",
       "      <td>1</td>\n",
       "      <td>True</td>\n",
       "    </tr>\n",
       "    <tr>\n",
       "      <th>1</th>\n",
       "      <td>491</td>\n",
       "      <td>2</td>\n",
       "      <td>0.0</td>\n",
       "      <td>1</td>\n",
       "      <td>0</td>\n",
       "      <td>0</td>\n",
       "      <td>1</td>\n",
       "      <td>0</td>\n",
       "      <td>0</td>\n",
       "      <td>1</td>\n",
       "      <td>1</td>\n",
       "      <td>True</td>\n",
       "    </tr>\n",
       "    <tr>\n",
       "      <th>2</th>\n",
       "      <td>664</td>\n",
       "      <td>7</td>\n",
       "      <td>0.0</td>\n",
       "      <td>1</td>\n",
       "      <td>0</td>\n",
       "      <td>0</td>\n",
       "      <td>1</td>\n",
       "      <td>0</td>\n",
       "      <td>0</td>\n",
       "      <td>0</td>\n",
       "      <td>1</td>\n",
       "      <td>False</td>\n",
       "    </tr>\n",
       "    <tr>\n",
       "      <th>3</th>\n",
       "      <td>826</td>\n",
       "      <td>7</td>\n",
       "      <td>1.0</td>\n",
       "      <td>1</td>\n",
       "      <td>0</td>\n",
       "      <td>0</td>\n",
       "      <td>1</td>\n",
       "      <td>0</td>\n",
       "      <td>0</td>\n",
       "      <td>0</td>\n",
       "      <td>1</td>\n",
       "      <td>False</td>\n",
       "    </tr>\n",
       "    <tr>\n",
       "      <th>4</th>\n",
       "      <td>596</td>\n",
       "      <td>7</td>\n",
       "      <td>0.0</td>\n",
       "      <td>1</td>\n",
       "      <td>0</td>\n",
       "      <td>0</td>\n",
       "      <td>1</td>\n",
       "      <td>0</td>\n",
       "      <td>0</td>\n",
       "      <td>0</td>\n",
       "      <td>1</td>\n",
       "      <td>False</td>\n",
       "    </tr>\n",
       "    <tr>\n",
       "      <th>...</th>\n",
       "      <td>...</td>\n",
       "      <td>...</td>\n",
       "      <td>...</td>\n",
       "      <td>...</td>\n",
       "      <td>...</td>\n",
       "      <td>...</td>\n",
       "      <td>...</td>\n",
       "      <td>...</td>\n",
       "      <td>...</td>\n",
       "      <td>...</td>\n",
       "      <td>...</td>\n",
       "      <td>...</td>\n",
       "    </tr>\n",
       "    <tr>\n",
       "      <th>234</th>\n",
       "      <td>482</td>\n",
       "      <td>4</td>\n",
       "      <td>1.0</td>\n",
       "      <td>1</td>\n",
       "      <td>0</td>\n",
       "      <td>0</td>\n",
       "      <td>0</td>\n",
       "      <td>0</td>\n",
       "      <td>1</td>\n",
       "      <td>0</td>\n",
       "      <td>1</td>\n",
       "      <td>False</td>\n",
       "    </tr>\n",
       "    <tr>\n",
       "      <th>235</th>\n",
       "      <td>666</td>\n",
       "      <td>5</td>\n",
       "      <td>2.0</td>\n",
       "      <td>0</td>\n",
       "      <td>1</td>\n",
       "      <td>0</td>\n",
       "      <td>0</td>\n",
       "      <td>0</td>\n",
       "      <td>1</td>\n",
       "      <td>0</td>\n",
       "      <td>0</td>\n",
       "      <td>True</td>\n",
       "    </tr>\n",
       "    <tr>\n",
       "      <th>236</th>\n",
       "      <td>251</td>\n",
       "      <td>3</td>\n",
       "      <td>2.0</td>\n",
       "      <td>0</td>\n",
       "      <td>0</td>\n",
       "      <td>0</td>\n",
       "      <td>0</td>\n",
       "      <td>0</td>\n",
       "      <td>1</td>\n",
       "      <td>1</td>\n",
       "      <td>1</td>\n",
       "      <td>True</td>\n",
       "    </tr>\n",
       "    <tr>\n",
       "      <th>237</th>\n",
       "      <td>633</td>\n",
       "      <td>5</td>\n",
       "      <td>1.0</td>\n",
       "      <td>1</td>\n",
       "      <td>0</td>\n",
       "      <td>0</td>\n",
       "      <td>0</td>\n",
       "      <td>0</td>\n",
       "      <td>1</td>\n",
       "      <td>1</td>\n",
       "      <td>0</td>\n",
       "      <td>False</td>\n",
       "    </tr>\n",
       "    <tr>\n",
       "      <th>238</th>\n",
       "      <td>336</td>\n",
       "      <td>5</td>\n",
       "      <td>0.0</td>\n",
       "      <td>1</td>\n",
       "      <td>0</td>\n",
       "      <td>0</td>\n",
       "      <td>0</td>\n",
       "      <td>0</td>\n",
       "      <td>1</td>\n",
       "      <td>1</td>\n",
       "      <td>1</td>\n",
       "      <td>True</td>\n",
       "    </tr>\n",
       "  </tbody>\n",
       "</table>\n",
       "<p>239 rows × 12 columns</p>\n",
       "</div>"
      ],
      "text/plain": [
       "     Game Length Task Completed  Sabotages Fixed  Murdered  Ejected  Evening  \\\n",
       "0            310              3              0.0         0        0        1   \n",
       "1            491              2              0.0         1        0        0   \n",
       "2            664              7              0.0         1        0        0   \n",
       "3            826              7              1.0         1        0        0   \n",
       "4            596              7              0.0         1        0        0   \n",
       "..           ...            ...              ...       ...      ...      ...   \n",
       "234          482              4              1.0         1        0        0   \n",
       "235          666              5              2.0         0        1        0   \n",
       "236          251              3              2.0         0        0        0   \n",
       "237          633              5              1.0         1        0        0   \n",
       "238          336              5              0.0         1        0        0   \n",
       "\n",
       "     Afternoon  Night  Morning  Outcome  Prediction  Correct Prediction  \n",
       "0            0      0        0        1           1                True  \n",
       "1            1      0        0        1           1                True  \n",
       "2            1      0        0        0           1               False  \n",
       "3            1      0        0        0           1               False  \n",
       "4            1      0        0        0           1               False  \n",
       "..         ...    ...      ...      ...         ...                 ...  \n",
       "234          0      0        1        0           1               False  \n",
       "235          0      0        1        0           0                True  \n",
       "236          0      0        1        1           1                True  \n",
       "237          0      0        1        1           0               False  \n",
       "238          0      0        1        1           1                True  \n",
       "\n",
       "[239 rows x 12 columns]"
      ]
     },
     "execution_count": 103,
     "metadata": {},
     "output_type": "execute_result"
    }
   ],
   "source": [
    "rfc_predict_crewmate5_df = pd.DataFrame({\n",
    "    \"Game Length\" : data_crewmate_test_df[\"Game Length\"],\n",
    "    \"Task Completed\" : data_crewmate_test_df[\"Task Completed\"],\n",
    "    \"Sabotages Fixed\" : data_crewmate_test_df[\"Sabotages Fixed\"],\n",
    "    \"Murdered\" : data_crewmate_test_df[\"Murdered\"],\n",
    "    \"Ejected\" : data_crewmate_test_df[\"Ejected\"],\n",
    "    \"Evening\" : data_crewmate_test_df[\"Evening\"],\n",
    "    \"Afternoon\" : data_crewmate_test_df[\"Afternoon\"],\n",
    "    \"Night\" : data_crewmate_test_df[\"Night\"],\n",
    "    \"Morning\" : data_crewmate_test_df[\"Morning\"],\n",
    "    \"Outcome\" : target_crewmate5_test,\n",
    "    \"Prediction\" : rfc_crewmate5.predict(data_crewmate5_test)\n",
    "})\n",
    "rfc_predict_crewmate5_df[\"Correct Prediction\"] = rfc_predict_crewmate5_df[\"Outcome\"].eq(rfc_predict_crewmate5_df[\"Prediction\"])\n",
    "rfc_predict_crewmate5_df"
   ]
  },
  {
   "cell_type": "code",
   "execution_count": 104,
   "metadata": {},
   "outputs": [
    {
     "data": {
      "text/plain": [
       "True     147\n",
       "False     92\n",
       "Name: Correct Prediction, dtype: int64"
      ]
     },
     "execution_count": 104,
     "metadata": {},
     "output_type": "execute_result"
    }
   ],
   "source": [
    "rfc_predict_crewmate5_df[\"Correct Prediction\"].value_counts()"
   ]
  },
  {
   "cell_type": "markdown",
   "metadata": {},
   "source": [
    "### Model Conclusions\n",
    "Although we attempted to fine tune and improve our model, it appears that our best model was obtained somewhat randomly.\n",
    "Our best model is **Model 5**, which includes Game Length, Task Completed, Sabotages Fixed, Murdered, Ejected, Night, Morning, Afternoon, and ing features. This model offers an 0.5481171548117155 for DTC and 0.6317991631799164 for RFC in predictive accuracy."
   ]
  },
  {
   "cell_type": "markdown",
   "metadata": {},
   "source": [
    "# Model Refinement"
   ]
  },
  {
   "cell_type": "markdown",
   "metadata": {},
   "source": [
    "## Imposter Refinement"
   ]
  },
  {
   "cell_type": "code",
   "execution_count": 105,
   "metadata": {},
   "outputs": [],
   "source": [
    "param_grid_i = {\n",
    "    'n_estimators' : [10, 20, 30, 40, 50, 60, 70, 80, 90, 100, 110, 120, 130, 140, 150],\n",
    "    'criterion' : [\"gini\", \"entropy\"]\n",
    "}\n",
    "grid_i = GridSearchCV(rfc_imposter4, param_grid_i, verbose = 3)"
   ]
  },
  {
   "cell_type": "code",
   "execution_count": 106,
   "metadata": {},
   "outputs": [
    {
     "name": "stdout",
     "output_type": "stream",
     "text": [
      "Fitting 5 folds for each of 30 candidates, totalling 150 fits\n",
      "[CV] criterion=gini, n_estimators=10 .................................\n",
      "[CV] ..... criterion=gini, n_estimators=10, score=0.750, total=   0.0s\n",
      "[CV] criterion=gini, n_estimators=10 .................................\n",
      "[CV] ..... criterion=gini, n_estimators=10, score=0.709, total=   0.0s\n",
      "[CV] criterion=gini, n_estimators=10 .................................\n",
      "[CV] ..... criterion=gini, n_estimators=10, score=0.671, total=   0.0s\n",
      "[CV] criterion=gini, n_estimators=10 .................................\n",
      "[CV] ..... criterion=gini, n_estimators=10, score=0.684, total=   0.0s\n",
      "[CV] criterion=gini, n_estimators=10 .................................\n",
      "[CV] ..... criterion=gini, n_estimators=10, score=0.557, total=   0.0s\n",
      "[CV] criterion=gini, n_estimators=20 .................................\n",
      "[CV] ..... criterion=gini, n_estimators=20, score=0.725, total=   0.0s\n",
      "[CV] criterion=gini, n_estimators=20 .................................\n",
      "[CV] ..... criterion=gini, n_estimators=20, score=0.684, total=   0.0s\n",
      "[CV] criterion=gini, n_estimators=20 .................................\n",
      "[CV] ..... criterion=gini, n_estimators=20, score=0.696, total=   0.0s\n",
      "[CV] criterion=gini, n_estimators=20 .................................\n"
     ]
    },
    {
     "name": "stderr",
     "output_type": "stream",
     "text": [
      "[Parallel(n_jobs=1)]: Using backend SequentialBackend with 1 concurrent workers.\n",
      "[Parallel(n_jobs=1)]: Done   1 out of   1 | elapsed:    0.0s remaining:    0.0s\n",
      "[Parallel(n_jobs=1)]: Done   2 out of   2 | elapsed:    0.0s remaining:    0.0s\n"
     ]
    },
    {
     "name": "stdout",
     "output_type": "stream",
     "text": [
      "[CV] ..... criterion=gini, n_estimators=20, score=0.671, total=   0.0s\n",
      "[CV] criterion=gini, n_estimators=20 .................................\n",
      "[CV] ..... criterion=gini, n_estimators=20, score=0.595, total=   0.0s\n",
      "[CV] criterion=gini, n_estimators=30 .................................\n",
      "[CV] ..... criterion=gini, n_estimators=30, score=0.787, total=   0.0s\n",
      "[CV] criterion=gini, n_estimators=30 .................................\n",
      "[CV] ..... criterion=gini, n_estimators=30, score=0.734, total=   0.0s\n",
      "[CV] criterion=gini, n_estimators=30 .................................\n",
      "[CV] ..... criterion=gini, n_estimators=30, score=0.671, total=   0.0s\n",
      "[CV] criterion=gini, n_estimators=30 .................................\n",
      "[CV] ..... criterion=gini, n_estimators=30, score=0.696, total=   0.0s\n",
      "[CV] criterion=gini, n_estimators=30 .................................\n",
      "[CV] ..... criterion=gini, n_estimators=30, score=0.608, total=   0.0s\n",
      "[CV] criterion=gini, n_estimators=40 .................................\n",
      "[CV] ..... criterion=gini, n_estimators=40, score=0.775, total=   0.1s\n",
      "[CV] criterion=gini, n_estimators=40 .................................\n",
      "[CV] ..... criterion=gini, n_estimators=40, score=0.722, total=   0.1s\n",
      "[CV] criterion=gini, n_estimators=40 .................................\n",
      "[CV] ..... criterion=gini, n_estimators=40, score=0.722, total=   0.1s\n",
      "[CV] criterion=gini, n_estimators=40 .................................\n",
      "[CV] ..... criterion=gini, n_estimators=40, score=0.658, total=   0.1s\n",
      "[CV] criterion=gini, n_estimators=40 .................................\n",
      "[CV] ..... criterion=gini, n_estimators=40, score=0.620, total=   0.1s\n",
      "[CV] criterion=gini, n_estimators=50 .................................\n",
      "[CV] ..... criterion=gini, n_estimators=50, score=0.775, total=   0.1s\n",
      "[CV] criterion=gini, n_estimators=50 .................................\n",
      "[CV] ..... criterion=gini, n_estimators=50, score=0.696, total=   0.1s\n",
      "[CV] criterion=gini, n_estimators=50 .................................\n",
      "[CV] ..... criterion=gini, n_estimators=50, score=0.696, total=   0.1s\n",
      "[CV] criterion=gini, n_estimators=50 .................................\n",
      "[CV] ..... criterion=gini, n_estimators=50, score=0.684, total=   0.1s\n",
      "[CV] criterion=gini, n_estimators=50 .................................\n",
      "[CV] ..... criterion=gini, n_estimators=50, score=0.620, total=   0.1s\n",
      "[CV] criterion=gini, n_estimators=60 .................................\n",
      "[CV] ..... criterion=gini, n_estimators=60, score=0.775, total=   0.1s\n",
      "[CV] criterion=gini, n_estimators=60 .................................\n",
      "[CV] ..... criterion=gini, n_estimators=60, score=0.709, total=   0.1s\n",
      "[CV] criterion=gini, n_estimators=60 .................................\n",
      "[CV] ..... criterion=gini, n_estimators=60, score=0.671, total=   0.1s\n",
      "[CV] criterion=gini, n_estimators=60 .................................\n",
      "[CV] ..... criterion=gini, n_estimators=60, score=0.684, total=   0.1s\n",
      "[CV] criterion=gini, n_estimators=60 .................................\n",
      "[CV] ..... criterion=gini, n_estimators=60, score=0.608, total=   0.1s\n",
      "[CV] criterion=gini, n_estimators=70 .................................\n",
      "[CV] ..... criterion=gini, n_estimators=70, score=0.775, total=   0.1s\n",
      "[CV] criterion=gini, n_estimators=70 .................................\n",
      "[CV] ..... criterion=gini, n_estimators=70, score=0.734, total=   0.1s\n",
      "[CV] criterion=gini, n_estimators=70 .................................\n",
      "[CV] ..... criterion=gini, n_estimators=70, score=0.709, total=   0.1s\n",
      "[CV] criterion=gini, n_estimators=70 .................................\n",
      "[CV] ..... criterion=gini, n_estimators=70, score=0.684, total=   0.1s\n",
      "[CV] criterion=gini, n_estimators=70 .................................\n",
      "[CV] ..... criterion=gini, n_estimators=70, score=0.570, total=   0.1s\n",
      "[CV] criterion=gini, n_estimators=80 .................................\n",
      "[CV] ..... criterion=gini, n_estimators=80, score=0.775, total=   0.1s\n",
      "[CV] criterion=gini, n_estimators=80 .................................\n",
      "[CV] ..... criterion=gini, n_estimators=80, score=0.709, total=   0.1s\n",
      "[CV] criterion=gini, n_estimators=80 .................................\n",
      "[CV] ..... criterion=gini, n_estimators=80, score=0.658, total=   0.1s\n",
      "[CV] criterion=gini, n_estimators=80 .................................\n",
      "[CV] ..... criterion=gini, n_estimators=80, score=0.696, total=   0.1s\n",
      "[CV] criterion=gini, n_estimators=80 .................................\n",
      "[CV] ..... criterion=gini, n_estimators=80, score=0.595, total=   0.1s\n",
      "[CV] criterion=gini, n_estimators=90 .................................\n",
      "[CV] ..... criterion=gini, n_estimators=90, score=0.775, total=   0.1s\n",
      "[CV] criterion=gini, n_estimators=90 .................................\n",
      "[CV] ..... criterion=gini, n_estimators=90, score=0.709, total=   0.1s\n",
      "[CV] criterion=gini, n_estimators=90 .................................\n",
      "[CV] ..... criterion=gini, n_estimators=90, score=0.696, total=   0.1s\n",
      "[CV] criterion=gini, n_estimators=90 .................................\n",
      "[CV] ..... criterion=gini, n_estimators=90, score=0.684, total=   0.1s\n",
      "[CV] criterion=gini, n_estimators=90 .................................\n",
      "[CV] ..... criterion=gini, n_estimators=90, score=0.595, total=   0.1s\n",
      "[CV] criterion=gini, n_estimators=100 ................................\n",
      "[CV] .... criterion=gini, n_estimators=100, score=0.762, total=   0.2s\n",
      "[CV] criterion=gini, n_estimators=100 ................................\n",
      "[CV] .... criterion=gini, n_estimators=100, score=0.709, total=   0.1s\n",
      "[CV] criterion=gini, n_estimators=100 ................................\n",
      "[CV] .... criterion=gini, n_estimators=100, score=0.684, total=   0.1s\n",
      "[CV] criterion=gini, n_estimators=100 ................................\n",
      "[CV] .... criterion=gini, n_estimators=100, score=0.684, total=   0.1s\n",
      "[CV] criterion=gini, n_estimators=100 ................................\n",
      "[CV] .... criterion=gini, n_estimators=100, score=0.608, total=   0.1s\n",
      "[CV] criterion=gini, n_estimators=110 ................................\n",
      "[CV] .... criterion=gini, n_estimators=110, score=0.787, total=   0.1s\n",
      "[CV] criterion=gini, n_estimators=110 ................................\n",
      "[CV] .... criterion=gini, n_estimators=110, score=0.722, total=   0.1s\n",
      "[CV] criterion=gini, n_estimators=110 ................................\n",
      "[CV] .... criterion=gini, n_estimators=110, score=0.671, total=   0.1s\n",
      "[CV] criterion=gini, n_estimators=110 ................................\n",
      "[CV] .... criterion=gini, n_estimators=110, score=0.696, total=   0.1s\n",
      "[CV] criterion=gini, n_estimators=110 ................................\n",
      "[CV] .... criterion=gini, n_estimators=110, score=0.620, total=   0.2s\n",
      "[CV] criterion=gini, n_estimators=120 ................................\n",
      "[CV] .... criterion=gini, n_estimators=120, score=0.775, total=   0.1s\n",
      "[CV] criterion=gini, n_estimators=120 ................................\n",
      "[CV] .... criterion=gini, n_estimators=120, score=0.722, total=   0.2s\n",
      "[CV] criterion=gini, n_estimators=120 ................................\n",
      "[CV] .... criterion=gini, n_estimators=120, score=0.658, total=   0.2s\n",
      "[CV] criterion=gini, n_estimators=120 ................................\n",
      "[CV] .... criterion=gini, n_estimators=120, score=0.696, total=   0.2s\n",
      "[CV] criterion=gini, n_estimators=120 ................................\n",
      "[CV] .... criterion=gini, n_estimators=120, score=0.608, total=   0.1s\n",
      "[CV] criterion=gini, n_estimators=130 ................................\n",
      "[CV] .... criterion=gini, n_estimators=130, score=0.775, total=   0.2s\n",
      "[CV] criterion=gini, n_estimators=130 ................................\n",
      "[CV] .... criterion=gini, n_estimators=130, score=0.722, total=   0.2s\n",
      "[CV] criterion=gini, n_estimators=130 ................................\n",
      "[CV] .... criterion=gini, n_estimators=130, score=0.696, total=   1.7s\n",
      "[CV] criterion=gini, n_estimators=130 ................................\n",
      "[CV] .... criterion=gini, n_estimators=130, score=0.696, total=   1.6s\n",
      "[CV] criterion=gini, n_estimators=130 ................................\n",
      "[CV] .... criterion=gini, n_estimators=130, score=0.608, total=   0.2s\n",
      "[CV] criterion=gini, n_estimators=140 ................................\n",
      "[CV] .... criterion=gini, n_estimators=140, score=0.787, total=   0.2s\n",
      "[CV] criterion=gini, n_estimators=140 ................................\n",
      "[CV] .... criterion=gini, n_estimators=140, score=0.709, total=   0.2s\n",
      "[CV] criterion=gini, n_estimators=140 ................................\n",
      "[CV] .... criterion=gini, n_estimators=140, score=0.684, total=   0.2s\n",
      "[CV] criterion=gini, n_estimators=140 ................................\n",
      "[CV] .... criterion=gini, n_estimators=140, score=0.696, total=   0.2s\n",
      "[CV] criterion=gini, n_estimators=140 ................................\n",
      "[CV] .... criterion=gini, n_estimators=140, score=0.608, total=   0.2s\n",
      "[CV] criterion=gini, n_estimators=150 ................................\n",
      "[CV] .... criterion=gini, n_estimators=150, score=0.775, total=   0.2s\n",
      "[CV] criterion=gini, n_estimators=150 ................................\n",
      "[CV] .... criterion=gini, n_estimators=150, score=0.696, total=   0.2s\n",
      "[CV] criterion=gini, n_estimators=150 ................................\n",
      "[CV] .... criterion=gini, n_estimators=150, score=0.671, total=   0.2s\n",
      "[CV] criterion=gini, n_estimators=150 ................................\n",
      "[CV] .... criterion=gini, n_estimators=150, score=0.696, total=   0.3s\n",
      "[CV] criterion=gini, n_estimators=150 ................................\n",
      "[CV] .... criterion=gini, n_estimators=150, score=0.608, total=   0.3s\n",
      "[CV] criterion=entropy, n_estimators=10 ..............................\n",
      "[CV] .. criterion=entropy, n_estimators=10, score=0.713, total=   0.0s\n",
      "[CV] criterion=entropy, n_estimators=10 ..............................\n",
      "[CV] .. criterion=entropy, n_estimators=10, score=0.696, total=   0.0s\n",
      "[CV] criterion=entropy, n_estimators=10 ..............................\n",
      "[CV] .. criterion=entropy, n_estimators=10, score=0.684, total=   0.0s\n",
      "[CV] criterion=entropy, n_estimators=10 ..............................\n",
      "[CV] .. criterion=entropy, n_estimators=10, score=0.671, total=   0.0s\n",
      "[CV] criterion=entropy, n_estimators=10 ..............................\n",
      "[CV] .. criterion=entropy, n_estimators=10, score=0.608, total=   0.0s\n",
      "[CV] criterion=entropy, n_estimators=20 ..............................\n",
      "[CV] .. criterion=entropy, n_estimators=20, score=0.750, total=   0.0s\n",
      "[CV] criterion=entropy, n_estimators=20 ..............................\n",
      "[CV] .. criterion=entropy, n_estimators=20, score=0.696, total=   0.0s\n",
      "[CV] criterion=entropy, n_estimators=20 ..............................\n",
      "[CV] .. criterion=entropy, n_estimators=20, score=0.696, total=   0.0s\n",
      "[CV] criterion=entropy, n_estimators=20 ..............................\n",
      "[CV] .. criterion=entropy, n_estimators=20, score=0.684, total=   0.0s\n",
      "[CV] criterion=entropy, n_estimators=20 ..............................\n",
      "[CV] .. criterion=entropy, n_estimators=20, score=0.582, total=   0.0s\n",
      "[CV] criterion=entropy, n_estimators=30 ..............................\n",
      "[CV] .. criterion=entropy, n_estimators=30, score=0.787, total=   0.1s\n",
      "[CV] criterion=entropy, n_estimators=30 ..............................\n",
      "[CV] .. criterion=entropy, n_estimators=30, score=0.696, total=   0.1s\n",
      "[CV] criterion=entropy, n_estimators=30 ..............................\n",
      "[CV] .. criterion=entropy, n_estimators=30, score=0.696, total=   0.1s\n",
      "[CV] criterion=entropy, n_estimators=30 ..............................\n",
      "[CV] .. criterion=entropy, n_estimators=30, score=0.671, total=   0.1s\n",
      "[CV] criterion=entropy, n_estimators=30 ..............................\n",
      "[CV] .. criterion=entropy, n_estimators=30, score=0.595, total=   0.1s\n",
      "[CV] criterion=entropy, n_estimators=40 ..............................\n",
      "[CV] .. criterion=entropy, n_estimators=40, score=0.775, total=   0.1s\n",
      "[CV] criterion=entropy, n_estimators=40 ..............................\n",
      "[CV] .. criterion=entropy, n_estimators=40, score=0.722, total=   0.1s\n",
      "[CV] criterion=entropy, n_estimators=40 ..............................\n",
      "[CV] .. criterion=entropy, n_estimators=40, score=0.696, total=   0.1s\n",
      "[CV] criterion=entropy, n_estimators=40 ..............................\n",
      "[CV] .. criterion=entropy, n_estimators=40, score=0.671, total=   0.1s\n",
      "[CV] criterion=entropy, n_estimators=40 ..............................\n",
      "[CV] .. criterion=entropy, n_estimators=40, score=0.633, total=   0.1s\n",
      "[CV] criterion=entropy, n_estimators=50 ..............................\n",
      "[CV] .. criterion=entropy, n_estimators=50, score=0.787, total=   0.1s\n",
      "[CV] criterion=entropy, n_estimators=50 ..............................\n",
      "[CV] .. criterion=entropy, n_estimators=50, score=0.709, total=   0.1s\n",
      "[CV] criterion=entropy, n_estimators=50 ..............................\n",
      "[CV] .. criterion=entropy, n_estimators=50, score=0.684, total=   0.1s\n",
      "[CV] criterion=entropy, n_estimators=50 ..............................\n",
      "[CV] .. criterion=entropy, n_estimators=50, score=0.658, total=   0.1s\n",
      "[CV] criterion=entropy, n_estimators=50 ..............................\n",
      "[CV] .. criterion=entropy, n_estimators=50, score=0.608, total=   0.1s\n",
      "[CV] criterion=entropy, n_estimators=60 ..............................\n",
      "[CV] .. criterion=entropy, n_estimators=60, score=0.762, total=   0.1s\n",
      "[CV] criterion=entropy, n_estimators=60 ..............................\n",
      "[CV] .. criterion=entropy, n_estimators=60, score=0.696, total=   0.1s\n",
      "[CV] criterion=entropy, n_estimators=60 ..............................\n",
      "[CV] .. criterion=entropy, n_estimators=60, score=0.671, total=   0.1s\n",
      "[CV] criterion=entropy, n_estimators=60 ..............................\n",
      "[CV] .. criterion=entropy, n_estimators=60, score=0.671, total=   0.1s\n",
      "[CV] criterion=entropy, n_estimators=60 ..............................\n",
      "[CV] .. criterion=entropy, n_estimators=60, score=0.608, total=   0.1s\n",
      "[CV] criterion=entropy, n_estimators=70 ..............................\n",
      "[CV] .. criterion=entropy, n_estimators=70, score=0.762, total=   0.1s\n",
      "[CV] criterion=entropy, n_estimators=70 ..............................\n",
      "[CV] .. criterion=entropy, n_estimators=70, score=0.709, total=   0.1s\n",
      "[CV] criterion=entropy, n_estimators=70 ..............................\n",
      "[CV] .. criterion=entropy, n_estimators=70, score=0.696, total=   0.1s\n",
      "[CV] criterion=entropy, n_estimators=70 ..............................\n",
      "[CV] .. criterion=entropy, n_estimators=70, score=0.671, total=   0.1s\n",
      "[CV] criterion=entropy, n_estimators=70 ..............................\n",
      "[CV] .. criterion=entropy, n_estimators=70, score=0.595, total=   0.1s\n",
      "[CV] criterion=entropy, n_estimators=80 ..............................\n",
      "[CV] .. criterion=entropy, n_estimators=80, score=0.750, total=   0.1s\n",
      "[CV] criterion=entropy, n_estimators=80 ..............................\n",
      "[CV] .. criterion=entropy, n_estimators=80, score=0.709, total=   0.1s\n",
      "[CV] criterion=entropy, n_estimators=80 ..............................\n",
      "[CV] .. criterion=entropy, n_estimators=80, score=0.684, total=   0.1s\n",
      "[CV] criterion=entropy, n_estimators=80 ..............................\n",
      "[CV] .. criterion=entropy, n_estimators=80, score=0.684, total=   0.1s\n",
      "[CV] criterion=entropy, n_estimators=80 ..............................\n",
      "[CV] .. criterion=entropy, n_estimators=80, score=0.608, total=   0.1s\n",
      "[CV] criterion=entropy, n_estimators=90 ..............................\n",
      "[CV] .. criterion=entropy, n_estimators=90, score=0.775, total=   0.2s\n",
      "[CV] criterion=entropy, n_estimators=90 ..............................\n",
      "[CV] .. criterion=entropy, n_estimators=90, score=0.722, total=   0.2s\n",
      "[CV] criterion=entropy, n_estimators=90 ..............................\n",
      "[CV] .. criterion=entropy, n_estimators=90, score=0.684, total=   0.2s\n",
      "[CV] criterion=entropy, n_estimators=90 ..............................\n",
      "[CV] .. criterion=entropy, n_estimators=90, score=0.671, total=   0.2s\n",
      "[CV] criterion=entropy, n_estimators=90 ..............................\n",
      "[CV] .. criterion=entropy, n_estimators=90, score=0.608, total=   0.2s\n",
      "[CV] criterion=entropy, n_estimators=100 .............................\n",
      "[CV] . criterion=entropy, n_estimators=100, score=0.775, total=   0.2s\n",
      "[CV] criterion=entropy, n_estimators=100 .............................\n",
      "[CV] . criterion=entropy, n_estimators=100, score=0.722, total=   0.2s\n",
      "[CV] criterion=entropy, n_estimators=100 .............................\n",
      "[CV] . criterion=entropy, n_estimators=100, score=0.658, total=   0.2s\n",
      "[CV] criterion=entropy, n_estimators=100 .............................\n",
      "[CV] . criterion=entropy, n_estimators=100, score=0.671, total=   0.2s\n",
      "[CV] criterion=entropy, n_estimators=100 .............................\n",
      "[CV] . criterion=entropy, n_estimators=100, score=0.608, total=   0.2s\n",
      "[CV] criterion=entropy, n_estimators=110 .............................\n",
      "[CV] . criterion=entropy, n_estimators=110, score=0.750, total=   0.2s\n",
      "[CV] criterion=entropy, n_estimators=110 .............................\n",
      "[CV] . criterion=entropy, n_estimators=110, score=0.722, total=   0.2s\n",
      "[CV] criterion=entropy, n_estimators=110 .............................\n",
      "[CV] . criterion=entropy, n_estimators=110, score=0.671, total=   0.3s\n",
      "[CV] criterion=entropy, n_estimators=110 .............................\n",
      "[CV] . criterion=entropy, n_estimators=110, score=0.671, total=   0.3s\n",
      "[CV] criterion=entropy, n_estimators=110 .............................\n",
      "[CV] . criterion=entropy, n_estimators=110, score=0.608, total=   0.2s\n",
      "[CV] criterion=entropy, n_estimators=120 .............................\n",
      "[CV] . criterion=entropy, n_estimators=120, score=0.762, total=   0.2s\n",
      "[CV] criterion=entropy, n_estimators=120 .............................\n",
      "[CV] . criterion=entropy, n_estimators=120, score=0.696, total=   0.2s\n",
      "[CV] criterion=entropy, n_estimators=120 .............................\n",
      "[CV] . criterion=entropy, n_estimators=120, score=0.671, total=   0.2s\n",
      "[CV] criterion=entropy, n_estimators=120 .............................\n",
      "[CV] . criterion=entropy, n_estimators=120, score=0.671, total=   0.2s\n",
      "[CV] criterion=entropy, n_estimators=120 .............................\n",
      "[CV] . criterion=entropy, n_estimators=120, score=0.608, total=   0.2s\n",
      "[CV] criterion=entropy, n_estimators=130 .............................\n",
      "[CV] . criterion=entropy, n_estimators=130, score=0.750, total=   0.2s\n",
      "[CV] criterion=entropy, n_estimators=130 .............................\n",
      "[CV] . criterion=entropy, n_estimators=130, score=0.709, total=   0.2s\n",
      "[CV] criterion=entropy, n_estimators=130 .............................\n",
      "[CV] . criterion=entropy, n_estimators=130, score=0.684, total=   0.2s\n",
      "[CV] criterion=entropy, n_estimators=130 .............................\n",
      "[CV] . criterion=entropy, n_estimators=130, score=0.696, total=   0.2s\n",
      "[CV] criterion=entropy, n_estimators=130 .............................\n",
      "[CV] . criterion=entropy, n_estimators=130, score=0.608, total=   0.2s\n",
      "[CV] criterion=entropy, n_estimators=140 .............................\n",
      "[CV] . criterion=entropy, n_estimators=140, score=0.762, total=   0.2s\n",
      "[CV] criterion=entropy, n_estimators=140 .............................\n",
      "[CV] . criterion=entropy, n_estimators=140, score=0.709, total=   0.2s\n",
      "[CV] criterion=entropy, n_estimators=140 .............................\n",
      "[CV] . criterion=entropy, n_estimators=140, score=0.658, total=   0.2s\n",
      "[CV] criterion=entropy, n_estimators=140 .............................\n",
      "[CV] . criterion=entropy, n_estimators=140, score=0.671, total=   0.2s\n",
      "[CV] criterion=entropy, n_estimators=140 .............................\n",
      "[CV] . criterion=entropy, n_estimators=140, score=0.608, total=   0.2s\n",
      "[CV] criterion=entropy, n_estimators=150 .............................\n",
      "[CV] . criterion=entropy, n_estimators=150, score=0.775, total=   0.2s\n",
      "[CV] criterion=entropy, n_estimators=150 .............................\n",
      "[CV] . criterion=entropy, n_estimators=150, score=0.722, total=   0.3s\n",
      "[CV] criterion=entropy, n_estimators=150 .............................\n",
      "[CV] . criterion=entropy, n_estimators=150, score=0.658, total=   0.2s\n",
      "[CV] criterion=entropy, n_estimators=150 .............................\n",
      "[CV] . criterion=entropy, n_estimators=150, score=0.671, total=   0.2s\n",
      "[CV] criterion=entropy, n_estimators=150 .............................\n",
      "[CV] . criterion=entropy, n_estimators=150, score=0.608, total=   0.2s\n"
     ]
    },
    {
     "name": "stderr",
     "output_type": "stream",
     "text": [
      "[Parallel(n_jobs=1)]: Done 150 out of 150 | elapsed:   22.1s finished\n"
     ]
    },
    {
     "data": {
      "text/plain": [
       "GridSearchCV(estimator=RandomForestClassifier(criterion='entropy',\n",
       "                                              n_estimators=20),\n",
       "             param_grid={'criterion': ['gini', 'entropy'],\n",
       "                         'n_estimators': [10, 20, 30, 40, 50, 60, 70, 80, 90,\n",
       "                                          100, 110, 120, 130, 140, 150]},\n",
       "             verbose=3)"
      ]
     },
     "execution_count": 106,
     "metadata": {},
     "output_type": "execute_result"
    }
   ],
   "source": [
    "grid_i.fit(data_imposter4_train, target_imposter4_train) "
   ]
  },
  {
   "cell_type": "code",
   "execution_count": 107,
   "metadata": {},
   "outputs": [
    {
     "name": "stdout",
     "output_type": "stream",
     "text": [
      "{'criterion': 'gini', 'n_estimators': 130}\n",
      "0.6993037974683545\n"
     ]
    }
   ],
   "source": [
    "print(grid_i.best_params_)\n",
    "print(grid_i.best_score_)"
   ]
  },
  {
   "cell_type": "markdown",
   "metadata": {},
   "source": [
    "## Crewmate Refinement"
   ]
  },
  {
   "cell_type": "code",
   "execution_count": 108,
   "metadata": {},
   "outputs": [],
   "source": [
    "param_grid_c = {\n",
    "    'n_estimators' : [10, 20, 30, 40, 50, 60, 70, 80, 90, 100, 110, 120, 130, 140, 150],\n",
    "    'criterion' : [\"gini\", \"entropy\"]\n",
    "}\n",
    "grid_c = GridSearchCV(rfc_crewmate5, param_grid_c, verbose = 3)"
   ]
  },
  {
   "cell_type": "code",
   "execution_count": 109,
   "metadata": {},
   "outputs": [
    {
     "name": "stdout",
     "output_type": "stream",
     "text": [
      "Fitting 5 folds for each of 30 candidates, totalling 150 fits\n",
      "[CV] criterion=gini, n_estimators=10 .................................\n",
      "[CV] ..... criterion=gini, n_estimators=10, score=0.551, total=   0.0s\n",
      "[CV] criterion=gini, n_estimators=10 .................................\n",
      "[CV] ..... criterion=gini, n_estimators=10, score=0.574, total=   0.0s\n",
      "[CV] criterion=gini, n_estimators=10 .................................\n",
      "[CV] ..... criterion=gini, n_estimators=10, score=0.572, total=   0.0s\n",
      "[CV] criterion=gini, n_estimators=10 .................................\n",
      "[CV] ..... criterion=gini, n_estimators=10, score=0.569, total=   0.0s\n",
      "[CV] criterion=gini, n_estimators=10 .................................\n",
      "[CV] ..... criterion=gini, n_estimators=10, score=0.536, total=   0.0s\n",
      "[CV] criterion=gini, n_estimators=20 .................................\n",
      "[CV] ..... criterion=gini, n_estimators=20, score=0.567, total=   0.0s\n",
      "[CV] criterion=gini, n_estimators=20 .................................\n"
     ]
    },
    {
     "name": "stderr",
     "output_type": "stream",
     "text": [
      "[Parallel(n_jobs=1)]: Using backend SequentialBackend with 1 concurrent workers.\n",
      "[Parallel(n_jobs=1)]: Done   1 out of   1 | elapsed:    0.0s remaining:    0.0s\n",
      "[Parallel(n_jobs=1)]: Done   2 out of   2 | elapsed:    0.0s remaining:    0.0s\n"
     ]
    },
    {
     "name": "stdout",
     "output_type": "stream",
     "text": [
      "[CV] ..... criterion=gini, n_estimators=20, score=0.557, total=   0.0s\n",
      "[CV] criterion=gini, n_estimators=20 .................................\n",
      "[CV] ..... criterion=gini, n_estimators=20, score=0.562, total=   0.1s\n",
      "[CV] criterion=gini, n_estimators=20 .................................\n",
      "[CV] ..... criterion=gini, n_estimators=20, score=0.559, total=   0.0s\n",
      "[CV] criterion=gini, n_estimators=20 .................................\n",
      "[CV] ..... criterion=gini, n_estimators=20, score=0.576, total=   0.0s\n",
      "[CV] criterion=gini, n_estimators=30 .................................\n",
      "[CV] ..... criterion=gini, n_estimators=30, score=0.570, total=   0.1s\n",
      "[CV] criterion=gini, n_estimators=30 .................................\n",
      "[CV] ..... criterion=gini, n_estimators=30, score=0.587, total=   0.1s\n",
      "[CV] criterion=gini, n_estimators=30 .................................\n",
      "[CV] ..... criterion=gini, n_estimators=30, score=0.569, total=   0.1s\n",
      "[CV] criterion=gini, n_estimators=30 .................................\n",
      "[CV] ..... criterion=gini, n_estimators=30, score=0.549, total=   0.1s\n",
      "[CV] criterion=gini, n_estimators=30 .................................\n",
      "[CV] ..... criterion=gini, n_estimators=30, score=0.543, total=   0.1s\n",
      "[CV] criterion=gini, n_estimators=40 .................................\n",
      "[CV] ..... criterion=gini, n_estimators=40, score=0.554, total=   0.1s\n",
      "[CV] criterion=gini, n_estimators=40 .................................\n",
      "[CV] ..... criterion=gini, n_estimators=40, score=0.551, total=   0.1s\n",
      "[CV] criterion=gini, n_estimators=40 .................................\n",
      "[CV] ..... criterion=gini, n_estimators=40, score=0.579, total=   0.1s\n",
      "[CV] criterion=gini, n_estimators=40 .................................\n",
      "[CV] ..... criterion=gini, n_estimators=40, score=0.553, total=   0.1s\n",
      "[CV] criterion=gini, n_estimators=40 .................................\n",
      "[CV] ..... criterion=gini, n_estimators=40, score=0.543, total=   0.1s\n",
      "[CV] criterion=gini, n_estimators=50 .................................\n",
      "[CV] ..... criterion=gini, n_estimators=50, score=0.607, total=   0.1s\n",
      "[CV] criterion=gini, n_estimators=50 .................................\n",
      "[CV] ..... criterion=gini, n_estimators=50, score=0.570, total=   0.1s\n",
      "[CV] criterion=gini, n_estimators=50 .................................\n",
      "[CV] ..... criterion=gini, n_estimators=50, score=0.589, total=   0.1s\n",
      "[CV] criterion=gini, n_estimators=50 .................................\n",
      "[CV] ..... criterion=gini, n_estimators=50, score=0.539, total=   0.1s\n",
      "[CV] criterion=gini, n_estimators=50 .................................\n",
      "[CV] ..... criterion=gini, n_estimators=50, score=0.553, total=   0.1s\n",
      "[CV] criterion=gini, n_estimators=60 .................................\n",
      "[CV] ..... criterion=gini, n_estimators=60, score=0.567, total=   0.1s\n",
      "[CV] criterion=gini, n_estimators=60 .................................\n",
      "[CV] ..... criterion=gini, n_estimators=60, score=0.554, total=   0.1s\n",
      "[CV] criterion=gini, n_estimators=60 .................................\n",
      "[CV] ..... criterion=gini, n_estimators=60, score=0.589, total=   0.1s\n",
      "[CV] criterion=gini, n_estimators=60 .................................\n",
      "[CV] ..... criterion=gini, n_estimators=60, score=0.549, total=   0.2s\n",
      "[CV] criterion=gini, n_estimators=60 .................................\n",
      "[CV] ..... criterion=gini, n_estimators=60, score=0.562, total=   0.1s\n",
      "[CV] criterion=gini, n_estimators=70 .................................\n",
      "[CV] ..... criterion=gini, n_estimators=70, score=0.577, total=   0.2s\n",
      "[CV] criterion=gini, n_estimators=70 .................................\n",
      "[CV] ..... criterion=gini, n_estimators=70, score=0.551, total=   0.1s\n",
      "[CV] criterion=gini, n_estimators=70 .................................\n",
      "[CV] ..... criterion=gini, n_estimators=70, score=0.569, total=   0.2s\n",
      "[CV] criterion=gini, n_estimators=70 .................................\n",
      "[CV] ..... criterion=gini, n_estimators=70, score=0.543, total=   0.1s\n",
      "[CV] criterion=gini, n_estimators=70 .................................\n",
      "[CV] ..... criterion=gini, n_estimators=70, score=0.549, total=   0.2s\n",
      "[CV] criterion=gini, n_estimators=80 .................................\n",
      "[CV] ..... criterion=gini, n_estimators=80, score=0.584, total=   0.2s\n",
      "[CV] criterion=gini, n_estimators=80 .................................\n",
      "[CV] ..... criterion=gini, n_estimators=80, score=0.557, total=   0.2s\n",
      "[CV] criterion=gini, n_estimators=80 .................................\n",
      "[CV] ..... criterion=gini, n_estimators=80, score=0.566, total=   0.2s\n",
      "[CV] criterion=gini, n_estimators=80 .................................\n",
      "[CV] ..... criterion=gini, n_estimators=80, score=0.536, total=   0.2s\n",
      "[CV] criterion=gini, n_estimators=80 .................................\n",
      "[CV] ..... criterion=gini, n_estimators=80, score=0.566, total=   0.2s\n",
      "[CV] criterion=gini, n_estimators=90 .................................\n",
      "[CV] ..... criterion=gini, n_estimators=90, score=0.570, total=   0.2s\n",
      "[CV] criterion=gini, n_estimators=90 .................................\n",
      "[CV] ..... criterion=gini, n_estimators=90, score=0.564, total=   0.2s\n",
      "[CV] criterion=gini, n_estimators=90 .................................\n",
      "[CV] ..... criterion=gini, n_estimators=90, score=0.562, total=   0.2s\n",
      "[CV] criterion=gini, n_estimators=90 .................................\n",
      "[CV] ..... criterion=gini, n_estimators=90, score=0.556, total=   0.2s\n",
      "[CV] criterion=gini, n_estimators=90 .................................\n",
      "[CV] ..... criterion=gini, n_estimators=90, score=0.546, total=   0.2s\n",
      "[CV] criterion=gini, n_estimators=100 ................................\n",
      "[CV] .... criterion=gini, n_estimators=100, score=0.574, total=   0.2s\n",
      "[CV] criterion=gini, n_estimators=100 ................................\n",
      "[CV] .... criterion=gini, n_estimators=100, score=0.557, total=   0.2s\n",
      "[CV] criterion=gini, n_estimators=100 ................................\n",
      "[CV] .... criterion=gini, n_estimators=100, score=0.602, total=   0.2s\n",
      "[CV] criterion=gini, n_estimators=100 ................................\n",
      "[CV] .... criterion=gini, n_estimators=100, score=0.556, total=   0.2s\n",
      "[CV] criterion=gini, n_estimators=100 ................................\n",
      "[CV] .... criterion=gini, n_estimators=100, score=0.546, total=   0.2s\n",
      "[CV] criterion=gini, n_estimators=110 ................................\n",
      "[CV] .... criterion=gini, n_estimators=110, score=0.567, total=   0.2s\n",
      "[CV] criterion=gini, n_estimators=110 ................................\n",
      "[CV] .... criterion=gini, n_estimators=110, score=0.564, total=   0.2s\n",
      "[CV] criterion=gini, n_estimators=110 ................................\n",
      "[CV] .... criterion=gini, n_estimators=110, score=0.586, total=   0.2s\n",
      "[CV] criterion=gini, n_estimators=110 ................................\n",
      "[CV] .... criterion=gini, n_estimators=110, score=0.539, total=   0.2s\n",
      "[CV] criterion=gini, n_estimators=110 ................................\n",
      "[CV] .... criterion=gini, n_estimators=110, score=0.543, total=   0.2s\n",
      "[CV] criterion=gini, n_estimators=120 ................................\n",
      "[CV] .... criterion=gini, n_estimators=120, score=0.554, total=   0.2s\n",
      "[CV] criterion=gini, n_estimators=120 ................................\n",
      "[CV] .... criterion=gini, n_estimators=120, score=0.548, total=   0.2s\n",
      "[CV] criterion=gini, n_estimators=120 ................................\n",
      "[CV] .... criterion=gini, n_estimators=120, score=0.569, total=   0.2s\n",
      "[CV] criterion=gini, n_estimators=120 ................................\n",
      "[CV] .... criterion=gini, n_estimators=120, score=0.562, total=   0.2s\n",
      "[CV] criterion=gini, n_estimators=120 ................................\n",
      "[CV] .... criterion=gini, n_estimators=120, score=0.556, total=   0.2s\n",
      "[CV] criterion=gini, n_estimators=130 ................................\n",
      "[CV] .... criterion=gini, n_estimators=130, score=0.574, total=   0.2s\n",
      "[CV] criterion=gini, n_estimators=130 ................................\n",
      "[CV] .... criterion=gini, n_estimators=130, score=0.557, total=   0.2s\n",
      "[CV] criterion=gini, n_estimators=130 ................................\n",
      "[CV] .... criterion=gini, n_estimators=130, score=0.592, total=   0.2s\n",
      "[CV] criterion=gini, n_estimators=130 ................................\n",
      "[CV] .... criterion=gini, n_estimators=130, score=0.559, total=   0.3s\n",
      "[CV] criterion=gini, n_estimators=130 ................................\n",
      "[CV] .... criterion=gini, n_estimators=130, score=0.566, total=   0.2s\n",
      "[CV] criterion=gini, n_estimators=140 ................................\n",
      "[CV] .... criterion=gini, n_estimators=140, score=0.584, total=   0.3s\n",
      "[CV] criterion=gini, n_estimators=140 ................................\n",
      "[CV] .... criterion=gini, n_estimators=140, score=0.554, total=   0.3s\n",
      "[CV] criterion=gini, n_estimators=140 ................................\n",
      "[CV] .... criterion=gini, n_estimators=140, score=0.582, total=   0.3s\n",
      "[CV] criterion=gini, n_estimators=140 ................................\n",
      "[CV] .... criterion=gini, n_estimators=140, score=0.539, total=   0.3s\n",
      "[CV] criterion=gini, n_estimators=140 ................................\n",
      "[CV] .... criterion=gini, n_estimators=140, score=0.562, total=   0.3s\n",
      "[CV] criterion=gini, n_estimators=150 ................................\n",
      "[CV] .... criterion=gini, n_estimators=150, score=0.564, total=   0.3s\n",
      "[CV] criterion=gini, n_estimators=150 ................................\n",
      "[CV] .... criterion=gini, n_estimators=150, score=0.570, total=   1.1s\n",
      "[CV] criterion=gini, n_estimators=150 ................................\n",
      "[CV] .... criterion=gini, n_estimators=150, score=0.582, total=   2.5s\n",
      "[CV] criterion=gini, n_estimators=150 ................................\n",
      "[CV] .... criterion=gini, n_estimators=150, score=0.549, total=   0.4s\n",
      "[CV] criterion=gini, n_estimators=150 ................................\n",
      "[CV] .... criterion=gini, n_estimators=150, score=0.556, total=   0.4s\n",
      "[CV] criterion=entropy, n_estimators=10 ..............................\n",
      "[CV] .. criterion=entropy, n_estimators=10, score=0.593, total=   0.0s\n",
      "[CV] criterion=entropy, n_estimators=10 ..............................\n",
      "[CV] .. criterion=entropy, n_estimators=10, score=0.525, total=   0.0s\n",
      "[CV] criterion=entropy, n_estimators=10 ..............................\n",
      "[CV] .. criterion=entropy, n_estimators=10, score=0.546, total=   0.0s\n",
      "[CV] criterion=entropy, n_estimators=10 ..............................\n",
      "[CV] .. criterion=entropy, n_estimators=10, score=0.549, total=   0.0s\n",
      "[CV] criterion=entropy, n_estimators=10 ..............................\n",
      "[CV] .. criterion=entropy, n_estimators=10, score=0.556, total=   0.0s\n",
      "[CV] criterion=entropy, n_estimators=20 ..............................\n",
      "[CV] .. criterion=entropy, n_estimators=20, score=0.564, total=   0.1s\n",
      "[CV] criterion=entropy, n_estimators=20 ..............................\n",
      "[CV] .. criterion=entropy, n_estimators=20, score=0.564, total=   0.1s\n",
      "[CV] criterion=entropy, n_estimators=20 ..............................\n",
      "[CV] .. criterion=entropy, n_estimators=20, score=0.576, total=   0.1s\n",
      "[CV] criterion=entropy, n_estimators=20 ..............................\n",
      "[CV] .. criterion=entropy, n_estimators=20, score=0.562, total=   0.1s\n",
      "[CV] criterion=entropy, n_estimators=20 ..............................\n",
      "[CV] .. criterion=entropy, n_estimators=20, score=0.513, total=   0.1s\n",
      "[CV] criterion=entropy, n_estimators=30 ..............................\n",
      "[CV] .. criterion=entropy, n_estimators=30, score=0.548, total=   0.1s\n",
      "[CV] criterion=entropy, n_estimators=30 ..............................\n",
      "[CV] .. criterion=entropy, n_estimators=30, score=0.554, total=   0.1s\n",
      "[CV] criterion=entropy, n_estimators=30 ..............................\n",
      "[CV] .. criterion=entropy, n_estimators=30, score=0.586, total=   0.1s\n",
      "[CV] criterion=entropy, n_estimators=30 ..............................\n",
      "[CV] .. criterion=entropy, n_estimators=30, score=0.549, total=   0.1s\n",
      "[CV] criterion=entropy, n_estimators=30 ..............................\n",
      "[CV] .. criterion=entropy, n_estimators=30, score=0.549, total=   0.1s\n",
      "[CV] criterion=entropy, n_estimators=40 ..............................\n",
      "[CV] .. criterion=entropy, n_estimators=40, score=0.567, total=   0.1s\n",
      "[CV] criterion=entropy, n_estimators=40 ..............................\n",
      "[CV] .. criterion=entropy, n_estimators=40, score=0.528, total=   0.1s\n",
      "[CV] criterion=entropy, n_estimators=40 ..............................\n",
      "[CV] .. criterion=entropy, n_estimators=40, score=0.582, total=   0.1s\n",
      "[CV] criterion=entropy, n_estimators=40 ..............................\n",
      "[CV] .. criterion=entropy, n_estimators=40, score=0.549, total=   0.1s\n",
      "[CV] criterion=entropy, n_estimators=40 ..............................\n",
      "[CV] .. criterion=entropy, n_estimators=40, score=0.549, total=   0.1s\n",
      "[CV] criterion=entropy, n_estimators=50 ..............................\n",
      "[CV] .. criterion=entropy, n_estimators=50, score=0.587, total=   0.1s\n",
      "[CV] criterion=entropy, n_estimators=50 ..............................\n",
      "[CV] .. criterion=entropy, n_estimators=50, score=0.534, total=   0.1s\n",
      "[CV] criterion=entropy, n_estimators=50 ..............................\n",
      "[CV] .. criterion=entropy, n_estimators=50, score=0.579, total=   0.2s\n",
      "[CV] criterion=entropy, n_estimators=50 ..............................\n",
      "[CV] .. criterion=entropy, n_estimators=50, score=0.549, total=   0.1s\n",
      "[CV] criterion=entropy, n_estimators=50 ..............................\n",
      "[CV] .. criterion=entropy, n_estimators=50, score=0.553, total=   0.2s\n",
      "[CV] criterion=entropy, n_estimators=60 ..............................\n",
      "[CV] .. criterion=entropy, n_estimators=60, score=0.577, total=   0.2s\n",
      "[CV] criterion=entropy, n_estimators=60 ..............................\n",
      "[CV] .. criterion=entropy, n_estimators=60, score=0.557, total=   0.2s\n",
      "[CV] criterion=entropy, n_estimators=60 ..............................\n",
      "[CV] .. criterion=entropy, n_estimators=60, score=0.599, total=   0.2s\n",
      "[CV] criterion=entropy, n_estimators=60 ..............................\n",
      "[CV] .. criterion=entropy, n_estimators=60, score=0.559, total=   0.2s\n",
      "[CV] criterion=entropy, n_estimators=60 ..............................\n",
      "[CV] .. criterion=entropy, n_estimators=60, score=0.572, total=   0.2s\n",
      "[CV] criterion=entropy, n_estimators=70 ..............................\n",
      "[CV] .. criterion=entropy, n_estimators=70, score=0.580, total=   0.2s\n",
      "[CV] criterion=entropy, n_estimators=70 ..............................\n",
      "[CV] .. criterion=entropy, n_estimators=70, score=0.567, total=   0.2s\n",
      "[CV] criterion=entropy, n_estimators=70 ..............................\n",
      "[CV] .. criterion=entropy, n_estimators=70, score=0.599, total=   0.2s\n",
      "[CV] criterion=entropy, n_estimators=70 ..............................\n",
      "[CV] .. criterion=entropy, n_estimators=70, score=0.556, total=   0.2s\n",
      "[CV] criterion=entropy, n_estimators=70 ..............................\n",
      "[CV] .. criterion=entropy, n_estimators=70, score=0.562, total=   0.2s\n",
      "[CV] criterion=entropy, n_estimators=80 ..............................\n",
      "[CV] .. criterion=entropy, n_estimators=80, score=0.590, total=   0.2s\n",
      "[CV] criterion=entropy, n_estimators=80 ..............................\n",
      "[CV] .. criterion=entropy, n_estimators=80, score=0.557, total=   0.2s\n",
      "[CV] criterion=entropy, n_estimators=80 ..............................\n",
      "[CV] .. criterion=entropy, n_estimators=80, score=0.579, total=   0.2s\n",
      "[CV] criterion=entropy, n_estimators=80 ..............................\n",
      "[CV] .. criterion=entropy, n_estimators=80, score=0.546, total=   0.2s\n",
      "[CV] criterion=entropy, n_estimators=80 ..............................\n",
      "[CV] .. criterion=entropy, n_estimators=80, score=0.549, total=   0.2s\n",
      "[CV] criterion=entropy, n_estimators=90 ..............................\n",
      "[CV] .. criterion=entropy, n_estimators=90, score=0.554, total=   0.3s\n",
      "[CV] criterion=entropy, n_estimators=90 ..............................\n",
      "[CV] .. criterion=entropy, n_estimators=90, score=0.567, total=   0.2s\n",
      "[CV] criterion=entropy, n_estimators=90 ..............................\n",
      "[CV] .. criterion=entropy, n_estimators=90, score=0.589, total=   0.3s\n",
      "[CV] criterion=entropy, n_estimators=90 ..............................\n",
      "[CV] .. criterion=entropy, n_estimators=90, score=0.562, total=   0.2s\n",
      "[CV] criterion=entropy, n_estimators=90 ..............................\n",
      "[CV] .. criterion=entropy, n_estimators=90, score=0.549, total=   0.3s\n",
      "[CV] criterion=entropy, n_estimators=100 .............................\n",
      "[CV] . criterion=entropy, n_estimators=100, score=0.564, total=   0.3s\n",
      "[CV] criterion=entropy, n_estimators=100 .............................\n",
      "[CV] . criterion=entropy, n_estimators=100, score=0.574, total=   0.3s\n",
      "[CV] criterion=entropy, n_estimators=100 .............................\n",
      "[CV] . criterion=entropy, n_estimators=100, score=0.605, total=   0.3s\n",
      "[CV] criterion=entropy, n_estimators=100 .............................\n",
      "[CV] . criterion=entropy, n_estimators=100, score=0.553, total=   0.3s\n",
      "[CV] criterion=entropy, n_estimators=100 .............................\n",
      "[CV] . criterion=entropy, n_estimators=100, score=0.546, total=   0.3s\n",
      "[CV] criterion=entropy, n_estimators=110 .............................\n",
      "[CV] . criterion=entropy, n_estimators=110, score=0.567, total=   0.3s\n",
      "[CV] criterion=entropy, n_estimators=110 .............................\n",
      "[CV] . criterion=entropy, n_estimators=110, score=0.548, total=   0.3s\n",
      "[CV] criterion=entropy, n_estimators=110 .............................\n",
      "[CV] . criterion=entropy, n_estimators=110, score=0.586, total=   0.3s\n",
      "[CV] criterion=entropy, n_estimators=110 .............................\n",
      "[CV] . criterion=entropy, n_estimators=110, score=0.543, total=   0.3s\n",
      "[CV] criterion=entropy, n_estimators=110 .............................\n",
      "[CV] . criterion=entropy, n_estimators=110, score=0.556, total=   0.3s\n",
      "[CV] criterion=entropy, n_estimators=120 .............................\n",
      "[CV] . criterion=entropy, n_estimators=120, score=0.570, total=   0.3s\n",
      "[CV] criterion=entropy, n_estimators=120 .............................\n",
      "[CV] . criterion=entropy, n_estimators=120, score=0.551, total=   0.3s\n",
      "[CV] criterion=entropy, n_estimators=120 .............................\n",
      "[CV] . criterion=entropy, n_estimators=120, score=0.595, total=   0.3s\n",
      "[CV] criterion=entropy, n_estimators=120 .............................\n",
      "[CV] . criterion=entropy, n_estimators=120, score=0.546, total=   0.3s\n",
      "[CV] criterion=entropy, n_estimators=120 .............................\n",
      "[CV] . criterion=entropy, n_estimators=120, score=0.546, total=   0.3s\n",
      "[CV] criterion=entropy, n_estimators=130 .............................\n",
      "[CV] . criterion=entropy, n_estimators=130, score=0.584, total=   0.3s\n",
      "[CV] criterion=entropy, n_estimators=130 .............................\n",
      "[CV] . criterion=entropy, n_estimators=130, score=0.574, total=   0.4s\n",
      "[CV] criterion=entropy, n_estimators=130 .............................\n",
      "[CV] . criterion=entropy, n_estimators=130, score=0.576, total=   0.3s\n",
      "[CV] criterion=entropy, n_estimators=130 .............................\n",
      "[CV] . criterion=entropy, n_estimators=130, score=0.543, total=   0.3s\n",
      "[CV] criterion=entropy, n_estimators=130 .............................\n",
      "[CV] . criterion=entropy, n_estimators=130, score=0.559, total=   0.3s\n",
      "[CV] criterion=entropy, n_estimators=140 .............................\n",
      "[CV] . criterion=entropy, n_estimators=140, score=0.564, total=   0.3s\n",
      "[CV] criterion=entropy, n_estimators=140 .............................\n",
      "[CV] . criterion=entropy, n_estimators=140, score=0.548, total=   0.3s\n",
      "[CV] criterion=entropy, n_estimators=140 .............................\n",
      "[CV] . criterion=entropy, n_estimators=140, score=0.589, total=   0.4s\n",
      "[CV] criterion=entropy, n_estimators=140 .............................\n",
      "[CV] . criterion=entropy, n_estimators=140, score=0.556, total=   0.3s\n",
      "[CV] criterion=entropy, n_estimators=140 .............................\n",
      "[CV] . criterion=entropy, n_estimators=140, score=0.559, total=   0.3s\n",
      "[CV] criterion=entropy, n_estimators=150 .............................\n",
      "[CV] . criterion=entropy, n_estimators=150, score=0.574, total=   0.4s\n",
      "[CV] criterion=entropy, n_estimators=150 .............................\n",
      "[CV] . criterion=entropy, n_estimators=150, score=0.534, total=   0.4s\n",
      "[CV] criterion=entropy, n_estimators=150 .............................\n",
      "[CV] . criterion=entropy, n_estimators=150, score=0.582, total=   0.4s\n",
      "[CV] criterion=entropy, n_estimators=150 .............................\n",
      "[CV] . criterion=entropy, n_estimators=150, score=0.556, total=   0.3s\n",
      "[CV] criterion=entropy, n_estimators=150 .............................\n",
      "[CV] . criterion=entropy, n_estimators=150, score=0.543, total=   0.4s\n"
     ]
    },
    {
     "name": "stderr",
     "output_type": "stream",
     "text": [
      "[Parallel(n_jobs=1)]: Done 150 out of 150 | elapsed:   31.2s finished\n"
     ]
    },
    {
     "data": {
      "text/plain": [
       "GridSearchCV(estimator=RandomForestClassifier(criterion='entropy',\n",
       "                                              n_estimators=50),\n",
       "             param_grid={'criterion': ['gini', 'entropy'],\n",
       "                         'n_estimators': [10, 20, 30, 40, 50, 60, 70, 80, 90,\n",
       "                                          100, 110, 120, 130, 140, 150]},\n",
       "             verbose=3)"
      ]
     },
     "execution_count": 109,
     "metadata": {},
     "output_type": "execute_result"
    }
   ],
   "source": [
    "grid_c.fit(data_crewmate5_train, target_crewmate5_train) "
   ]
  },
  {
   "cell_type": "code",
   "execution_count": 110,
   "metadata": {},
   "outputs": [
    {
     "name": "stdout",
     "output_type": "stream",
     "text": [
      "{'criterion': 'entropy', 'n_estimators': 60}\n",
      "0.5729378774805867\n"
     ]
    }
   ],
   "source": [
    "print(grid_c.best_params_)\n",
    "print(grid_c.best_score_)"
   ]
  },
  {
   "cell_type": "markdown",
   "metadata": {},
   "source": [
    "# Output Prediction Results"
   ]
  },
  {
   "cell_type": "code",
   "execution_count": 111,
   "metadata": {},
   "outputs": [],
   "source": [
    "file_path1 = os.path.join(\"Output Data\", \"imposter_predictions.csv\")\n",
    "file_path2 = os.path.join(\"Output Data\", \"imposter_predictions.html\")\n",
    "file_path3 = os.path.join(\"Output Data\", \"crewmate_predictions.csv\")\n",
    "file_path4 = os.path.join(\"Output Data\", \"crewmate_predictions.html\")"
   ]
  },
  {
   "cell_type": "code",
   "execution_count": 114,
   "metadata": {},
   "outputs": [],
   "source": [
    "rfc_predict_imposter4_df.to_csv(file_path1)\n",
    "rfc_predict_imposter4_df.to_html(file_path2)\n",
    "rfc_predict_crewmate5_df.to_csv(file_path3)\n",
    "rfc_predict_crewmate5_df.to_html(file_path4)"
   ]
  },
  {
   "cell_type": "code",
   "execution_count": null,
   "metadata": {},
   "outputs": [],
   "source": []
  }
 ],
 "metadata": {
  "kernelspec": {
   "display_name": "Python 3",
   "language": "python",
   "name": "python3"
  },
  "language_info": {
   "codemirror_mode": {
    "name": "ipython",
    "version": 3
   },
   "file_extension": ".py",
   "mimetype": "text/x-python",
   "name": "python",
   "nbconvert_exporter": "python",
   "pygments_lexer": "ipython3",
   "version": "3.8.5"
  }
 },
 "nbformat": 4,
 "nbformat_minor": 4
}
