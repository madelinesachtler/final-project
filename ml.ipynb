{
 "cells": [
  {
   "cell_type": "markdown",
   "metadata": {},
   "source": [
    "# Setting up the Notebook"
   ]
  },
  {
   "cell_type": "markdown",
   "metadata": {},
   "source": [
    "## Dependencies\n",
    "Loading in dependencies for the project.\n",
    "- **pandas**: Used for DataFrame wrangling\n",
    "- **os**: Used to define the filepath to load in data\n",
    "- **datetime**: Used for date/time conversions\n",
    "- **numpy**: Used for randomization and other\n",
    "- **sklearn tree**: Decision Tree Classifier function\n",
    "- **sklearn.ensemble RandomForestClassifier**: Random Forest Classifier function\n",
    "- **sklearn.preprocessing StandardScaler**: Used to standardize non-binary features"
   ]
  },
  {
   "cell_type": "code",
   "execution_count": 1,
   "metadata": {},
   "outputs": [],
   "source": [
    "import pandas as pd\n",
    "import os\n",
    "import numpy as np\n",
    "from sklearn import tree\n",
    "from sklearn.ensemble import RandomForestClassifier\n",
    "from sklearn.preprocessing import StandardScaler"
   ]
  },
  {
   "cell_type": "markdown",
   "metadata": {},
   "source": [
    "### Global Seed\n",
    "We will define the global seed that we will later use to randomly select training and testing groups.  \n",
    "We used *61518* but you can use whatever number you would like to vary your results."
   ]
  },
  {
   "cell_type": "code",
   "execution_count": 2,
   "metadata": {},
   "outputs": [],
   "source": [
    "global_seed = 61518"
   ]
  },
  {
   "cell_type": "code",
   "execution_count": 3,
   "metadata": {},
   "outputs": [],
   "source": [
    "np.random.seed(global_seed)"
   ]
  },
  {
   "cell_type": "markdown",
   "metadata": {},
   "source": [
    "## Load in our Machine Learning DataFrame\n",
    "We have a DataFrame that was built specifically for machine learning and other analytics. \n",
    "We load that in here."
   ]
  },
  {
   "cell_type": "code",
   "execution_count": 4,
   "metadata": {},
   "outputs": [],
   "source": [
    "file_to_load1 = os.path.join(\"Output Data\", \"ml_df.csv\")\n",
    "ml_df = pd.read_csv(file_to_load1)"
   ]
  },
  {
   "cell_type": "markdown",
   "metadata": {},
   "source": [
    "# Machine Learning\n",
    "Now that we have all necessary fields in a passable format, we will look to classify **Outcome** using a Decision Tree classifier."
   ]
  },
  {
   "cell_type": "markdown",
   "metadata": {},
   "source": [
    "## Create our training and testing groups\n",
    "To avoid having any one **User**'s game results used to predict their other game results, we will be randomly selecting 5 **User**s as the testing group.  \n",
    "This will cause there to be an imbalance between training and testing data, straying from a 4:1 ratio and between **Crewmate** and **Imposter** analysis. Given the explicit problem caused otherwise, we will use this method until a more appropriate method is determined."
   ]
  },
  {
   "cell_type": "markdown",
   "metadata": {},
   "source": [
    "### Create a list of users\n",
    "We will use this list to split our data into a training and test groups"
   ]
  },
  {
   "cell_type": "code",
   "execution_count": 5,
   "metadata": {},
   "outputs": [
    {
     "data": {
      "text/plain": [
       "[1,\n",
       " 2,\n",
       " 3,\n",
       " 4,\n",
       " 5,\n",
       " 6,\n",
       " 7,\n",
       " 8,\n",
       " 9,\n",
       " 10,\n",
       " 11,\n",
       " 12,\n",
       " 13,\n",
       " 14,\n",
       " 15,\n",
       " 16,\n",
       " 17,\n",
       " 18,\n",
       " 19,\n",
       " 20,\n",
       " 21,\n",
       " 22,\n",
       " 23,\n",
       " 24,\n",
       " 25,\n",
       " 26,\n",
       " 27,\n",
       " 28,\n",
       " 29]"
      ]
     },
     "execution_count": 5,
     "metadata": {},
     "output_type": "execute_result"
    }
   ],
   "source": [
    "user_list = np.arange(1, ml_df[\"User\"].astype(int).max() + 1, 1).tolist()\n",
    "user_list"
   ]
  },
  {
   "cell_type": "markdown",
   "metadata": {},
   "source": [
    "### Define groups\n",
    "We will define our test group first, specifying without replacement to avoid repetition.  \n",
    "We then define our training group by what is not in our test group."
   ]
  },
  {
   "cell_type": "code",
   "execution_count": 6,
   "metadata": {},
   "outputs": [
    {
     "data": {
      "text/plain": [
       "array([24, 10, 27, 19, 26])"
      ]
     },
     "execution_count": 6,
     "metadata": {},
     "output_type": "execute_result"
    }
   ],
   "source": [
    "test_list = np.random.choice(user_list, 5, replace = False)\n",
    "test_list"
   ]
  },
  {
   "cell_type": "code",
   "execution_count": 7,
   "metadata": {},
   "outputs": [
    {
     "data": {
      "text/plain": [
       "array([ 1,  2,  3,  4,  5,  6,  7,  8,  9, 11, 12, 13, 14, 15, 16, 17, 18,\n",
       "       20, 21, 22, 23, 25, 28, 29])"
      ]
     },
     "execution_count": 7,
     "metadata": {},
     "output_type": "execute_result"
    }
   ],
   "source": [
    "train_list = []\n",
    "for x in user_list:\n",
    "    if x not in test_list:\n",
    "        train_list.append(x)\n",
    "train_list = np.array(train_list)\n",
    "train_list"
   ]
  },
  {
   "cell_type": "markdown",
   "metadata": {},
   "source": [
    "Using our test and training lists, we split our data."
   ]
  },
  {
   "cell_type": "code",
   "execution_count": 8,
   "metadata": {},
   "outputs": [],
   "source": [
    "test_group = ml_df.loc[ml_df[\"User\"].astype(int).isin(test_list)]\n",
    "train_group = ml_df.loc[ml_df[\"User\"].astype(int).isin(train_list)]"
   ]
  },
  {
   "cell_type": "markdown",
   "metadata": {},
   "source": [
    "Split our groups between crewmates and imposters and drop unnecessary columns."
   ]
  },
  {
   "cell_type": "code",
   "execution_count": 9,
   "metadata": {},
   "outputs": [],
   "source": [
    "crewmate_test_df = test_group.loc[test_group[\"Team\"] == 1].reset_index(drop=True)\n",
    "crewmate_test_df.drop(columns = [\"Imposter Kills\"], inplace = True)\n",
    "crewmate_train_df = train_group.loc[train_group[\"Team\"] == 1].reset_index(drop=True)\n",
    "crewmate_train_df.drop(columns = [\"Imposter Kills\"], inplace = True)\n",
    "\n",
    "imposter_test_df = test_group.loc[test_group[\"Team\"] == 0].reset_index(drop=True)\n",
    "imposter_test_df.drop(columns = [\"Task Completed\", \"All Tasks Completed\", \"Sabotages Fixed\", \"Time to complete all tasks\", \"Murdered\"], inplace = True)\n",
    "imposter_train_df = train_group.loc[train_group[\"Team\"] == 0].reset_index(drop=True)\n",
    "imposter_train_df.drop(columns = [\"Task Completed\", \"All Tasks Completed\", \"Sabotages Fixed\", \"Time to complete all tasks\", \"Murdered\"], inplace = True)"
   ]
  },
  {
   "cell_type": "code",
   "execution_count": 10,
   "metadata": {},
   "outputs": [
    {
     "data": {
      "text/plain": [
       "Index(['User', 'Team', 'Outcome', 'Game Length', 'Task Completed',\n",
       "       'All Tasks Completed', 'Time to complete all tasks', 'Sabotages Fixed',\n",
       "       'Murdered', 'Ejected', 'Night', 'Morning', 'Afternoon', 'Evening'],\n",
       "      dtype='object')"
      ]
     },
     "execution_count": 10,
     "metadata": {},
     "output_type": "execute_result"
    }
   ],
   "source": [
    "crewmate_train_df.columns"
   ]
  },
  {
   "cell_type": "code",
   "execution_count": 11,
   "metadata": {},
   "outputs": [
    {
     "data": {
      "text/plain": [
       "Index(['User', 'Team', 'Outcome', 'Game Length', 'Imposter Kills', 'Ejected',\n",
       "       'Night', 'Morning', 'Afternoon', 'Evening'],\n",
       "      dtype='object')"
      ]
     },
     "execution_count": 11,
     "metadata": {},
     "output_type": "execute_result"
    }
   ],
   "source": [
    "imposter_train_df.columns"
   ]
  },
  {
   "cell_type": "markdown",
   "metadata": {},
   "source": [
    "# Scaling"
   ]
  },
  {
   "cell_type": "markdown",
   "metadata": {},
   "source": [
    "## Imposter Scaling"
   ]
  },
  {
   "cell_type": "code",
   "execution_count": 12,
   "metadata": {},
   "outputs": [],
   "source": [
    "target_imposter_train_df = imposter_train_df[\"Outcome\"]\n",
    "data_imposter_train_df = imposter_train_df[[\"Game Length\", \"Imposter Kills\", \"Ejected\", \"Night\", \"Morning\", \"Afternoon\", \"Evening\"]]\n",
    "\n",
    "target_imposter_test_df = imposter_test_df[\"Outcome\"]\n",
    "data_imposter_test_df = imposter_test_df[[\"Game Length\", \"Imposter Kills\", \"Ejected\", \"Night\", \"Morning\", \"Afternoon\", \"Evening\"]]"
   ]
  },
  {
   "cell_type": "code",
   "execution_count": 13,
   "metadata": {},
   "outputs": [],
   "source": [
    "data_imposter_train_val = StandardScaler().fit_transform(data_imposter_train_df.values)\n",
    "data_imposter_test_val = StandardScaler().fit_transform(data_imposter_test_df.values)"
   ]
  },
  {
   "cell_type": "code",
   "execution_count": 14,
   "metadata": {},
   "outputs": [],
   "source": [
    "data_i_scaler = StandardScaler().fit(data_imposter_train_val)"
   ]
  },
  {
   "cell_type": "code",
   "execution_count": 15,
   "metadata": {},
   "outputs": [],
   "source": [
    "scaled_data_imposter_train = data_i_scaler.transform(data_imposter_train_val)\n",
    "scaled_data_imposter_test = data_i_scaler.transform(data_imposter_test_val)"
   ]
  },
  {
   "cell_type": "code",
   "execution_count": 16,
   "metadata": {},
   "outputs": [],
   "source": [
    "scaled_data_imposter_train_df = pd.DataFrame(scaled_data_imposter_train, index=data_imposter_train_df.index, columns=data_imposter_train_df.columns)\n",
    "scaled_data_imposter_test_df = pd.DataFrame(scaled_data_imposter_test, index=data_imposter_test_df.index, columns=data_imposter_test_df.columns)"
   ]
  },
  {
   "cell_type": "code",
   "execution_count": 17,
   "metadata": {},
   "outputs": [],
   "source": [
    "imposter_train_df = pd.DataFrame({\n",
    "    'Outcome' : target_imposter_train_df,\n",
    "    'Game Length' : scaled_data_imposter_train_df[\"Game Length\"],\n",
    "    'Imposter Kills' : scaled_data_imposter_train_df[\"Imposter Kills\"],\n",
    "    'Ejected' : imposter_train_df[\"Ejected\"],\n",
    "    'Night' : imposter_train_df[\"Night\"],\n",
    "    'Morning' : imposter_train_df[\"Morning\"],\n",
    "    'Afternoon' : imposter_train_df[\"Afternoon\"],\n",
    "    'Evening' : imposter_train_df[\"Evening\"]\n",
    "})\n",
    "\n",
    "imposter_test_df = pd.DataFrame({\n",
    "    'Outcome' : target_imposter_test_df,\n",
    "    'Game Length' : scaled_data_imposter_test_df[\"Game Length\"],\n",
    "    'Imposter Kills' : scaled_data_imposter_test_df[\"Imposter Kills\"],\n",
    "    'Ejected' : imposter_test_df[\"Ejected\"],\n",
    "    'Night' : imposter_test_df[\"Night\"],\n",
    "    'Morning' : imposter_test_df[\"Morning\"],\n",
    "    'Afternoon' : imposter_test_df[\"Afternoon\"],\n",
    "    'Evening' : imposter_test_df[\"Evening\"]\n",
    "})"
   ]
  },
  {
   "cell_type": "markdown",
   "metadata": {},
   "source": [
    "## Crewmate Scaling"
   ]
  },
  {
   "cell_type": "code",
   "execution_count": 18,
   "metadata": {},
   "outputs": [],
   "source": [
    "target_crewmate_train_df = crewmate_train_df[\"Outcome\"]\n",
    "data_crewmate_train_df = crewmate_train_df[[\"Game Length\", \"Task Completed\", \"All Tasks Completed\", \"Sabotages Fixed\", \"Murdered\", \"Ejected\", \"Night\", \"Morning\", \"Afternoon\", \"Evening\"]]\n",
    "\n",
    "target_crewmate_test_df = crewmate_test_df[\"Outcome\"]\n",
    "data_crewmate_test_df = crewmate_test_df[[\"Game Length\", \"Task Completed\", \"All Tasks Completed\", \"Sabotages Fixed\", \"Murdered\", \"Ejected\", \"Night\", \"Morning\", \"Afternoon\", \"Evening\"]]"
   ]
  },
  {
   "cell_type": "code",
   "execution_count": 19,
   "metadata": {},
   "outputs": [],
   "source": [
    "data_crewmate_train_val = StandardScaler().fit_transform(data_crewmate_train_df.values)\n",
    "data_crewmate_test_val = StandardScaler().fit_transform(data_crewmate_test_df.values)"
   ]
  },
  {
   "cell_type": "code",
   "execution_count": 20,
   "metadata": {},
   "outputs": [],
   "source": [
    "data_c_scaler = StandardScaler().fit(data_crewmate_train_val)"
   ]
  },
  {
   "cell_type": "code",
   "execution_count": 21,
   "metadata": {},
   "outputs": [],
   "source": [
    "scaled_data_crewmate_train = data_c_scaler.transform(data_crewmate_train_val)\n",
    "scaled_data_crewmate_test = data_c_scaler.transform(data_crewmate_test_val)"
   ]
  },
  {
   "cell_type": "code",
   "execution_count": 22,
   "metadata": {},
   "outputs": [],
   "source": [
    "scaled_data_crewmate_train_df = pd.DataFrame(scaled_data_crewmate_train, index=data_crewmate_train_df.index, columns=data_crewmate_train_df.columns)\n",
    "scaled_data_crewmate_test_df = pd.DataFrame(scaled_data_crewmate_test, index=data_crewmate_test_df.index, columns=data_crewmate_test_df.columns)"
   ]
  },
  {
   "cell_type": "code",
   "execution_count": 23,
   "metadata": {},
   "outputs": [],
   "source": [
    "crewmate_train_df = pd.DataFrame({\n",
    "    'Outcome' : target_crewmate_train_df,\n",
    "    'Game Length' : scaled_data_crewmate_train_df[\"Game Length\"],\n",
    "    'Task Completed' : scaled_data_crewmate_train_df[\"Task Completed\"],\n",
    "    'All Tasks Completed' : scaled_data_crewmate_train_df[\"All Tasks Completed\"],\n",
    "    'Sabotages Fixed' : scaled_data_crewmate_train_df[\"Sabotages Fixed\"],\n",
    "    'Murdered' : crewmate_train_df[\"Murdered\"],\n",
    "    'Ejected' : crewmate_train_df[\"Ejected\"],\n",
    "    'Night' : crewmate_train_df[\"Night\"],\n",
    "    'Morning' : crewmate_train_df[\"Morning\"],\n",
    "    'Afternoon' : crewmate_train_df[\"Afternoon\"],\n",
    "    'Evening' : crewmate_train_df[\"Evening\"]\n",
    "})\n",
    "\n",
    "crewmate_test_df = pd.DataFrame({\n",
    "    'Outcome' : target_crewmate_test_df,\n",
    "    'Game Length' : scaled_data_crewmate_test_df[\"Game Length\"],\n",
    "    'Task Completed' : scaled_data_crewmate_test_df[\"Task Completed\"],\n",
    "    'All Tasks Completed' : scaled_data_crewmate_test_df[\"All Tasks Completed\"],\n",
    "    'Sabotages Fixed' : scaled_data_crewmate_test_df[\"Sabotages Fixed\"],\n",
    "    'Murdered' : crewmate_test_df[\"Murdered\"],\n",
    "    'Ejected' : crewmate_test_df[\"Ejected\"],\n",
    "    'Night' : crewmate_test_df[\"Night\"],\n",
    "    'Morning' : crewmate_test_df[\"Morning\"],\n",
    "    'Afternoon' : crewmate_test_df[\"Afternoon\"],\n",
    "    'Evening' : crewmate_test_df[\"Evening\"]\n",
    "})"
   ]
  },
  {
   "cell_type": "markdown",
   "metadata": {},
   "source": [
    "## Machine Learning - Imposter\n",
    "We start by defining an appropriate model to predict wins or losses for **Imposter**s."
   ]
  },
  {
   "cell_type": "markdown",
   "metadata": {},
   "source": [
    "### Define Model #1\n",
    "We will have to specify what it is that we are trying to predict and with what data.  \n",
    "To start we will include all applicable features and adjust to improve accuracy.\n",
    "- **Target**: Outcome\n",
    "- **Data**: Game Length, Imposter Kills, Ejected, Night, Morning, Afternoon, Evening"
   ]
  },
  {
   "cell_type": "code",
   "execution_count": 24,
   "metadata": {},
   "outputs": [],
   "source": [
    "target_imposter1_train = imposter_train_df[\"Outcome\"]\n",
    "data_imposter1_train = imposter_train_df[[\"Game Length\", \"Imposter Kills\", \"Ejected\", \"Night\", \"Morning\", \"Afternoon\", \"Evening\"]]\n",
    "\n",
    "target_imposter1_test = imposter_test_df[\"Outcome\"]\n",
    "data_imposter1_test = imposter_test_df[[\"Game Length\", \"Imposter Kills\", \"Ejected\", \"Night\", \"Morning\", \"Afternoon\", \"Evening\"]]\n",
    "\n",
    "features_imposter1 = data_imposter1_train.columns"
   ]
  },
  {
   "cell_type": "markdown",
   "metadata": {},
   "source": [
    "### Decision Tree Classification - Model #1\n",
    "We perform a decision tree classification in order to assess the validity of our features."
   ]
  },
  {
   "cell_type": "code",
   "execution_count": 25,
   "metadata": {},
   "outputs": [
    {
     "data": {
      "text/plain": [
       "0.6428571428571429"
      ]
     },
     "execution_count": 25,
     "metadata": {},
     "output_type": "execute_result"
    }
   ],
   "source": [
    "dtc_imposter1 = tree.DecisionTreeClassifier()\n",
    "dtc_imposter1 = dtc_imposter1.fit(data_imposter1_train, target_imposter1_train)\n",
    "dtc_imposter1.score(data_imposter1_test, target_imposter1_test)"
   ]
  },
  {
   "cell_type": "code",
   "execution_count": 26,
   "metadata": {},
   "outputs": [
    {
     "data": {
      "text/plain": [
       "[(0.6077808620934279, 'Game Length'),\n",
       " (0.18313495173502667, 'Ejected'),\n",
       " (0.11753200699568495, 'Imposter Kills'),\n",
       " (0.0327158563880437, 'Afternoon'),\n",
       " (0.023444401000083485, 'Evening'),\n",
       " (0.02232557970206204, 'Morning'),\n",
       " (0.01306634208567141, 'Night')]"
      ]
     },
     "execution_count": 26,
     "metadata": {},
     "output_type": "execute_result"
    }
   ],
   "source": [
    "sorted(zip(dtc_imposter1.feature_importances_, features_imposter1), reverse=True)"
   ]
  },
  {
   "cell_type": "code",
   "execution_count": 27,
   "metadata": {},
   "outputs": [
    {
     "data": {
      "text/html": [
       "<div>\n",
       "<style scoped>\n",
       "    .dataframe tbody tr th:only-of-type {\n",
       "        vertical-align: middle;\n",
       "    }\n",
       "\n",
       "    .dataframe tbody tr th {\n",
       "        vertical-align: top;\n",
       "    }\n",
       "\n",
       "    .dataframe thead th {\n",
       "        text-align: right;\n",
       "    }\n",
       "</style>\n",
       "<table border=\"1\" class=\"dataframe\">\n",
       "  <thead>\n",
       "    <tr style=\"text-align: right;\">\n",
       "      <th></th>\n",
       "      <th>Prediction_i1_dtc</th>\n",
       "      <th>Actual_i1_dtc</th>\n",
       "      <th>Equals_i1_dtc</th>\n",
       "    </tr>\n",
       "  </thead>\n",
       "  <tbody>\n",
       "    <tr>\n",
       "      <th>0</th>\n",
       "      <td>1</td>\n",
       "      <td>0</td>\n",
       "      <td>False</td>\n",
       "    </tr>\n",
       "    <tr>\n",
       "      <th>1</th>\n",
       "      <td>0</td>\n",
       "      <td>0</td>\n",
       "      <td>True</td>\n",
       "    </tr>\n",
       "    <tr>\n",
       "      <th>2</th>\n",
       "      <td>0</td>\n",
       "      <td>0</td>\n",
       "      <td>True</td>\n",
       "    </tr>\n",
       "    <tr>\n",
       "      <th>3</th>\n",
       "      <td>0</td>\n",
       "      <td>0</td>\n",
       "      <td>True</td>\n",
       "    </tr>\n",
       "    <tr>\n",
       "      <th>4</th>\n",
       "      <td>0</td>\n",
       "      <td>1</td>\n",
       "      <td>False</td>\n",
       "    </tr>\n",
       "    <tr>\n",
       "      <th>...</th>\n",
       "      <td>...</td>\n",
       "      <td>...</td>\n",
       "      <td>...</td>\n",
       "    </tr>\n",
       "    <tr>\n",
       "      <th>65</th>\n",
       "      <td>0</td>\n",
       "      <td>0</td>\n",
       "      <td>True</td>\n",
       "    </tr>\n",
       "    <tr>\n",
       "      <th>66</th>\n",
       "      <td>0</td>\n",
       "      <td>0</td>\n",
       "      <td>True</td>\n",
       "    </tr>\n",
       "    <tr>\n",
       "      <th>67</th>\n",
       "      <td>0</td>\n",
       "      <td>1</td>\n",
       "      <td>False</td>\n",
       "    </tr>\n",
       "    <tr>\n",
       "      <th>68</th>\n",
       "      <td>0</td>\n",
       "      <td>1</td>\n",
       "      <td>False</td>\n",
       "    </tr>\n",
       "    <tr>\n",
       "      <th>69</th>\n",
       "      <td>1</td>\n",
       "      <td>1</td>\n",
       "      <td>True</td>\n",
       "    </tr>\n",
       "  </tbody>\n",
       "</table>\n",
       "<p>70 rows × 3 columns</p>\n",
       "</div>"
      ],
      "text/plain": [
       "    Prediction_i1_dtc  Actual_i1_dtc  Equals_i1_dtc\n",
       "0                   1              0          False\n",
       "1                   0              0           True\n",
       "2                   0              0           True\n",
       "3                   0              0           True\n",
       "4                   0              1          False\n",
       "..                ...            ...            ...\n",
       "65                  0              0           True\n",
       "66                  0              0           True\n",
       "67                  0              1          False\n",
       "68                  0              1          False\n",
       "69                  1              1           True\n",
       "\n",
       "[70 rows x 3 columns]"
      ]
     },
     "execution_count": 27,
     "metadata": {},
     "output_type": "execute_result"
    }
   ],
   "source": [
    "dtc_predict_imposter1_df = pd.DataFrame({\n",
    "    \"Prediction_i1_dtc\" : dtc_imposter1.predict(data_imposter1_test),\n",
    "    \"Actual_i1_dtc\" : target_imposter1_test\n",
    "})\n",
    "dtc_predict_imposter1_df[\"Equals_i1_dtc\"] = dtc_predict_imposter1_df[\"Prediction_i1_dtc\"].eq(dtc_predict_imposter1_df[\"Actual_i1_dtc\"])\n",
    "dtc_predict_imposter1_df"
   ]
  },
  {
   "cell_type": "code",
   "execution_count": 28,
   "metadata": {},
   "outputs": [
    {
     "data": {
      "text/plain": [
       "True     45\n",
       "False    25\n",
       "Name: Equals_i1_dtc, dtype: int64"
      ]
     },
     "execution_count": 28,
     "metadata": {},
     "output_type": "execute_result"
    }
   ],
   "source": [
    "dtc_predict_imposter1_df[\"Equals_i1_dtc\"].value_counts()"
   ]
  },
  {
   "cell_type": "markdown",
   "metadata": {},
   "source": [
    "### Random Forest Classification - Model #1\n",
    "We perform a random forest classification in order to assess the validity of our features."
   ]
  },
  {
   "cell_type": "code",
   "execution_count": 29,
   "metadata": {},
   "outputs": [
    {
     "data": {
      "text/plain": [
       "0.6714285714285714"
      ]
     },
     "execution_count": 29,
     "metadata": {},
     "output_type": "execute_result"
    }
   ],
   "source": [
    "rfc_imposter1 = RandomForestClassifier()\n",
    "rfc_imposter1 = rfc_imposter1.fit(data_imposter1_train, target_imposter1_train)\n",
    "rfc_imposter1.score(data_imposter1_test, target_imposter1_test)"
   ]
  },
  {
   "cell_type": "code",
   "execution_count": 30,
   "metadata": {},
   "outputs": [
    {
     "data": {
      "text/plain": [
       "[(0.646790528064293, 'Game Length'),\n",
       " (0.18130321214056458, 'Ejected'),\n",
       " (0.11693955321110565, 'Imposter Kills'),\n",
       " (0.01558925325201164, 'Night'),\n",
       " (0.01460442146592011, 'Evening'),\n",
       " (0.013620398689973489, 'Morning'),\n",
       " (0.011152633176131563, 'Afternoon')]"
      ]
     },
     "execution_count": 30,
     "metadata": {},
     "output_type": "execute_result"
    }
   ],
   "source": [
    "sorted(zip(rfc_imposter1.feature_importances_, features_imposter1), reverse=True)"
   ]
  },
  {
   "cell_type": "code",
   "execution_count": 31,
   "metadata": {},
   "outputs": [
    {
     "data": {
      "text/html": [
       "<div>\n",
       "<style scoped>\n",
       "    .dataframe tbody tr th:only-of-type {\n",
       "        vertical-align: middle;\n",
       "    }\n",
       "\n",
       "    .dataframe tbody tr th {\n",
       "        vertical-align: top;\n",
       "    }\n",
       "\n",
       "    .dataframe thead th {\n",
       "        text-align: right;\n",
       "    }\n",
       "</style>\n",
       "<table border=\"1\" class=\"dataframe\">\n",
       "  <thead>\n",
       "    <tr style=\"text-align: right;\">\n",
       "      <th></th>\n",
       "      <th>Prediction_i1_rfc</th>\n",
       "      <th>Actual_i1_rfc</th>\n",
       "      <th>Equals_i1_rfc</th>\n",
       "    </tr>\n",
       "  </thead>\n",
       "  <tbody>\n",
       "    <tr>\n",
       "      <th>0</th>\n",
       "      <td>1</td>\n",
       "      <td>0</td>\n",
       "      <td>False</td>\n",
       "    </tr>\n",
       "    <tr>\n",
       "      <th>1</th>\n",
       "      <td>0</td>\n",
       "      <td>0</td>\n",
       "      <td>True</td>\n",
       "    </tr>\n",
       "    <tr>\n",
       "      <th>2</th>\n",
       "      <td>0</td>\n",
       "      <td>0</td>\n",
       "      <td>True</td>\n",
       "    </tr>\n",
       "    <tr>\n",
       "      <th>3</th>\n",
       "      <td>0</td>\n",
       "      <td>0</td>\n",
       "      <td>True</td>\n",
       "    </tr>\n",
       "    <tr>\n",
       "      <th>4</th>\n",
       "      <td>0</td>\n",
       "      <td>1</td>\n",
       "      <td>False</td>\n",
       "    </tr>\n",
       "    <tr>\n",
       "      <th>...</th>\n",
       "      <td>...</td>\n",
       "      <td>...</td>\n",
       "      <td>...</td>\n",
       "    </tr>\n",
       "    <tr>\n",
       "      <th>65</th>\n",
       "      <td>0</td>\n",
       "      <td>0</td>\n",
       "      <td>True</td>\n",
       "    </tr>\n",
       "    <tr>\n",
       "      <th>66</th>\n",
       "      <td>0</td>\n",
       "      <td>0</td>\n",
       "      <td>True</td>\n",
       "    </tr>\n",
       "    <tr>\n",
       "      <th>67</th>\n",
       "      <td>0</td>\n",
       "      <td>1</td>\n",
       "      <td>False</td>\n",
       "    </tr>\n",
       "    <tr>\n",
       "      <th>68</th>\n",
       "      <td>0</td>\n",
       "      <td>1</td>\n",
       "      <td>False</td>\n",
       "    </tr>\n",
       "    <tr>\n",
       "      <th>69</th>\n",
       "      <td>1</td>\n",
       "      <td>1</td>\n",
       "      <td>True</td>\n",
       "    </tr>\n",
       "  </tbody>\n",
       "</table>\n",
       "<p>70 rows × 3 columns</p>\n",
       "</div>"
      ],
      "text/plain": [
       "    Prediction_i1_rfc  Actual_i1_rfc  Equals_i1_rfc\n",
       "0                   1              0          False\n",
       "1                   0              0           True\n",
       "2                   0              0           True\n",
       "3                   0              0           True\n",
       "4                   0              1          False\n",
       "..                ...            ...            ...\n",
       "65                  0              0           True\n",
       "66                  0              0           True\n",
       "67                  0              1          False\n",
       "68                  0              1          False\n",
       "69                  1              1           True\n",
       "\n",
       "[70 rows x 3 columns]"
      ]
     },
     "execution_count": 31,
     "metadata": {},
     "output_type": "execute_result"
    }
   ],
   "source": [
    "rfc_predict_imposter1_df = pd.DataFrame({\n",
    "    \"Prediction_i1_rfc\" : rfc_imposter1.predict(data_imposter1_test),\n",
    "    \"Actual_i1_rfc\" : target_imposter1_test\n",
    "})\n",
    "rfc_predict_imposter1_df[\"Equals_i1_rfc\"] = rfc_predict_imposter1_df[\"Prediction_i1_rfc\"].eq(rfc_predict_imposter1_df[\"Actual_i1_rfc\"])\n",
    "rfc_predict_imposter1_df"
   ]
  },
  {
   "cell_type": "code",
   "execution_count": 32,
   "metadata": {},
   "outputs": [
    {
     "data": {
      "text/plain": [
       "True     47\n",
       "False    23\n",
       "Name: Equals_i1_rfc, dtype: int64"
      ]
     },
     "execution_count": 32,
     "metadata": {},
     "output_type": "execute_result"
    }
   ],
   "source": [
    "rfc_predict_imposter1_df[\"Equals_i1_rfc\"].value_counts()"
   ]
  },
  {
   "cell_type": "markdown",
   "metadata": {},
   "source": [
    "### Define Model #2\n",
    "We will try dropping all **Time of Day** features as they appeared to contribute very little in our more accurate model (Random Forest Classification).\n",
    "- **Target**: Outcome\n",
    "- **Data**: Game Length, Imposter Kills, Ejected"
   ]
  },
  {
   "cell_type": "code",
   "execution_count": 33,
   "metadata": {},
   "outputs": [],
   "source": [
    "target_imposter2_train = imposter_train_df[\"Outcome\"]\n",
    "data_imposter2_train = imposter_train_df[[\"Game Length\", \"Imposter Kills\", \"Ejected\"]]\n",
    "\n",
    "target_imposter2_test = imposter_test_df[\"Outcome\"]\n",
    "data_imposter2_test = imposter_test_df[[\"Game Length\", \"Imposter Kills\", \"Ejected\"]]\n",
    "\n",
    "features_imposter2 = data_imposter2_train.columns"
   ]
  },
  {
   "cell_type": "markdown",
   "metadata": {},
   "source": [
    "### Decision Tree Classification - Model #2\n",
    "We perform a decision tree classification in order to assess the validity of our features."
   ]
  },
  {
   "cell_type": "code",
   "execution_count": 34,
   "metadata": {},
   "outputs": [
    {
     "data": {
      "text/plain": [
       "0.5571428571428572"
      ]
     },
     "execution_count": 34,
     "metadata": {},
     "output_type": "execute_result"
    }
   ],
   "source": [
    "dtc_imposter2 = tree.DecisionTreeClassifier()\n",
    "dtc_imposter2 = dtc_imposter2.fit(data_imposter2_train, target_imposter2_train)\n",
    "dtc_imposter2.score(data_imposter2_test, target_imposter2_test)"
   ]
  },
  {
   "cell_type": "code",
   "execution_count": 35,
   "metadata": {},
   "outputs": [
    {
     "data": {
      "text/plain": [
       "[(0.7123858043026532, 'Game Length'),\n",
       " (0.18697918395803603, 'Ejected'),\n",
       " (0.10063501173931079, 'Imposter Kills')]"
      ]
     },
     "execution_count": 35,
     "metadata": {},
     "output_type": "execute_result"
    }
   ],
   "source": [
    "sorted(zip(dtc_imposter2.feature_importances_, features_imposter2), reverse=True)"
   ]
  },
  {
   "cell_type": "code",
   "execution_count": 36,
   "metadata": {},
   "outputs": [
    {
     "data": {
      "text/html": [
       "<div>\n",
       "<style scoped>\n",
       "    .dataframe tbody tr th:only-of-type {\n",
       "        vertical-align: middle;\n",
       "    }\n",
       "\n",
       "    .dataframe tbody tr th {\n",
       "        vertical-align: top;\n",
       "    }\n",
       "\n",
       "    .dataframe thead th {\n",
       "        text-align: right;\n",
       "    }\n",
       "</style>\n",
       "<table border=\"1\" class=\"dataframe\">\n",
       "  <thead>\n",
       "    <tr style=\"text-align: right;\">\n",
       "      <th></th>\n",
       "      <th>Prediction_i2_dtc</th>\n",
       "      <th>Actual_i2_dtc</th>\n",
       "      <th>Equals_i2_dtc</th>\n",
       "    </tr>\n",
       "  </thead>\n",
       "  <tbody>\n",
       "    <tr>\n",
       "      <th>0</th>\n",
       "      <td>1</td>\n",
       "      <td>0</td>\n",
       "      <td>False</td>\n",
       "    </tr>\n",
       "    <tr>\n",
       "      <th>1</th>\n",
       "      <td>0</td>\n",
       "      <td>0</td>\n",
       "      <td>True</td>\n",
       "    </tr>\n",
       "    <tr>\n",
       "      <th>2</th>\n",
       "      <td>0</td>\n",
       "      <td>0</td>\n",
       "      <td>True</td>\n",
       "    </tr>\n",
       "    <tr>\n",
       "      <th>3</th>\n",
       "      <td>0</td>\n",
       "      <td>0</td>\n",
       "      <td>True</td>\n",
       "    </tr>\n",
       "    <tr>\n",
       "      <th>4</th>\n",
       "      <td>0</td>\n",
       "      <td>1</td>\n",
       "      <td>False</td>\n",
       "    </tr>\n",
       "    <tr>\n",
       "      <th>...</th>\n",
       "      <td>...</td>\n",
       "      <td>...</td>\n",
       "      <td>...</td>\n",
       "    </tr>\n",
       "    <tr>\n",
       "      <th>65</th>\n",
       "      <td>0</td>\n",
       "      <td>0</td>\n",
       "      <td>True</td>\n",
       "    </tr>\n",
       "    <tr>\n",
       "      <th>66</th>\n",
       "      <td>0</td>\n",
       "      <td>0</td>\n",
       "      <td>True</td>\n",
       "    </tr>\n",
       "    <tr>\n",
       "      <th>67</th>\n",
       "      <td>0</td>\n",
       "      <td>1</td>\n",
       "      <td>False</td>\n",
       "    </tr>\n",
       "    <tr>\n",
       "      <th>68</th>\n",
       "      <td>0</td>\n",
       "      <td>1</td>\n",
       "      <td>False</td>\n",
       "    </tr>\n",
       "    <tr>\n",
       "      <th>69</th>\n",
       "      <td>1</td>\n",
       "      <td>1</td>\n",
       "      <td>True</td>\n",
       "    </tr>\n",
       "  </tbody>\n",
       "</table>\n",
       "<p>70 rows × 3 columns</p>\n",
       "</div>"
      ],
      "text/plain": [
       "    Prediction_i2_dtc  Actual_i2_dtc  Equals_i2_dtc\n",
       "0                   1              0          False\n",
       "1                   0              0           True\n",
       "2                   0              0           True\n",
       "3                   0              0           True\n",
       "4                   0              1          False\n",
       "..                ...            ...            ...\n",
       "65                  0              0           True\n",
       "66                  0              0           True\n",
       "67                  0              1          False\n",
       "68                  0              1          False\n",
       "69                  1              1           True\n",
       "\n",
       "[70 rows x 3 columns]"
      ]
     },
     "execution_count": 36,
     "metadata": {},
     "output_type": "execute_result"
    }
   ],
   "source": [
    "dtc_predict_imposter2_df = pd.DataFrame({\n",
    "    \"Prediction_i2_dtc\" : dtc_imposter2.predict(data_imposter2_test),\n",
    "    \"Actual_i2_dtc\" : target_imposter2_test\n",
    "})\n",
    "dtc_predict_imposter2_df[\"Equals_i2_dtc\"] = dtc_predict_imposter2_df[\"Prediction_i2_dtc\"].eq(dtc_predict_imposter2_df[\"Actual_i2_dtc\"])\n",
    "dtc_predict_imposter2_df"
   ]
  },
  {
   "cell_type": "code",
   "execution_count": 37,
   "metadata": {},
   "outputs": [
    {
     "data": {
      "text/plain": [
       "True     39\n",
       "False    31\n",
       "Name: Equals_i2_dtc, dtype: int64"
      ]
     },
     "execution_count": 37,
     "metadata": {},
     "output_type": "execute_result"
    }
   ],
   "source": [
    "dtc_predict_imposter2_df[\"Equals_i2_dtc\"].value_counts()"
   ]
  },
  {
   "cell_type": "markdown",
   "metadata": {},
   "source": [
    "### Random Forest Classification - Model #2\n",
    "We perform a random forest classification in order to assess the validity of our features."
   ]
  },
  {
   "cell_type": "code",
   "execution_count": 38,
   "metadata": {},
   "outputs": [
    {
     "data": {
      "text/plain": [
       "0.5714285714285714"
      ]
     },
     "execution_count": 38,
     "metadata": {},
     "output_type": "execute_result"
    }
   ],
   "source": [
    "rfc_imposter2 = RandomForestClassifier()\n",
    "rfc_imposter2 = rfc_imposter2.fit(data_imposter2_train, target_imposter2_train)\n",
    "rfc_imposter2.score(data_imposter2_test, target_imposter2_test)"
   ]
  },
  {
   "cell_type": "code",
   "execution_count": 39,
   "metadata": {},
   "outputs": [
    {
     "data": {
      "text/plain": [
       "[(0.7257980196773609, 'Game Length'),\n",
       " (0.1848321851650571, 'Ejected'),\n",
       " (0.08936979515758196, 'Imposter Kills')]"
      ]
     },
     "execution_count": 39,
     "metadata": {},
     "output_type": "execute_result"
    }
   ],
   "source": [
    "sorted(zip(rfc_imposter2.feature_importances_, features_imposter2), reverse=True)"
   ]
  },
  {
   "cell_type": "code",
   "execution_count": 40,
   "metadata": {},
   "outputs": [
    {
     "data": {
      "text/html": [
       "<div>\n",
       "<style scoped>\n",
       "    .dataframe tbody tr th:only-of-type {\n",
       "        vertical-align: middle;\n",
       "    }\n",
       "\n",
       "    .dataframe tbody tr th {\n",
       "        vertical-align: top;\n",
       "    }\n",
       "\n",
       "    .dataframe thead th {\n",
       "        text-align: right;\n",
       "    }\n",
       "</style>\n",
       "<table border=\"1\" class=\"dataframe\">\n",
       "  <thead>\n",
       "    <tr style=\"text-align: right;\">\n",
       "      <th></th>\n",
       "      <th>Prediction_i2_rfc</th>\n",
       "      <th>Actual_i2_rfc</th>\n",
       "      <th>Equals_i2_rfc</th>\n",
       "    </tr>\n",
       "  </thead>\n",
       "  <tbody>\n",
       "    <tr>\n",
       "      <th>0</th>\n",
       "      <td>1</td>\n",
       "      <td>0</td>\n",
       "      <td>False</td>\n",
       "    </tr>\n",
       "    <tr>\n",
       "      <th>1</th>\n",
       "      <td>0</td>\n",
       "      <td>0</td>\n",
       "      <td>True</td>\n",
       "    </tr>\n",
       "    <tr>\n",
       "      <th>2</th>\n",
       "      <td>0</td>\n",
       "      <td>0</td>\n",
       "      <td>True</td>\n",
       "    </tr>\n",
       "    <tr>\n",
       "      <th>3</th>\n",
       "      <td>0</td>\n",
       "      <td>0</td>\n",
       "      <td>True</td>\n",
       "    </tr>\n",
       "    <tr>\n",
       "      <th>4</th>\n",
       "      <td>0</td>\n",
       "      <td>1</td>\n",
       "      <td>False</td>\n",
       "    </tr>\n",
       "    <tr>\n",
       "      <th>...</th>\n",
       "      <td>...</td>\n",
       "      <td>...</td>\n",
       "      <td>...</td>\n",
       "    </tr>\n",
       "    <tr>\n",
       "      <th>65</th>\n",
       "      <td>0</td>\n",
       "      <td>0</td>\n",
       "      <td>True</td>\n",
       "    </tr>\n",
       "    <tr>\n",
       "      <th>66</th>\n",
       "      <td>0</td>\n",
       "      <td>0</td>\n",
       "      <td>True</td>\n",
       "    </tr>\n",
       "    <tr>\n",
       "      <th>67</th>\n",
       "      <td>0</td>\n",
       "      <td>1</td>\n",
       "      <td>False</td>\n",
       "    </tr>\n",
       "    <tr>\n",
       "      <th>68</th>\n",
       "      <td>0</td>\n",
       "      <td>1</td>\n",
       "      <td>False</td>\n",
       "    </tr>\n",
       "    <tr>\n",
       "      <th>69</th>\n",
       "      <td>1</td>\n",
       "      <td>1</td>\n",
       "      <td>True</td>\n",
       "    </tr>\n",
       "  </tbody>\n",
       "</table>\n",
       "<p>70 rows × 3 columns</p>\n",
       "</div>"
      ],
      "text/plain": [
       "    Prediction_i2_rfc  Actual_i2_rfc  Equals_i2_rfc\n",
       "0                   1              0          False\n",
       "1                   0              0           True\n",
       "2                   0              0           True\n",
       "3                   0              0           True\n",
       "4                   0              1          False\n",
       "..                ...            ...            ...\n",
       "65                  0              0           True\n",
       "66                  0              0           True\n",
       "67                  0              1          False\n",
       "68                  0              1          False\n",
       "69                  1              1           True\n",
       "\n",
       "[70 rows x 3 columns]"
      ]
     },
     "execution_count": 40,
     "metadata": {},
     "output_type": "execute_result"
    }
   ],
   "source": [
    "rfc_predict_imposter2_df = pd.DataFrame({\n",
    "    \"Prediction_i2_rfc\" : rfc_imposter2.predict(data_imposter2_test),\n",
    "    \"Actual_i2_rfc\" : target_imposter2_test\n",
    "})\n",
    "rfc_predict_imposter2_df[\"Equals_i2_rfc\"] = rfc_predict_imposter2_df[\"Prediction_i2_rfc\"].eq(rfc_predict_imposter2_df[\"Actual_i2_rfc\"])\n",
    "rfc_predict_imposter2_df"
   ]
  },
  {
   "cell_type": "code",
   "execution_count": 41,
   "metadata": {},
   "outputs": [
    {
     "data": {
      "text/plain": [
       "True     40\n",
       "False    30\n",
       "Name: Equals_i2_rfc, dtype: int64"
      ]
     },
     "execution_count": 41,
     "metadata": {},
     "output_type": "execute_result"
    }
   ],
   "source": [
    "rfc_predict_imposter2_df[\"Equals_i2_rfc\"].value_counts()"
   ]
  },
  {
   "cell_type": "markdown",
   "metadata": {},
   "source": [
    "### Define Model #3\n",
    "Dropping all **Time of Day** features lowered our accuracy so they provide some benefits.  \n",
    "First we try adding in **Night** and **Evening** the two highest **Time of Day** in our initial Random Forest Classification model as it had the highest weight.\n",
    "- **Target**: Outcome\n",
    "- **Data**: Game Length, Imposter Kills, Ejected, Night, Evening"
   ]
  },
  {
   "cell_type": "code",
   "execution_count": 42,
   "metadata": {},
   "outputs": [],
   "source": [
    "target_imposter3_train = imposter_train_df[\"Outcome\"]\n",
    "data_imposter3_train = imposter_train_df[[\"Game Length\", \"Imposter Kills\", \"Ejected\", \"Night\", \"Evening\"]]\n",
    "\n",
    "target_imposter3_test = imposter_test_df[\"Outcome\"]\n",
    "data_imposter3_test = imposter_test_df[[\"Game Length\", \"Imposter Kills\", \"Ejected\", \"Night\", \"Evening\"]]\n",
    "\n",
    "features_imposter3 = data_imposter3_train.columns"
   ]
  },
  {
   "cell_type": "markdown",
   "metadata": {},
   "source": [
    "### Decision Tree Classification - Model #3\n",
    "We perform a decision tree classification in order to assess the validity of our features."
   ]
  },
  {
   "cell_type": "code",
   "execution_count": 43,
   "metadata": {},
   "outputs": [
    {
     "data": {
      "text/plain": [
       "0.6"
      ]
     },
     "execution_count": 43,
     "metadata": {},
     "output_type": "execute_result"
    }
   ],
   "source": [
    "dtc_imposter3 = tree.DecisionTreeClassifier()\n",
    "dtc_imposter3 = dtc_imposter3.fit(data_imposter3_train, target_imposter3_train)\n",
    "dtc_imposter3.score(data_imposter3_test, target_imposter3_test)"
   ]
  },
  {
   "cell_type": "code",
   "execution_count": 44,
   "metadata": {},
   "outputs": [
    {
     "data": {
      "text/plain": [
       "[(0.6321958811676404, 'Game Length'),\n",
       " (0.18313495173502667, 'Ejected'),\n",
       " (0.09693212318504882, 'Imposter Kills'),\n",
       " (0.05925094168954822, 'Evening'),\n",
       " (0.028486102222735947, 'Night')]"
      ]
     },
     "execution_count": 44,
     "metadata": {},
     "output_type": "execute_result"
    }
   ],
   "source": [
    "sorted(zip(dtc_imposter3.feature_importances_, features_imposter3), reverse=True)"
   ]
  },
  {
   "cell_type": "code",
   "execution_count": 45,
   "metadata": {},
   "outputs": [
    {
     "data": {
      "text/html": [
       "<div>\n",
       "<style scoped>\n",
       "    .dataframe tbody tr th:only-of-type {\n",
       "        vertical-align: middle;\n",
       "    }\n",
       "\n",
       "    .dataframe tbody tr th {\n",
       "        vertical-align: top;\n",
       "    }\n",
       "\n",
       "    .dataframe thead th {\n",
       "        text-align: right;\n",
       "    }\n",
       "</style>\n",
       "<table border=\"1\" class=\"dataframe\">\n",
       "  <thead>\n",
       "    <tr style=\"text-align: right;\">\n",
       "      <th></th>\n",
       "      <th>Prediction_i3_dtc</th>\n",
       "      <th>Actual_i3_dtc</th>\n",
       "      <th>Equals_i3_dtc</th>\n",
       "    </tr>\n",
       "  </thead>\n",
       "  <tbody>\n",
       "    <tr>\n",
       "      <th>0</th>\n",
       "      <td>1</td>\n",
       "      <td>0</td>\n",
       "      <td>False</td>\n",
       "    </tr>\n",
       "    <tr>\n",
       "      <th>1</th>\n",
       "      <td>0</td>\n",
       "      <td>0</td>\n",
       "      <td>True</td>\n",
       "    </tr>\n",
       "    <tr>\n",
       "      <th>2</th>\n",
       "      <td>0</td>\n",
       "      <td>0</td>\n",
       "      <td>True</td>\n",
       "    </tr>\n",
       "    <tr>\n",
       "      <th>3</th>\n",
       "      <td>0</td>\n",
       "      <td>0</td>\n",
       "      <td>True</td>\n",
       "    </tr>\n",
       "    <tr>\n",
       "      <th>4</th>\n",
       "      <td>0</td>\n",
       "      <td>1</td>\n",
       "      <td>False</td>\n",
       "    </tr>\n",
       "    <tr>\n",
       "      <th>...</th>\n",
       "      <td>...</td>\n",
       "      <td>...</td>\n",
       "      <td>...</td>\n",
       "    </tr>\n",
       "    <tr>\n",
       "      <th>65</th>\n",
       "      <td>0</td>\n",
       "      <td>0</td>\n",
       "      <td>True</td>\n",
       "    </tr>\n",
       "    <tr>\n",
       "      <th>66</th>\n",
       "      <td>0</td>\n",
       "      <td>0</td>\n",
       "      <td>True</td>\n",
       "    </tr>\n",
       "    <tr>\n",
       "      <th>67</th>\n",
       "      <td>0</td>\n",
       "      <td>1</td>\n",
       "      <td>False</td>\n",
       "    </tr>\n",
       "    <tr>\n",
       "      <th>68</th>\n",
       "      <td>0</td>\n",
       "      <td>1</td>\n",
       "      <td>False</td>\n",
       "    </tr>\n",
       "    <tr>\n",
       "      <th>69</th>\n",
       "      <td>1</td>\n",
       "      <td>1</td>\n",
       "      <td>True</td>\n",
       "    </tr>\n",
       "  </tbody>\n",
       "</table>\n",
       "<p>70 rows × 3 columns</p>\n",
       "</div>"
      ],
      "text/plain": [
       "    Prediction_i3_dtc  Actual_i3_dtc  Equals_i3_dtc\n",
       "0                   1              0          False\n",
       "1                   0              0           True\n",
       "2                   0              0           True\n",
       "3                   0              0           True\n",
       "4                   0              1          False\n",
       "..                ...            ...            ...\n",
       "65                  0              0           True\n",
       "66                  0              0           True\n",
       "67                  0              1          False\n",
       "68                  0              1          False\n",
       "69                  1              1           True\n",
       "\n",
       "[70 rows x 3 columns]"
      ]
     },
     "execution_count": 45,
     "metadata": {},
     "output_type": "execute_result"
    }
   ],
   "source": [
    "dtc_predict_imposter3_df = pd.DataFrame({\n",
    "    \"Prediction_i3_dtc\" : dtc_imposter3.predict(data_imposter3_test),\n",
    "    \"Actual_i3_dtc\" : target_imposter3_test\n",
    "})\n",
    "dtc_predict_imposter3_df[\"Equals_i3_dtc\"] = dtc_predict_imposter3_df[\"Prediction_i3_dtc\"].eq(dtc_predict_imposter3_df[\"Actual_i3_dtc\"])\n",
    "dtc_predict_imposter3_df"
   ]
  },
  {
   "cell_type": "code",
   "execution_count": 46,
   "metadata": {},
   "outputs": [
    {
     "data": {
      "text/plain": [
       "True     42\n",
       "False    28\n",
       "Name: Equals_i3_dtc, dtype: int64"
      ]
     },
     "execution_count": 46,
     "metadata": {},
     "output_type": "execute_result"
    }
   ],
   "source": [
    "dtc_predict_imposter3_df[\"Equals_i3_dtc\"].value_counts()"
   ]
  },
  {
   "cell_type": "markdown",
   "metadata": {},
   "source": [
    "### Random Forest Classification - Model #3\n",
    "We perform a random forest classification in order to assess the validity of our features."
   ]
  },
  {
   "cell_type": "code",
   "execution_count": 47,
   "metadata": {},
   "outputs": [
    {
     "data": {
      "text/plain": [
       "0.6714285714285714"
      ]
     },
     "execution_count": 47,
     "metadata": {},
     "output_type": "execute_result"
    }
   ],
   "source": [
    "rfc_imposter3 = RandomForestClassifier()\n",
    "rfc_imposter3 = rfc_imposter3.fit(data_imposter3_train, target_imposter3_train)\n",
    "rfc_imposter3.score(data_imposter3_test, target_imposter3_test)"
   ]
  },
  {
   "cell_type": "code",
   "execution_count": 48,
   "metadata": {},
   "outputs": [
    {
     "data": {
      "text/plain": [
       "[(0.6559329342776339, 'Game Length'),\n",
       " (0.1793411972824306, 'Ejected'),\n",
       " (0.11735652182921855, 'Imposter Kills'),\n",
       " (0.02600410109924869, 'Evening'),\n",
       " (0.021365245511468216, 'Night')]"
      ]
     },
     "execution_count": 48,
     "metadata": {},
     "output_type": "execute_result"
    }
   ],
   "source": [
    "sorted(zip(rfc_imposter3.feature_importances_, features_imposter3), reverse=True)"
   ]
  },
  {
   "cell_type": "code",
   "execution_count": 49,
   "metadata": {},
   "outputs": [
    {
     "data": {
      "text/html": [
       "<div>\n",
       "<style scoped>\n",
       "    .dataframe tbody tr th:only-of-type {\n",
       "        vertical-align: middle;\n",
       "    }\n",
       "\n",
       "    .dataframe tbody tr th {\n",
       "        vertical-align: top;\n",
       "    }\n",
       "\n",
       "    .dataframe thead th {\n",
       "        text-align: right;\n",
       "    }\n",
       "</style>\n",
       "<table border=\"1\" class=\"dataframe\">\n",
       "  <thead>\n",
       "    <tr style=\"text-align: right;\">\n",
       "      <th></th>\n",
       "      <th>Prediction_i3_rfc</th>\n",
       "      <th>Actual_i3_rfc</th>\n",
       "      <th>Equals_i3_rfc</th>\n",
       "    </tr>\n",
       "  </thead>\n",
       "  <tbody>\n",
       "    <tr>\n",
       "      <th>0</th>\n",
       "      <td>1</td>\n",
       "      <td>0</td>\n",
       "      <td>False</td>\n",
       "    </tr>\n",
       "    <tr>\n",
       "      <th>1</th>\n",
       "      <td>0</td>\n",
       "      <td>0</td>\n",
       "      <td>True</td>\n",
       "    </tr>\n",
       "    <tr>\n",
       "      <th>2</th>\n",
       "      <td>0</td>\n",
       "      <td>0</td>\n",
       "      <td>True</td>\n",
       "    </tr>\n",
       "    <tr>\n",
       "      <th>3</th>\n",
       "      <td>0</td>\n",
       "      <td>0</td>\n",
       "      <td>True</td>\n",
       "    </tr>\n",
       "    <tr>\n",
       "      <th>4</th>\n",
       "      <td>0</td>\n",
       "      <td>1</td>\n",
       "      <td>False</td>\n",
       "    </tr>\n",
       "    <tr>\n",
       "      <th>...</th>\n",
       "      <td>...</td>\n",
       "      <td>...</td>\n",
       "      <td>...</td>\n",
       "    </tr>\n",
       "    <tr>\n",
       "      <th>65</th>\n",
       "      <td>0</td>\n",
       "      <td>0</td>\n",
       "      <td>True</td>\n",
       "    </tr>\n",
       "    <tr>\n",
       "      <th>66</th>\n",
       "      <td>0</td>\n",
       "      <td>0</td>\n",
       "      <td>True</td>\n",
       "    </tr>\n",
       "    <tr>\n",
       "      <th>67</th>\n",
       "      <td>0</td>\n",
       "      <td>1</td>\n",
       "      <td>False</td>\n",
       "    </tr>\n",
       "    <tr>\n",
       "      <th>68</th>\n",
       "      <td>0</td>\n",
       "      <td>1</td>\n",
       "      <td>False</td>\n",
       "    </tr>\n",
       "    <tr>\n",
       "      <th>69</th>\n",
       "      <td>1</td>\n",
       "      <td>1</td>\n",
       "      <td>True</td>\n",
       "    </tr>\n",
       "  </tbody>\n",
       "</table>\n",
       "<p>70 rows × 3 columns</p>\n",
       "</div>"
      ],
      "text/plain": [
       "    Prediction_i3_rfc  Actual_i3_rfc  Equals_i3_rfc\n",
       "0                   1              0          False\n",
       "1                   0              0           True\n",
       "2                   0              0           True\n",
       "3                   0              0           True\n",
       "4                   0              1          False\n",
       "..                ...            ...            ...\n",
       "65                  0              0           True\n",
       "66                  0              0           True\n",
       "67                  0              1          False\n",
       "68                  0              1          False\n",
       "69                  1              1           True\n",
       "\n",
       "[70 rows x 3 columns]"
      ]
     },
     "execution_count": 49,
     "metadata": {},
     "output_type": "execute_result"
    }
   ],
   "source": [
    "rfc_predict_imposter3_df = pd.DataFrame({\n",
    "    \"Prediction_i3_rfc\" : rfc_imposter3.predict(data_imposter3_test),\n",
    "    \"Actual_i3_rfc\" : target_imposter3_test\n",
    "})\n",
    "rfc_predict_imposter3_df[\"Equals_i3_rfc\"] = rfc_predict_imposter3_df[\"Prediction_i3_rfc\"].eq(rfc_predict_imposter3_df[\"Actual_i3_rfc\"])\n",
    "rfc_predict_imposter3_df"
   ]
  },
  {
   "cell_type": "code",
   "execution_count": 50,
   "metadata": {},
   "outputs": [
    {
     "data": {
      "text/plain": [
       "True     47\n",
       "False    23\n",
       "Name: Equals_i3_rfc, dtype: int64"
      ]
     },
     "execution_count": 50,
     "metadata": {},
     "output_type": "execute_result"
    }
   ],
   "source": [
    "rfc_predict_imposter3_df[\"Equals_i3_rfc\"].value_counts()"
   ]
  },
  {
   "cell_type": "markdown",
   "metadata": {},
   "source": [
    "### Define Model #4\n",
    "Our last model gave a significant increase in predictive accuracy, but we'll try an alternative model.  \n",
    "We will try swapping out **Night** for **Afternoon** as **Afternoon** had the highest weight in our first decision tree classification model.\n",
    "- **Target**: Outcome\n",
    "- **Data**: Game Length, Imposter Kills, Ejected, Afternoon, Evening"
   ]
  },
  {
   "cell_type": "code",
   "execution_count": 51,
   "metadata": {},
   "outputs": [],
   "source": [
    "target_imposter4_train = imposter_train_df[\"Outcome\"]\n",
    "data_imposter4_train = imposter_train_df[[\"Game Length\", \"Imposter Kills\", \"Ejected\", \"Afternoon\", \"Evening\"]]\n",
    "\n",
    "target_imposter4_test = imposter_test_df[\"Outcome\"]\n",
    "data_imposter4_test = imposter_test_df[[\"Game Length\", \"Imposter Kills\", \"Ejected\", \"Afternoon\", \"Evening\"]]\n",
    "\n",
    "features_imposter4 = data_imposter4_train.columns"
   ]
  },
  {
   "cell_type": "markdown",
   "metadata": {},
   "source": [
    "### Decision Tree Classification - Model #4\n",
    "We perform a decision tree classification in order to assess the validity of our features."
   ]
  },
  {
   "cell_type": "code",
   "execution_count": 52,
   "metadata": {},
   "outputs": [
    {
     "data": {
      "text/plain": [
       "0.6428571428571429"
      ]
     },
     "execution_count": 52,
     "metadata": {},
     "output_type": "execute_result"
    }
   ],
   "source": [
    "dtc_imposter4 = tree.DecisionTreeClassifier()\n",
    "dtc_imposter4 = dtc_imposter4.fit(data_imposter4_train, target_imposter4_train)\n",
    "dtc_imposter4.score(data_imposter4_test, target_imposter4_test)"
   ]
  },
  {
   "cell_type": "code",
   "execution_count": 53,
   "metadata": {},
   "outputs": [
    {
     "data": {
      "text/plain": [
       "[(0.6234192245761346, 'Game Length'),\n",
       " (0.1840811139426129, 'Ejected'),\n",
       " (0.11327490065910534, 'Imposter Kills'),\n",
       " (0.042864424494734495, 'Evening'),\n",
       " (0.03636033632741271, 'Afternoon')]"
      ]
     },
     "execution_count": 53,
     "metadata": {},
     "output_type": "execute_result"
    }
   ],
   "source": [
    "sorted(zip(dtc_imposter4.feature_importances_, features_imposter4), reverse=True)"
   ]
  },
  {
   "cell_type": "code",
   "execution_count": 54,
   "metadata": {},
   "outputs": [
    {
     "data": {
      "text/html": [
       "<div>\n",
       "<style scoped>\n",
       "    .dataframe tbody tr th:only-of-type {\n",
       "        vertical-align: middle;\n",
       "    }\n",
       "\n",
       "    .dataframe tbody tr th {\n",
       "        vertical-align: top;\n",
       "    }\n",
       "\n",
       "    .dataframe thead th {\n",
       "        text-align: right;\n",
       "    }\n",
       "</style>\n",
       "<table border=\"1\" class=\"dataframe\">\n",
       "  <thead>\n",
       "    <tr style=\"text-align: right;\">\n",
       "      <th></th>\n",
       "      <th>Prediction_i4_dtc</th>\n",
       "      <th>Actual_i4_dtc</th>\n",
       "      <th>Equals_i4_dtc</th>\n",
       "    </tr>\n",
       "  </thead>\n",
       "  <tbody>\n",
       "    <tr>\n",
       "      <th>0</th>\n",
       "      <td>1</td>\n",
       "      <td>0</td>\n",
       "      <td>False</td>\n",
       "    </tr>\n",
       "    <tr>\n",
       "      <th>1</th>\n",
       "      <td>0</td>\n",
       "      <td>0</td>\n",
       "      <td>True</td>\n",
       "    </tr>\n",
       "    <tr>\n",
       "      <th>2</th>\n",
       "      <td>0</td>\n",
       "      <td>0</td>\n",
       "      <td>True</td>\n",
       "    </tr>\n",
       "    <tr>\n",
       "      <th>3</th>\n",
       "      <td>0</td>\n",
       "      <td>0</td>\n",
       "      <td>True</td>\n",
       "    </tr>\n",
       "    <tr>\n",
       "      <th>4</th>\n",
       "      <td>0</td>\n",
       "      <td>1</td>\n",
       "      <td>False</td>\n",
       "    </tr>\n",
       "    <tr>\n",
       "      <th>...</th>\n",
       "      <td>...</td>\n",
       "      <td>...</td>\n",
       "      <td>...</td>\n",
       "    </tr>\n",
       "    <tr>\n",
       "      <th>65</th>\n",
       "      <td>0</td>\n",
       "      <td>0</td>\n",
       "      <td>True</td>\n",
       "    </tr>\n",
       "    <tr>\n",
       "      <th>66</th>\n",
       "      <td>0</td>\n",
       "      <td>0</td>\n",
       "      <td>True</td>\n",
       "    </tr>\n",
       "    <tr>\n",
       "      <th>67</th>\n",
       "      <td>0</td>\n",
       "      <td>1</td>\n",
       "      <td>False</td>\n",
       "    </tr>\n",
       "    <tr>\n",
       "      <th>68</th>\n",
       "      <td>0</td>\n",
       "      <td>1</td>\n",
       "      <td>False</td>\n",
       "    </tr>\n",
       "    <tr>\n",
       "      <th>69</th>\n",
       "      <td>1</td>\n",
       "      <td>1</td>\n",
       "      <td>True</td>\n",
       "    </tr>\n",
       "  </tbody>\n",
       "</table>\n",
       "<p>70 rows × 3 columns</p>\n",
       "</div>"
      ],
      "text/plain": [
       "    Prediction_i4_dtc  Actual_i4_dtc  Equals_i4_dtc\n",
       "0                   1              0          False\n",
       "1                   0              0           True\n",
       "2                   0              0           True\n",
       "3                   0              0           True\n",
       "4                   0              1          False\n",
       "..                ...            ...            ...\n",
       "65                  0              0           True\n",
       "66                  0              0           True\n",
       "67                  0              1          False\n",
       "68                  0              1          False\n",
       "69                  1              1           True\n",
       "\n",
       "[70 rows x 3 columns]"
      ]
     },
     "execution_count": 54,
     "metadata": {},
     "output_type": "execute_result"
    }
   ],
   "source": [
    "dtc_predict_imposter4_df = pd.DataFrame({\n",
    "    \"Prediction_i4_dtc\" : dtc_imposter4.predict(data_imposter4_test),\n",
    "    \"Actual_i4_dtc\" : target_imposter4_test\n",
    "})\n",
    "dtc_predict_imposter4_df[\"Equals_i4_dtc\"] = dtc_predict_imposter4_df[\"Prediction_i4_dtc\"].eq(dtc_predict_imposter4_df[\"Actual_i4_dtc\"])\n",
    "dtc_predict_imposter4_df"
   ]
  },
  {
   "cell_type": "code",
   "execution_count": 55,
   "metadata": {},
   "outputs": [
    {
     "data": {
      "text/plain": [
       "True     45\n",
       "False    25\n",
       "Name: Equals_i4_dtc, dtype: int64"
      ]
     },
     "execution_count": 55,
     "metadata": {},
     "output_type": "execute_result"
    }
   ],
   "source": [
    "dtc_predict_imposter4_df[\"Equals_i4_dtc\"].value_counts()"
   ]
  },
  {
   "cell_type": "markdown",
   "metadata": {},
   "source": [
    "### Random Forest Classification - Model #4\n",
    "We perform a random forest classification in order to assess the validity of our features."
   ]
  },
  {
   "cell_type": "code",
   "execution_count": 56,
   "metadata": {},
   "outputs": [
    {
     "data": {
      "text/plain": [
       "0.7142857142857143"
      ]
     },
     "execution_count": 56,
     "metadata": {},
     "output_type": "execute_result"
    }
   ],
   "source": [
    "rfc_imposter4 = RandomForestClassifier()\n",
    "rfc_imposter4 = rfc_imposter4.fit(data_imposter4_train, target_imposter4_train)\n",
    "rfc_imposter4.score(data_imposter4_test, target_imposter4_test)"
   ]
  },
  {
   "cell_type": "code",
   "execution_count": 57,
   "metadata": {},
   "outputs": [
    {
     "data": {
      "text/plain": [
       "[(0.6503956911608282, 'Game Length'),\n",
       " (0.1949863238433754, 'Ejected'),\n",
       " (0.10894650715329693, 'Imposter Kills'),\n",
       " (0.023608592825611598, 'Evening'),\n",
       " (0.02206288501688808, 'Afternoon')]"
      ]
     },
     "execution_count": 57,
     "metadata": {},
     "output_type": "execute_result"
    }
   ],
   "source": [
    "sorted(zip(rfc_imposter4.feature_importances_, features_imposter4), reverse=True)"
   ]
  },
  {
   "cell_type": "code",
   "execution_count": 58,
   "metadata": {},
   "outputs": [
    {
     "data": {
      "text/html": [
       "<div>\n",
       "<style scoped>\n",
       "    .dataframe tbody tr th:only-of-type {\n",
       "        vertical-align: middle;\n",
       "    }\n",
       "\n",
       "    .dataframe tbody tr th {\n",
       "        vertical-align: top;\n",
       "    }\n",
       "\n",
       "    .dataframe thead th {\n",
       "        text-align: right;\n",
       "    }\n",
       "</style>\n",
       "<table border=\"1\" class=\"dataframe\">\n",
       "  <thead>\n",
       "    <tr style=\"text-align: right;\">\n",
       "      <th></th>\n",
       "      <th>Prediction_i4_rfc</th>\n",
       "      <th>Actual_i4_rfc</th>\n",
       "      <th>Equals_i4_rfc</th>\n",
       "    </tr>\n",
       "  </thead>\n",
       "  <tbody>\n",
       "    <tr>\n",
       "      <th>0</th>\n",
       "      <td>1</td>\n",
       "      <td>0</td>\n",
       "      <td>False</td>\n",
       "    </tr>\n",
       "    <tr>\n",
       "      <th>1</th>\n",
       "      <td>0</td>\n",
       "      <td>0</td>\n",
       "      <td>True</td>\n",
       "    </tr>\n",
       "    <tr>\n",
       "      <th>2</th>\n",
       "      <td>0</td>\n",
       "      <td>0</td>\n",
       "      <td>True</td>\n",
       "    </tr>\n",
       "    <tr>\n",
       "      <th>3</th>\n",
       "      <td>0</td>\n",
       "      <td>0</td>\n",
       "      <td>True</td>\n",
       "    </tr>\n",
       "    <tr>\n",
       "      <th>4</th>\n",
       "      <td>0</td>\n",
       "      <td>1</td>\n",
       "      <td>False</td>\n",
       "    </tr>\n",
       "    <tr>\n",
       "      <th>...</th>\n",
       "      <td>...</td>\n",
       "      <td>...</td>\n",
       "      <td>...</td>\n",
       "    </tr>\n",
       "    <tr>\n",
       "      <th>65</th>\n",
       "      <td>0</td>\n",
       "      <td>0</td>\n",
       "      <td>True</td>\n",
       "    </tr>\n",
       "    <tr>\n",
       "      <th>66</th>\n",
       "      <td>0</td>\n",
       "      <td>0</td>\n",
       "      <td>True</td>\n",
       "    </tr>\n",
       "    <tr>\n",
       "      <th>67</th>\n",
       "      <td>0</td>\n",
       "      <td>1</td>\n",
       "      <td>False</td>\n",
       "    </tr>\n",
       "    <tr>\n",
       "      <th>68</th>\n",
       "      <td>0</td>\n",
       "      <td>1</td>\n",
       "      <td>False</td>\n",
       "    </tr>\n",
       "    <tr>\n",
       "      <th>69</th>\n",
       "      <td>1</td>\n",
       "      <td>1</td>\n",
       "      <td>True</td>\n",
       "    </tr>\n",
       "  </tbody>\n",
       "</table>\n",
       "<p>70 rows × 3 columns</p>\n",
       "</div>"
      ],
      "text/plain": [
       "    Prediction_i4_rfc  Actual_i4_rfc  Equals_i4_rfc\n",
       "0                   1              0          False\n",
       "1                   0              0           True\n",
       "2                   0              0           True\n",
       "3                   0              0           True\n",
       "4                   0              1          False\n",
       "..                ...            ...            ...\n",
       "65                  0              0           True\n",
       "66                  0              0           True\n",
       "67                  0              1          False\n",
       "68                  0              1          False\n",
       "69                  1              1           True\n",
       "\n",
       "[70 rows x 3 columns]"
      ]
     },
     "execution_count": 58,
     "metadata": {},
     "output_type": "execute_result"
    }
   ],
   "source": [
    "rfc_predict_imposter4_df = pd.DataFrame({\n",
    "    \"Prediction_i4_rfc\" : rfc_imposter4.predict(data_imposter4_test),\n",
    "    \"Actual_i4_rfc\" : target_imposter4_test\n",
    "})\n",
    "rfc_predict_imposter4_df[\"Equals_i4_rfc\"] = rfc_predict_imposter4_df[\"Prediction_i4_rfc\"].eq(rfc_predict_imposter4_df[\"Actual_i4_rfc\"])\n",
    "rfc_predict_imposter4_df"
   ]
  },
  {
   "cell_type": "code",
   "execution_count": 59,
   "metadata": {},
   "outputs": [
    {
     "data": {
      "text/plain": [
       "True     50\n",
       "False    20\n",
       "Name: Equals_i4_rfc, dtype: int64"
      ]
     },
     "execution_count": 59,
     "metadata": {},
     "output_type": "execute_result"
    }
   ],
   "source": [
    "rfc_predict_imposter4_df[\"Equals_i4_rfc\"].value_counts()"
   ]
  },
  {
   "cell_type": "markdown",
   "metadata": {},
   "source": [
    "### Imposter Conclusions\n",
    "Through trial and error, we've been able to narrow down on a model that provides the most accurate predictions.  \n",
    "Our best model is **Model 4**, which includes Game Length, Imposter Kills, Ejected, Afternoon, and Evening features. This model offers an 0.6428571428571429 for DTC and 0.7142857142857143 for RFC in predictive accuracy."
   ]
  },
  {
   "cell_type": "markdown",
   "metadata": {},
   "source": [
    "## Machine Learning - Crewmate\n",
    "We start by defining appropriate models to predict wins or losses for **Crewmate**s."
   ]
  },
  {
   "cell_type": "markdown",
   "metadata": {},
   "source": [
    "### Define Model #1\n",
    "We will have to specify what it is that we are trying to predict and with what data.  \n",
    "To start we will include all applicable features and adjust to improve accuracy.\n",
    "- **Target**: Outcome\n",
    "- **Data**: Game Length, Task Completed, All Tasks Completed, Sabotages Fixed, Murdered, Ejected, Night, Morning, Afternoon, Evening"
   ]
  },
  {
   "cell_type": "code",
   "execution_count": 60,
   "metadata": {},
   "outputs": [],
   "source": [
    "target_crewmate1_train = crewmate_train_df[\"Outcome\"]\n",
    "data_crewmate1_train = crewmate_train_df[[\"Game Length\", \"Task Completed\", \"All Tasks Completed\", \"Sabotages Fixed\", \"Murdered\", \"Ejected\", \"Night\", \"Morning\", \"Afternoon\", \"Evening\"]]\n",
    "\n",
    "target_crewmate1_test = crewmate_test_df[\"Outcome\"]\n",
    "data_crewmate1_test = crewmate_test_df[[\"Game Length\", \"Task Completed\", \"All Tasks Completed\", \"Sabotages Fixed\", \"Murdered\", \"Ejected\", \"Night\", \"Morning\", \"Afternoon\", \"Evening\"]]\n",
    "\n",
    "features_crewmate1 = data_crewmate1_train.columns"
   ]
  },
  {
   "cell_type": "markdown",
   "metadata": {},
   "source": [
    "### Decision Tree Classification - Model #1\n",
    "We perform a decision tree classification in order to assess the validity of our features."
   ]
  },
  {
   "cell_type": "code",
   "execution_count": 61,
   "metadata": {},
   "outputs": [
    {
     "data": {
      "text/plain": [
       "0.5690376569037657"
      ]
     },
     "execution_count": 61,
     "metadata": {},
     "output_type": "execute_result"
    }
   ],
   "source": [
    "dtc_crewmate1 = tree.DecisionTreeClassifier()\n",
    "dtc_crewmate1 = dtc_crewmate1.fit(data_crewmate1_train, target_crewmate1_train)\n",
    "dtc_crewmate1.score(data_crewmate1_test, target_crewmate1_test)"
   ]
  },
  {
   "cell_type": "code",
   "execution_count": 62,
   "metadata": {},
   "outputs": [
    {
     "data": {
      "text/plain": [
       "[(0.5884432617061653, 'Game Length'),\n",
       " (0.11407090809788384, 'Task Completed'),\n",
       " (0.07550651906445927, 'Sabotages Fixed'),\n",
       " (0.04359419468847851, 'Murdered'),\n",
       " (0.03856743764248584, 'Evening'),\n",
       " (0.03843242531634015, 'Morning'),\n",
       " (0.03544730293889921, 'Afternoon'),\n",
       " (0.0312608859889605, 'All Tasks Completed'),\n",
       " (0.018679107194033085, 'Night'),\n",
       " (0.0159979573622943, 'Ejected')]"
      ]
     },
     "execution_count": 62,
     "metadata": {},
     "output_type": "execute_result"
    }
   ],
   "source": [
    "sorted(zip(dtc_crewmate1.feature_importances_, features_crewmate1), reverse=True)"
   ]
  },
  {
   "cell_type": "code",
   "execution_count": 63,
   "metadata": {},
   "outputs": [
    {
     "data": {
      "text/html": [
       "<div>\n",
       "<style scoped>\n",
       "    .dataframe tbody tr th:only-of-type {\n",
       "        vertical-align: middle;\n",
       "    }\n",
       "\n",
       "    .dataframe tbody tr th {\n",
       "        vertical-align: top;\n",
       "    }\n",
       "\n",
       "    .dataframe thead th {\n",
       "        text-align: right;\n",
       "    }\n",
       "</style>\n",
       "<table border=\"1\" class=\"dataframe\">\n",
       "  <thead>\n",
       "    <tr style=\"text-align: right;\">\n",
       "      <th></th>\n",
       "      <th>Prediction_c1_dtc</th>\n",
       "      <th>Actual_c1_dtc</th>\n",
       "      <th>Equals_c1_dtc</th>\n",
       "    </tr>\n",
       "  </thead>\n",
       "  <tbody>\n",
       "    <tr>\n",
       "      <th>0</th>\n",
       "      <td>1</td>\n",
       "      <td>1</td>\n",
       "      <td>True</td>\n",
       "    </tr>\n",
       "    <tr>\n",
       "      <th>1</th>\n",
       "      <td>1</td>\n",
       "      <td>1</td>\n",
       "      <td>True</td>\n",
       "    </tr>\n",
       "    <tr>\n",
       "      <th>2</th>\n",
       "      <td>0</td>\n",
       "      <td>0</td>\n",
       "      <td>True</td>\n",
       "    </tr>\n",
       "    <tr>\n",
       "      <th>3</th>\n",
       "      <td>1</td>\n",
       "      <td>0</td>\n",
       "      <td>False</td>\n",
       "    </tr>\n",
       "    <tr>\n",
       "      <th>4</th>\n",
       "      <td>1</td>\n",
       "      <td>0</td>\n",
       "      <td>False</td>\n",
       "    </tr>\n",
       "    <tr>\n",
       "      <th>...</th>\n",
       "      <td>...</td>\n",
       "      <td>...</td>\n",
       "      <td>...</td>\n",
       "    </tr>\n",
       "    <tr>\n",
       "      <th>234</th>\n",
       "      <td>1</td>\n",
       "      <td>0</td>\n",
       "      <td>False</td>\n",
       "    </tr>\n",
       "    <tr>\n",
       "      <th>235</th>\n",
       "      <td>0</td>\n",
       "      <td>0</td>\n",
       "      <td>True</td>\n",
       "    </tr>\n",
       "    <tr>\n",
       "      <th>236</th>\n",
       "      <td>0</td>\n",
       "      <td>1</td>\n",
       "      <td>False</td>\n",
       "    </tr>\n",
       "    <tr>\n",
       "      <th>237</th>\n",
       "      <td>0</td>\n",
       "      <td>1</td>\n",
       "      <td>False</td>\n",
       "    </tr>\n",
       "    <tr>\n",
       "      <th>238</th>\n",
       "      <td>1</td>\n",
       "      <td>1</td>\n",
       "      <td>True</td>\n",
       "    </tr>\n",
       "  </tbody>\n",
       "</table>\n",
       "<p>239 rows × 3 columns</p>\n",
       "</div>"
      ],
      "text/plain": [
       "     Prediction_c1_dtc  Actual_c1_dtc  Equals_c1_dtc\n",
       "0                    1              1           True\n",
       "1                    1              1           True\n",
       "2                    0              0           True\n",
       "3                    1              0          False\n",
       "4                    1              0          False\n",
       "..                 ...            ...            ...\n",
       "234                  1              0          False\n",
       "235                  0              0           True\n",
       "236                  0              1          False\n",
       "237                  0              1          False\n",
       "238                  1              1           True\n",
       "\n",
       "[239 rows x 3 columns]"
      ]
     },
     "execution_count": 63,
     "metadata": {},
     "output_type": "execute_result"
    }
   ],
   "source": [
    "dtc_predict_crewmate1_df = pd.DataFrame({\n",
    "    \"Prediction_c1_dtc\" : dtc_crewmate1.predict(data_crewmate1_test),\n",
    "    \"Actual_c1_dtc\" : target_crewmate1_test\n",
    "})\n",
    "dtc_predict_crewmate1_df[\"Equals_c1_dtc\"] = dtc_predict_crewmate1_df[\"Prediction_c1_dtc\"].eq(dtc_predict_crewmate1_df[\"Actual_c1_dtc\"])\n",
    "dtc_predict_crewmate1_df"
   ]
  },
  {
   "cell_type": "code",
   "execution_count": 64,
   "metadata": {},
   "outputs": [
    {
     "data": {
      "text/plain": [
       "True     136\n",
       "False    103\n",
       "Name: Equals_c1_dtc, dtype: int64"
      ]
     },
     "execution_count": 64,
     "metadata": {},
     "output_type": "execute_result"
    }
   ],
   "source": [
    "dtc_predict_crewmate1_df[\"Equals_c1_dtc\"].value_counts()"
   ]
  },
  {
   "cell_type": "markdown",
   "metadata": {},
   "source": [
    "### Random Forest Classification - Model #1\n",
    "We perform a random forest classification in order to assess the validity of our features."
   ]
  },
  {
   "cell_type": "code",
   "execution_count": 65,
   "metadata": {},
   "outputs": [
    {
     "data": {
      "text/plain": [
       "0.606694560669456"
      ]
     },
     "execution_count": 65,
     "metadata": {},
     "output_type": "execute_result"
    }
   ],
   "source": [
    "rfc_crewmate1 = RandomForestClassifier()\n",
    "rfc_crewmate1 = rfc_crewmate1.fit(data_crewmate1_train, target_crewmate1_train)\n",
    "rfc_crewmate1.score(data_crewmate1_test, target_crewmate1_test)"
   ]
  },
  {
   "cell_type": "code",
   "execution_count": 66,
   "metadata": {},
   "outputs": [
    {
     "data": {
      "text/plain": [
       "[(0.6466626177577435, 'Game Length'),\n",
       " (0.1387208660265315, 'Task Completed'),\n",
       " (0.06908506309409737, 'Sabotages Fixed'),\n",
       " (0.05138654638041172, 'Murdered'),\n",
       " (0.017307958071834564, 'Afternoon'),\n",
       " (0.017299178075390192, 'Evening'),\n",
       " (0.01652204560768987, 'Ejected'),\n",
       " (0.01643801836666229, 'All Tasks Completed'),\n",
       " (0.014894131014961, 'Night'),\n",
       " (0.01168357560467807, 'Morning')]"
      ]
     },
     "execution_count": 66,
     "metadata": {},
     "output_type": "execute_result"
    }
   ],
   "source": [
    "sorted(zip(rfc_crewmate1.feature_importances_, features_crewmate1), reverse=True)"
   ]
  },
  {
   "cell_type": "code",
   "execution_count": 67,
   "metadata": {},
   "outputs": [
    {
     "data": {
      "text/html": [
       "<div>\n",
       "<style scoped>\n",
       "    .dataframe tbody tr th:only-of-type {\n",
       "        vertical-align: middle;\n",
       "    }\n",
       "\n",
       "    .dataframe tbody tr th {\n",
       "        vertical-align: top;\n",
       "    }\n",
       "\n",
       "    .dataframe thead th {\n",
       "        text-align: right;\n",
       "    }\n",
       "</style>\n",
       "<table border=\"1\" class=\"dataframe\">\n",
       "  <thead>\n",
       "    <tr style=\"text-align: right;\">\n",
       "      <th></th>\n",
       "      <th>Prediction_c1_rfc</th>\n",
       "      <th>Actual_c1_rfc</th>\n",
       "      <th>Equals_c1_rfc</th>\n",
       "    </tr>\n",
       "  </thead>\n",
       "  <tbody>\n",
       "    <tr>\n",
       "      <th>0</th>\n",
       "      <td>1</td>\n",
       "      <td>1</td>\n",
       "      <td>True</td>\n",
       "    </tr>\n",
       "    <tr>\n",
       "      <th>1</th>\n",
       "      <td>1</td>\n",
       "      <td>1</td>\n",
       "      <td>True</td>\n",
       "    </tr>\n",
       "    <tr>\n",
       "      <th>2</th>\n",
       "      <td>0</td>\n",
       "      <td>0</td>\n",
       "      <td>True</td>\n",
       "    </tr>\n",
       "    <tr>\n",
       "      <th>3</th>\n",
       "      <td>1</td>\n",
       "      <td>0</td>\n",
       "      <td>False</td>\n",
       "    </tr>\n",
       "    <tr>\n",
       "      <th>4</th>\n",
       "      <td>1</td>\n",
       "      <td>0</td>\n",
       "      <td>False</td>\n",
       "    </tr>\n",
       "    <tr>\n",
       "      <th>...</th>\n",
       "      <td>...</td>\n",
       "      <td>...</td>\n",
       "      <td>...</td>\n",
       "    </tr>\n",
       "    <tr>\n",
       "      <th>234</th>\n",
       "      <td>0</td>\n",
       "      <td>0</td>\n",
       "      <td>True</td>\n",
       "    </tr>\n",
       "    <tr>\n",
       "      <th>235</th>\n",
       "      <td>1</td>\n",
       "      <td>0</td>\n",
       "      <td>False</td>\n",
       "    </tr>\n",
       "    <tr>\n",
       "      <th>236</th>\n",
       "      <td>1</td>\n",
       "      <td>1</td>\n",
       "      <td>True</td>\n",
       "    </tr>\n",
       "    <tr>\n",
       "      <th>237</th>\n",
       "      <td>0</td>\n",
       "      <td>1</td>\n",
       "      <td>False</td>\n",
       "    </tr>\n",
       "    <tr>\n",
       "      <th>238</th>\n",
       "      <td>0</td>\n",
       "      <td>1</td>\n",
       "      <td>False</td>\n",
       "    </tr>\n",
       "  </tbody>\n",
       "</table>\n",
       "<p>239 rows × 3 columns</p>\n",
       "</div>"
      ],
      "text/plain": [
       "     Prediction_c1_rfc  Actual_c1_rfc  Equals_c1_rfc\n",
       "0                    1              1           True\n",
       "1                    1              1           True\n",
       "2                    0              0           True\n",
       "3                    1              0          False\n",
       "4                    1              0          False\n",
       "..                 ...            ...            ...\n",
       "234                  0              0           True\n",
       "235                  1              0          False\n",
       "236                  1              1           True\n",
       "237                  0              1          False\n",
       "238                  0              1          False\n",
       "\n",
       "[239 rows x 3 columns]"
      ]
     },
     "execution_count": 67,
     "metadata": {},
     "output_type": "execute_result"
    }
   ],
   "source": [
    "rfc_predict_crewmate1_df = pd.DataFrame({\n",
    "    \"Prediction_c1_rfc\" : rfc_crewmate1.predict(data_crewmate1_test),\n",
    "    \"Actual_c1_rfc\" : target_crewmate1_test\n",
    "})\n",
    "rfc_predict_crewmate1_df[\"Equals_c1_rfc\"] = rfc_predict_crewmate1_df[\"Prediction_c1_rfc\"].eq(rfc_predict_crewmate1_df[\"Actual_c1_rfc\"])\n",
    "rfc_predict_crewmate1_df"
   ]
  },
  {
   "cell_type": "code",
   "execution_count": 68,
   "metadata": {},
   "outputs": [
    {
     "data": {
      "text/plain": [
       "True     145\n",
       "False     94\n",
       "Name: Equals_c1_rfc, dtype: int64"
      ]
     },
     "execution_count": 68,
     "metadata": {},
     "output_type": "execute_result"
    }
   ],
   "source": [
    "rfc_predict_crewmate1_df[\"Equals_c1_rfc\"].value_counts()"
   ]
  },
  {
   "cell_type": "markdown",
   "metadata": {},
   "source": [
    "### Define Model #2\n",
    "We take our previous model and attempt to make it more accurate by removing **Night**.  \n",
    "This was one of the features with the lowest weight in our more accurate model (random forest classification).\n",
    "- **Target**: Outcome\n",
    "- **Data**: Game Length, Task Completed, All Tasks Completed, Sabotages Fixed, Murdered, Ejected, Morning, Afternoon, Evening"
   ]
  },
  {
   "cell_type": "code",
   "execution_count": 69,
   "metadata": {},
   "outputs": [],
   "source": [
    "target_crewmate2_train = crewmate_train_df[\"Outcome\"]\n",
    "data_crewmate2_train = crewmate_train_df[[\"Game Length\", \"Task Completed\", \"All Tasks Completed\", \"Sabotages Fixed\", \"Murdered\", \"Ejected\", \"Morning\", \"Afternoon\", \"Evening\"]]\n",
    "\n",
    "target_crewmate2_test = crewmate_test_df[\"Outcome\"]\n",
    "data_crewmate2_test = crewmate_test_df[[\"Game Length\", \"Task Completed\", \"All Tasks Completed\", \"Sabotages Fixed\", \"Murdered\", \"Ejected\", \"Morning\", \"Afternoon\", \"Evening\"]]\n",
    "\n",
    "features_crewmate2 = data_crewmate2_train.columns"
   ]
  },
  {
   "cell_type": "markdown",
   "metadata": {},
   "source": [
    "### Decision Tree Classification - Model #2\n",
    "We perform a decision tree classification in order to assess the validity of our features."
   ]
  },
  {
   "cell_type": "code",
   "execution_count": 70,
   "metadata": {},
   "outputs": [
    {
     "data": {
      "text/plain": [
       "0.5648535564853556"
      ]
     },
     "execution_count": 70,
     "metadata": {},
     "output_type": "execute_result"
    }
   ],
   "source": [
    "dtc_crewmate2 = tree.DecisionTreeClassifier()\n",
    "dtc_crewmate2 = dtc_crewmate2.fit(data_crewmate2_train, target_crewmate2_train)\n",
    "dtc_crewmate2.score(data_crewmate2_test, target_crewmate2_test)"
   ]
  },
  {
   "cell_type": "code",
   "execution_count": 71,
   "metadata": {},
   "outputs": [
    {
     "data": {
      "text/plain": [
       "[(0.5827661119333605, 'Game Length'),\n",
       " (0.11954121878687157, 'Task Completed'),\n",
       " (0.07848907209998987, 'Sabotages Fixed'),\n",
       " (0.04791989570205005, 'Evening'),\n",
       " (0.04682401181758376, 'Afternoon'),\n",
       " (0.043594194688478506, 'Murdered'),\n",
       " (0.036509695830830545, 'Morning'),\n",
       " (0.028357841778540987, 'All Tasks Completed'),\n",
       " (0.015997957362294295, 'Ejected')]"
      ]
     },
     "execution_count": 71,
     "metadata": {},
     "output_type": "execute_result"
    }
   ],
   "source": [
    "sorted(zip(dtc_crewmate2.feature_importances_, features_crewmate2), reverse=True)"
   ]
  },
  {
   "cell_type": "code",
   "execution_count": 72,
   "metadata": {},
   "outputs": [
    {
     "data": {
      "text/html": [
       "<div>\n",
       "<style scoped>\n",
       "    .dataframe tbody tr th:only-of-type {\n",
       "        vertical-align: middle;\n",
       "    }\n",
       "\n",
       "    .dataframe tbody tr th {\n",
       "        vertical-align: top;\n",
       "    }\n",
       "\n",
       "    .dataframe thead th {\n",
       "        text-align: right;\n",
       "    }\n",
       "</style>\n",
       "<table border=\"1\" class=\"dataframe\">\n",
       "  <thead>\n",
       "    <tr style=\"text-align: right;\">\n",
       "      <th></th>\n",
       "      <th>Prediction_c2_dtc</th>\n",
       "      <th>Actual_c2_dtc</th>\n",
       "      <th>Equals_c2_dtc</th>\n",
       "    </tr>\n",
       "  </thead>\n",
       "  <tbody>\n",
       "    <tr>\n",
       "      <th>0</th>\n",
       "      <td>1</td>\n",
       "      <td>1</td>\n",
       "      <td>True</td>\n",
       "    </tr>\n",
       "    <tr>\n",
       "      <th>1</th>\n",
       "      <td>1</td>\n",
       "      <td>1</td>\n",
       "      <td>True</td>\n",
       "    </tr>\n",
       "    <tr>\n",
       "      <th>2</th>\n",
       "      <td>0</td>\n",
       "      <td>0</td>\n",
       "      <td>True</td>\n",
       "    </tr>\n",
       "    <tr>\n",
       "      <th>3</th>\n",
       "      <td>1</td>\n",
       "      <td>0</td>\n",
       "      <td>False</td>\n",
       "    </tr>\n",
       "    <tr>\n",
       "      <th>4</th>\n",
       "      <td>1</td>\n",
       "      <td>0</td>\n",
       "      <td>False</td>\n",
       "    </tr>\n",
       "    <tr>\n",
       "      <th>...</th>\n",
       "      <td>...</td>\n",
       "      <td>...</td>\n",
       "      <td>...</td>\n",
       "    </tr>\n",
       "    <tr>\n",
       "      <th>234</th>\n",
       "      <td>1</td>\n",
       "      <td>0</td>\n",
       "      <td>False</td>\n",
       "    </tr>\n",
       "    <tr>\n",
       "      <th>235</th>\n",
       "      <td>0</td>\n",
       "      <td>0</td>\n",
       "      <td>True</td>\n",
       "    </tr>\n",
       "    <tr>\n",
       "      <th>236</th>\n",
       "      <td>0</td>\n",
       "      <td>1</td>\n",
       "      <td>False</td>\n",
       "    </tr>\n",
       "    <tr>\n",
       "      <th>237</th>\n",
       "      <td>0</td>\n",
       "      <td>1</td>\n",
       "      <td>False</td>\n",
       "    </tr>\n",
       "    <tr>\n",
       "      <th>238</th>\n",
       "      <td>1</td>\n",
       "      <td>1</td>\n",
       "      <td>True</td>\n",
       "    </tr>\n",
       "  </tbody>\n",
       "</table>\n",
       "<p>239 rows × 3 columns</p>\n",
       "</div>"
      ],
      "text/plain": [
       "     Prediction_c2_dtc  Actual_c2_dtc  Equals_c2_dtc\n",
       "0                    1              1           True\n",
       "1                    1              1           True\n",
       "2                    0              0           True\n",
       "3                    1              0          False\n",
       "4                    1              0          False\n",
       "..                 ...            ...            ...\n",
       "234                  1              0          False\n",
       "235                  0              0           True\n",
       "236                  0              1          False\n",
       "237                  0              1          False\n",
       "238                  1              1           True\n",
       "\n",
       "[239 rows x 3 columns]"
      ]
     },
     "execution_count": 72,
     "metadata": {},
     "output_type": "execute_result"
    }
   ],
   "source": [
    "dtc_predict_crewmate2_df = pd.DataFrame({\n",
    "    \"Prediction_c2_dtc\" : dtc_crewmate2.predict(data_crewmate2_test),\n",
    "    \"Actual_c2_dtc\" : target_crewmate2_test\n",
    "})\n",
    "dtc_predict_crewmate2_df[\"Equals_c2_dtc\"] = dtc_predict_crewmate2_df[\"Prediction_c2_dtc\"].eq(dtc_predict_crewmate2_df[\"Actual_c2_dtc\"])\n",
    "dtc_predict_crewmate2_df"
   ]
  },
  {
   "cell_type": "code",
   "execution_count": 73,
   "metadata": {},
   "outputs": [
    {
     "data": {
      "text/plain": [
       "True     135\n",
       "False    104\n",
       "Name: Equals_c2_dtc, dtype: int64"
      ]
     },
     "execution_count": 73,
     "metadata": {},
     "output_type": "execute_result"
    }
   ],
   "source": [
    "dtc_predict_crewmate2_df[\"Equals_c2_dtc\"].value_counts()"
   ]
  },
  {
   "cell_type": "markdown",
   "metadata": {},
   "source": [
    "### Random Forest Classification - Model #2\n",
    "We perform a random forest classification in order to assess the validity of our features."
   ]
  },
  {
   "cell_type": "code",
   "execution_count": 74,
   "metadata": {},
   "outputs": [
    {
     "data": {
      "text/plain": [
       "0.6108786610878661"
      ]
     },
     "execution_count": 74,
     "metadata": {},
     "output_type": "execute_result"
    }
   ],
   "source": [
    "rfc_crewmate2 = RandomForestClassifier()\n",
    "rfc_crewmate2 = rfc_crewmate2.fit(data_crewmate2_train, target_crewmate2_train)\n",
    "rfc_crewmate2.score(data_crewmate2_test, target_crewmate2_test)"
   ]
  },
  {
   "cell_type": "code",
   "execution_count": 75,
   "metadata": {},
   "outputs": [
    {
     "data": {
      "text/plain": [
       "[(0.6419366875190505, 'Game Length'),\n",
       " (0.1409275775346765, 'Task Completed'),\n",
       " (0.06671022729461266, 'Sabotages Fixed'),\n",
       " (0.05285837650583174, 'Murdered'),\n",
       " (0.023834122454847652, 'Evening'),\n",
       " (0.021125124389244, 'Afternoon'),\n",
       " (0.018839416225939494, 'All Tasks Completed'),\n",
       " (0.017689236608504084, 'Ejected'),\n",
       " (0.016079231467293453, 'Morning')]"
      ]
     },
     "execution_count": 75,
     "metadata": {},
     "output_type": "execute_result"
    }
   ],
   "source": [
    "sorted(zip(rfc_crewmate2.feature_importances_, features_crewmate2), reverse=True)"
   ]
  },
  {
   "cell_type": "code",
   "execution_count": 76,
   "metadata": {},
   "outputs": [
    {
     "data": {
      "text/html": [
       "<div>\n",
       "<style scoped>\n",
       "    .dataframe tbody tr th:only-of-type {\n",
       "        vertical-align: middle;\n",
       "    }\n",
       "\n",
       "    .dataframe tbody tr th {\n",
       "        vertical-align: top;\n",
       "    }\n",
       "\n",
       "    .dataframe thead th {\n",
       "        text-align: right;\n",
       "    }\n",
       "</style>\n",
       "<table border=\"1\" class=\"dataframe\">\n",
       "  <thead>\n",
       "    <tr style=\"text-align: right;\">\n",
       "      <th></th>\n",
       "      <th>Prediction_c2_rfc</th>\n",
       "      <th>Actual_c2_rfc</th>\n",
       "      <th>Equals_c2_rfc</th>\n",
       "    </tr>\n",
       "  </thead>\n",
       "  <tbody>\n",
       "    <tr>\n",
       "      <th>0</th>\n",
       "      <td>1</td>\n",
       "      <td>1</td>\n",
       "      <td>True</td>\n",
       "    </tr>\n",
       "    <tr>\n",
       "      <th>1</th>\n",
       "      <td>1</td>\n",
       "      <td>1</td>\n",
       "      <td>True</td>\n",
       "    </tr>\n",
       "    <tr>\n",
       "      <th>2</th>\n",
       "      <td>0</td>\n",
       "      <td>0</td>\n",
       "      <td>True</td>\n",
       "    </tr>\n",
       "    <tr>\n",
       "      <th>3</th>\n",
       "      <td>1</td>\n",
       "      <td>0</td>\n",
       "      <td>False</td>\n",
       "    </tr>\n",
       "    <tr>\n",
       "      <th>4</th>\n",
       "      <td>1</td>\n",
       "      <td>0</td>\n",
       "      <td>False</td>\n",
       "    </tr>\n",
       "    <tr>\n",
       "      <th>...</th>\n",
       "      <td>...</td>\n",
       "      <td>...</td>\n",
       "      <td>...</td>\n",
       "    </tr>\n",
       "    <tr>\n",
       "      <th>234</th>\n",
       "      <td>1</td>\n",
       "      <td>0</td>\n",
       "      <td>False</td>\n",
       "    </tr>\n",
       "    <tr>\n",
       "      <th>235</th>\n",
       "      <td>1</td>\n",
       "      <td>0</td>\n",
       "      <td>False</td>\n",
       "    </tr>\n",
       "    <tr>\n",
       "      <th>236</th>\n",
       "      <td>1</td>\n",
       "      <td>1</td>\n",
       "      <td>True</td>\n",
       "    </tr>\n",
       "    <tr>\n",
       "      <th>237</th>\n",
       "      <td>0</td>\n",
       "      <td>1</td>\n",
       "      <td>False</td>\n",
       "    </tr>\n",
       "    <tr>\n",
       "      <th>238</th>\n",
       "      <td>0</td>\n",
       "      <td>1</td>\n",
       "      <td>False</td>\n",
       "    </tr>\n",
       "  </tbody>\n",
       "</table>\n",
       "<p>239 rows × 3 columns</p>\n",
       "</div>"
      ],
      "text/plain": [
       "     Prediction_c2_rfc  Actual_c2_rfc  Equals_c2_rfc\n",
       "0                    1              1           True\n",
       "1                    1              1           True\n",
       "2                    0              0           True\n",
       "3                    1              0          False\n",
       "4                    1              0          False\n",
       "..                 ...            ...            ...\n",
       "234                  1              0          False\n",
       "235                  1              0          False\n",
       "236                  1              1           True\n",
       "237                  0              1          False\n",
       "238                  0              1          False\n",
       "\n",
       "[239 rows x 3 columns]"
      ]
     },
     "execution_count": 76,
     "metadata": {},
     "output_type": "execute_result"
    }
   ],
   "source": [
    "rfc_predict_crewmate2_df = pd.DataFrame({\n",
    "    \"Prediction_c2_rfc\" : rfc_crewmate2.predict(data_crewmate2_test),\n",
    "    \"Actual_c2_rfc\" : target_crewmate2_test\n",
    "})\n",
    "rfc_predict_crewmate2_df[\"Equals_c2_rfc\"] = rfc_predict_crewmate2_df[\"Prediction_c2_rfc\"].eq(rfc_predict_crewmate2_df[\"Actual_c2_rfc\"])\n",
    "rfc_predict_crewmate2_df"
   ]
  },
  {
   "cell_type": "code",
   "execution_count": 77,
   "metadata": {},
   "outputs": [
    {
     "data": {
      "text/plain": [
       "True     146\n",
       "False     93\n",
       "Name: Equals_c2_rfc, dtype: int64"
      ]
     },
     "execution_count": 77,
     "metadata": {},
     "output_type": "execute_result"
    }
   ],
   "source": [
    "rfc_predict_crewmate2_df[\"Equals_c2_rfc\"].value_counts()"
   ]
  },
  {
   "cell_type": "markdown",
   "metadata": {},
   "source": [
    "### Define Model #3\n",
    "It appears that keeping **Morning** lead to a comparably accurate model but we arrive at 2 options that we will test separately.  \n",
    "We'll first keep **Ejected** and drop **All Tasks Completed**. In the next model, we will do the opposite.\n",
    "- **Target**: Outcome\n",
    "- **Data**: Game Length, Task Completed, Sabotages Fixed, Murdered, Ejected, Morning, Afternoon, Evening"
   ]
  },
  {
   "cell_type": "code",
   "execution_count": 78,
   "metadata": {},
   "outputs": [],
   "source": [
    "target_crewmate3_train = crewmate_train_df[\"Outcome\"]\n",
    "data_crewmate3_train = crewmate_train_df[[\"Game Length\", \"Task Completed\", \"Sabotages Fixed\", \"Murdered\", \"Ejected\", \"Morning\", \"Afternoon\", \"Evening\"]]\n",
    "\n",
    "target_crewmate3_test = crewmate_test_df[\"Outcome\"]\n",
    "data_crewmate3_test = crewmate_test_df[[\"Game Length\", \"Task Completed\", \"Sabotages Fixed\", \"Murdered\", \"Ejected\", \"Morning\", \"Afternoon\", \"Evening\"]]\n",
    "\n",
    "features_crewmate3 = data_crewmate3_train.columns"
   ]
  },
  {
   "cell_type": "markdown",
   "metadata": {},
   "source": [
    "### Decision Tree Classification - Model #3\n",
    "We perform a decision tree classification in order to assess the validity of our features."
   ]
  },
  {
   "cell_type": "code",
   "execution_count": 79,
   "metadata": {},
   "outputs": [
    {
     "data": {
      "text/plain": [
       "0.5941422594142259"
      ]
     },
     "execution_count": 79,
     "metadata": {},
     "output_type": "execute_result"
    }
   ],
   "source": [
    "dtc_crewmate3 = tree.DecisionTreeClassifier()\n",
    "dtc_crewmate3 = dtc_crewmate3.fit(data_crewmate3_train, target_crewmate3_train)\n",
    "dtc_crewmate3.score(data_crewmate3_test, target_crewmate3_test)"
   ]
  },
  {
   "cell_type": "code",
   "execution_count": 80,
   "metadata": {},
   "outputs": [
    {
     "data": {
      "text/plain": [
       "[(0.5990158950383506, 'Game Length'),\n",
       " (0.13284874888803555, 'Task Completed'),\n",
       " (0.08744959012985341, 'Sabotages Fixed'),\n",
       " (0.04542488992225393, 'Afternoon'),\n",
       " (0.04359419468847851, 'Murdered'),\n",
       " (0.04220786766131564, 'Evening'),\n",
       " (0.03346085630941799, 'Morning'),\n",
       " (0.0159979573622943, 'Ejected')]"
      ]
     },
     "execution_count": 80,
     "metadata": {},
     "output_type": "execute_result"
    }
   ],
   "source": [
    "sorted(zip(dtc_crewmate3.feature_importances_, features_crewmate3), reverse=True)"
   ]
  },
  {
   "cell_type": "code",
   "execution_count": 81,
   "metadata": {},
   "outputs": [
    {
     "data": {
      "text/html": [
       "<div>\n",
       "<style scoped>\n",
       "    .dataframe tbody tr th:only-of-type {\n",
       "        vertical-align: middle;\n",
       "    }\n",
       "\n",
       "    .dataframe tbody tr th {\n",
       "        vertical-align: top;\n",
       "    }\n",
       "\n",
       "    .dataframe thead th {\n",
       "        text-align: right;\n",
       "    }\n",
       "</style>\n",
       "<table border=\"1\" class=\"dataframe\">\n",
       "  <thead>\n",
       "    <tr style=\"text-align: right;\">\n",
       "      <th></th>\n",
       "      <th>Prediction_c3_dtc</th>\n",
       "      <th>Actual_c3_dtc</th>\n",
       "      <th>Equals_c3_dtc</th>\n",
       "    </tr>\n",
       "  </thead>\n",
       "  <tbody>\n",
       "    <tr>\n",
       "      <th>0</th>\n",
       "      <td>1</td>\n",
       "      <td>1</td>\n",
       "      <td>True</td>\n",
       "    </tr>\n",
       "    <tr>\n",
       "      <th>1</th>\n",
       "      <td>1</td>\n",
       "      <td>1</td>\n",
       "      <td>True</td>\n",
       "    </tr>\n",
       "    <tr>\n",
       "      <th>2</th>\n",
       "      <td>1</td>\n",
       "      <td>0</td>\n",
       "      <td>False</td>\n",
       "    </tr>\n",
       "    <tr>\n",
       "      <th>3</th>\n",
       "      <td>1</td>\n",
       "      <td>0</td>\n",
       "      <td>False</td>\n",
       "    </tr>\n",
       "    <tr>\n",
       "      <th>4</th>\n",
       "      <td>1</td>\n",
       "      <td>0</td>\n",
       "      <td>False</td>\n",
       "    </tr>\n",
       "    <tr>\n",
       "      <th>...</th>\n",
       "      <td>...</td>\n",
       "      <td>...</td>\n",
       "      <td>...</td>\n",
       "    </tr>\n",
       "    <tr>\n",
       "      <th>234</th>\n",
       "      <td>1</td>\n",
       "      <td>0</td>\n",
       "      <td>False</td>\n",
       "    </tr>\n",
       "    <tr>\n",
       "      <th>235</th>\n",
       "      <td>0</td>\n",
       "      <td>0</td>\n",
       "      <td>True</td>\n",
       "    </tr>\n",
       "    <tr>\n",
       "      <th>236</th>\n",
       "      <td>1</td>\n",
       "      <td>1</td>\n",
       "      <td>True</td>\n",
       "    </tr>\n",
       "    <tr>\n",
       "      <th>237</th>\n",
       "      <td>1</td>\n",
       "      <td>1</td>\n",
       "      <td>True</td>\n",
       "    </tr>\n",
       "    <tr>\n",
       "      <th>238</th>\n",
       "      <td>1</td>\n",
       "      <td>1</td>\n",
       "      <td>True</td>\n",
       "    </tr>\n",
       "  </tbody>\n",
       "</table>\n",
       "<p>239 rows × 3 columns</p>\n",
       "</div>"
      ],
      "text/plain": [
       "     Prediction_c3_dtc  Actual_c3_dtc  Equals_c3_dtc\n",
       "0                    1              1           True\n",
       "1                    1              1           True\n",
       "2                    1              0          False\n",
       "3                    1              0          False\n",
       "4                    1              0          False\n",
       "..                 ...            ...            ...\n",
       "234                  1              0          False\n",
       "235                  0              0           True\n",
       "236                  1              1           True\n",
       "237                  1              1           True\n",
       "238                  1              1           True\n",
       "\n",
       "[239 rows x 3 columns]"
      ]
     },
     "execution_count": 81,
     "metadata": {},
     "output_type": "execute_result"
    }
   ],
   "source": [
    "dtc_predict_crewmate3_df = pd.DataFrame({\n",
    "    \"Prediction_c3_dtc\" : dtc_crewmate3.predict(data_crewmate3_test),\n",
    "    \"Actual_c3_dtc\" : target_crewmate3_test\n",
    "})\n",
    "dtc_predict_crewmate3_df[\"Equals_c3_dtc\"] = dtc_predict_crewmate3_df[\"Prediction_c3_dtc\"].eq(dtc_predict_crewmate3_df[\"Actual_c3_dtc\"])\n",
    "dtc_predict_crewmate3_df"
   ]
  },
  {
   "cell_type": "code",
   "execution_count": 82,
   "metadata": {},
   "outputs": [
    {
     "data": {
      "text/plain": [
       "True     142\n",
       "False     97\n",
       "Name: Equals_c3_dtc, dtype: int64"
      ]
     },
     "execution_count": 82,
     "metadata": {},
     "output_type": "execute_result"
    }
   ],
   "source": [
    "dtc_predict_crewmate3_df[\"Equals_c3_dtc\"].value_counts()"
   ]
  },
  {
   "cell_type": "markdown",
   "metadata": {},
   "source": [
    "### Random Forest Classification - Model #3\n",
    "We perform a random forest classification in order to assess the validity of our features."
   ]
  },
  {
   "cell_type": "code",
   "execution_count": 83,
   "metadata": {},
   "outputs": [
    {
     "data": {
      "text/plain": [
       "0.6108786610878661"
      ]
     },
     "execution_count": 83,
     "metadata": {},
     "output_type": "execute_result"
    }
   ],
   "source": [
    "rfc_crewmate3 = RandomForestClassifier()\n",
    "rfc_crewmate3 = rfc_crewmate3.fit(data_crewmate3_train, target_crewmate3_train)\n",
    "rfc_crewmate3.score(data_crewmate3_test, target_crewmate3_test)"
   ]
  },
  {
   "cell_type": "code",
   "execution_count": 84,
   "metadata": {},
   "outputs": [
    {
     "data": {
      "text/plain": [
       "[(0.6681262553988455, 'Game Length'),\n",
       " (0.15455103394050293, 'Task Completed'),\n",
       " (0.06091332188137887, 'Sabotages Fixed'),\n",
       " (0.05639939515449684, 'Murdered'),\n",
       " (0.01669143523092828, 'Ejected'),\n",
       " (0.01588573584503416, 'Afternoon'),\n",
       " (0.015099666345207955, 'Evening'),\n",
       " (0.012333156203605576, 'Morning')]"
      ]
     },
     "execution_count": 84,
     "metadata": {},
     "output_type": "execute_result"
    }
   ],
   "source": [
    "sorted(zip(rfc_crewmate3.feature_importances_, features_crewmate3), reverse=True)"
   ]
  },
  {
   "cell_type": "code",
   "execution_count": 85,
   "metadata": {},
   "outputs": [
    {
     "data": {
      "text/html": [
       "<div>\n",
       "<style scoped>\n",
       "    .dataframe tbody tr th:only-of-type {\n",
       "        vertical-align: middle;\n",
       "    }\n",
       "\n",
       "    .dataframe tbody tr th {\n",
       "        vertical-align: top;\n",
       "    }\n",
       "\n",
       "    .dataframe thead th {\n",
       "        text-align: right;\n",
       "    }\n",
       "</style>\n",
       "<table border=\"1\" class=\"dataframe\">\n",
       "  <thead>\n",
       "    <tr style=\"text-align: right;\">\n",
       "      <th></th>\n",
       "      <th>Prediction_c3_rfc</th>\n",
       "      <th>Actual_c3_rfc</th>\n",
       "      <th>Equals_c3_rfc</th>\n",
       "    </tr>\n",
       "  </thead>\n",
       "  <tbody>\n",
       "    <tr>\n",
       "      <th>0</th>\n",
       "      <td>1</td>\n",
       "      <td>1</td>\n",
       "      <td>True</td>\n",
       "    </tr>\n",
       "    <tr>\n",
       "      <th>1</th>\n",
       "      <td>1</td>\n",
       "      <td>1</td>\n",
       "      <td>True</td>\n",
       "    </tr>\n",
       "    <tr>\n",
       "      <th>2</th>\n",
       "      <td>1</td>\n",
       "      <td>0</td>\n",
       "      <td>False</td>\n",
       "    </tr>\n",
       "    <tr>\n",
       "      <th>3</th>\n",
       "      <td>1</td>\n",
       "      <td>0</td>\n",
       "      <td>False</td>\n",
       "    </tr>\n",
       "    <tr>\n",
       "      <th>4</th>\n",
       "      <td>1</td>\n",
       "      <td>0</td>\n",
       "      <td>False</td>\n",
       "    </tr>\n",
       "    <tr>\n",
       "      <th>...</th>\n",
       "      <td>...</td>\n",
       "      <td>...</td>\n",
       "      <td>...</td>\n",
       "    </tr>\n",
       "    <tr>\n",
       "      <th>234</th>\n",
       "      <td>1</td>\n",
       "      <td>0</td>\n",
       "      <td>False</td>\n",
       "    </tr>\n",
       "    <tr>\n",
       "      <th>235</th>\n",
       "      <td>0</td>\n",
       "      <td>0</td>\n",
       "      <td>True</td>\n",
       "    </tr>\n",
       "    <tr>\n",
       "      <th>236</th>\n",
       "      <td>1</td>\n",
       "      <td>1</td>\n",
       "      <td>True</td>\n",
       "    </tr>\n",
       "    <tr>\n",
       "      <th>237</th>\n",
       "      <td>0</td>\n",
       "      <td>1</td>\n",
       "      <td>False</td>\n",
       "    </tr>\n",
       "    <tr>\n",
       "      <th>238</th>\n",
       "      <td>0</td>\n",
       "      <td>1</td>\n",
       "      <td>False</td>\n",
       "    </tr>\n",
       "  </tbody>\n",
       "</table>\n",
       "<p>239 rows × 3 columns</p>\n",
       "</div>"
      ],
      "text/plain": [
       "     Prediction_c3_rfc  Actual_c3_rfc  Equals_c3_rfc\n",
       "0                    1              1           True\n",
       "1                    1              1           True\n",
       "2                    1              0          False\n",
       "3                    1              0          False\n",
       "4                    1              0          False\n",
       "..                 ...            ...            ...\n",
       "234                  1              0          False\n",
       "235                  0              0           True\n",
       "236                  1              1           True\n",
       "237                  0              1          False\n",
       "238                  0              1          False\n",
       "\n",
       "[239 rows x 3 columns]"
      ]
     },
     "execution_count": 85,
     "metadata": {},
     "output_type": "execute_result"
    }
   ],
   "source": [
    "rfc_predict_crewmate3_df = pd.DataFrame({\n",
    "    \"Prediction_c3_rfc\" : rfc_crewmate3.predict(data_crewmate3_test),\n",
    "    \"Actual_c3_rfc\" : target_crewmate3_test\n",
    "})\n",
    "rfc_predict_crewmate3_df[\"Equals_c3_rfc\"] = rfc_predict_crewmate3_df[\"Prediction_c3_rfc\"].eq(rfc_predict_crewmate3_df[\"Actual_c3_rfc\"])\n",
    "rfc_predict_crewmate3_df"
   ]
  },
  {
   "cell_type": "code",
   "execution_count": 86,
   "metadata": {},
   "outputs": [
    {
     "data": {
      "text/plain": [
       "True     146\n",
       "False     93\n",
       "Name: Equals_c3_rfc, dtype: int64"
      ]
     },
     "execution_count": 86,
     "metadata": {},
     "output_type": "execute_result"
    }
   ],
   "source": [
    "rfc_predict_crewmate3_df[\"Equals_c3_rfc\"].value_counts()"
   ]
  },
  {
   "cell_type": "markdown",
   "metadata": {},
   "source": [
    "### Define Model #4\n",
    "Now we'll do the inverse of **Model 3** as that model proved to be less accurate than **Model 2**.\n",
    "- **Target**: Outcome\n",
    "- **Data**: Game Length, Task Completed, All Tasks Completed, Sabotages Fixed, Murdered, Morning, Afternoon, Evening"
   ]
  },
  {
   "cell_type": "code",
   "execution_count": 87,
   "metadata": {},
   "outputs": [],
   "source": [
    "target_crewmate4_train = crewmate_train_df[\"Outcome\"]\n",
    "data_crewmate4_train = crewmate_train_df[[\"Game Length\", \"Task Completed\", \"All Tasks Completed\", \"Sabotages Fixed\", \"Murdered\", \"Morning\", \"Afternoon\", \"Evening\"]]\n",
    "\n",
    "target_crewmate4_test = crewmate_test_df[\"Outcome\"]\n",
    "data_crewmate4_test = crewmate_test_df[[\"Game Length\", \"Task Completed\", \"All Tasks Completed\", \"Sabotages Fixed\", \"Murdered\", \"Morning\", \"Afternoon\", \"Evening\"]]\n",
    "\n",
    "features_crewmate4 = data_crewmate4_train.columns"
   ]
  },
  {
   "cell_type": "markdown",
   "metadata": {},
   "source": [
    "### Decision Tree Classification - Model #4\n",
    "We perform a decision tree classification in order to assess the validity of our features."
   ]
  },
  {
   "cell_type": "code",
   "execution_count": 88,
   "metadata": {},
   "outputs": [
    {
     "data": {
      "text/plain": [
       "0.5397489539748954"
      ]
     },
     "execution_count": 88,
     "metadata": {},
     "output_type": "execute_result"
    }
   ],
   "source": [
    "dtc_crewmate4 = tree.DecisionTreeClassifier()\n",
    "dtc_crewmate4 = dtc_crewmate4.fit(data_crewmate4_train, target_crewmate4_train)\n",
    "dtc_crewmate4.score(data_crewmate4_test, target_crewmate4_test)"
   ]
  },
  {
   "cell_type": "code",
   "execution_count": 89,
   "metadata": {},
   "outputs": [
    {
     "data": {
      "text/plain": [
       "[(0.6115818279995003, 'Game Length'),\n",
       " (0.11358898149229184, 'Task Completed'),\n",
       " (0.08264910344016498, 'Sabotages Fixed'),\n",
       " (0.04848827164515879, 'Evening'),\n",
       " (0.043594194688478534, 'Murdered'),\n",
       " (0.03872974618412904, 'Afternoon'),\n",
       " (0.032457045996378615, 'Morning'),\n",
       " (0.02891082855389793, 'All Tasks Completed')]"
      ]
     },
     "execution_count": 89,
     "metadata": {},
     "output_type": "execute_result"
    }
   ],
   "source": [
    "sorted(zip(dtc_crewmate4.feature_importances_, features_crewmate4), reverse=True)"
   ]
  },
  {
   "cell_type": "code",
   "execution_count": 90,
   "metadata": {},
   "outputs": [
    {
     "data": {
      "text/html": [
       "<div>\n",
       "<style scoped>\n",
       "    .dataframe tbody tr th:only-of-type {\n",
       "        vertical-align: middle;\n",
       "    }\n",
       "\n",
       "    .dataframe tbody tr th {\n",
       "        vertical-align: top;\n",
       "    }\n",
       "\n",
       "    .dataframe thead th {\n",
       "        text-align: right;\n",
       "    }\n",
       "</style>\n",
       "<table border=\"1\" class=\"dataframe\">\n",
       "  <thead>\n",
       "    <tr style=\"text-align: right;\">\n",
       "      <th></th>\n",
       "      <th>Prediction_c4_dtc</th>\n",
       "      <th>Actual_c4_dtc</th>\n",
       "      <th>Equals_c4_dtc</th>\n",
       "    </tr>\n",
       "  </thead>\n",
       "  <tbody>\n",
       "    <tr>\n",
       "      <th>0</th>\n",
       "      <td>0</td>\n",
       "      <td>1</td>\n",
       "      <td>False</td>\n",
       "    </tr>\n",
       "    <tr>\n",
       "      <th>1</th>\n",
       "      <td>1</td>\n",
       "      <td>1</td>\n",
       "      <td>True</td>\n",
       "    </tr>\n",
       "    <tr>\n",
       "      <th>2</th>\n",
       "      <td>0</td>\n",
       "      <td>0</td>\n",
       "      <td>True</td>\n",
       "    </tr>\n",
       "    <tr>\n",
       "      <th>3</th>\n",
       "      <td>1</td>\n",
       "      <td>0</td>\n",
       "      <td>False</td>\n",
       "    </tr>\n",
       "    <tr>\n",
       "      <th>4</th>\n",
       "      <td>1</td>\n",
       "      <td>0</td>\n",
       "      <td>False</td>\n",
       "    </tr>\n",
       "    <tr>\n",
       "      <th>...</th>\n",
       "      <td>...</td>\n",
       "      <td>...</td>\n",
       "      <td>...</td>\n",
       "    </tr>\n",
       "    <tr>\n",
       "      <th>234</th>\n",
       "      <td>1</td>\n",
       "      <td>0</td>\n",
       "      <td>False</td>\n",
       "    </tr>\n",
       "    <tr>\n",
       "      <th>235</th>\n",
       "      <td>0</td>\n",
       "      <td>0</td>\n",
       "      <td>True</td>\n",
       "    </tr>\n",
       "    <tr>\n",
       "      <th>236</th>\n",
       "      <td>1</td>\n",
       "      <td>1</td>\n",
       "      <td>True</td>\n",
       "    </tr>\n",
       "    <tr>\n",
       "      <th>237</th>\n",
       "      <td>0</td>\n",
       "      <td>1</td>\n",
       "      <td>False</td>\n",
       "    </tr>\n",
       "    <tr>\n",
       "      <th>238</th>\n",
       "      <td>0</td>\n",
       "      <td>1</td>\n",
       "      <td>False</td>\n",
       "    </tr>\n",
       "  </tbody>\n",
       "</table>\n",
       "<p>239 rows × 3 columns</p>\n",
       "</div>"
      ],
      "text/plain": [
       "     Prediction_c4_dtc  Actual_c4_dtc  Equals_c4_dtc\n",
       "0                    0              1          False\n",
       "1                    1              1           True\n",
       "2                    0              0           True\n",
       "3                    1              0          False\n",
       "4                    1              0          False\n",
       "..                 ...            ...            ...\n",
       "234                  1              0          False\n",
       "235                  0              0           True\n",
       "236                  1              1           True\n",
       "237                  0              1          False\n",
       "238                  0              1          False\n",
       "\n",
       "[239 rows x 3 columns]"
      ]
     },
     "execution_count": 90,
     "metadata": {},
     "output_type": "execute_result"
    }
   ],
   "source": [
    "dtc_predict_crewmate4_df = pd.DataFrame({\n",
    "    \"Prediction_c4_dtc\" : dtc_crewmate4.predict(data_crewmate4_test),\n",
    "    \"Actual_c4_dtc\" : target_crewmate4_test\n",
    "})\n",
    "dtc_predict_crewmate4_df[\"Equals_c4_dtc\"] = dtc_predict_crewmate4_df[\"Prediction_c4_dtc\"].eq(dtc_predict_crewmate4_df[\"Actual_c4_dtc\"])\n",
    "dtc_predict_crewmate4_df"
   ]
  },
  {
   "cell_type": "code",
   "execution_count": 91,
   "metadata": {},
   "outputs": [
    {
     "data": {
      "text/plain": [
       "True     129\n",
       "False    110\n",
       "Name: Equals_c4_dtc, dtype: int64"
      ]
     },
     "execution_count": 91,
     "metadata": {},
     "output_type": "execute_result"
    }
   ],
   "source": [
    "dtc_predict_crewmate4_df[\"Equals_c4_dtc\"].value_counts()"
   ]
  },
  {
   "cell_type": "markdown",
   "metadata": {},
   "source": [
    "### Random Forest Classification - Model #4\n",
    "We perform a random forest classification in order to assess the validity of our features."
   ]
  },
  {
   "cell_type": "code",
   "execution_count": 92,
   "metadata": {},
   "outputs": [
    {
     "data": {
      "text/plain": [
       "0.5815899581589958"
      ]
     },
     "execution_count": 92,
     "metadata": {},
     "output_type": "execute_result"
    }
   ],
   "source": [
    "rfc_crewmate4 = RandomForestClassifier()\n",
    "rfc_crewmate4 = rfc_crewmate4.fit(data_crewmate4_train, target_crewmate4_train)\n",
    "rfc_crewmate4.score(data_crewmate4_test, target_crewmate4_test)"
   ]
  },
  {
   "cell_type": "code",
   "execution_count": 93,
   "metadata": {},
   "outputs": [
    {
     "data": {
      "text/plain": [
       "[(0.6772647201919592, 'Game Length'),\n",
       " (0.14129626258909206, 'Task Completed'),\n",
       " (0.06615173174178486, 'Sabotages Fixed'),\n",
       " (0.049748490360219846, 'Murdered'),\n",
       " (0.019660307072998644, 'Evening'),\n",
       " (0.017685456397077123, 'Afternoon'),\n",
       " (0.015053153290260251, 'All Tasks Completed'),\n",
       " (0.013139878356608035, 'Morning')]"
      ]
     },
     "execution_count": 93,
     "metadata": {},
     "output_type": "execute_result"
    }
   ],
   "source": [
    "sorted(zip(rfc_crewmate4.feature_importances_, features_crewmate4), reverse=True)"
   ]
  },
  {
   "cell_type": "code",
   "execution_count": 94,
   "metadata": {},
   "outputs": [
    {
     "data": {
      "text/html": [
       "<div>\n",
       "<style scoped>\n",
       "    .dataframe tbody tr th:only-of-type {\n",
       "        vertical-align: middle;\n",
       "    }\n",
       "\n",
       "    .dataframe tbody tr th {\n",
       "        vertical-align: top;\n",
       "    }\n",
       "\n",
       "    .dataframe thead th {\n",
       "        text-align: right;\n",
       "    }\n",
       "</style>\n",
       "<table border=\"1\" class=\"dataframe\">\n",
       "  <thead>\n",
       "    <tr style=\"text-align: right;\">\n",
       "      <th></th>\n",
       "      <th>Prediction_c4_rfc</th>\n",
       "      <th>Actual_c4_rfc</th>\n",
       "      <th>Equals_c4_rfc</th>\n",
       "    </tr>\n",
       "  </thead>\n",
       "  <tbody>\n",
       "    <tr>\n",
       "      <th>0</th>\n",
       "      <td>0</td>\n",
       "      <td>1</td>\n",
       "      <td>False</td>\n",
       "    </tr>\n",
       "    <tr>\n",
       "      <th>1</th>\n",
       "      <td>1</td>\n",
       "      <td>1</td>\n",
       "      <td>True</td>\n",
       "    </tr>\n",
       "    <tr>\n",
       "      <th>2</th>\n",
       "      <td>0</td>\n",
       "      <td>0</td>\n",
       "      <td>True</td>\n",
       "    </tr>\n",
       "    <tr>\n",
       "      <th>3</th>\n",
       "      <td>1</td>\n",
       "      <td>0</td>\n",
       "      <td>False</td>\n",
       "    </tr>\n",
       "    <tr>\n",
       "      <th>4</th>\n",
       "      <td>1</td>\n",
       "      <td>0</td>\n",
       "      <td>False</td>\n",
       "    </tr>\n",
       "    <tr>\n",
       "      <th>...</th>\n",
       "      <td>...</td>\n",
       "      <td>...</td>\n",
       "      <td>...</td>\n",
       "    </tr>\n",
       "    <tr>\n",
       "      <th>234</th>\n",
       "      <td>1</td>\n",
       "      <td>0</td>\n",
       "      <td>False</td>\n",
       "    </tr>\n",
       "    <tr>\n",
       "      <th>235</th>\n",
       "      <td>1</td>\n",
       "      <td>0</td>\n",
       "      <td>False</td>\n",
       "    </tr>\n",
       "    <tr>\n",
       "      <th>236</th>\n",
       "      <td>1</td>\n",
       "      <td>1</td>\n",
       "      <td>True</td>\n",
       "    </tr>\n",
       "    <tr>\n",
       "      <th>237</th>\n",
       "      <td>0</td>\n",
       "      <td>1</td>\n",
       "      <td>False</td>\n",
       "    </tr>\n",
       "    <tr>\n",
       "      <th>238</th>\n",
       "      <td>0</td>\n",
       "      <td>1</td>\n",
       "      <td>False</td>\n",
       "    </tr>\n",
       "  </tbody>\n",
       "</table>\n",
       "<p>239 rows × 3 columns</p>\n",
       "</div>"
      ],
      "text/plain": [
       "     Prediction_c4_rfc  Actual_c4_rfc  Equals_c4_rfc\n",
       "0                    0              1          False\n",
       "1                    1              1           True\n",
       "2                    0              0           True\n",
       "3                    1              0          False\n",
       "4                    1              0          False\n",
       "..                 ...            ...            ...\n",
       "234                  1              0          False\n",
       "235                  1              0          False\n",
       "236                  1              1           True\n",
       "237                  0              1          False\n",
       "238                  0              1          False\n",
       "\n",
       "[239 rows x 3 columns]"
      ]
     },
     "execution_count": 94,
     "metadata": {},
     "output_type": "execute_result"
    }
   ],
   "source": [
    "rfc_predict_crewmate4_df = pd.DataFrame({\n",
    "    \"Prediction_c4_rfc\" : rfc_crewmate4.predict(data_crewmate4_test),\n",
    "    \"Actual_c4_rfc\" : target_crewmate4_test\n",
    "})\n",
    "rfc_predict_crewmate4_df[\"Equals_c4_rfc\"] = rfc_predict_crewmate4_df[\"Prediction_c4_rfc\"].eq(rfc_predict_crewmate4_df[\"Actual_c4_rfc\"])\n",
    "rfc_predict_crewmate4_df"
   ]
  },
  {
   "cell_type": "code",
   "execution_count": 95,
   "metadata": {},
   "outputs": [
    {
     "data": {
      "text/plain": [
       "True     139\n",
       "False    100\n",
       "Name: Equals_c4_rfc, dtype: int64"
      ]
     },
     "execution_count": 95,
     "metadata": {},
     "output_type": "execute_result"
    }
   ],
   "source": [
    "rfc_predict_crewmate4_df[\"Equals_c4_rfc\"].value_counts()"
   ]
  },
  {
   "cell_type": "markdown",
   "metadata": {},
   "source": [
    "### Define Model #5\n",
    "As it appears that **Model 3** is most accurate so we will keep the **Ejected** feature.  \n",
    "To attempt to identify a more salient direction, we can try building off of **Model 1** again. One consistenly low feature is **All Tasks Completed** so we'll try removing just that.\n",
    "- **Target**: Outcome\n",
    "- **Data**: Game Length, Task Completed, Sabotages Fixed, Murdered, Ejected, Night, Morning, Afternoon, Evening"
   ]
  },
  {
   "cell_type": "code",
   "execution_count": 96,
   "metadata": {},
   "outputs": [],
   "source": [
    "target_crewmate5_train = crewmate_train_df[\"Outcome\"]\n",
    "data_crewmate5_train = crewmate_train_df[[\"Game Length\", \"Task Completed\", \"Sabotages Fixed\", \"Murdered\", \"Ejected\", \"Night\", \"Morning\", \"Afternoon\", \"Evening\"]]\n",
    "\n",
    "target_crewmate5_test = crewmate_test_df[\"Outcome\"]\n",
    "data_crewmate5_test = crewmate_test_df[[\"Game Length\", \"Task Completed\", \"Sabotages Fixed\", \"Murdered\", \"Ejected\", \"Night\", \"Morning\", \"Afternoon\", \"Evening\"]]\n",
    "\n",
    "features_crewmate5 = data_crewmate5_train.columns "
   ]
  },
  {
   "cell_type": "markdown",
   "metadata": {},
   "source": [
    "### Decision Tree Classification - Model #5\n",
    "We perform a decision tree classification in order to assess the validity of our features."
   ]
  },
  {
   "cell_type": "code",
   "execution_count": 97,
   "metadata": {},
   "outputs": [
    {
     "data": {
      "text/plain": [
       "0.5481171548117155"
      ]
     },
     "execution_count": 97,
     "metadata": {},
     "output_type": "execute_result"
    }
   ],
   "source": [
    "dtc_crewmate5 = tree.DecisionTreeClassifier()\n",
    "dtc_crewmate5 = dtc_crewmate5.fit(data_crewmate5_train, target_crewmate5_train)\n",
    "dtc_crewmate5.score(data_crewmate5_test, target_crewmate5_test)"
   ]
  },
  {
   "cell_type": "code",
   "execution_count": 98,
   "metadata": {},
   "outputs": [
    {
     "data": {
      "text/plain": [
       "[(0.5972112871391243, 'Game Length'),\n",
       " (0.12618136856826237, 'Task Completed'),\n",
       " (0.08916343187686591, 'Sabotages Fixed'),\n",
       " (0.043594194688478506, 'Murdered'),\n",
       " (0.03827696132728934, 'Evening'),\n",
       " (0.03637831434011873, 'Morning'),\n",
       " (0.030185278154165985, 'Afternoon'),\n",
       " (0.023011206543400615, 'Night'),\n",
       " (0.015997957362294295, 'Ejected')]"
      ]
     },
     "execution_count": 98,
     "metadata": {},
     "output_type": "execute_result"
    }
   ],
   "source": [
    "sorted(zip(dtc_crewmate5.feature_importances_, features_crewmate5), reverse=True)"
   ]
  },
  {
   "cell_type": "code",
   "execution_count": 99,
   "metadata": {},
   "outputs": [
    {
     "data": {
      "text/html": [
       "<div>\n",
       "<style scoped>\n",
       "    .dataframe tbody tr th:only-of-type {\n",
       "        vertical-align: middle;\n",
       "    }\n",
       "\n",
       "    .dataframe tbody tr th {\n",
       "        vertical-align: top;\n",
       "    }\n",
       "\n",
       "    .dataframe thead th {\n",
       "        text-align: right;\n",
       "    }\n",
       "</style>\n",
       "<table border=\"1\" class=\"dataframe\">\n",
       "  <thead>\n",
       "    <tr style=\"text-align: right;\">\n",
       "      <th></th>\n",
       "      <th>Prediction_c5_dtc</th>\n",
       "      <th>Actual_c5_dtc</th>\n",
       "      <th>Equals_c5_dtc</th>\n",
       "    </tr>\n",
       "  </thead>\n",
       "  <tbody>\n",
       "    <tr>\n",
       "      <th>0</th>\n",
       "      <td>1</td>\n",
       "      <td>1</td>\n",
       "      <td>True</td>\n",
       "    </tr>\n",
       "    <tr>\n",
       "      <th>1</th>\n",
       "      <td>1</td>\n",
       "      <td>1</td>\n",
       "      <td>True</td>\n",
       "    </tr>\n",
       "    <tr>\n",
       "      <th>2</th>\n",
       "      <td>1</td>\n",
       "      <td>0</td>\n",
       "      <td>False</td>\n",
       "    </tr>\n",
       "    <tr>\n",
       "      <th>3</th>\n",
       "      <td>1</td>\n",
       "      <td>0</td>\n",
       "      <td>False</td>\n",
       "    </tr>\n",
       "    <tr>\n",
       "      <th>4</th>\n",
       "      <td>1</td>\n",
       "      <td>0</td>\n",
       "      <td>False</td>\n",
       "    </tr>\n",
       "    <tr>\n",
       "      <th>...</th>\n",
       "      <td>...</td>\n",
       "      <td>...</td>\n",
       "      <td>...</td>\n",
       "    </tr>\n",
       "    <tr>\n",
       "      <th>234</th>\n",
       "      <td>1</td>\n",
       "      <td>0</td>\n",
       "      <td>False</td>\n",
       "    </tr>\n",
       "    <tr>\n",
       "      <th>235</th>\n",
       "      <td>0</td>\n",
       "      <td>0</td>\n",
       "      <td>True</td>\n",
       "    </tr>\n",
       "    <tr>\n",
       "      <th>236</th>\n",
       "      <td>1</td>\n",
       "      <td>1</td>\n",
       "      <td>True</td>\n",
       "    </tr>\n",
       "    <tr>\n",
       "      <th>237</th>\n",
       "      <td>0</td>\n",
       "      <td>1</td>\n",
       "      <td>False</td>\n",
       "    </tr>\n",
       "    <tr>\n",
       "      <th>238</th>\n",
       "      <td>1</td>\n",
       "      <td>1</td>\n",
       "      <td>True</td>\n",
       "    </tr>\n",
       "  </tbody>\n",
       "</table>\n",
       "<p>239 rows × 3 columns</p>\n",
       "</div>"
      ],
      "text/plain": [
       "     Prediction_c5_dtc  Actual_c5_dtc  Equals_c5_dtc\n",
       "0                    1              1           True\n",
       "1                    1              1           True\n",
       "2                    1              0          False\n",
       "3                    1              0          False\n",
       "4                    1              0          False\n",
       "..                 ...            ...            ...\n",
       "234                  1              0          False\n",
       "235                  0              0           True\n",
       "236                  1              1           True\n",
       "237                  0              1          False\n",
       "238                  1              1           True\n",
       "\n",
       "[239 rows x 3 columns]"
      ]
     },
     "execution_count": 99,
     "metadata": {},
     "output_type": "execute_result"
    }
   ],
   "source": [
    "dtc_predict_crewmate5_df = pd.DataFrame({\n",
    "    \"Prediction_c5_dtc\" : dtc_crewmate5.predict(data_crewmate5_test),\n",
    "    \"Actual_c5_dtc\" : target_crewmate5_test\n",
    "})\n",
    "dtc_predict_crewmate5_df[\"Equals_c5_dtc\"] = dtc_predict_crewmate5_df[\"Prediction_c5_dtc\"].eq(dtc_predict_crewmate5_df[\"Actual_c5_dtc\"])\n",
    "dtc_predict_crewmate5_df"
   ]
  },
  {
   "cell_type": "code",
   "execution_count": 100,
   "metadata": {},
   "outputs": [
    {
     "data": {
      "text/plain": [
       "True     131\n",
       "False    108\n",
       "Name: Equals_c5_dtc, dtype: int64"
      ]
     },
     "execution_count": 100,
     "metadata": {},
     "output_type": "execute_result"
    }
   ],
   "source": [
    "dtc_predict_crewmate5_df[\"Equals_c5_dtc\"].value_counts()"
   ]
  },
  {
   "cell_type": "markdown",
   "metadata": {},
   "source": [
    "### Random Forest Classification - Model #5\n",
    "We perform a random forest classification in order to assess the validity of our features."
   ]
  },
  {
   "cell_type": "code",
   "execution_count": 101,
   "metadata": {},
   "outputs": [
    {
     "data": {
      "text/plain": [
       "0.6317991631799164"
      ]
     },
     "execution_count": 101,
     "metadata": {},
     "output_type": "execute_result"
    }
   ],
   "source": [
    "rfc_crewmate5 = RandomForestClassifier()\n",
    "rfc_crewmate5 = rfc_crewmate5.fit(data_crewmate5_train, target_crewmate5_train)\n",
    "rfc_crewmate5.score(data_crewmate5_test, target_crewmate5_test)"
   ]
  },
  {
   "cell_type": "code",
   "execution_count": 102,
   "metadata": {},
   "outputs": [
    {
     "data": {
      "text/plain": [
       "[(0.6608181759835491, 'Game Length'),\n",
       " (0.15673425673302535, 'Task Completed'),\n",
       " (0.06697509022463712, 'Sabotages Fixed'),\n",
       " (0.04952074353139898, 'Murdered'),\n",
       " (0.017901295171507285, 'Ejected'),\n",
       " (0.014533000781459322, 'Evening'),\n",
       " (0.011898392376413405, 'Afternoon'),\n",
       " (0.011762853326605534, 'Night'),\n",
       " (0.009856191871403915, 'Morning')]"
      ]
     },
     "execution_count": 102,
     "metadata": {},
     "output_type": "execute_result"
    }
   ],
   "source": [
    "sorted(zip(rfc_crewmate5.feature_importances_, features_crewmate5), reverse=True)"
   ]
  },
  {
   "cell_type": "code",
   "execution_count": 103,
   "metadata": {},
   "outputs": [
    {
     "data": {
      "text/html": [
       "<div>\n",
       "<style scoped>\n",
       "    .dataframe tbody tr th:only-of-type {\n",
       "        vertical-align: middle;\n",
       "    }\n",
       "\n",
       "    .dataframe tbody tr th {\n",
       "        vertical-align: top;\n",
       "    }\n",
       "\n",
       "    .dataframe thead th {\n",
       "        text-align: right;\n",
       "    }\n",
       "</style>\n",
       "<table border=\"1\" class=\"dataframe\">\n",
       "  <thead>\n",
       "    <tr style=\"text-align: right;\">\n",
       "      <th></th>\n",
       "      <th>Prediction_c5_rfc</th>\n",
       "      <th>Actual_c5_rfc</th>\n",
       "      <th>Equals_c5_rfc</th>\n",
       "    </tr>\n",
       "  </thead>\n",
       "  <tbody>\n",
       "    <tr>\n",
       "      <th>0</th>\n",
       "      <td>1</td>\n",
       "      <td>1</td>\n",
       "      <td>True</td>\n",
       "    </tr>\n",
       "    <tr>\n",
       "      <th>1</th>\n",
       "      <td>1</td>\n",
       "      <td>1</td>\n",
       "      <td>True</td>\n",
       "    </tr>\n",
       "    <tr>\n",
       "      <th>2</th>\n",
       "      <td>1</td>\n",
       "      <td>0</td>\n",
       "      <td>False</td>\n",
       "    </tr>\n",
       "    <tr>\n",
       "      <th>3</th>\n",
       "      <td>1</td>\n",
       "      <td>0</td>\n",
       "      <td>False</td>\n",
       "    </tr>\n",
       "    <tr>\n",
       "      <th>4</th>\n",
       "      <td>1</td>\n",
       "      <td>0</td>\n",
       "      <td>False</td>\n",
       "    </tr>\n",
       "    <tr>\n",
       "      <th>...</th>\n",
       "      <td>...</td>\n",
       "      <td>...</td>\n",
       "      <td>...</td>\n",
       "    </tr>\n",
       "    <tr>\n",
       "      <th>234</th>\n",
       "      <td>1</td>\n",
       "      <td>0</td>\n",
       "      <td>False</td>\n",
       "    </tr>\n",
       "    <tr>\n",
       "      <th>235</th>\n",
       "      <td>0</td>\n",
       "      <td>0</td>\n",
       "      <td>True</td>\n",
       "    </tr>\n",
       "    <tr>\n",
       "      <th>236</th>\n",
       "      <td>1</td>\n",
       "      <td>1</td>\n",
       "      <td>True</td>\n",
       "    </tr>\n",
       "    <tr>\n",
       "      <th>237</th>\n",
       "      <td>0</td>\n",
       "      <td>1</td>\n",
       "      <td>False</td>\n",
       "    </tr>\n",
       "    <tr>\n",
       "      <th>238</th>\n",
       "      <td>0</td>\n",
       "      <td>1</td>\n",
       "      <td>False</td>\n",
       "    </tr>\n",
       "  </tbody>\n",
       "</table>\n",
       "<p>239 rows × 3 columns</p>\n",
       "</div>"
      ],
      "text/plain": [
       "     Prediction_c5_rfc  Actual_c5_rfc  Equals_c5_rfc\n",
       "0                    1              1           True\n",
       "1                    1              1           True\n",
       "2                    1              0          False\n",
       "3                    1              0          False\n",
       "4                    1              0          False\n",
       "..                 ...            ...            ...\n",
       "234                  1              0          False\n",
       "235                  0              0           True\n",
       "236                  1              1           True\n",
       "237                  0              1          False\n",
       "238                  0              1          False\n",
       "\n",
       "[239 rows x 3 columns]"
      ]
     },
     "execution_count": 103,
     "metadata": {},
     "output_type": "execute_result"
    }
   ],
   "source": [
    "rfc_predict_crewmate5_df = pd.DataFrame({\n",
    "    \"Prediction_c5_rfc\" : rfc_crewmate5.predict(data_crewmate5_test),\n",
    "    \"Actual_c5_rfc\" : target_crewmate5_test\n",
    "})\n",
    "rfc_predict_crewmate5_df[\"Equals_c5_rfc\"] = rfc_predict_crewmate5_df[\"Prediction_c5_rfc\"].eq(rfc_predict_crewmate5_df[\"Actual_c5_rfc\"])\n",
    "rfc_predict_crewmate5_df"
   ]
  },
  {
   "cell_type": "code",
   "execution_count": 104,
   "metadata": {},
   "outputs": [
    {
     "data": {
      "text/plain": [
       "True     151\n",
       "False     88\n",
       "Name: Equals_c5_rfc, dtype: int64"
      ]
     },
     "execution_count": 104,
     "metadata": {},
     "output_type": "execute_result"
    }
   ],
   "source": [
    "rfc_predict_crewmate5_df[\"Equals_c5_rfc\"].value_counts()"
   ]
  },
  {
   "cell_type": "markdown",
   "metadata": {},
   "source": [
    "### Crewmate Conclusions\n",
    "Although we attempted to fine tune and improve our model, it appears that we stumbled on success early on.  \n",
    "Our best model is **Model 2**, which includes Game Length, Task Completed, All Tasks Completed, Sabotages Fixed, Murdered, Ejected, Afternoon, Evening features. This model offers an 0.5983263598326359 for DTC and 0.6401673640167364 for RFC in predictive accuracy."
   ]
  },
  {
   "cell_type": "code",
   "execution_count": null,
   "metadata": {},
   "outputs": [],
   "source": []
  }
 ],
 "metadata": {
  "kernelspec": {
   "display_name": "Python 3",
   "language": "python",
   "name": "python3"
  },
  "language_info": {
   "codemirror_mode": {
    "name": "ipython",
    "version": 3
   },
   "file_extension": ".py",
   "mimetype": "text/x-python",
   "name": "python",
   "nbconvert_exporter": "python",
   "pygments_lexer": "ipython3",
   "version": "3.8.5"
  }
 },
 "nbformat": 4,
 "nbformat_minor": 4
}
