{
 "cells": [
  {
   "cell_type": "markdown",
   "metadata": {},
   "source": [
    "# Setting up the Notebook"
   ]
  },
  {
   "cell_type": "markdown",
   "metadata": {},
   "source": [
    "## Dependencies\n",
    "Loading in dependencies for the project.\n",
    "- **pandas**: Used for DataFrame wrangling\n",
    "- **os**: Used to define the filepath to load in data\n",
    "- **datetime**: Used for date/time conversions\n",
    "- **numpy**: Used for randomization and other\n",
    "- **sklearn tree**: Decision Tree Classifier function\n",
    "- **sklearn.ensemble RandomForestClassifier**: Decision Tree Classifier function"
   ]
  },
  {
   "cell_type": "code",
   "execution_count": 1,
   "metadata": {},
   "outputs": [],
   "source": [
    "import pandas as pd\n",
    "import os\n",
    "import numpy as np\n",
    "from sklearn import tree\n",
    "from sklearn.ensemble import RandomForestClassifier"
   ]
  },
  {
   "cell_type": "markdown",
   "metadata": {},
   "source": [
    "### Global Seed\n",
    "We will define the global seed that we will later use to randomly select training and testing groups.  \n",
    "We used *2021* but you can use whatever number you would like to very your results."
   ]
  },
  {
   "cell_type": "code",
   "execution_count": 2,
   "metadata": {},
   "outputs": [],
   "source": [
    "global_seed = 2021"
   ]
  },
  {
   "cell_type": "code",
   "execution_count": 3,
   "metadata": {},
   "outputs": [],
   "source": [
    "np.random.seed(global_seed)"
   ]
  },
  {
   "cell_type": "markdown",
   "metadata": {},
   "source": [
    "## Load in our Machine Learning DataFrame\n",
    "We have a DataFrame that was built specifically for machine learning and other analytics. \n",
    "We load that in here."
   ]
  },
  {
   "cell_type": "code",
   "execution_count": 4,
   "metadata": {},
   "outputs": [],
   "source": [
    "file_to_load1 = os.path.join(\"Output Data\", \"ml_df.csv\")\n",
    "ml_df = pd.read_csv(file_to_load1)"
   ]
  },
  {
   "cell_type": "markdown",
   "metadata": {},
   "source": [
    "# Machine Learning\n",
    "Now that we have all necessary fields in a passable format, we will look to classify **Outcome** using a Decision Tree classifier."
   ]
  },
  {
   "cell_type": "markdown",
   "metadata": {},
   "source": [
    "## Create our training and testing groups\n",
    "To avoid having any one **User**'s game results used to predict their other game results, we will be randomly selecting 5 **User**s as the testing group.  \n",
    "This will cause there to be an imbalance between training and testing data, straying from a 4:1 ratio and between **Crewmate** and **Imposter** analysis. Given the explicit problem caused otherwise, we will use this method until a more appropriate method is determined."
   ]
  },
  {
   "cell_type": "markdown",
   "metadata": {},
   "source": [
    "### Create a list of users\n",
    "We will use this list to split our data into a training and test groups"
   ]
  },
  {
   "cell_type": "code",
   "execution_count": 5,
   "metadata": {},
   "outputs": [
    {
     "data": {
      "text/plain": [
       "[1,\n",
       " 2,\n",
       " 3,\n",
       " 4,\n",
       " 5,\n",
       " 6,\n",
       " 7,\n",
       " 8,\n",
       " 9,\n",
       " 10,\n",
       " 11,\n",
       " 12,\n",
       " 13,\n",
       " 14,\n",
       " 15,\n",
       " 16,\n",
       " 17,\n",
       " 18,\n",
       " 19,\n",
       " 20,\n",
       " 21,\n",
       " 22,\n",
       " 23,\n",
       " 24,\n",
       " 25,\n",
       " 26,\n",
       " 27,\n",
       " 28,\n",
       " 29]"
      ]
     },
     "execution_count": 5,
     "metadata": {},
     "output_type": "execute_result"
    }
   ],
   "source": [
    "user_list = np.arange(1, ml_df[\"User\"].astype(int).max() + 1, 1).tolist()\n",
    "user_list"
   ]
  },
  {
   "cell_type": "markdown",
   "metadata": {},
   "source": [
    "### Define groups\n",
    "We will define our test group first, specifying without replacement to avoid repetition.  \n",
    "We then define our training group by what is not in our test group."
   ]
  },
  {
   "cell_type": "code",
   "execution_count": 6,
   "metadata": {},
   "outputs": [
    {
     "data": {
      "text/plain": [
       "array([15, 18, 12,  5, 10])"
      ]
     },
     "execution_count": 6,
     "metadata": {},
     "output_type": "execute_result"
    }
   ],
   "source": [
    "test_list = np.random.choice(user_list, 5, replace = False)\n",
    "test_list"
   ]
  },
  {
   "cell_type": "code",
   "execution_count": 7,
   "metadata": {},
   "outputs": [
    {
     "data": {
      "text/plain": [
       "array([ 1,  2,  3,  4,  6,  7,  8,  9, 11, 13, 14, 16, 17, 19, 20, 21, 22,\n",
       "       23, 24, 25, 26, 27, 28, 29])"
      ]
     },
     "execution_count": 7,
     "metadata": {},
     "output_type": "execute_result"
    }
   ],
   "source": [
    "train_list = []\n",
    "for x in user_list:\n",
    "    if x not in test_list:\n",
    "        train_list.append(x)\n",
    "train_list = np.array(train_list)\n",
    "train_list"
   ]
  },
  {
   "cell_type": "markdown",
   "metadata": {},
   "source": [
    "Using our test and training lists, we split our data."
   ]
  },
  {
   "cell_type": "code",
   "execution_count": 8,
   "metadata": {},
   "outputs": [],
   "source": [
    "test_group = ml_df.loc[ml_df[\"User\"].astype(int).isin(test_list)]\n",
    "train_group = ml_df.loc[ml_df[\"User\"].astype(int).isin(train_list)]"
   ]
  },
  {
   "cell_type": "markdown",
   "metadata": {},
   "source": [
    "Split our groups between crewmates and imposters and drop unnecessary columns."
   ]
  },
  {
   "cell_type": "code",
   "execution_count": 9,
   "metadata": {},
   "outputs": [],
   "source": [
    "crewmate_test_df = test_group.loc[test_group[\"Team\"] == 1].reset_index(drop=True)\n",
    "crewmate_test_df.drop(columns = [\"Imposter Kills\"], inplace = True)\n",
    "crewmate_train_df = train_group.loc[train_group[\"Team\"] == 1].reset_index(drop=True)\n",
    "crewmate_train_df.drop(columns = [\"Imposter Kills\"], inplace = True)\n",
    "\n",
    "imposter_test_df = test_group.loc[test_group[\"Team\"] == 0].reset_index(drop=True)\n",
    "imposter_test_df.drop(columns = [\"Task Completed\", \"All Tasks Completed\", \"Sabotages Fixed\", \"Time to complete all tasks\", \"Murdered\"], inplace = True)\n",
    "imposter_train_df = train_group.loc[train_group[\"Team\"] == 0].reset_index(drop=True)\n",
    "imposter_train_df.drop(columns = [\"Task Completed\", \"All Tasks Completed\", \"Sabotages Fixed\", \"Time to complete all tasks\", \"Murdered\"], inplace = True)"
   ]
  },
  {
   "cell_type": "code",
   "execution_count": 10,
   "metadata": {},
   "outputs": [
    {
     "data": {
      "text/plain": [
       "Index(['User', 'Team', 'Outcome', 'Game Length', 'Task Completed',\n",
       "       'All Tasks Completed', 'Time to complete all tasks', 'Sabotages Fixed',\n",
       "       'Murdered', 'Ejected', 'Night', 'Morning', 'Afternoon', 'Evening'],\n",
       "      dtype='object')"
      ]
     },
     "execution_count": 10,
     "metadata": {},
     "output_type": "execute_result"
    }
   ],
   "source": [
    "crewmate_train_df.columns"
   ]
  },
  {
   "cell_type": "code",
   "execution_count": 11,
   "metadata": {},
   "outputs": [
    {
     "data": {
      "text/plain": [
       "Index(['User', 'Team', 'Outcome', 'Game Length', 'Imposter Kills', 'Ejected',\n",
       "       'Night', 'Morning', 'Afternoon', 'Evening'],\n",
       "      dtype='object')"
      ]
     },
     "execution_count": 11,
     "metadata": {},
     "output_type": "execute_result"
    }
   ],
   "source": [
    "imposter_train_df.columns"
   ]
  },
  {
   "cell_type": "markdown",
   "metadata": {},
   "source": [
    "## Machine Learning - Imposter\n",
    "We start by defining an appropriate model to predict wins or losses for **Imposter**s."
   ]
  },
  {
   "cell_type": "markdown",
   "metadata": {},
   "source": [
    "### Define Model #1\n",
    "We will have to specify what it is that we are trying to predict and with what data.\n",
    "- **Target**: Outcome\n",
    "- **Data**: Game Length, Imposter Kills, Ejected, Night, Morning, Afternoon, Evening"
   ]
  },
  {
   "cell_type": "code",
   "execution_count": 12,
   "metadata": {},
   "outputs": [],
   "source": [
    "target_imposter_train = imposter_train_df[\"Outcome\"]\n",
    "data_imposter_train = imposter_train_df[[\"Game Length\", \"Imposter Kills\", \"Ejected\", \"Night\", \"Morning\", \"Afternoon\", \"Evening\"]]\n",
    "\n",
    "target_imposter_test = imposter_test_df[\"Outcome\"]\n",
    "data_imposter_test = imposter_test_df[[\"Game Length\", \"Imposter Kills\", \"Ejected\", \"Night\", \"Morning\", \"Afternoon\", \"Evening\"]]\n",
    "\n",
    "features_imposter1 = data_imposter_train.columns"
   ]
  },
  {
   "cell_type": "markdown",
   "metadata": {},
   "source": [
    "### Decision Tree Classification - Model #1\n",
    "We perform a decision tree classification in order to assess the validity of our features."
   ]
  },
  {
   "cell_type": "code",
   "execution_count": 13,
   "metadata": {},
   "outputs": [
    {
     "data": {
      "text/plain": [
       "0.6301369863013698"
      ]
     },
     "execution_count": 13,
     "metadata": {},
     "output_type": "execute_result"
    }
   ],
   "source": [
    "dtc_imposter1 = tree.DecisionTreeClassifier()\n",
    "dtc_imposter1 = dtc_imposter1.fit(data_imposter_train, target_imposter_train)\n",
    "dtc_imposter1.score(data_imposter_test, target_imposter_test)"
   ]
  },
  {
   "cell_type": "code",
   "execution_count": 14,
   "metadata": {},
   "outputs": [
    {
     "data": {
      "text/plain": [
       "[(0.5623060456191042, 'Game Length'),\n",
       " (0.2287844680453208, 'Ejected'),\n",
       " (0.0993935890391066, 'Imposter Kills'),\n",
       " (0.04277191763224575, 'Afternoon'),\n",
       " (0.03248067072065414, 'Morning'),\n",
       " (0.02270246153168223, 'Night'),\n",
       " (0.011560847411886253, 'Evening')]"
      ]
     },
     "execution_count": 14,
     "metadata": {},
     "output_type": "execute_result"
    }
   ],
   "source": [
    "sorted(zip(dtc_imposter1.feature_importances_, features_imposter1), reverse=True)"
   ]
  },
  {
   "cell_type": "code",
   "execution_count": 15,
   "metadata": {},
   "outputs": [
    {
     "data": {
      "text/html": [
       "<div>\n",
       "<style scoped>\n",
       "    .dataframe tbody tr th:only-of-type {\n",
       "        vertical-align: middle;\n",
       "    }\n",
       "\n",
       "    .dataframe tbody tr th {\n",
       "        vertical-align: top;\n",
       "    }\n",
       "\n",
       "    .dataframe thead th {\n",
       "        text-align: right;\n",
       "    }\n",
       "</style>\n",
       "<table border=\"1\" class=\"dataframe\">\n",
       "  <thead>\n",
       "    <tr style=\"text-align: right;\">\n",
       "      <th></th>\n",
       "      <th>Prediction_i</th>\n",
       "      <th>Actual_i</th>\n",
       "      <th>Equals_i</th>\n",
       "    </tr>\n",
       "  </thead>\n",
       "  <tbody>\n",
       "    <tr>\n",
       "      <th>0</th>\n",
       "      <td>0</td>\n",
       "      <td>0</td>\n",
       "      <td>True</td>\n",
       "    </tr>\n",
       "    <tr>\n",
       "      <th>1</th>\n",
       "      <td>0</td>\n",
       "      <td>1</td>\n",
       "      <td>False</td>\n",
       "    </tr>\n",
       "    <tr>\n",
       "      <th>2</th>\n",
       "      <td>0</td>\n",
       "      <td>1</td>\n",
       "      <td>False</td>\n",
       "    </tr>\n",
       "    <tr>\n",
       "      <th>3</th>\n",
       "      <td>0</td>\n",
       "      <td>1</td>\n",
       "      <td>False</td>\n",
       "    </tr>\n",
       "    <tr>\n",
       "      <th>4</th>\n",
       "      <td>0</td>\n",
       "      <td>0</td>\n",
       "      <td>True</td>\n",
       "    </tr>\n",
       "    <tr>\n",
       "      <th>...</th>\n",
       "      <td>...</td>\n",
       "      <td>...</td>\n",
       "      <td>...</td>\n",
       "    </tr>\n",
       "    <tr>\n",
       "      <th>68</th>\n",
       "      <td>1</td>\n",
       "      <td>0</td>\n",
       "      <td>False</td>\n",
       "    </tr>\n",
       "    <tr>\n",
       "      <th>69</th>\n",
       "      <td>0</td>\n",
       "      <td>0</td>\n",
       "      <td>True</td>\n",
       "    </tr>\n",
       "    <tr>\n",
       "      <th>70</th>\n",
       "      <td>1</td>\n",
       "      <td>1</td>\n",
       "      <td>True</td>\n",
       "    </tr>\n",
       "    <tr>\n",
       "      <th>71</th>\n",
       "      <td>1</td>\n",
       "      <td>1</td>\n",
       "      <td>True</td>\n",
       "    </tr>\n",
       "    <tr>\n",
       "      <th>72</th>\n",
       "      <td>1</td>\n",
       "      <td>0</td>\n",
       "      <td>False</td>\n",
       "    </tr>\n",
       "  </tbody>\n",
       "</table>\n",
       "<p>73 rows × 3 columns</p>\n",
       "</div>"
      ],
      "text/plain": [
       "    Prediction_i  Actual_i  Equals_i\n",
       "0              0         0      True\n",
       "1              0         1     False\n",
       "2              0         1     False\n",
       "3              0         1     False\n",
       "4              0         0      True\n",
       "..           ...       ...       ...\n",
       "68             1         0     False\n",
       "69             0         0      True\n",
       "70             1         1      True\n",
       "71             1         1      True\n",
       "72             1         0     False\n",
       "\n",
       "[73 rows x 3 columns]"
      ]
     },
     "execution_count": 15,
     "metadata": {},
     "output_type": "execute_result"
    }
   ],
   "source": [
    "dtc_predict_imposter1_df = pd.DataFrame({\n",
    "    \"Prediction_i\" : dtc_imposter1.predict(data_imposter_test),\n",
    "    \"Actual_i\" : target_imposter_test\n",
    "})\n",
    "dtc_predict_imposter1_df[\"Equals_i\"] = dtc_predict_imposter1_df[\"Prediction_i\"].eq(dtc_predict_imposter1_df[\"Actual_i\"])\n",
    "dtc_predict_imposter1_df"
   ]
  },
  {
   "cell_type": "code",
   "execution_count": 16,
   "metadata": {},
   "outputs": [
    {
     "data": {
      "text/plain": [
       "True     46\n",
       "False    27\n",
       "Name: Equals_i, dtype: int64"
      ]
     },
     "execution_count": 16,
     "metadata": {},
     "output_type": "execute_result"
    }
   ],
   "source": [
    "dtc_predict_imposter1_df[\"Equals_i\"].value_counts()"
   ]
  },
  {
   "cell_type": "markdown",
   "metadata": {},
   "source": [
    "### Random Forest Classification - Model #1\n",
    "We perform a random forest classification in order to assess the validity of our features."
   ]
  },
  {
   "cell_type": "code",
   "execution_count": 17,
   "metadata": {},
   "outputs": [
    {
     "data": {
      "text/plain": [
       "0.7123287671232876"
      ]
     },
     "execution_count": 17,
     "metadata": {},
     "output_type": "execute_result"
    }
   ],
   "source": [
    "rfc_imposter1 = RandomForestClassifier()\n",
    "rfc_imposter1 = rfc_imposter1.fit(data_imposter_train, target_imposter_train)\n",
    "rfc_imposter1.score(data_imposter_test, target_imposter_test)"
   ]
  },
  {
   "cell_type": "code",
   "execution_count": 18,
   "metadata": {},
   "outputs": [
    {
     "data": {
      "text/plain": [
       "[(0.6166183835200303, 'Game Length'),\n",
       " (0.2121020934185452, 'Ejected'),\n",
       " (0.11476197539069986, 'Imposter Kills'),\n",
       " (0.015487820504724298, 'Afternoon'),\n",
       " (0.01434570354969304, 'Morning'),\n",
       " (0.013565037297346157, 'Evening'),\n",
       " (0.01311898631896125, 'Night')]"
      ]
     },
     "execution_count": 18,
     "metadata": {},
     "output_type": "execute_result"
    }
   ],
   "source": [
    "sorted(zip(rfc_imposter1.feature_importances_, features_imposter1), reverse=True)"
   ]
  },
  {
   "cell_type": "code",
   "execution_count": 19,
   "metadata": {},
   "outputs": [
    {
     "data": {
      "text/html": [
       "<div>\n",
       "<style scoped>\n",
       "    .dataframe tbody tr th:only-of-type {\n",
       "        vertical-align: middle;\n",
       "    }\n",
       "\n",
       "    .dataframe tbody tr th {\n",
       "        vertical-align: top;\n",
       "    }\n",
       "\n",
       "    .dataframe thead th {\n",
       "        text-align: right;\n",
       "    }\n",
       "</style>\n",
       "<table border=\"1\" class=\"dataframe\">\n",
       "  <thead>\n",
       "    <tr style=\"text-align: right;\">\n",
       "      <th></th>\n",
       "      <th>Prediction_i</th>\n",
       "      <th>Actual_i</th>\n",
       "      <th>Equals_i</th>\n",
       "    </tr>\n",
       "  </thead>\n",
       "  <tbody>\n",
       "    <tr>\n",
       "      <th>0</th>\n",
       "      <td>0</td>\n",
       "      <td>0</td>\n",
       "      <td>True</td>\n",
       "    </tr>\n",
       "    <tr>\n",
       "      <th>1</th>\n",
       "      <td>0</td>\n",
       "      <td>1</td>\n",
       "      <td>False</td>\n",
       "    </tr>\n",
       "    <tr>\n",
       "      <th>2</th>\n",
       "      <td>1</td>\n",
       "      <td>1</td>\n",
       "      <td>True</td>\n",
       "    </tr>\n",
       "    <tr>\n",
       "      <th>3</th>\n",
       "      <td>0</td>\n",
       "      <td>1</td>\n",
       "      <td>False</td>\n",
       "    </tr>\n",
       "    <tr>\n",
       "      <th>4</th>\n",
       "      <td>0</td>\n",
       "      <td>0</td>\n",
       "      <td>True</td>\n",
       "    </tr>\n",
       "    <tr>\n",
       "      <th>...</th>\n",
       "      <td>...</td>\n",
       "      <td>...</td>\n",
       "      <td>...</td>\n",
       "    </tr>\n",
       "    <tr>\n",
       "      <th>68</th>\n",
       "      <td>1</td>\n",
       "      <td>0</td>\n",
       "      <td>False</td>\n",
       "    </tr>\n",
       "    <tr>\n",
       "      <th>69</th>\n",
       "      <td>0</td>\n",
       "      <td>0</td>\n",
       "      <td>True</td>\n",
       "    </tr>\n",
       "    <tr>\n",
       "      <th>70</th>\n",
       "      <td>1</td>\n",
       "      <td>1</td>\n",
       "      <td>True</td>\n",
       "    </tr>\n",
       "    <tr>\n",
       "      <th>71</th>\n",
       "      <td>1</td>\n",
       "      <td>1</td>\n",
       "      <td>True</td>\n",
       "    </tr>\n",
       "    <tr>\n",
       "      <th>72</th>\n",
       "      <td>1</td>\n",
       "      <td>0</td>\n",
       "      <td>False</td>\n",
       "    </tr>\n",
       "  </tbody>\n",
       "</table>\n",
       "<p>73 rows × 3 columns</p>\n",
       "</div>"
      ],
      "text/plain": [
       "    Prediction_i  Actual_i  Equals_i\n",
       "0              0         0      True\n",
       "1              0         1     False\n",
       "2              1         1      True\n",
       "3              0         1     False\n",
       "4              0         0      True\n",
       "..           ...       ...       ...\n",
       "68             1         0     False\n",
       "69             0         0      True\n",
       "70             1         1      True\n",
       "71             1         1      True\n",
       "72             1         0     False\n",
       "\n",
       "[73 rows x 3 columns]"
      ]
     },
     "execution_count": 19,
     "metadata": {},
     "output_type": "execute_result"
    }
   ],
   "source": [
    "rfc_predict_imposter1_df = pd.DataFrame({\n",
    "    \"Prediction_i\" : rfc_imposter1.predict(data_imposter_test),\n",
    "    \"Actual_i\" : target_imposter_test\n",
    "})\n",
    "rfc_predict_imposter1_df[\"Equals_i\"] = rfc_predict_imposter1_df[\"Prediction_i\"].eq(rfc_predict_imposter1_df[\"Actual_i\"])\n",
    "rfc_predict_imposter1_df"
   ]
  },
  {
   "cell_type": "code",
   "execution_count": 20,
   "metadata": {},
   "outputs": [
    {
     "data": {
      "text/plain": [
       "True     52\n",
       "False    21\n",
       "Name: Equals_i, dtype: int64"
      ]
     },
     "execution_count": 20,
     "metadata": {},
     "output_type": "execute_result"
    }
   ],
   "source": [
    "rfc_predict_imposter1_df[\"Equals_i\"].value_counts()"
   ]
  },
  {
   "cell_type": "markdown",
   "metadata": {},
   "source": [
    "## Machine Learning - Crewmate\n",
    "We start by defining appropriate models to predict wins or losses for **Crewmate**s."
   ]
  },
  {
   "cell_type": "markdown",
   "metadata": {},
   "source": [
    "### Define Model #1\n",
    "We will have to specify what it is that we are trying to predict and with what data.\n",
    "- **Target**: Outcome\n",
    "- **Data**: Game Length, All Tasks Completed, Sabotages Fixed, Murdered, Ejected, Night, Morning, Afternoon, Evening"
   ]
  },
  {
   "cell_type": "code",
   "execution_count": 21,
   "metadata": {},
   "outputs": [],
   "source": [
    "target_crewmate1_train = crewmate_train_df[\"Outcome\"]\n",
    "data_crewmate1_train = crewmate_train_df[[\"Game Length\", \"All Tasks Completed\", \"Sabotages Fixed\", \"Murdered\", \"Ejected\", \"Night\", \"Morning\", \"Afternoon\", \"Evening\"]]\n",
    "\n",
    "target_crewmate1_test = crewmate_test_df[\"Outcome\"]\n",
    "data_crewmate1_test = crewmate_test_df[[\"Game Length\", \"All Tasks Completed\", \"Sabotages Fixed\", \"Murdered\", \"Ejected\", \"Night\", \"Morning\", \"Afternoon\", \"Evening\"]]\n",
    "\n",
    "features_crewmate1 = data_crewmate1_train.columns"
   ]
  },
  {
   "cell_type": "markdown",
   "metadata": {},
   "source": [
    "### Decision Tree Classification - Model #1\n",
    "We perform a decision tree classification in order to assess the validity of our features."
   ]
  },
  {
   "cell_type": "code",
   "execution_count": 22,
   "metadata": {},
   "outputs": [
    {
     "data": {
      "text/plain": [
       "0.5780730897009967"
      ]
     },
     "execution_count": 22,
     "metadata": {},
     "output_type": "execute_result"
    }
   ],
   "source": [
    "dtc_crewmate1 = tree.DecisionTreeClassifier()\n",
    "dtc_crewmate1 = dtc_crewmate1.fit(data_crewmate1_train, target_crewmate1_train)\n",
    "dtc_crewmate1.score(data_crewmate1_test, target_crewmate1_test)"
   ]
  },
  {
   "cell_type": "code",
   "execution_count": 23,
   "metadata": {},
   "outputs": [
    {
     "data": {
      "text/plain": [
       "[(0.6734855275533298, 'Game Length'),\n",
       " (0.08768017558122011, 'Sabotages Fixed'),\n",
       " (0.04738038850550324, 'Murdered'),\n",
       " (0.04384758086740087, 'All Tasks Completed'),\n",
       " (0.036958648764409276, 'Afternoon'),\n",
       " (0.03521100011929915, 'Evening'),\n",
       " (0.03291061216392996, 'Morning'),\n",
       " (0.02520449428099215, 'Night'),\n",
       " (0.017321572163915444, 'Ejected')]"
      ]
     },
     "execution_count": 23,
     "metadata": {},
     "output_type": "execute_result"
    }
   ],
   "source": [
    "sorted(zip(dtc_crewmate1.feature_importances_, features_crewmate1), reverse=True)"
   ]
  },
  {
   "cell_type": "code",
   "execution_count": 24,
   "metadata": {},
   "outputs": [
    {
     "data": {
      "text/html": [
       "<div>\n",
       "<style scoped>\n",
       "    .dataframe tbody tr th:only-of-type {\n",
       "        vertical-align: middle;\n",
       "    }\n",
       "\n",
       "    .dataframe tbody tr th {\n",
       "        vertical-align: top;\n",
       "    }\n",
       "\n",
       "    .dataframe thead th {\n",
       "        text-align: right;\n",
       "    }\n",
       "</style>\n",
       "<table border=\"1\" class=\"dataframe\">\n",
       "  <thead>\n",
       "    <tr style=\"text-align: right;\">\n",
       "      <th></th>\n",
       "      <th>Prediction_c1</th>\n",
       "      <th>Actual_c1</th>\n",
       "      <th>Equals_c1</th>\n",
       "    </tr>\n",
       "  </thead>\n",
       "  <tbody>\n",
       "    <tr>\n",
       "      <th>0</th>\n",
       "      <td>0</td>\n",
       "      <td>1</td>\n",
       "      <td>False</td>\n",
       "    </tr>\n",
       "    <tr>\n",
       "      <th>1</th>\n",
       "      <td>1</td>\n",
       "      <td>1</td>\n",
       "      <td>True</td>\n",
       "    </tr>\n",
       "    <tr>\n",
       "      <th>2</th>\n",
       "      <td>1</td>\n",
       "      <td>0</td>\n",
       "      <td>False</td>\n",
       "    </tr>\n",
       "    <tr>\n",
       "      <th>3</th>\n",
       "      <td>1</td>\n",
       "      <td>1</td>\n",
       "      <td>True</td>\n",
       "    </tr>\n",
       "    <tr>\n",
       "      <th>4</th>\n",
       "      <td>1</td>\n",
       "      <td>1</td>\n",
       "      <td>True</td>\n",
       "    </tr>\n",
       "    <tr>\n",
       "      <th>...</th>\n",
       "      <td>...</td>\n",
       "      <td>...</td>\n",
       "      <td>...</td>\n",
       "    </tr>\n",
       "    <tr>\n",
       "      <th>296</th>\n",
       "      <td>0</td>\n",
       "      <td>0</td>\n",
       "      <td>True</td>\n",
       "    </tr>\n",
       "    <tr>\n",
       "      <th>297</th>\n",
       "      <td>1</td>\n",
       "      <td>1</td>\n",
       "      <td>True</td>\n",
       "    </tr>\n",
       "    <tr>\n",
       "      <th>298</th>\n",
       "      <td>1</td>\n",
       "      <td>0</td>\n",
       "      <td>False</td>\n",
       "    </tr>\n",
       "    <tr>\n",
       "      <th>299</th>\n",
       "      <td>1</td>\n",
       "      <td>1</td>\n",
       "      <td>True</td>\n",
       "    </tr>\n",
       "    <tr>\n",
       "      <th>300</th>\n",
       "      <td>1</td>\n",
       "      <td>1</td>\n",
       "      <td>True</td>\n",
       "    </tr>\n",
       "  </tbody>\n",
       "</table>\n",
       "<p>301 rows × 3 columns</p>\n",
       "</div>"
      ],
      "text/plain": [
       "     Prediction_c1  Actual_c1  Equals_c1\n",
       "0                0          1      False\n",
       "1                1          1       True\n",
       "2                1          0      False\n",
       "3                1          1       True\n",
       "4                1          1       True\n",
       "..             ...        ...        ...\n",
       "296              0          0       True\n",
       "297              1          1       True\n",
       "298              1          0      False\n",
       "299              1          1       True\n",
       "300              1          1       True\n",
       "\n",
       "[301 rows x 3 columns]"
      ]
     },
     "execution_count": 24,
     "metadata": {},
     "output_type": "execute_result"
    }
   ],
   "source": [
    "dtc_predict_crewmate1_df = pd.DataFrame({\n",
    "    \"Prediction_c1\" : dtc_crewmate1.predict(data_crewmate1_test),\n",
    "    \"Actual_c1\" : target_crewmate1_test\n",
    "})\n",
    "dtc_predict_crewmate1_df[\"Equals_c1\"] = dtc_predict_crewmate1_df[\"Prediction_c1\"].eq(dtc_predict_crewmate1_df[\"Actual_c1\"])\n",
    "dtc_predict_crewmate1_df"
   ]
  },
  {
   "cell_type": "code",
   "execution_count": 25,
   "metadata": {},
   "outputs": [
    {
     "data": {
      "text/plain": [
       "True     174\n",
       "False    127\n",
       "Name: Equals_c1, dtype: int64"
      ]
     },
     "execution_count": 25,
     "metadata": {},
     "output_type": "execute_result"
    }
   ],
   "source": [
    "dtc_predict_crewmate1_df[\"Equals_c1\"].value_counts()"
   ]
  },
  {
   "cell_type": "markdown",
   "metadata": {},
   "source": [
    "### Random Forest Classification - Model #1\n",
    "We perform a random forest classification in order to assess the validity of our features."
   ]
  },
  {
   "cell_type": "code",
   "execution_count": 26,
   "metadata": {},
   "outputs": [
    {
     "data": {
      "text/plain": [
       "0.5116279069767442"
      ]
     },
     "execution_count": 26,
     "metadata": {},
     "output_type": "execute_result"
    }
   ],
   "source": [
    "rfc_crewmate1 = RandomForestClassifier()\n",
    "rfc_crewmate1 = rfc_crewmate1.fit(data_crewmate1_train, target_crewmate1_train)\n",
    "rfc_crewmate1.score(data_crewmate1_test, target_crewmate1_test)"
   ]
  },
  {
   "cell_type": "code",
   "execution_count": 27,
   "metadata": {},
   "outputs": [
    {
     "data": {
      "text/plain": [
       "[(0.7915341715344302, 'Game Length'),\n",
       " (0.06933640050907076, 'Sabotages Fixed'),\n",
       " (0.054825823161697644, 'Murdered'),\n",
       " (0.02357477788631491, 'All Tasks Completed'),\n",
       " (0.018231946368486875, 'Ejected'),\n",
       " (0.01344326908852262, 'Evening'),\n",
       " (0.010365502750487966, 'Afternoon'),\n",
       " (0.009698607710739843, 'Night'),\n",
       " (0.008989500990249182, 'Morning')]"
      ]
     },
     "execution_count": 27,
     "metadata": {},
     "output_type": "execute_result"
    }
   ],
   "source": [
    "sorted(zip(rfc_crewmate1.feature_importances_, features_crewmate1), reverse=True)"
   ]
  },
  {
   "cell_type": "code",
   "execution_count": 28,
   "metadata": {},
   "outputs": [
    {
     "data": {
      "text/html": [
       "<div>\n",
       "<style scoped>\n",
       "    .dataframe tbody tr th:only-of-type {\n",
       "        vertical-align: middle;\n",
       "    }\n",
       "\n",
       "    .dataframe tbody tr th {\n",
       "        vertical-align: top;\n",
       "    }\n",
       "\n",
       "    .dataframe thead th {\n",
       "        text-align: right;\n",
       "    }\n",
       "</style>\n",
       "<table border=\"1\" class=\"dataframe\">\n",
       "  <thead>\n",
       "    <tr style=\"text-align: right;\">\n",
       "      <th></th>\n",
       "      <th>Prediction_c1</th>\n",
       "      <th>Actual_c1</th>\n",
       "      <th>Equals_c1</th>\n",
       "    </tr>\n",
       "  </thead>\n",
       "  <tbody>\n",
       "    <tr>\n",
       "      <th>0</th>\n",
       "      <td>0</td>\n",
       "      <td>1</td>\n",
       "      <td>False</td>\n",
       "    </tr>\n",
       "    <tr>\n",
       "      <th>1</th>\n",
       "      <td>0</td>\n",
       "      <td>1</td>\n",
       "      <td>False</td>\n",
       "    </tr>\n",
       "    <tr>\n",
       "      <th>2</th>\n",
       "      <td>1</td>\n",
       "      <td>0</td>\n",
       "      <td>False</td>\n",
       "    </tr>\n",
       "    <tr>\n",
       "      <th>3</th>\n",
       "      <td>1</td>\n",
       "      <td>1</td>\n",
       "      <td>True</td>\n",
       "    </tr>\n",
       "    <tr>\n",
       "      <th>4</th>\n",
       "      <td>1</td>\n",
       "      <td>1</td>\n",
       "      <td>True</td>\n",
       "    </tr>\n",
       "    <tr>\n",
       "      <th>...</th>\n",
       "      <td>...</td>\n",
       "      <td>...</td>\n",
       "      <td>...</td>\n",
       "    </tr>\n",
       "    <tr>\n",
       "      <th>296</th>\n",
       "      <td>0</td>\n",
       "      <td>0</td>\n",
       "      <td>True</td>\n",
       "    </tr>\n",
       "    <tr>\n",
       "      <th>297</th>\n",
       "      <td>0</td>\n",
       "      <td>1</td>\n",
       "      <td>False</td>\n",
       "    </tr>\n",
       "    <tr>\n",
       "      <th>298</th>\n",
       "      <td>0</td>\n",
       "      <td>0</td>\n",
       "      <td>True</td>\n",
       "    </tr>\n",
       "    <tr>\n",
       "      <th>299</th>\n",
       "      <td>1</td>\n",
       "      <td>1</td>\n",
       "      <td>True</td>\n",
       "    </tr>\n",
       "    <tr>\n",
       "      <th>300</th>\n",
       "      <td>1</td>\n",
       "      <td>1</td>\n",
       "      <td>True</td>\n",
       "    </tr>\n",
       "  </tbody>\n",
       "</table>\n",
       "<p>301 rows × 3 columns</p>\n",
       "</div>"
      ],
      "text/plain": [
       "     Prediction_c1  Actual_c1  Equals_c1\n",
       "0                0          1      False\n",
       "1                0          1      False\n",
       "2                1          0      False\n",
       "3                1          1       True\n",
       "4                1          1       True\n",
       "..             ...        ...        ...\n",
       "296              0          0       True\n",
       "297              0          1      False\n",
       "298              0          0       True\n",
       "299              1          1       True\n",
       "300              1          1       True\n",
       "\n",
       "[301 rows x 3 columns]"
      ]
     },
     "execution_count": 28,
     "metadata": {},
     "output_type": "execute_result"
    }
   ],
   "source": [
    "rfc_predict_crewmate1_df = pd.DataFrame({\n",
    "    \"Prediction_c1\" : rfc_crewmate1.predict(data_crewmate1_test),\n",
    "    \"Actual_c1\" : target_crewmate1_test\n",
    "})\n",
    "rfc_predict_crewmate1_df[\"Equals_c1\"] = rfc_predict_crewmate1_df[\"Prediction_c1\"].eq(rfc_predict_crewmate1_df[\"Actual_c1\"])\n",
    "rfc_predict_crewmate1_df"
   ]
  },
  {
   "cell_type": "code",
   "execution_count": 29,
   "metadata": {},
   "outputs": [
    {
     "data": {
      "text/plain": [
       "True     154\n",
       "False    147\n",
       "Name: Equals_c1, dtype: int64"
      ]
     },
     "execution_count": 29,
     "metadata": {},
     "output_type": "execute_result"
    }
   ],
   "source": [
    "rfc_predict_crewmate1_df[\"Equals_c1\"].value_counts()"
   ]
  },
  {
   "cell_type": "markdown",
   "metadata": {},
   "source": [
    "### Define Model #2\n",
    "We will have to specify what it is that we are trying to predict and with what data.\n",
    "- **Target**: Outcome\n",
    "- **Data**: Game Length, Task Completed, Sabotages Fixed, Murdered, Ejected, Night, Morning, Afternoon, Evening"
   ]
  },
  {
   "cell_type": "code",
   "execution_count": 30,
   "metadata": {},
   "outputs": [],
   "source": [
    "target_crewmate2_train = crewmate_train_df[\"Outcome\"]\n",
    "data_crewmate2_train = crewmate_train_df[[\"Game Length\", \"Task Completed\", \"Sabotages Fixed\", \"Murdered\", \"Ejected\", \"Night\", \"Morning\", \"Afternoon\", \"Evening\"]]\n",
    "\n",
    "target_crewmate2_test = crewmate_test_df[\"Outcome\"]\n",
    "data_crewmate2_test = crewmate_test_df[[\"Game Length\", \"Task Completed\", \"Sabotages Fixed\", \"Murdered\", \"Ejected\", \"Night\", \"Morning\", \"Afternoon\", \"Evening\"]]\n",
    "\n",
    "features_crewmate2 = data_crewmate2_train.columns"
   ]
  },
  {
   "cell_type": "markdown",
   "metadata": {},
   "source": [
    "### Decision Tree Classification - Model #2\n",
    "We perform a decision tree classification in order to assess the validity of our features."
   ]
  },
  {
   "cell_type": "code",
   "execution_count": 31,
   "metadata": {},
   "outputs": [
    {
     "data": {
      "text/plain": [
       "0.5813953488372093"
      ]
     },
     "execution_count": 31,
     "metadata": {},
     "output_type": "execute_result"
    }
   ],
   "source": [
    "dtc_crewmate2 = tree.DecisionTreeClassifier()\n",
    "dtc_crewmate2 = dtc_crewmate2.fit(data_crewmate2_train, target_crewmate2_train)\n",
    "dtc_crewmate2.score(data_crewmate2_test, target_crewmate2_test)"
   ]
  },
  {
   "cell_type": "code",
   "execution_count": 32,
   "metadata": {},
   "outputs": [
    {
     "data": {
      "text/plain": [
       "[(0.5666822970244988, 'Game Length'),\n",
       " (0.17798527087455693, 'Task Completed'),\n",
       " (0.08743825821105715, 'Sabotages Fixed'),\n",
       " (0.04673942971256209, 'Murdered'),\n",
       " (0.032664698513737, 'Afternoon'),\n",
       " (0.02934848919378394, 'Night'),\n",
       " (0.024101092868279456, 'Morning'),\n",
       " (0.017953216531518813, 'Evening'),\n",
       " (0.017087247070005824, 'Ejected')]"
      ]
     },
     "execution_count": 32,
     "metadata": {},
     "output_type": "execute_result"
    }
   ],
   "source": [
    "sorted(zip(dtc_crewmate2.feature_importances_, features_crewmate2), reverse=True)"
   ]
  },
  {
   "cell_type": "code",
   "execution_count": 33,
   "metadata": {},
   "outputs": [
    {
     "data": {
      "text/html": [
       "<div>\n",
       "<style scoped>\n",
       "    .dataframe tbody tr th:only-of-type {\n",
       "        vertical-align: middle;\n",
       "    }\n",
       "\n",
       "    .dataframe tbody tr th {\n",
       "        vertical-align: top;\n",
       "    }\n",
       "\n",
       "    .dataframe thead th {\n",
       "        text-align: right;\n",
       "    }\n",
       "</style>\n",
       "<table border=\"1\" class=\"dataframe\">\n",
       "  <thead>\n",
       "    <tr style=\"text-align: right;\">\n",
       "      <th></th>\n",
       "      <th>Prediction_c2</th>\n",
       "      <th>Actual_c2</th>\n",
       "      <th>Equals_c2</th>\n",
       "    </tr>\n",
       "  </thead>\n",
       "  <tbody>\n",
       "    <tr>\n",
       "      <th>0</th>\n",
       "      <td>1</td>\n",
       "      <td>1</td>\n",
       "      <td>True</td>\n",
       "    </tr>\n",
       "    <tr>\n",
       "      <th>1</th>\n",
       "      <td>1</td>\n",
       "      <td>1</td>\n",
       "      <td>True</td>\n",
       "    </tr>\n",
       "    <tr>\n",
       "      <th>2</th>\n",
       "      <td>1</td>\n",
       "      <td>0</td>\n",
       "      <td>False</td>\n",
       "    </tr>\n",
       "    <tr>\n",
       "      <th>3</th>\n",
       "      <td>1</td>\n",
       "      <td>1</td>\n",
       "      <td>True</td>\n",
       "    </tr>\n",
       "    <tr>\n",
       "      <th>4</th>\n",
       "      <td>1</td>\n",
       "      <td>1</td>\n",
       "      <td>True</td>\n",
       "    </tr>\n",
       "    <tr>\n",
       "      <th>...</th>\n",
       "      <td>...</td>\n",
       "      <td>...</td>\n",
       "      <td>...</td>\n",
       "    </tr>\n",
       "    <tr>\n",
       "      <th>296</th>\n",
       "      <td>0</td>\n",
       "      <td>0</td>\n",
       "      <td>True</td>\n",
       "    </tr>\n",
       "    <tr>\n",
       "      <th>297</th>\n",
       "      <td>0</td>\n",
       "      <td>1</td>\n",
       "      <td>False</td>\n",
       "    </tr>\n",
       "    <tr>\n",
       "      <th>298</th>\n",
       "      <td>1</td>\n",
       "      <td>0</td>\n",
       "      <td>False</td>\n",
       "    </tr>\n",
       "    <tr>\n",
       "      <th>299</th>\n",
       "      <td>1</td>\n",
       "      <td>1</td>\n",
       "      <td>True</td>\n",
       "    </tr>\n",
       "    <tr>\n",
       "      <th>300</th>\n",
       "      <td>1</td>\n",
       "      <td>1</td>\n",
       "      <td>True</td>\n",
       "    </tr>\n",
       "  </tbody>\n",
       "</table>\n",
       "<p>301 rows × 3 columns</p>\n",
       "</div>"
      ],
      "text/plain": [
       "     Prediction_c2  Actual_c2  Equals_c2\n",
       "0                1          1       True\n",
       "1                1          1       True\n",
       "2                1          0      False\n",
       "3                1          1       True\n",
       "4                1          1       True\n",
       "..             ...        ...        ...\n",
       "296              0          0       True\n",
       "297              0          1      False\n",
       "298              1          0      False\n",
       "299              1          1       True\n",
       "300              1          1       True\n",
       "\n",
       "[301 rows x 3 columns]"
      ]
     },
     "execution_count": 33,
     "metadata": {},
     "output_type": "execute_result"
    }
   ],
   "source": [
    "dtc_predict_crewmate2_df = pd.DataFrame({\n",
    "    \"Prediction_c2\" : dtc_crewmate2.predict(data_crewmate2_test),\n",
    "    \"Actual_c2\" : target_crewmate2_test\n",
    "})\n",
    "dtc_predict_crewmate2_df[\"Equals_c2\"] = dtc_predict_crewmate2_df[\"Prediction_c2\"].eq(dtc_predict_crewmate2_df[\"Actual_c2\"])\n",
    "dtc_predict_crewmate2_df"
   ]
  },
  {
   "cell_type": "code",
   "execution_count": 34,
   "metadata": {},
   "outputs": [
    {
     "data": {
      "text/plain": [
       "True     175\n",
       "False    126\n",
       "Name: Equals_c2, dtype: int64"
      ]
     },
     "execution_count": 34,
     "metadata": {},
     "output_type": "execute_result"
    }
   ],
   "source": [
    "dtc_predict_crewmate2_df[\"Equals_c2\"].value_counts()"
   ]
  },
  {
   "cell_type": "markdown",
   "metadata": {},
   "source": [
    "### Random Forest Classification - Model #2\n",
    "We perform a random forest classification in order to assess the validity of our features."
   ]
  },
  {
   "cell_type": "code",
   "execution_count": 35,
   "metadata": {},
   "outputs": [
    {
     "data": {
      "text/plain": [
       "0.5581395348837209"
      ]
     },
     "execution_count": 35,
     "metadata": {},
     "output_type": "execute_result"
    }
   ],
   "source": [
    "rfc_crewmate2 = RandomForestClassifier()\n",
    "rfc_crewmate2 = rfc_crewmate2.fit(data_crewmate2_train, target_crewmate2_train)\n",
    "rfc_crewmate2.score(data_crewmate2_test, target_crewmate2_test)"
   ]
  },
  {
   "cell_type": "code",
   "execution_count": 36,
   "metadata": {},
   "outputs": [
    {
     "data": {
      "text/plain": [
       "[(0.6450617484940954, 'Game Length'),\n",
       " (0.16149309125954164, 'Task Completed'),\n",
       " (0.07070932879799949, 'Sabotages Fixed'),\n",
       " (0.05514250268091906, 'Murdered'),\n",
       " (0.01859433967994544, 'Ejected'),\n",
       " (0.01446876742098246, 'Evening'),\n",
       " (0.013142437051076202, 'Afternoon'),\n",
       " (0.011362997864670613, 'Night'),\n",
       " (0.010024786750769812, 'Morning')]"
      ]
     },
     "execution_count": 36,
     "metadata": {},
     "output_type": "execute_result"
    }
   ],
   "source": [
    "sorted(zip(rfc_crewmate2.feature_importances_, features_crewmate2), reverse=True)"
   ]
  },
  {
   "cell_type": "code",
   "execution_count": 37,
   "metadata": {},
   "outputs": [
    {
     "data": {
      "text/html": [
       "<div>\n",
       "<style scoped>\n",
       "    .dataframe tbody tr th:only-of-type {\n",
       "        vertical-align: middle;\n",
       "    }\n",
       "\n",
       "    .dataframe tbody tr th {\n",
       "        vertical-align: top;\n",
       "    }\n",
       "\n",
       "    .dataframe thead th {\n",
       "        text-align: right;\n",
       "    }\n",
       "</style>\n",
       "<table border=\"1\" class=\"dataframe\">\n",
       "  <thead>\n",
       "    <tr style=\"text-align: right;\">\n",
       "      <th></th>\n",
       "      <th>Prediction_c2</th>\n",
       "      <th>Actual_c2</th>\n",
       "      <th>Equals_c2</th>\n",
       "    </tr>\n",
       "  </thead>\n",
       "  <tbody>\n",
       "    <tr>\n",
       "      <th>0</th>\n",
       "      <td>1</td>\n",
       "      <td>1</td>\n",
       "      <td>True</td>\n",
       "    </tr>\n",
       "    <tr>\n",
       "      <th>1</th>\n",
       "      <td>0</td>\n",
       "      <td>1</td>\n",
       "      <td>False</td>\n",
       "    </tr>\n",
       "    <tr>\n",
       "      <th>2</th>\n",
       "      <td>1</td>\n",
       "      <td>0</td>\n",
       "      <td>False</td>\n",
       "    </tr>\n",
       "    <tr>\n",
       "      <th>3</th>\n",
       "      <td>1</td>\n",
       "      <td>1</td>\n",
       "      <td>True</td>\n",
       "    </tr>\n",
       "    <tr>\n",
       "      <th>4</th>\n",
       "      <td>0</td>\n",
       "      <td>1</td>\n",
       "      <td>False</td>\n",
       "    </tr>\n",
       "    <tr>\n",
       "      <th>...</th>\n",
       "      <td>...</td>\n",
       "      <td>...</td>\n",
       "      <td>...</td>\n",
       "    </tr>\n",
       "    <tr>\n",
       "      <th>296</th>\n",
       "      <td>0</td>\n",
       "      <td>0</td>\n",
       "      <td>True</td>\n",
       "    </tr>\n",
       "    <tr>\n",
       "      <th>297</th>\n",
       "      <td>0</td>\n",
       "      <td>1</td>\n",
       "      <td>False</td>\n",
       "    </tr>\n",
       "    <tr>\n",
       "      <th>298</th>\n",
       "      <td>1</td>\n",
       "      <td>0</td>\n",
       "      <td>False</td>\n",
       "    </tr>\n",
       "    <tr>\n",
       "      <th>299</th>\n",
       "      <td>1</td>\n",
       "      <td>1</td>\n",
       "      <td>True</td>\n",
       "    </tr>\n",
       "    <tr>\n",
       "      <th>300</th>\n",
       "      <td>1</td>\n",
       "      <td>1</td>\n",
       "      <td>True</td>\n",
       "    </tr>\n",
       "  </tbody>\n",
       "</table>\n",
       "<p>301 rows × 3 columns</p>\n",
       "</div>"
      ],
      "text/plain": [
       "     Prediction_c2  Actual_c2  Equals_c2\n",
       "0                1          1       True\n",
       "1                0          1      False\n",
       "2                1          0      False\n",
       "3                1          1       True\n",
       "4                0          1      False\n",
       "..             ...        ...        ...\n",
       "296              0          0       True\n",
       "297              0          1      False\n",
       "298              1          0      False\n",
       "299              1          1       True\n",
       "300              1          1       True\n",
       "\n",
       "[301 rows x 3 columns]"
      ]
     },
     "execution_count": 37,
     "metadata": {},
     "output_type": "execute_result"
    }
   ],
   "source": [
    "rfc_predict_crewmate2_df = pd.DataFrame({\n",
    "    \"Prediction_c2\" : rfc_crewmate2.predict(data_crewmate2_test),\n",
    "    \"Actual_c2\" : target_crewmate2_test\n",
    "})\n",
    "rfc_predict_crewmate2_df[\"Equals_c2\"] = rfc_predict_crewmate2_df[\"Prediction_c2\"].eq(rfc_predict_crewmate2_df[\"Actual_c2\"])\n",
    "rfc_predict_crewmate2_df"
   ]
  },
  {
   "cell_type": "code",
   "execution_count": 38,
   "metadata": {},
   "outputs": [
    {
     "data": {
      "text/plain": [
       "True     168\n",
       "False    133\n",
       "Name: Equals_c2, dtype: int64"
      ]
     },
     "execution_count": 38,
     "metadata": {},
     "output_type": "execute_result"
    }
   ],
   "source": [
    "rfc_predict_crewmate2_df[\"Equals_c2\"].value_counts()"
   ]
  },
  {
   "cell_type": "code",
   "execution_count": null,
   "metadata": {},
   "outputs": [],
   "source": []
  }
 ],
 "metadata": {
  "kernelspec": {
   "display_name": "Python 3",
   "language": "python",
   "name": "python3"
  },
  "language_info": {
   "codemirror_mode": {
    "name": "ipython",
    "version": 3
   },
   "file_extension": ".py",
   "mimetype": "text/x-python",
   "name": "python",
   "nbconvert_exporter": "python",
   "pygments_lexer": "ipython3",
   "version": "3.8.5"
  }
 },
 "nbformat": 4,
 "nbformat_minor": 4
}
